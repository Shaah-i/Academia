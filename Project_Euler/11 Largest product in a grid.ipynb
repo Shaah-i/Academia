{
 "cells": [
  {
   "cell_type": "markdown",
   "id": "6714b69f",
   "metadata": {},
   "source": [
    "# Largest product in a grid"
   ]
  },
  {
   "cell_type": "code",
   "execution_count": 6,
   "id": "a77e8fe1",
   "metadata": {},
   "outputs": [
    {
     "name": "stdout",
     "output_type": "stream",
     "text": [
      "70600674\n"
     ]
    }
   ],
   "source": [
    "grid=[8,2,22,97,38,15,0,40,0,75,4,5,7,78,52,12,50,77,91,8,\n",
    "49,49,99,40,17,81,18,57,60,87,17,40,98,43,69,48,4,56,62,0,\n",
    "81,49,31,73,55,79,14,29,93,71,40,67,53,88,30,3,49,13,36,65,\n",
    "52,70,95,23,4,60,11,42,69,24,68,56,1,32,56,71,37,2,36,91,\n",
    "22,31,16,71,51,67,63,89,41,92,36,54,22,40,40,28,66,33,13,80,\n",
    "24,47,32,60,99,3,45,2,44,75,33,53,78,36,84,20,35,17,12,50,\n",
    "32,98,81,28,64,23,67,10,26,38,40,67,59,54,70,66,18,38,64,70,\n",
    "67,26,20,68,2,62,12,20,95,63,94,39,63,8,40,91,66,49,94,21,\n",
    "24,55,58,5,66,73,99,26,97,17,78,78,96,83,14,88,34,89,63,72,\n",
    "21,36,23,9,75,0,76,44,20,45,35,14,0,61,33,97,34,31,33,95,\n",
    "78,17,53,28,22,75,31,67,15,94,3,80,4,62,16,14,9,53,56,92,\n",
    "16,39,5,42,96,35,31,47,55,58,88,24,0,17,54,24,36,29,85,57,\n",
    "86,56,0,48,35,71,89,7,5,44,44,37,44,60,21,58,51,54,17,58,\n",
    "19,80,81,68,5,94,47,69,28,73,92,13,86,52,17,77,4,89,55,40,\n",
    "4,52,8,83,97,35,99,16,7,97,57,32,16,26,26,79,33,27,98,66,\n",
    "88,36,68,87,57,62,20,72,3,46,33,67,46,55,12,32,63,93,53,69,\n",
    "4,42,16,73,38,25,39,11,24,94,72,18,8,46,29,32,40,62,76,36,\n",
    "20,69,36,41,72,30,23,88,34,62,99,69,82,67,59,85,74,4,36,16,\n",
    "20,73,35,29,78,31,90,1,74,31,49,71,48,86,81,16,23,57,5,54,\n",
    "1,70,54,71,83,51,54,69,16,92,33,48,61,43,52,1,89,19,67,48]\n",
    "\n",
    "largest=[0,0,0,0]\n",
    "\n",
    "#horizontal and verticle\n",
    "\n",
    "for h in range(0,20):\n",
    "    for hsub in range(0,17):\n",
    "        if grid[h*10+hsub]*grid[h*10+hsub+1]*grid[h*10+hsub+2]*grid[h*10+hsub+3] > largest[0]:\n",
    "            largest[0] = grid[h*10+hsub]*grid[h*10+hsub+1]*grid[h*10+hsub+2]*grid[h*10+hsub+3]\n",
    "\n",
    "\n",
    "        if grid[(hsub*20)+h]* grid[((hsub+1)*20)+h]* grid[((hsub+2)*20)+h]* grid[((hsub+3)*20)+h] > largest[1]:\n",
    "            largest[1] = grid[(hsub*20)+h]* grid[((hsub+1)*20)+h]* grid[((hsub+2)*20)+h]* grid[((hsub+3)*20)+h]\n",
    "\n",
    "#diagonal right and left\n",
    "\n",
    "for r in range(0,17):\n",
    "    for rsub in range (0,17):\n",
    "        if grid[(rsub*20)+r]* grid[((rsub+1)*20)+1+r]* grid[((rsub+2)*20)+2+r]* grid[((rsub+3)*20)+3+r] > largest[2]:\n",
    "            largest[2] = grid[(rsub*20)+r]* grid[((rsub+1)*20)+1+r]* grid[((rsub+2)*20)+2+r]* grid[((rsub+3)*20)+3+r] \n",
    "\n",
    "        if grid[(rsub*20)+3+r]* grid[((rsub+1)*20)+2+r]* grid[((rsub+2)*20)+1+r]* grid[((rsub+3)*20)+r] > largest[3]:\n",
    "            largest[3] =  grid[(rsub*20)+3+r]* grid[((rsub+1)*20)+2+r]* grid[((rsub+2)*20)+1+r]* grid[((rsub+3)*20)+r]\n",
    "\n",
    "print(max(largest))"
   ]
  },
  {
   "cell_type": "code",
   "execution_count": 7,
   "id": "184e3254",
   "metadata": {},
   "outputs": [
    {
     "name": "stdout",
     "output_type": "stream",
     "text": [
      "70600674\n"
     ]
    }
   ],
   "source": [
    "grid=[[8,2,22,97,38,15,0,40,0,75,4,5,7,78,52,12,50,77,91,8],\n",
    "[49,49,99,40,17,81,18,57,60,87,17,40,98,43,69,48,4,56,62,0],\n",
    "[81,49,31,73,55,79,14,29,93,71,40,67,53,88,30,3,49,13,36,65],\n",
    "[52,70,95,23,4,60,11,42,69,24,68,56,1,32,56,71,37,2,36,91],\n",
    "[22,31,16,71,51,67,63,89,41,92,36,54,22,40,40,28,66,33,13,80],\n",
    "[24,47,32,60,99,3,45,2,44,75,33,53,78,36,84,20,35,17,12,50],\n",
    "[32,98,81,28,64,23,67,10,26,38,40,67,59,54,70,66,18,38,64,70],\n",
    "[67,26,20,68,2,62,12,20,95,63,94,39,63,8,40,91,66,49,94,21],\n",
    "[24,55,58,5,66,73,99,26,97,17,78,78,96,83,14,88,34,89,63,72],\n",
    "[21,36,23,9,75,0,76,44,20,45,35,14,0,61,33,97,34,31,33,95],\n",
    "[78,17,53,28,22,75,31,67,15,94,3,80,4,62,16,14,9,53,56,92],\n",
    "[16,39,5,42,96,35,31,47,55,58,88,24,0,17,54,24,36,29,85,57],\n",
    "[86,56,0,48,35,71,89,7,5,44,44,37,44,60,21,58,51,54,17,58],\n",
    "[19,80,81,68,5,94,47,69,28,73,92,13,86,52,17,77,4,89,55,40],\n",
    "[4,52,8,83,97,35,99,16,7,97,57,32,16,26,26,79,33,27,98,66],\n",
    "[88,36,68,87,57,62,20,72,3,46,33,67,46,55,12,32,63,93,53,69],\n",
    "[4,42,16,73,38,25,39,11,24,94,72,18,8,46,29,32,40,62,76,36],\n",
    "[20,69,36,41,72,30,23,88,34,62,99,69,82,67,59,85,74,4,36,16],\n",
    "[20,73,35,29,78,31,90,1,74,31,49,71,48,86,81,16,23,57,5,54],\n",
    "[1,70,54,71,83,51,54,69,16,92,33,48,61,43,52,1,89,19,67,48]]\n",
    "\n",
    "largest=[0,0,0,0]\n",
    "\n",
    "for h in range(0,20):\n",
    "    for hsub in range(0,17):\n",
    "        if grid[h][hsub]*grid[h][hsub+1]*grid[h][hsub+2]*grid[h][hsub+3] > largest[0]:\n",
    "            largest[0] = grid[h][hsub]*grid[h][hsub+1]*grid[h][hsub+2]*grid[h][hsub+3]\n",
    "        if grid[hsub][h]* grid[hsub+1][h]* grid[hsub+2][h]* grid[hsub+3][h] > largest[1]:\n",
    "            largest[1] = grid[hsub][h]* grid[hsub+1][h]* grid[hsub+2][h]* grid[hsub+3][h]\n",
    "\n",
    "#diagonal right and left\n",
    "for r in range(0,17):\n",
    "    for rsub in range (0,17):\n",
    "        if grid[rsub][r]* grid[rsub+1][1+r]* grid[rsub+2][2+r]* grid[rsub+3][3+r] > largest[2]:\n",
    "            largest[2] = grid[rsub][r]* grid[rsub+1][1+r]* grid[rsub+2][2+r]* grid[rsub+3][3+r] \n",
    "        if grid[rsub][3+r]* grid[rsub+1][2+r]* grid[rsub+2][1+r]* grid[rsub+3][r] > largest[3]:\n",
    "            largest[3] =  grid[rsub][3+r]* grid[rsub+1][2+r]* grid[rsub+2][1+r]* grid[rsub+3][r]\n",
    "            \n",
    "print(max(largest))"
   ]
  },
  {
   "cell_type": "code",
   "execution_count": 9,
   "id": "2faddc8d",
   "metadata": {},
   "outputs": [
    {
     "name": "stdout",
     "output_type": "stream",
     "text": [
      "70600674\n"
     ]
    }
   ],
   "source": [
    "for h in range(0,20):\n",
    "    for hsub in range(0,17):\n",
    "        horizontal = grid[h][hsub] * grid[h][hsub+1] * grid[h][hsub+2] * grid[h][hsub+3]\n",
    "        vertical   = grid[hsub][h] * grid[hsub+1][h] * grid[hsub+2][h] * grid[hsub+3][h]\n",
    "        if horizontal > largest[0]:\n",
    "            largest[0] = horizontal\n",
    "        if vertical > largest[1]:\n",
    "            largest[1] = vertical\n",
    "\n",
    "#diagonal right and left\n",
    "for r in range(0,17):\n",
    "    for rsub in range (0,17):\n",
    "        right_diagonal = grid[rsub][0+r] * grid[rsub+1][1+r] * grid[rsub+2][2+r] * grid[rsub+3][3+r]\n",
    "        left_diagonal  = grid[rsub][3+r] * grid[rsub+1][2+r] * grid[rsub+2][1+r] * grid[rsub+3][r]\n",
    "        if right_diagonal > largest[2]:\n",
    "            largest[2] = right_diagonal\n",
    "        if left_diagonal > largest[3]:\n",
    "            largest[3] = left_diagonal\n",
    "\n",
    "print(max(largest))"
   ]
  },
  {
   "cell_type": "code",
   "execution_count": 11,
   "id": "5901db48",
   "metadata": {},
   "outputs": [
    {
     "name": "stdout",
     "output_type": "stream",
     "text": [
      "70600674\n"
     ]
    }
   ],
   "source": [
    "def product_in_direction(grid, start, direction, steps):\n",
    "    x0, y0 = start\n",
    "    dx, dy = direction\n",
    "    product = 1\n",
    "    for n in range(steps):\n",
    "        product *= grid[y0 + n*dy][x0 + n*dx]\n",
    "    return product\n",
    "\n",
    "#horizontal and vertical\n",
    "for h in range(0,20):\n",
    "    for hsub in range(0,17):\n",
    "        horizontal = product_in_direction(grid, (hsub, h), (1, 0), 4)\n",
    "        vertical   = product_in_direction(grid, (h, hsub), (0, 1), 4)\n",
    "        if horizontal > largest[0]:\n",
    "            largest[0] = horizontal\n",
    "        if vertical > largest[1]:\n",
    "            largest[1] = vertical\n",
    "\n",
    "#diagonal right and left\n",
    "for r in range(0,17):\n",
    "    for rsub in range (0,17):\n",
    "        right_diagonal = product_in_direction(grid, (rsub, r  ), (1,  1), 4)\n",
    "        left_diagonal  = product_in_direction(grid, (rsub, r+3), (1, -1), 4)\n",
    "        if right_diagonal > largest[2]:\n",
    "            largest[2] = right_diagonal\n",
    "        if left_diagonal > largest[3]:\n",
    "            largest[3] = left_diagonal\n",
    "            \n",
    "print(max(largest))"
   ]
  },
  {
   "cell_type": "code",
   "execution_count": null,
   "id": "b3c363e9",
   "metadata": {},
   "outputs": [],
   "source": [
    "for h in range(0,20):\n",
    "    for hsub in range(0,17):\n",
    "        largest = max(product_in_direction(grid, (hsub, h), (1, 0), 4), product_in_direction(grid, (h, hsub), (0, 1), 4), largest)\n",
    "\n",
    "#diagonal right and left\n",
    "for r in range(0,17):\n",
    "    for rsub in range (0,17):\n",
    "        largest = max(product_in_direction(grid, (rsub, r  ), (1,  1), 4), product_in_direction(grid, (rsub, r+3), (1, -1), 4), largest)\n",
    "pritn(largest)"
   ]
  },
  {
   "cell_type": "code",
   "execution_count": null,
   "id": "dcf7d1d6",
   "metadata": {},
   "outputs": [],
   "source": [
    "def product_in_direction(grid, start, direction, steps):\n",
    "    x0, y0 = start\n",
    "    dx, dy = direction\n",
    "\n",
    "    if  not(0 <= y0                  < len(grid) and\n",
    "            0 <= y0 + (steps - 1)*dy < len(grid) and\n",
    "            0 <= x0                  < len(grid[y0]) and\n",
    "            0 <= x0 + (steps - 1)*dx < len(grid[y0])):\n",
    "        return 0\n",
    "\n",
    "    product = 1\n",
    "    for n in range(steps):\n",
    "        product *= grid[y0 + n*dy][x0 + n*dx]\n",
    "    return product\n",
    "\n",
    "for y in range(len(grid)):\n",
    "    for x in range(len(grid[y])):\n",
    "        largest = max(product_in_direction(grid, (x, y),   (1,  0), 4), product_in_direction(grid, (x, y),   (0,  1), 4), product_in_direction(grid, (x, y  ), (1,  1), 4), product_in_direction(grid, (x, y+3), (1, -1), 4), largest,)"
   ]
  }
 ],
 "metadata": {
  "kernelspec": {
   "display_name": "Python 3 (ipykernel)",
   "language": "python",
   "name": "python3"
  },
  "language_info": {
   "codemirror_mode": {
    "name": "ipython",
    "version": 3
   },
   "file_extension": ".py",
   "mimetype": "text/x-python",
   "name": "python",
   "nbconvert_exporter": "python",
   "pygments_lexer": "ipython3",
   "version": "3.10.2"
  }
 },
 "nbformat": 4,
 "nbformat_minor": 5
}
