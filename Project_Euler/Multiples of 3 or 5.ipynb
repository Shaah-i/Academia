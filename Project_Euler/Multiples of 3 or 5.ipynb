{
 "cells": [
  {
   "cell_type": "markdown",
   "id": "983513c4",
   "metadata": {},
   "source": [
    "### If we list all the natural numbers below 10 that are multiples of 3 or 5, we get 3, 5, 6 and 9. The sum of these multiples is 23. Find the sum of all the multiples of 3 or 5 below 1000."
   ]
  },
  {
   "cell_type": "code",
   "execution_count": 1,
   "id": "5d0ffdc2",
   "metadata": {},
   "outputs": [
    {
     "name": "stdout",
     "output_type": "stream",
     "text": [
      "[3, 5, 6, 9]\n"
     ]
    }
   ],
   "source": [
    "lst=[]\n",
    "sums=0\n",
    "for i in range(1,10):\n",
    "    if i%3 == 0 or i%5== 0:\n",
    "        lst.append(i)\n",
    "print(lst)"
   ]
  },
  {
   "cell_type": "code",
   "execution_count": 2,
   "id": "fc6aca04",
   "metadata": {},
   "outputs": [
    {
     "name": "stdout",
     "output_type": "stream",
     "text": [
      "23\n"
     ]
    }
   ],
   "source": [
    "for j in range(len(lst)):\n",
    "    sums += lst[j]\n",
    "print(sums)"
   ]
  },
  {
   "cell_type": "code",
   "execution_count": 3,
   "id": "52b51777",
   "metadata": {},
   "outputs": [
    {
     "name": "stdout",
     "output_type": "stream",
     "text": [
      "23\n",
      "23333331666668\n"
     ]
    }
   ],
   "source": [
    "def mults3_5(n):\n",
    "    sums=0\n",
    "    for i in range(1,n):\n",
    "        if i%3 == 0 or i%5== 0:\n",
    "            sums += i\n",
    "#             print(i,end=\" \")\n",
    "    print(sums)\n",
    "\n",
    "mults3_5(10)\n",
    "mults3_5(10000000)"
   ]
  },
  {
   "cell_type": "code",
   "execution_count": 4,
   "id": "46494737",
   "metadata": {},
   "outputs": [
    {
     "name": "stdout",
     "output_type": "stream",
     "text": [
      "233168\n"
     ]
    }
   ],
   "source": [
    "mults3_5(1000)"
   ]
  },
  {
   "cell_type": "markdown",
   "id": "489a2c6b",
   "metadata": {},
   "source": [
    "Above approch was pretty easy but for bigger numbers it would take a lot of time to calculate.\n",
    "\n",
    "Simpler way is sum of all numbers divisible by 3 and sum of numbers divisibel by 5. But the numbers which are common might get repeated. So the sum would be sumMultiple(3)+Summultiple(5)-sumMultiple(15)\n",
    "\n",
    "sumMultiple(3):\n",
    "3+9+12+...+999 = 3(1+2+3+4+...+333)\n",
    "\n",
    "sumMultiple(5):\n",
    "5+10+15+...+995 = 5(1+2+3+...+199)\n",
    "\n",
    "sumMultiple(15):\n",
    "15+30+45+...+990 = 15(1+2+3+...+66)\n",
    "\n",
    "here 995 is the last multiple of 5 under 1000 this we can write as `999//5`\n",
    "similarly for last mutiple of 15, `999//15`\n",
    "\n",
    "From series we also know\n",
    "1+2+3+...+p = 1/2 * p * (p+1)\n",
    "\n",
    "compiling all these."
   ]
  },
  {
   "cell_type": "code",
   "execution_count": 5,
   "id": "556f497a",
   "metadata": {},
   "outputs": [
    {
     "name": "stdout",
     "output_type": "stream",
     "text": [
      "23.0\n",
      "23333331666668.0\n"
     ]
    }
   ],
   "source": [
    "def mult_3_5(t):\n",
    "    def sumDiv(n):\n",
    "        p=(t-1)//n\n",
    "        return 0.5*n*(p*(p+1))\n",
    "    print(sumDiv(3)+sumDiv(5)-sumDiv(15))\n",
    "\n",
    "mult_3_5(10)\n",
    "mult_3_5(10000000)"
   ]
  },
  {
   "cell_type": "code",
   "execution_count": 6,
   "id": "6d6dc6b0",
   "metadata": {},
   "outputs": [
    {
     "name": "stdout",
     "output_type": "stream",
     "text": [
      "233168.0\n"
     ]
    }
   ],
   "source": [
    "mult_3_5(1000)"
   ]
  }
 ],
 "metadata": {
  "kernelspec": {
   "display_name": "Python 3 (ipykernel)",
   "language": "python",
   "name": "python3"
  },
  "language_info": {
   "codemirror_mode": {
    "name": "ipython",
    "version": 3
   },
   "file_extension": ".py",
   "mimetype": "text/x-python",
   "name": "python",
   "nbconvert_exporter": "python",
   "pygments_lexer": "ipython3",
   "version": "3.10.2"
  }
 },
 "nbformat": 4,
 "nbformat_minor": 5
}
