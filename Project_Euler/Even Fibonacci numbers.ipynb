{
 "cells": [
  {
   "cell_type": "code",
   "execution_count": 1,
   "id": "c212ad1b",
   "metadata": {},
   "outputs": [
    {
     "name": "stdout",
     "output_type": "stream",
     "text": [
      "[1, 2, 3, 5, 8, 13, 21, 34, 55, 89]\n"
     ]
    }
   ],
   "source": [
    "from math import *\n",
    "\n",
    "def fab(a):    \n",
    "    x=0\n",
    "    y=1\n",
    "    l=[]\n",
    "    s=0\n",
    "    if a == 0:\n",
    "        l.append(a)\n",
    "    if a == 1:\n",
    "        l.append(y)\n",
    "    else:\n",
    "        for i in range(1,a+1):\n",
    "            z = x+y\n",
    "            x=y\n",
    "            y=z\n",
    "            l.append(y)\n",
    "    print(l)\n",
    "fab(10)"
   ]
  },
  {
   "cell_type": "code",
   "execution_count": 2,
   "id": "9852a7e0",
   "metadata": {},
   "outputs": [
    {
     "name": "stdout",
     "output_type": "stream",
     "text": [
      "[1, 2, 3, 5, 8, 13, 21, 34, 55, 89, 144, 233, 377, 610, 987, 1597, 2584, 4181, 6765, 10946, 17711, 28657, 46368, 75025, 121393, 196418, 317811, 514229, 832040, 1346269, 2178309, 3524578, 5702887]\n",
      "2\n",
      "8\n",
      "34\n",
      "144\n",
      "610\n",
      "2584\n",
      "10946\n",
      "46368\n",
      "196418\n",
      "832040\n",
      "3524578\n",
      "4613732\n"
     ]
    }
   ],
   "source": [
    "\n",
    "from math import *\n",
    "\n",
    "def even_fab(a):    \n",
    "    x=0\n",
    "    y=1\n",
    "    l=[]\n",
    "    s=0\n",
    "    if a == 0:\n",
    "        l.append(a)\n",
    "    if a == 1:\n",
    "        l.append(y)\n",
    "    else:\n",
    "        for i in range(1,a+1):\n",
    "            z = x+y\n",
    "            x=y\n",
    "            y=z\n",
    "            l.append(y)\n",
    "    print(l)\n",
    "    for j in l:\n",
    "        if j%2 == 0:\n",
    "            s += j\n",
    "            print(j)\n",
    "    print(s)\n",
    "even_fab(33)"
   ]
  },
  {
   "cell_type": "code",
   "execution_count": 3,
   "id": "7af82410",
   "metadata": {},
   "outputs": [
    {
     "name": "stdout",
     "output_type": "stream",
     "text": [
      "4613732\n"
     ]
    }
   ],
   "source": [
    "s = 0\n",
    "a = 1\n",
    "b = 1\n",
    "c = a+b\n",
    "\n",
    "while c<4000000:\n",
    "    s += c\n",
    "    a = b+c\n",
    "    b = c+a\n",
    "    c = a+b\n",
    "print(s)"
   ]
  }
 ],
 "metadata": {
  "kernelspec": {
   "display_name": "Python 3 (ipykernel)",
   "language": "python",
   "name": "python3"
  },
  "language_info": {
   "codemirror_mode": {
    "name": "ipython",
    "version": 3
   },
   "file_extension": ".py",
   "mimetype": "text/x-python",
   "name": "python",
   "nbconvert_exporter": "python",
   "pygments_lexer": "ipython3",
   "version": "3.10.2"
  }
 },
 "nbformat": 4,
 "nbformat_minor": 5
}
