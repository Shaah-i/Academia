{
 "cells": [
  {
   "cell_type": "markdown",
   "id": "90935de6",
   "metadata": {},
   "source": [
    "# Smallest multiple"
   ]
  },
  {
   "cell_type": "code",
   "execution_count": 30,
   "id": "9db4eda5",
   "metadata": {},
   "outputs": [
    {
     "data": {
      "text/plain": [
       "[2, 3, 5, 7]"
      ]
     },
     "execution_count": 30,
     "metadata": {},
     "output_type": "execute_result"
    }
   ],
   "source": [
    "def isPrime(i):\n",
    "    if i > 1:\n",
    "        for k in range(2,i//2):\n",
    "            if i%k == 0:\n",
    "                print(i, \"is not a Prime Number\")\n",
    "            else:\n",
    "                print(i, \"is a Prime Number\")\n",
    "        \n",
    "    else:\n",
    "        print(i, \"is neither Prime nor Composite Number\")\n",
    "\n",
    "def primeInRange(a):\n",
    "    prime=[]\n",
    "    for i in range(2,a):\n",
    "        isPrime = True\n",
    "        for n in range (2,i):\n",
    "            if i%n==0:\n",
    "                isPrime = False\n",
    "        if isPrime:\n",
    "            prime.append(i)\n",
    "    return(prime)\n",
    "\n",
    "primeInRange(10)"
   ]
  },
  {
   "cell_type": "code",
   "execution_count": 33,
   "id": "7b110ea3",
   "metadata": {},
   "outputs": [
    {
     "name": "stdout",
     "output_type": "stream",
     "text": [
      "210\n"
     ]
    }
   ],
   "source": [
    "def smallMul(n):\n",
    "    mul=1\n",
    "    l=primeInRange(n)\n",
    "#     print(l)\n",
    "    for i in l:\n",
    "        mul *= i\n",
    "    print(mul)\n",
    "    \n",
    "smallMul(10)"
   ]
  },
  {
   "cell_type": "code",
   "execution_count": 34,
   "id": "04f9072b",
   "metadata": {},
   "outputs": [],
   "source": [
    "l=primeInRange(10)\n",
    "for i in range(9699690):\n",
    "    for j in l:\n",
    "        cnt = 0\n",
    "        if i%j == 0:\n",
    "            cnt += 1\n",
    "    if cnt >= len(l):\n",
    "        print(i)\n",
    "        break"
   ]
  },
  {
   "cell_type": "code",
   "execution_count": 36,
   "id": "a87da789",
   "metadata": {},
   "outputs": [
    {
     "name": "stdout",
     "output_type": "stream",
     "text": [
      "232792560\n"
     ]
    }
   ],
   "source": [
    "import math\n",
    "   \n",
    "# Returns the lcm of first n numbers\n",
    "def lcm(n):\n",
    "    ans = 1\n",
    "    for i in range(1, n + 1):\n",
    "        ans = int((ans * i)/math.gcd(ans, i))        \n",
    "    return ans\n",
    "   \n",
    "# main\n",
    "n = 20\n",
    "print (lcm(n))"
   ]
  },
  {
   "cell_type": "code",
   "execution_count": 62,
   "id": "abf492e2",
   "metadata": {},
   "outputs": [
    {
     "name": "stdout",
     "output_type": "stream",
     "text": [
      "232792560\n"
     ]
    }
   ],
   "source": [
    "def lcmRange(n):\n",
    "    a = 1\n",
    "    for i in range(1,n+1):\n",
    "        a = int((a*i)/math.gcd(a,i))\n",
    "    return a\n",
    "    \n",
    "print(lcmRange(20))"
   ]
  }
 ],
 "metadata": {
  "kernelspec": {
   "display_name": "Python 3 (ipykernel)",
   "language": "python",
   "name": "python3"
  },
  "language_info": {
   "codemirror_mode": {
    "name": "ipython",
    "version": 3
   },
   "file_extension": ".py",
   "mimetype": "text/x-python",
   "name": "python",
   "nbconvert_exporter": "python",
   "pygments_lexer": "ipython3",
   "version": "3.10.2"
  }
 },
 "nbformat": 4,
 "nbformat_minor": 5
}
