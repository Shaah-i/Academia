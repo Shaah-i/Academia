{
 "cells": [
  {
   "cell_type": "markdown",
   "id": "769774e0",
   "metadata": {},
   "source": [
    "# Special Pythagorean triplet"
   ]
  },
  {
   "cell_type": "code",
   "execution_count": 1,
   "id": "a5a9ed1d",
   "metadata": {},
   "outputs": [
    {
     "data": {
      "text/plain": [
       "True"
      ]
     },
     "execution_count": 1,
     "metadata": {},
     "output_type": "execute_result"
    }
   ],
   "source": [
    "def isPyTrip(a,b,c):\n",
    "    l=sorted([a,b,c])\n",
    "    return l[0]**2 + l[1]**2 == l[2]**2\n",
    "\n",
    "\n",
    "isPyTrip(5,4,3)"
   ]
  },
  {
   "cell_type": "code",
   "execution_count": 2,
   "id": "1a55b705",
   "metadata": {},
   "outputs": [],
   "source": [
    "def pythagoreanTriplet(n):\n",
    "    for i in range(1, int(n / 3) + 1):\n",
    "        for j in range(i + 1,\n",
    "                       int(n / 2) + 1):\n",
    " \n",
    "            k = n - i - j\n",
    "            if (i * i + j * j == k * k):\n",
    "                return [i,j,k]\n",
    "\n",
    "l=pythagoreanTriplet(1000)"
   ]
  },
  {
   "cell_type": "code",
   "execution_count": 3,
   "id": "a2860885",
   "metadata": {},
   "outputs": [
    {
     "name": "stdout",
     "output_type": "stream",
     "text": [
      "[200, 375, 425]\n",
      "31875000\n"
     ]
    }
   ],
   "source": [
    "print(l)\n",
    "pro = 1\n",
    "for i in l:\n",
    "    pro *= i\n",
    "print(pro)"
   ]
  }
 ],
 "metadata": {
  "kernelspec": {
   "display_name": "Python 3 (ipykernel)",
   "language": "python",
   "name": "python3"
  },
  "language_info": {
   "codemirror_mode": {
    "name": "ipython",
    "version": 3
   },
   "file_extension": ".py",
   "mimetype": "text/x-python",
   "name": "python",
   "nbconvert_exporter": "python",
   "pygments_lexer": "ipython3",
   "version": "3.10.2"
  }
 },
 "nbformat": 4,
 "nbformat_minor": 5
}
