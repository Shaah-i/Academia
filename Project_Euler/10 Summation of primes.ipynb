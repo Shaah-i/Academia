{
 "cells": [
  {
   "cell_type": "markdown",
   "id": "40be87f7",
   "metadata": {},
   "source": [
    "# Summation of primes"
   ]
  },
  {
   "cell_type": "code",
   "execution_count": 1,
   "id": "71a1c6a5",
   "metadata": {},
   "outputs": [
    {
     "data": {
      "text/plain": [
       "[2, 3, 5, 7]"
      ]
     },
     "execution_count": 1,
     "metadata": {},
     "output_type": "execute_result"
    }
   ],
   "source": [
    "def primeInRange(a):\n",
    "    prime=[]\n",
    "    for i in range(2,a):\n",
    "        isPrime = True\n",
    "        for n in range (2,i):\n",
    "            if i%n==0:\n",
    "                isPrime = False\n",
    "        if isPrime:\n",
    "            prime.append(i)\n",
    "    return (prime)\n",
    "\n",
    "primeInRange(10)"
   ]
  },
  {
   "cell_type": "code",
   "execution_count": 2,
   "id": "125904d3",
   "metadata": {},
   "outputs": [
    {
     "data": {
      "text/plain": [
       "17"
      ]
     },
     "execution_count": 2,
     "metadata": {},
     "output_type": "execute_result"
    }
   ],
   "source": [
    "l=primeInRange(10)\n",
    "s = 0\n",
    "for i in l:\n",
    "    s += i\n",
    "    \n",
    "s"
   ]
  },
  {
   "cell_type": "code",
   "execution_count": 3,
   "id": "82b3efac",
   "metadata": {},
   "outputs": [],
   "source": [
    "# l=primeInRange(2000000)\n",
    "# s = 0\n",
    "# for i in l:\n",
    "#     s += i\n",
    "    \n",
    "# s"
   ]
  },
  {
   "cell_type": "code",
   "execution_count": 4,
   "id": "6f638f97",
   "metadata": {},
   "outputs": [
    {
     "data": {
      "text/plain": [
       "29"
      ]
     },
     "execution_count": 4,
     "metadata": {},
     "output_type": "execute_result"
    }
   ],
   "source": [
    "def is_prime(n):\n",
    "    if n < 2:\n",
    "        return False\n",
    "    i = 2\n",
    "    while (i * i <= n):\n",
    "        if n % i == 0:\n",
    "            return False\n",
    "        i = i + 1\n",
    "    return True\n",
    "\n",
    "def n_prime(n):\n",
    "    i = 2\n",
    "    while n > 0:\n",
    "        if is_prime(i):\n",
    "            n = n - 1\n",
    "            if n == 0:\n",
    "                return i\n",
    "        i = i + 1\n",
    "    return -1\n",
    "\n",
    "n_prime(10)"
   ]
  },
  {
   "cell_type": "code",
   "execution_count": 5,
   "id": "df99f389",
   "metadata": {},
   "outputs": [
    {
     "name": "stdout",
     "output_type": "stream",
     "text": [
      "CPU times: total: 4.06 s\n",
      "Wall time: 4.06 s\n",
      "2000000999999\n"
     ]
    }
   ],
   "source": [
    "import math\n",
    "\n",
    "n = 20000000\n",
    "\n",
    "dp = [0] * (n+1)\n",
    "\n",
    "def sieve():\n",
    "    array = [0] * (n+1)\n",
    "    \n",
    "    array[0] = 1\n",
    "    array[1] = 1\n",
    "\n",
    "    for i in range(2, math.ceil(math.sqrt(n) + 1)):\n",
    "        if array[1] == 0:\n",
    "            for j in range(i * i, n + 1, i):\n",
    "                array[j] = 1\n",
    "\n",
    "    runningPrimeSum = 0\n",
    "\n",
    "    for i in range(1, n+1):\n",
    "        if array[i] == 0:\n",
    "            runningPrimeSum += i\n",
    "\n",
    "        dp[i] = runningPrimeSum\n",
    "    \n",
    "l = 2\n",
    "r = 2000000\n",
    "%time sieve()\n",
    "print(dp[r] - dp[l-1])\n"
   ]
  },
  {
   "cell_type": "code",
   "execution_count": 6,
   "id": "ee475f55",
   "metadata": {},
   "outputs": [
    {
     "name": "stdout",
     "output_type": "stream",
     "text": [
      "17\n"
     ]
    }
   ],
   "source": [
    "def sumOfPrimes(n):\n",
    "    prime = [True]*(n+1)\n",
    "    \n",
    "    p = 2\n",
    "    while p*p <= n:\n",
    "        if prime[p] == True:\n",
    "            i = p*2\n",
    "            while i <= n:\n",
    "                prime[i] = False\n",
    "                i += p\n",
    "        p += 1\n",
    "        \n",
    "    sum = 0\n",
    "    for i in range (2, n+1):\n",
    "        if(prime[i]):\n",
    "            sum += i\n",
    "    return sum\n",
    "\n",
    "print(sumOfPrimes(10))"
   ]
  },
  {
   "cell_type": "code",
   "execution_count": 7,
   "id": "74d45558",
   "metadata": {},
   "outputs": [
    {
     "name": "stdout",
     "output_type": "stream",
     "text": [
      "76127\n"
     ]
    }
   ],
   "source": [
    "print(sumOfPrimes(1000))"
   ]
  },
  {
   "cell_type": "code",
   "execution_count": 8,
   "id": "f94413e5",
   "metadata": {},
   "outputs": [
    {
     "name": "stdout",
     "output_type": "stream",
     "text": [
      "142913828922\n",
      "CPU times: total: 562 ms\n",
      "Wall time: 567 ms\n"
     ]
    }
   ],
   "source": [
    "%time print(sumOfPrimes(2000000))"
   ]
  }
 ],
 "metadata": {
  "kernelspec": {
   "display_name": "Python 3 (ipykernel)",
   "language": "python",
   "name": "python3"
  },
  "language_info": {
   "codemirror_mode": {
    "name": "ipython",
    "version": 3
   },
   "file_extension": ".py",
   "mimetype": "text/x-python",
   "name": "python",
   "nbconvert_exporter": "python",
   "pygments_lexer": "ipython3",
   "version": "3.10.2"
  }
 },
 "nbformat": 4,
 "nbformat_minor": 5
}
