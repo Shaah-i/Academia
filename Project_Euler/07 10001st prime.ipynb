{
 "cells": [
  {
   "cell_type": "markdown",
   "id": "12e1b80d",
   "metadata": {},
   "source": [
    "# 10001st prime"
   ]
  },
  {
   "cell_type": "code",
   "execution_count": 1,
   "id": "4e7af1e0",
   "metadata": {},
   "outputs": [
    {
     "name": "stdout",
     "output_type": "stream",
     "text": [
      "[2, 3, 5, 7, 11, 13]\n"
     ]
    }
   ],
   "source": [
    "def primeInRange(a):\n",
    "    prime=[]\n",
    "    for i in range(2,a):\n",
    "        isPrime = True\n",
    "        for n in range (2,i):\n",
    "            if i%n==0:\n",
    "                isPrime = False\n",
    "        if isPrime:\n",
    "            prime.append(i)\n",
    "    print(prime)\n",
    "\n",
    "primeInRange(15)\n",
    "    "
   ]
  },
  {
   "cell_type": "code",
   "execution_count": 2,
   "id": "99c9de94",
   "metadata": {},
   "outputs": [
    {
     "name": "stdout",
     "output_type": "stream",
     "text": [
      "13\n"
     ]
    }
   ],
   "source": [
    "def primeRange(m):\n",
    "    prime=[]\n",
    "    i = 2\n",
    "    while len(prime) <= m:\n",
    "        isPrime = True\n",
    "        for n in range (2,i):\n",
    "            if i%n == 0:\n",
    "                isPrime = False\n",
    "        \n",
    "        if isPrime:\n",
    "#             print(i)\n",
    "            prime.append(i)\n",
    "        i += 1\n",
    "    print(prime[m-1])\n",
    "    \n",
    "primeRange(6)"
   ]
  },
  {
   "cell_type": "code",
   "execution_count": 3,
   "id": "dc50bfc3",
   "metadata": {},
   "outputs": [
    {
     "name": "stdout",
     "output_type": "stream",
     "text": [
      "7919\n",
      "CPU times: total: 1.69 s\n",
      "Wall time: 1.69 s\n"
     ]
    }
   ],
   "source": [
    "%time primeRange(1000)"
   ]
  },
  {
   "cell_type": "code",
   "execution_count": 21,
   "id": "6984eb3c",
   "metadata": {},
   "outputs": [
    {
     "name": "stdout",
     "output_type": "stream",
     "text": [
      "10001 th Prime Number is : 104743\n",
      "CPU times: total: 13.7 s\n",
      "Wall time: 13.7 s\n"
     ]
    }
   ],
   "source": [
    "def nth_prime(n):\n",
    "    prime_numbers = [2,3]\n",
    "    i=3\n",
    "\n",
    "\n",
    "    if(0<n<3):\n",
    "        print(n,'th Prime Number is :',prime_numbers[n-1])\n",
    "\n",
    "    elif(n>2):\n",
    "        while (True):\n",
    "            i+=1\n",
    "            status = True\n",
    "            for j in range(2,int(i/2)+1):\n",
    "                if(i%j==0):\n",
    "                    status = False\n",
    "                    break\n",
    "            if(status==True):\n",
    "                prime_numbers.append(i)\n",
    "            if(len(prime_numbers)==n):\n",
    "                break\n",
    "        print(n,'th Prime Number is :', prime_numbers[n-1])\n",
    "    else:\n",
    "        print('Please Enter A Valid Number')\n",
    "\n",
    "%time nth_prime(10001)"
   ]
  },
  {
   "cell_type": "code",
   "execution_count": 5,
   "id": "19765235",
   "metadata": {},
   "outputs": [
    {
     "name": "stdout",
     "output_type": "stream",
     "text": [
      "CPU times: total: 312 ms\n",
      "Wall time: 311 ms\n"
     ]
    },
    {
     "data": {
      "text/plain": [
       "104743"
      ]
     },
     "execution_count": 5,
     "metadata": {},
     "output_type": "execute_result"
    }
   ],
   "source": [
    "def is_prime(n):\n",
    "    if n < 2:\n",
    "        return False\n",
    "    i = 2\n",
    "    while (i * i <= n):\n",
    "        if n % i == 0:\n",
    "            return False\n",
    "        i = i + 1\n",
    "    return True\n",
    "\n",
    "def n_prime(n):\n",
    "    i = 2\n",
    "    while n > 0:\n",
    "        if is_prime(i):\n",
    "            n = n - 1\n",
    "            if n == 0:\n",
    "                return i\n",
    "        i = i + 1\n",
    "    return -1\n",
    "\n",
    "    print (n_prime(10001))\n",
    "    \n",
    "%time n_prime(10001)"
   ]
  }
 ],
 "metadata": {
  "kernelspec": {
   "display_name": "Python 3 (ipykernel)",
   "language": "python",
   "name": "python3"
  },
  "language_info": {
   "codemirror_mode": {
    "name": "ipython",
    "version": 3
   },
   "file_extension": ".py",
   "mimetype": "text/x-python",
   "name": "python",
   "nbconvert_exporter": "python",
   "pygments_lexer": "ipython3",
   "version": "3.10.2"
  }
 },
 "nbformat": 4,
 "nbformat_minor": 5
}
