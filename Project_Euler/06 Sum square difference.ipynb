{
 "cells": [
  {
   "cell_type": "markdown",
   "id": "0a97466c",
   "metadata": {},
   "source": [
    "# Sum square difference"
   ]
  },
  {
   "cell_type": "code",
   "execution_count": 1,
   "id": "87871175",
   "metadata": {},
   "outputs": [
    {
     "data": {
      "text/plain": [
       "3025"
      ]
     },
     "execution_count": 1,
     "metadata": {},
     "output_type": "execute_result"
    }
   ],
   "source": [
    "def sqrOfSum(n):\n",
    "    Sum = 0\n",
    "    for i in range(n+1):\n",
    "        Sum += i\n",
    "    return Sum**2\n",
    "\n",
    "sqrOfSum(10)"
   ]
  },
  {
   "cell_type": "code",
   "execution_count": 2,
   "id": "697f4799",
   "metadata": {},
   "outputs": [
    {
     "data": {
      "text/plain": [
       "385"
      ]
     },
     "execution_count": 2,
     "metadata": {},
     "output_type": "execute_result"
    }
   ],
   "source": [
    "def sumOfSqr(n):\n",
    "    sumOfSqr = 0\n",
    "    for i in range (n+1):\n",
    "        sumOfSqr += i**2\n",
    "    return sumOfSqr\n",
    "\n",
    "sumOfSqr(10)"
   ]
  },
  {
   "cell_type": "code",
   "execution_count": 3,
   "id": "d047739b",
   "metadata": {},
   "outputs": [
    {
     "data": {
      "text/plain": [
       "2640"
      ]
     },
     "execution_count": 3,
     "metadata": {},
     "output_type": "execute_result"
    }
   ],
   "source": [
    "def sumSqrDiff(n):\n",
    "    d = sqrOfSum(n) - sumOfSqr(n)\n",
    "    return d\n",
    "\n",
    "sumSqrDiff(10)"
   ]
  },
  {
   "cell_type": "code",
   "execution_count": 4,
   "id": "ecf8183d",
   "metadata": {},
   "outputs": [
    {
     "name": "stdout",
     "output_type": "stream",
     "text": [
      "CPU times: total: 0 ns\n",
      "Wall time: 0 ns\n"
     ]
    },
    {
     "data": {
      "text/plain": [
       "25164150"
      ]
     },
     "execution_count": 4,
     "metadata": {},
     "output_type": "execute_result"
    }
   ],
   "source": [
    "%time sumSqrDiff(100)"
   ]
  },
  {
   "cell_type": "code",
   "execution_count": 5,
   "id": "97f0dc57",
   "metadata": {},
   "outputs": [
    {
     "data": {
      "text/plain": [
       "2640"
      ]
     },
     "execution_count": 5,
     "metadata": {},
     "output_type": "execute_result"
    }
   ],
   "source": [
    "def sumSqrDif(n):\n",
    "    Sum = 0\n",
    "    sumOfSqr = 0\n",
    "    for i in range(n+1):\n",
    "        Sum += i\n",
    "        sumOfSqr += i**2\n",
    "    return Sum**2 - sumOfSqr\n",
    "\n",
    "sumSqrDif(10)"
   ]
  },
  {
   "cell_type": "code",
   "execution_count": 6,
   "id": "2ea7657a",
   "metadata": {},
   "outputs": [
    {
     "data": {
      "text/plain": [
       "2640"
      ]
     },
     "execution_count": 6,
     "metadata": {},
     "output_type": "execute_result"
    }
   ],
   "source": [
    "def sumSqrDi(n):\n",
    "    Sum = n*(n+1)/2\n",
    "    sumOfSqr = n*(n+1)*((2*n)+1)/6\n",
    "    return int(Sum**2 - sumOfSqr)\n",
    "\n",
    "sumSqrDi(10)"
   ]
  },
  {
   "cell_type": "code",
   "execution_count": 7,
   "id": "d9034031",
   "metadata": {},
   "outputs": [
    {
     "name": "stdout",
     "output_type": "stream",
     "text": [
      "CPU times: total: 0 ns\n",
      "Wall time: 0 ns\n"
     ]
    },
    {
     "data": {
      "text/plain": [
       "25164150"
      ]
     },
     "execution_count": 7,
     "metadata": {},
     "output_type": "execute_result"
    }
   ],
   "source": [
    "%time sumSqrDiff(100)"
   ]
  }
 ],
 "metadata": {
  "kernelspec": {
   "display_name": "Python 3 (ipykernel)",
   "language": "python",
   "name": "python3"
  },
  "language_info": {
   "codemirror_mode": {
    "name": "ipython",
    "version": 3
   },
   "file_extension": ".py",
   "mimetype": "text/x-python",
   "name": "python",
   "nbconvert_exporter": "python",
   "pygments_lexer": "ipython3",
   "version": "3.10.2"
  }
 },
 "nbformat": 4,
 "nbformat_minor": 5
}
