{
 "cells": [
  {
   "cell_type": "markdown",
   "id": "225d15a1",
   "metadata": {},
   "source": [
    "# Assignment_08"
   ]
  },
  {
   "cell_type": "markdown",
   "id": "f266cf47",
   "metadata": {},
   "source": [
    "Choose a project from an internship portal and try to write a HLD and LLD based on the sample given in your portal for a respective project  . "
   ]
  },
  {
   "cell_type": "markdown",
   "id": "5073725f",
   "metadata": {},
   "source": [
    "## HLD\n",
    "https://github.com/Shaah-i/Flight_Fare_Estimator/blob/main/reports/High%20Level%20Design.pdf"
   ]
  },
  {
   "cell_type": "markdown",
   "id": "d2c29828",
   "metadata": {},
   "source": [
    "## LLD\n",
    "https://github.com/Shaah-i/Flight_Fare_Estimator/blob/main/reports/Low-Level%20Design.pdf"
   ]
  }
 ],
 "metadata": {
  "kernelspec": {
   "display_name": "Python 3 (ipykernel)",
   "language": "python",
   "name": "python3"
  },
  "language_info": {
   "codemirror_mode": {
    "name": "ipython",
    "version": 3
   },
   "file_extension": ".py",
   "mimetype": "text/x-python",
   "name": "python",
   "nbconvert_exporter": "python",
   "pygments_lexer": "ipython3",
   "version": "3.10.2"
  }
 },
 "nbformat": 4,
 "nbformat_minor": 5
}
