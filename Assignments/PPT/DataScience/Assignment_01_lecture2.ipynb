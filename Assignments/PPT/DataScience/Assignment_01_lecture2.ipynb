{
 "cells": [
  {
   "cell_type": "markdown",
   "metadata": {
    "id": "R2DB-yae3iJL"
   },
   "source": [
    "# Assignment_01_lecture2"
   ]
  },
  {
   "cell_type": "markdown",
   "metadata": {
    "id": "WoYF6rFn3t-g"
   },
   "source": [
    "**1. Write a Python program to reverse a string without using any built-in string reversal functions.**"
   ]
  },
  {
   "cell_type": "code",
   "execution_count": 1,
   "metadata": {
    "colab": {
     "base_uri": "https://localhost:8080/",
     "height": 35
    },
    "id": "-s7IYYS63akZ",
    "outputId": "7deab661-28f6-42b7-8033-d5774c5acb19"
   },
   "outputs": [
    {
     "name": "stdout",
     "output_type": "stream",
     "text": [
      "retaw\n"
     ]
    }
   ],
   "source": [
    "#Sol1\n",
    "def reverseStr(a):\n",
    "    l=[]\n",
    "    for ele in range(len(a)-1,-1,-1):\n",
    "        l.append(a[ele])\n",
    "    return \"\".join(l)\n",
    "\n",
    "print(reverseStr(\"water\"))"
   ]
  },
  {
   "cell_type": "code",
   "execution_count": 2,
   "metadata": {
    "colab": {
     "base_uri": "https://localhost:8080/"
    },
    "id": "zrlp_5x_4IlI",
    "outputId": "bba1b9ca-d8da-47f2-944b-bbf88f96722a"
   },
   "outputs": [
    {
     "name": "stdout",
     "output_type": "stream",
     "text": [
      "retaw\n"
     ]
    }
   ],
   "source": [
    "#Sol2\n",
    "a=\"water\"\n",
    "print(a[::-1])"
   ]
  },
  {
   "cell_type": "markdown",
   "metadata": {
    "id": "pWlptyCe6Ulj"
   },
   "source": [
    "**2. Implement a function to check if a given string is a palindrome.**"
   ]
  },
  {
   "cell_type": "code",
   "execution_count": 3,
   "metadata": {
    "colab": {
     "base_uri": "https://localhost:8080/"
    },
    "id": "RrNkeYf-52Gm",
    "outputId": "57f6edce-886a-4c63-8e0d-65f951894590"
   },
   "outputs": [
    {
     "name": "stdout",
     "output_type": "stream",
     "text": [
      "True\n"
     ]
    }
   ],
   "source": [
    "#Sol1\n",
    "def isPalindrome(a):\n",
    "    return a==a[::-1]\n",
    "\n",
    "print(isPalindrome(\"racecar\"))"
   ]
  },
  {
   "cell_type": "markdown",
   "metadata": {
    "id": "79yCu76w8CiG"
   },
   "source": [
    "**3. Write a program to find the largest element in a given list.**"
   ]
  },
  {
   "cell_type": "code",
   "execution_count": 4,
   "metadata": {
    "colab": {
     "base_uri": "https://localhost:8080/"
    },
    "id": "sxDaKFR676eb",
    "outputId": "a0caf997-a4e0-41c3-856f-59484e6ca44f"
   },
   "outputs": [
    {
     "name": "stdout",
     "output_type": "stream",
     "text": [
      "8\n"
     ]
    }
   ],
   "source": [
    "#Sol1\n",
    "def largestEle(a):\n",
    "    return max(a)\n",
    "\n",
    "print(largestEle([4, 5, 2, 6, 8]))"
   ]
  },
  {
   "cell_type": "code",
   "execution_count": 5,
   "metadata": {
    "colab": {
     "base_uri": "https://localhost:8080/"
    },
    "id": "tVGPalRy8WRs",
    "outputId": "3c5cf7fd-6b82-417f-a107-e33ca6fe9e0e"
   },
   "outputs": [
    {
     "name": "stdout",
     "output_type": "stream",
     "text": [
      "8\n"
     ]
    }
   ],
   "source": [
    "#Sol2\n",
    "def largestEle(a):\n",
    "    a.sort()\n",
    "    return a[-1]\n",
    "\n",
    "print(largestEle([4, 5, 2, 6, 8]))"
   ]
  },
  {
   "cell_type": "markdown",
   "metadata": {
    "id": "AstAkdYZ-Kgu"
   },
   "source": [
    "**4. Implement a function to count the occurrence of each element in a list.**"
   ]
  },
  {
   "cell_type": "code",
   "execution_count": 6,
   "metadata": {
    "colab": {
     "base_uri": "https://localhost:8080/"
    },
    "id": "T-cUAEnu9r7U",
    "outputId": "39fc19f8-0339-4bd5-b9fa-e047da3848bf"
   },
   "outputs": [
    {
     "name": "stdout",
     "output_type": "stream",
     "text": [
      "{5: 2, 4: 2, 6: 1, 8: 1, 9: 1, 1: 1, 2: 2}\n"
     ]
    }
   ],
   "source": [
    "def occCount(a):\n",
    "    D=dict()\n",
    "    for ind, ele in enumerate(a):\n",
    "        if ele in D.keys():\n",
    "            D[ele] +=1\n",
    "        else:\n",
    "            D[ele] = 1\n",
    "        \n",
    "    return D\n",
    "\n",
    "print(occCount([5,4,6,5,8,9,1,2,2,4,]))"
   ]
  },
  {
   "cell_type": "markdown",
   "metadata": {
    "id": "ihuvsJsc_j--"
   },
   "source": [
    "**5. Write a Python program to find the second largest number in a list.**"
   ]
  },
  {
   "cell_type": "code",
   "execution_count": 7,
   "metadata": {
    "colab": {
     "base_uri": "https://localhost:8080/"
    },
    "id": "B9kEnVrJ-mbx",
    "outputId": "7f784cc1-f9f3-42d4-966a-81204ede73f7"
   },
   "outputs": [
    {
     "name": "stdout",
     "output_type": "stream",
     "text": [
      "6\n"
     ]
    }
   ],
   "source": [
    "def largestEle(a):\n",
    "    a.sort()\n",
    "    return a[-2]\n",
    "\n",
    "print(largestEle([4, 5, 2, 6, 8]))"
   ]
  },
  {
   "cell_type": "markdown",
   "metadata": {
    "id": "_ZK-VkmxARng"
   },
   "source": [
    "**6. Implement a function to remove duplicate elements from a list.**"
   ]
  },
  {
   "cell_type": "code",
   "execution_count": 8,
   "metadata": {
    "colab": {
     "base_uri": "https://localhost:8080/"
    },
    "id": "gWIGYEQ1_z-E",
    "outputId": "2cd04630-f0af-4024-bd59-3b334a52c8cc"
   },
   "outputs": [
    {
     "name": "stdout",
     "output_type": "stream",
     "text": [
      "[1, 2, 4, 5, 6, 8, 9]\n"
     ]
    }
   ],
   "source": [
    "#Sol1\n",
    "def removeDuplicates(a):\n",
    "    b=list(set(a))\n",
    "    return b\n",
    "\n",
    "print(removeDuplicates([5,4,6,5,8,9,1,2,2,4,]))"
   ]
  },
  {
   "cell_type": "code",
   "execution_count": 9,
   "metadata": {
    "colab": {
     "base_uri": "https://localhost:8080/"
    },
    "id": "5uw9DOwoAmCD",
    "outputId": "fdbb1c43-c212-410b-8baa-23d3502f5b5e"
   },
   "outputs": [
    {
     "name": "stdout",
     "output_type": "stream",
     "text": [
      "[5, 4, 6, 8, 9, 1, 2]\n"
     ]
    }
   ],
   "source": [
    "#Sol2\n",
    "def removeDuplicates(a):\n",
    "    l=[]\n",
    "    for ele in a:\n",
    "        if ele not in l:\n",
    "            l.append(ele)\n",
    "    return l\n",
    "\n",
    "print(removeDuplicates([5,4,6,5,8,9,1,2,2,4,]))"
   ]
  },
  {
   "cell_type": "markdown",
   "metadata": {
    "id": "dcDYx_vBBGHq"
   },
   "source": [
    "**7. Write a program to calculate the factorial of a given number.**"
   ]
  },
  {
   "cell_type": "code",
   "execution_count": 10,
   "metadata": {
    "colab": {
     "base_uri": "https://localhost:8080/"
    },
    "id": "YzO8AjYGBBo-",
    "outputId": "a9b892e2-bc2a-4daa-ab4d-0f3bd5b6f1b5"
   },
   "outputs": [
    {
     "name": "stdout",
     "output_type": "stream",
     "text": [
      "120\n"
     ]
    }
   ],
   "source": [
    "#Sol1\n",
    "def numFactorial(a):\n",
    "    fact=1\n",
    "    for ind in range(1, a+1):\n",
    "        fact *= ind\n",
    "    return fact\n",
    "\n",
    "print(numFactorial(5))"
   ]
  },
  {
   "cell_type": "code",
   "execution_count": 11,
   "metadata": {
    "colab": {
     "base_uri": "https://localhost:8080/"
    },
    "id": "-6cy127NBuZz",
    "outputId": "6f5792ba-d33f-49f9-d694-d7ef96ce6a27"
   },
   "outputs": [
    {
     "name": "stdout",
     "output_type": "stream",
     "text": [
      "120\n"
     ]
    }
   ],
   "source": [
    "#Sol2\n",
    "def numFactorial(a):\n",
    "    if (a==1 or a==0):\n",
    "        return 1\n",
    "    else:\n",
    "        return a*numFactorial(a-1)\n",
    "\n",
    "print(numFactorial(5))"
   ]
  },
  {
   "cell_type": "markdown",
   "metadata": {
    "id": "TBQeH4roC9wT"
   },
   "source": [
    "**8. Implement a function to check if a given number is prime.**"
   ]
  },
  {
   "cell_type": "code",
   "execution_count": 12,
   "metadata": {
    "colab": {
     "base_uri": "https://localhost:8080/"
    },
    "id": "WzSxQ3OcCncE",
    "outputId": "3fa0f68f-7509-4a4a-e94f-aff095edbcea"
   },
   "outputs": [
    {
     "name": "stdout",
     "output_type": "stream",
     "text": [
      "False\n",
      "False\n",
      "True\n",
      "True\n"
     ]
    }
   ],
   "source": [
    "#Sol1\n",
    "def isPrime(a):\n",
    "    if a==1 or a==0:\n",
    "        return False\n",
    "    for i in range(2, int(a**0.5)+1):\n",
    "        if a%i == 0:\n",
    "            return False\n",
    "    return True\n",
    "\n",
    "print(isPrime(0))\n",
    "print(isPrime(22))\n",
    "print(isPrime(5))\n",
    "print(isPrime(19))"
   ]
  },
  {
   "cell_type": "code",
   "execution_count": 13,
   "metadata": {
    "colab": {
     "base_uri": "https://localhost:8080/"
    },
    "id": "PSD4H_AeFa0H",
    "outputId": "5c610a06-685e-4534-f9aa-2c0cbea84d25"
   },
   "outputs": [
    {
     "name": "stdout",
     "output_type": "stream",
     "text": [
      "None\n",
      "False\n",
      "True\n",
      "True\n"
     ]
    }
   ],
   "source": [
    "#Sol2\n",
    "def isPrime(a):\n",
    "    if a>1:\n",
    "        for i in range(2, int(a/2)+1):\n",
    "            if a%i == 0:\n",
    "                return False\n",
    "            return True\n",
    "        return False\n",
    "\n",
    "print(isPrime(0))\n",
    "print(isPrime(22))\n",
    "print(isPrime(5))\n",
    "print(isPrime(19))"
   ]
  },
  {
   "cell_type": "markdown",
   "metadata": {
    "id": "1NY1AC0-Ga3D"
   },
   "source": [
    "**9. Write a Python program to sort a list of integers in ascending order.**"
   ]
  },
  {
   "cell_type": "code",
   "execution_count": 14,
   "metadata": {
    "colab": {
     "base_uri": "https://localhost:8080/"
    },
    "id": "O9sjp_iWHTYW",
    "outputId": "40f91d56-9f2f-4be1-ce67-175815360177"
   },
   "outputs": [
    {
     "name": "stdout",
     "output_type": "stream",
     "text": [
      "[1, 2, 6, 8, 9, 21]\n"
     ]
    }
   ],
   "source": [
    "#Sol1\n",
    "def listSort(a):\n",
    "    i=0\n",
    "    while i < len(a):\n",
    "        j=i+1\n",
    "        while j< len(a):\n",
    "            if a[i]>a[j]:\n",
    "                a[i], a[j] = a[j], a[i]\n",
    "            j += 1\n",
    "        i += 1\n",
    "\n",
    "    return a\n",
    "\n",
    "\n",
    "print(listSort([8,6,2,1,9,21]))"
   ]
  },
  {
   "cell_type": "code",
   "execution_count": 15,
   "metadata": {
    "colab": {
     "base_uri": "https://localhost:8080/"
    },
    "id": "vVdjHkMVGSd-",
    "outputId": "352c4dcf-3202-4413-9f21-2c29b3a98cdb"
   },
   "outputs": [
    {
     "name": "stdout",
     "output_type": "stream",
     "text": [
      "[1, 2, 6, 8, 9, 21]\n"
     ]
    }
   ],
   "source": [
    "#Sol2\n",
    "def listSort(a):\n",
    "    a.sort()\n",
    "    return a\n",
    "\n",
    "print(listSort([8,6,2,1,9,21]))"
   ]
  },
  {
   "cell_type": "markdown",
   "metadata": {
    "id": "84a1ko5LLulw"
   },
   "source": [
    "**10. Implement a function to find the sum of all numbers in a list.**"
   ]
  },
  {
   "cell_type": "code",
   "execution_count": 16,
   "metadata": {
    "colab": {
     "base_uri": "https://localhost:8080/"
    },
    "id": "6sEAKcJAGyj2",
    "outputId": "3c7979aa-4b3f-4f99-e564-d091ea2c474a"
   },
   "outputs": [
    {
     "name": "stdout",
     "output_type": "stream",
     "text": [
      "61\n"
     ]
    }
   ],
   "source": [
    "#Sol1\n",
    "def eleSum(a):\n",
    "    s = 0\n",
    "    for ele in a:\n",
    "        s += ele\n",
    "    return s\n",
    "\n",
    "print(eleSum([1,55,2,3]))"
   ]
  },
  {
   "cell_type": "markdown",
   "metadata": {
    "id": "bDWo4lpfMyIC"
   },
   "source": [
    "**11. Write a program to find the common elements between two lists.**"
   ]
  },
  {
   "cell_type": "code",
   "execution_count": 17,
   "metadata": {
    "colab": {
     "base_uri": "https://localhost:8080/"
    },
    "id": "MFARU9vAN2Q3",
    "outputId": "f825b035-ec54-40ed-82c7-20038455766c"
   },
   "outputs": [
    {
     "name": "stdout",
     "output_type": "stream",
     "text": [
      "[5, 22, 1]\n"
     ]
    }
   ],
   "source": [
    "#Sol1\n",
    "def commonEle(a,b):\n",
    "    temp=[]\n",
    "    if len(a) > len(b):\n",
    "        smaller = b\n",
    "        larger = a\n",
    "    else:\n",
    "        smaller = a\n",
    "        larger = b\n",
    "    for ele in smaller:\n",
    "        if ele in larger:\n",
    "            temp.append(ele)\n",
    "\n",
    "    return temp\n",
    "\n",
    "print(commonEle([5,4,3,22,1], [7,8,22,5,1]))"
   ]
  },
  {
   "cell_type": "code",
   "execution_count": 18,
   "metadata": {
    "colab": {
     "base_uri": "https://localhost:8080/"
    },
    "id": "jNNGcZ9kMEJB",
    "outputId": "aab603c1-184c-4846-940f-3ffa07e20c7e"
   },
   "outputs": [
    {
     "name": "stdout",
     "output_type": "stream",
     "text": [
      "[1, 5, 22]\n"
     ]
    }
   ],
   "source": [
    "#Sol2\n",
    "def commonEle(a,b):\n",
    "    return list(set(a)&set(b))\n",
    "\n",
    "print(commonEle([5,4,3,22,1], [7,8,22,5,1]))"
   ]
  },
  {
   "cell_type": "markdown",
   "metadata": {
    "id": "lSncD2sOPAUA"
   },
   "source": [
    "**12. Implement a function to check if a given string is an anagram of another string.**"
   ]
  },
  {
   "cell_type": "code",
   "execution_count": 19,
   "metadata": {
    "colab": {
     "base_uri": "https://localhost:8080/"
    },
    "id": "XRtc5fxCNfK3",
    "outputId": "07b5e161-7ab1-4d1a-b438-0dde0ab03c5b"
   },
   "outputs": [
    {
     "name": "stdout",
     "output_type": "stream",
     "text": [
      "True\n",
      "False\n",
      "True\n"
     ]
    }
   ],
   "source": [
    "#Sol1\n",
    "def isAnagram(a,b):\n",
    "    if (set(a) == set(b) and len(a) == len(b)):\n",
    "        return True\n",
    "    return False\n",
    "\n",
    "print(isAnagram(\"care\", \"race\"))\n",
    "print(isAnagram(\"care\", \"racp\"))\n",
    "print(isAnagram(\"dreads\", \"sadder\"))"
   ]
  },
  {
   "cell_type": "markdown",
   "metadata": {
    "id": "AH1MjeZ0Q8Ta"
   },
   "source": [
    "**13. Write a Python program to generate all permutations of a given string.**"
   ]
  },
  {
   "cell_type": "code",
   "execution_count": 20,
   "metadata": {
    "colab": {
     "base_uri": "https://localhost:8080/"
    },
    "id": "Wt1hgLjQPu4W",
    "outputId": "da090297-2696-4a89-dd30-d1f68bfcb371"
   },
   "outputs": [
    {
     "name": "stdout",
     "output_type": "stream",
     "text": [
      "['abc', 'acb', 'bac', 'bca', 'cab', 'cba']\n"
     ]
    }
   ],
   "source": [
    "def permute(a):\n",
    "    if len(a) == 1:\n",
    "        return [a]\n",
    "    else:\n",
    "        perm = []\n",
    "        for ind, ele in enumerate(a):\n",
    "            for p in permute(a[:ind] + a[ind+1:]):\n",
    "                perm.append(ele + p)\n",
    "        return perm\n",
    "\n",
    "print(permute(\"abc\"))"
   ]
  },
  {
   "cell_type": "markdown",
   "metadata": {
    "id": "yW5Vsql6RBIq"
   },
   "source": [
    "**14. Implement a function to calculate the Fibonacci sequence up to a given number of terms.**"
   ]
  },
  {
   "cell_type": "code",
   "execution_count": 21,
   "metadata": {
    "colab": {
     "base_uri": "https://localhost:8080/"
    },
    "id": "NW7XC3FxRBoc",
    "outputId": "dbab90b8-d511-4912-c97b-29e60f4087d7"
   },
   "outputs": [
    {
     "name": "stdout",
     "output_type": "stream",
     "text": [
      "0 1 1 2 3 5 8 13 21 "
     ]
    }
   ],
   "source": [
    "#Sol1\n",
    "def fibo(n):\n",
    "    n1 = 0\n",
    "    n2 = 1\n",
    "    count = 0\n",
    "    if n <= 0:\n",
    "        print(\"Input natural numbers only\")\n",
    "    elif n == 1:\n",
    "        print(n1, end= \" \")\n",
    "    else:\n",
    "        while count <= n:\n",
    "            print(n1, end= \" \")\n",
    "            nex = n1+n2\n",
    "\n",
    "            n1 = n2\n",
    "            n2 = nex\n",
    "            count += 1\n",
    "\n",
    "fibo(8)"
   ]
  },
  {
   "cell_type": "code",
   "execution_count": 22,
   "metadata": {
    "colab": {
     "base_uri": "https://localhost:8080/"
    },
    "id": "ExoE5mKfz7E2",
    "outputId": "c37213a4-9aeb-4338-c6ca-f62fdc1f3136"
   },
   "outputs": [
    {
     "name": "stdout",
     "output_type": "stream",
     "text": [
      "[0, 1, 1, 2, 3, 5, 8, 13, 21]\n"
     ]
    }
   ],
   "source": [
    "#Sol2\n",
    "def recrsive_fibo(n):\n",
    "    if n== 0:\n",
    "        return 0\n",
    "    elif n == 1:\n",
    "        return 1\n",
    "    else:\n",
    "        return recrsive_fibo(n-1)+recrsive_fibo(n-2)\n",
    "\n",
    "n=8\n",
    "l=[]\n",
    "for i in range(n+1):\n",
    "    l.append(recrsive_fibo(i))\n",
    "print(l)"
   ]
  },
  {
   "cell_type": "markdown",
   "metadata": {
    "id": "dMbukmQ0RCyN"
   },
   "source": [
    "**15. Write a program to find the median of a list of numbers.**"
   ]
  },
  {
   "cell_type": "code",
   "execution_count": 23,
   "metadata": {
    "colab": {
     "base_uri": "https://localhost:8080/"
    },
    "id": "JIzYV_jGRCSG",
    "outputId": "a1436872-732b-49f8-f063-207b47137b31"
   },
   "outputs": [
    {
     "name": "stdout",
     "output_type": "stream",
     "text": [
      "8.5\n"
     ]
    }
   ],
   "source": [
    "def listMedian(a):\n",
    "    a.sort()\n",
    "    mid = len(a) // 2\n",
    "\n",
    "    res = (a[mid] + a[~mid]) / 2\n",
    "\n",
    "    return res\n",
    "\n",
    "print(listMedian([4, 5, 8, 9, 10, 17]))"
   ]
  },
  {
   "cell_type": "markdown",
   "metadata": {
    "id": "YpnqZHSbRX91"
   },
   "source": [
    "**16. Implement a function to check if a given list is sorted in non-decreasing order.**"
   ]
  },
  {
   "cell_type": "code",
   "execution_count": 24,
   "metadata": {
    "colab": {
     "base_uri": "https://localhost:8080/"
    },
    "id": "qfv0B51DSYan",
    "outputId": "adc52249-2b62-451d-8276-ed8b3cff191e"
   },
   "outputs": [
    {
     "name": "stdout",
     "output_type": "stream",
     "text": [
      "True\n",
      "False\n"
     ]
    }
   ],
   "source": [
    "def isIncSort(a):\n",
    "    for i in range(len(a)-1):\n",
    "        if a[i]> a[i+1]:\n",
    "            return False\n",
    "    return True\n",
    "\n",
    "print(isIncSort([1, 2, 3, 4]))\n",
    "print(isIncSort([6, 8 , 7, 9]))"
   ]
  },
  {
   "cell_type": "markdown",
   "metadata": {
    "id": "xSuAXicIR1Bo"
   },
   "source": [
    "**17. Write a Python program to find the intersection of two lists.**"
   ]
  },
  {
   "cell_type": "code",
   "execution_count": 25,
   "metadata": {
    "colab": {
     "base_uri": "https://localhost:8080/"
    },
    "id": "uhADG5CsSoSg",
    "outputId": "0c2e1760-9d40-4ef9-aff8-aa2a740618f6"
   },
   "outputs": [
    {
     "name": "stdout",
     "output_type": "stream",
     "text": [
      "[2]\n"
     ]
    }
   ],
   "source": [
    "def intersection(a,b):\n",
    "    n= len(a)\n",
    "    m= len(b)\n",
    "\n",
    "    s=set()\n",
    "\n",
    "    if n>m:\n",
    "        larger= a\n",
    "        smaller= b\n",
    "    else:\n",
    "        larger= b\n",
    "        smaller= a\n",
    "\n",
    "    for i in smaller:\n",
    "        if i in larger:\n",
    "            s.add(i)\n",
    "\n",
    "    return list(s)\n",
    "\n",
    "print(intersection([1,2,2,1], [2,2]))"
   ]
  },
  {
   "cell_type": "markdown",
   "metadata": {
    "id": "1dU_VocASjZF"
   },
   "source": [
    "**18. Implement a function to find the maximum subarray sum in a given list.**"
   ]
  },
  {
   "cell_type": "code",
   "execution_count": 26,
   "metadata": {
    "colab": {
     "base_uri": "https://localhost:8080/"
    },
    "id": "enhgbu9JSpNX",
    "outputId": "09eaa65a-6611-4065-810f-7ba5febd4006"
   },
   "outputs": [
    {
     "name": "stdout",
     "output_type": "stream",
     "text": [
      "9 -1 1 6 "
     ]
    }
   ],
   "source": [
    "\n",
    "def maxSubarraySum(nums):\n",
    "\n",
    "    currMax = nums[0]\n",
    "    globalMax = nums[0]\n",
    "    endIndex = 0\n",
    "    startIndex = 0\n",
    "    globalMaxStartIndex = 0\n",
    "\n",
    "    for i in range(1, len(nums)):\n",
    "        if (nums[i] > nums[i] + currMax):\n",
    "            currMax = nums[i]\n",
    "            startIndex = i\n",
    "\n",
    "        elif (nums[i] < nums[i] + currMax):\n",
    "            currMax += nums[i]\n",
    "\n",
    "        if (currMax > globalMax):\n",
    "            globalMax = currMax\n",
    "            endIndex = i\n",
    "            globalMaxStartIndex = startIndex\n",
    "\n",
    "    for i in range(globalMaxStartIndex, endIndex + 1):\n",
    "        print(nums[i], end=' ')\n",
    "\n",
    "\n",
    "arr = [-2, 9, -1, 1, 6, -5, 2]\n",
    "maxSubarraySum(arr)"
   ]
  },
  {
   "cell_type": "markdown",
   "metadata": {
    "id": "hve5UgOWSleM"
   },
   "source": [
    "**19. Write a program to remove all vowels from a given string.**"
   ]
  },
  {
   "cell_type": "code",
   "execution_count": 27,
   "metadata": {
    "colab": {
     "base_uri": "https://localhost:8080/"
    },
    "id": "CtESdh6zSqC0",
    "outputId": "a6c38c3e-4e05-4452-a902-a5b51c64a7f4"
   },
   "outputs": [
    {
     "name": "stdout",
     "output_type": "stream",
     "text": [
      "Ths s  strng cntnng vwls\n"
     ]
    }
   ],
   "source": [
    "def removeVowels(a):\n",
    "    vow= [\"a\", \"e\", \"i\", \"o\", \"u\"]\n",
    "    op=[]\n",
    "    for ele in range(len(a)):\n",
    "        if a[ele].lower() not in vow:\n",
    "            op.append(a[ele])\n",
    "    return \"\".join(op)\n",
    "\n",
    "print(removeVowels(\"This is a string containing vowels\"))"
   ]
  },
  {
   "cell_type": "markdown",
   "metadata": {
    "id": "GXvlFgbgSmyt"
   },
   "source": [
    "**20. Implement a function to reverse the order of words in a given sentence.**"
   ]
  },
  {
   "cell_type": "code",
   "execution_count": 28,
   "metadata": {
    "colab": {
     "base_uri": "https://localhost:8080/"
    },
    "id": "rlYi9j0BS82h",
    "outputId": "41550c12-9921-4675-ca6d-ebfaf229a2eb"
   },
   "outputs": [
    {
     "name": "stdout",
     "output_type": "stream",
     "text": [
      "vowels containing string a is This\n"
     ]
    }
   ],
   "source": [
    "def wordReverse(a):\n",
    "    lst = a.split(\" \")\n",
    "    lst= lst[::-1]\n",
    "    return \" \".join(lst)\n",
    "\n",
    "print(wordReverse(\"This is a string containing vowels\"))"
   ]
  },
  {
   "cell_type": "markdown",
   "metadata": {
    "id": "pCW93meTS6O_"
   },
   "source": [
    "**21. Write a Python program to check if two strings are anagrams of each other.**"
   ]
  },
  {
   "cell_type": "code",
   "execution_count": 29,
   "metadata": {
    "colab": {
     "base_uri": "https://localhost:8080/"
    },
    "id": "sdYhfCOGUEUR",
    "outputId": "e07396fc-7b35-4da7-a481-847cf9a783b5"
   },
   "outputs": [
    {
     "name": "stdout",
     "output_type": "stream",
     "text": [
      "True\n"
     ]
    }
   ],
   "source": [
    "def isAnagram(a,b):\n",
    "    return a.lower()[::-1]==b.lower()\n",
    "\n",
    "print(isAnagram(\"part\", \"Trap\"))"
   ]
  },
  {
   "cell_type": "markdown",
   "metadata": {
    "id": "rzLChyu7S_ak"
   },
   "source": [
    "**22. Implement a function to find the first non-repeating character in a string.**"
   ]
  },
  {
   "cell_type": "code",
   "execution_count": 30,
   "metadata": {
    "colab": {
     "base_uri": "https://localhost:8080/"
    },
    "id": "TDtN5xPKUFcy",
    "outputId": "f3262a47-ce17-4324-965d-195e83d131c0"
   },
   "outputs": [
    {
     "name": "stdout",
     "output_type": "stream",
     "text": [
      "h\n",
      "None\n"
     ]
    }
   ],
   "source": [
    "def findFirstUnique(a):\n",
    "    for c in a.lower():\n",
    "        if (a.find(c, (a.find(c)+1))) == -1:\n",
    "            return c\n",
    "    return\n",
    "\n",
    "print(findFirstUnique(\"Happy\"))\n",
    "print(findFirstUnique(\"aaddyya\"))"
   ]
  },
  {
   "cell_type": "markdown",
   "metadata": {
    "id": "rNEvKh6ATBKc"
   },
   "source": [
    "**23. Write a program to find the prime factors of a given number.**"
   ]
  },
  {
   "cell_type": "code",
   "execution_count": 31,
   "metadata": {
    "colab": {
     "base_uri": "https://localhost:8080/"
    },
    "id": "AuEjvD4dUGJ2",
    "outputId": "dd0f76ae-34b3-4e1a-ab85-ce75fb03b681"
   },
   "outputs": [
    {
     "name": "stdout",
     "output_type": "stream",
     "text": [
      "31\n",
      "5 31\n"
     ]
    }
   ],
   "source": [
    "import math\n",
    "\n",
    "def primeFactor(a):\n",
    "    while a%2 ==0:\n",
    "        print(2, end= \" \")\n",
    "        a = a/2\n",
    "\n",
    "    for i in range(3, int(math.sqrt(a))+1, 2):\n",
    "        while a%i == 0:\n",
    "            print(i, end= \" \")\n",
    "            a= a/i\n",
    "\n",
    "    if a > 2:\n",
    "        print(int(a), end= \"\\n\")\n",
    "\n",
    "primeFactor(31)\n",
    "primeFactor(155)"
   ]
  },
  {
   "cell_type": "markdown",
   "metadata": {
    "id": "efS85lY-TGk9"
   },
   "source": [
    "**24. Implement a function to check if a given number is a power of two.**"
   ]
  },
  {
   "cell_type": "code",
   "execution_count": 32,
   "metadata": {
    "colab": {
     "base_uri": "https://localhost:8080/"
    },
    "id": "MBNFEjWtUGqp",
    "outputId": "2c751b36-a99d-49b2-c1c3-a6105c43ba2a"
   },
   "outputs": [
    {
     "name": "stdout",
     "output_type": "stream",
     "text": [
      "True\n",
      "False\n"
     ]
    }
   ],
   "source": [
    "def isPowerofTwo(n):\n",
    "\n",
    "    if (n == 0):\n",
    "        return False\n",
    "    if ((n & (~(n - 1))) == n):\n",
    "        return True\n",
    "    return False\n",
    "\n",
    "print(isPowerofTwo(64))\n",
    "print(isPowerofTwo(122))"
   ]
  },
  {
   "cell_type": "markdown",
   "metadata": {
    "id": "p1kSqpKjTIfB"
   },
   "source": [
    "**25. Write a Python program to merge two sorted lists into a single sorted list.**"
   ]
  },
  {
   "cell_type": "code",
   "execution_count": 33,
   "metadata": {
    "colab": {
     "base_uri": "https://localhost:8080/"
    },
    "id": "Wh0i2WLvUHKG",
    "outputId": "62648aca-fa15-47d1-aaf4-2e9719b62f4f"
   },
   "outputs": [
    {
     "name": "stdout",
     "output_type": "stream",
     "text": [
      "[1, 2, 3, 3, 4, 5, 9]\n"
     ]
    }
   ],
   "source": [
    "#Sol1\n",
    "def sortedMerge(a, b):\n",
    "    return sorted(a+b)\n",
    "\n",
    "print(sortedMerge([1,2,3,4], [3,5,9]))"
   ]
  },
  {
   "cell_type": "code",
   "execution_count": 34,
   "metadata": {
    "colab": {
     "base_uri": "https://localhost:8080/"
    },
    "id": "6fYZ7gbj2ZOr",
    "outputId": "1108196f-4c9f-4e65-8e8b-077035ed70da"
   },
   "outputs": [
    {
     "name": "stdout",
     "output_type": "stream",
     "text": [
      "[1, 2, 3, 3, 4, 5, 9]\n"
     ]
    }
   ],
   "source": [
    "#Sol2\n",
    "import itertools\n",
    "\n",
    "def sortedMerge(a, b):\n",
    "    m = sorted(itertools.chain(a,b))\n",
    "    return m\n",
    "\n",
    "\n",
    "print(sortedMerge([1,2,3,4], [3,5,9]))"
   ]
  },
  {
   "cell_type": "markdown",
   "metadata": {
    "id": "gJhT4pCsTJ1f"
   },
   "source": [
    "**26. Implement a function to find the mode of a list of numbers.**"
   ]
  },
  {
   "cell_type": "code",
   "execution_count": 35,
   "metadata": {
    "colab": {
     "base_uri": "https://localhost:8080/"
    },
    "id": "9xsz70EoUHqc",
    "outputId": "eb6d3766-7d12-4d2a-f7ec-24d424fa3dbc"
   },
   "outputs": [
    {
     "name": "stdout",
     "output_type": "stream",
     "text": [
      "[2]\n",
      "[2, 8, 5, 3]\n"
     ]
    }
   ],
   "source": [
    "def lstMode(a):\n",
    "    cnt = {}\n",
    "    for ele in a:\n",
    "        if ele in cnt:\n",
    "            cnt[ele] += 1\n",
    "        else:\n",
    "            cnt[ele] = 1\n",
    "\n",
    "    return [k for k in cnt.keys() if cnt[k] == max(cnt.values())]\n",
    "\n",
    "print(lstMode([2, 4, 8, 5, 3, 1, 2, 3, 2 ,2, 5]))\n",
    "print(lstMode([2, 4, 8, 5, 3, 1, 8, 3, 2 , 5]))"
   ]
  },
  {
   "cell_type": "markdown",
   "metadata": {
    "id": "gZss99guTLMe"
   },
   "source": [
    "**27. Write a program to find the greatest common divisor (GCD) of two numbers.**"
   ]
  },
  {
   "cell_type": "code",
   "execution_count": 36,
   "metadata": {
    "colab": {
     "base_uri": "https://localhost:8080/"
    },
    "id": "hNnVFD3KUIH0",
    "outputId": "5dff00b6-8b87-4bd5-e720-0da691e8b899"
   },
   "outputs": [
    {
     "name": "stdout",
     "output_type": "stream",
     "text": [
      "12\n"
     ]
    }
   ],
   "source": [
    "def gcd(a, b):\n",
    "    if(b == 0):\n",
    "        return a\n",
    "    else:\n",
    "        return gcd(b, a % b)\n",
    "\n",
    "a = 60\n",
    "b = 48\n",
    "\n",
    "print(gcd(60, 48))"
   ]
  },
  {
   "cell_type": "markdown",
   "metadata": {
    "id": "exyfUBrbTMV6"
   },
   "source": [
    "**28. Implement a function to calculate the square root of a given number.**"
   ]
  },
  {
   "cell_type": "code",
   "execution_count": 37,
   "metadata": {
    "colab": {
     "base_uri": "https://localhost:8080/"
    },
    "id": "k9vTUkpUUIlt",
    "outputId": "98e14a88-6263-436f-e9b3-d85a88b18a19"
   },
   "outputs": [
    {
     "name": "stdout",
     "output_type": "stream",
     "text": [
      "3.3166247903554\n",
      "4.0\n"
     ]
    }
   ],
   "source": [
    "#Sol1\n",
    "def rootOfNum(a):\n",
    "    return a ** 0.5\n",
    "\n",
    "print(rootOfNum(11))\n",
    "print(rootOfNum(16))"
   ]
  },
  {
   "cell_type": "code",
   "execution_count": 38,
   "metadata": {
    "colab": {
     "base_uri": "https://localhost:8080/"
    },
    "id": "fnJBBeYc6n_U",
    "outputId": "a05080cc-5157-4972-ae6f-637196467a50"
   },
   "outputs": [
    {
     "name": "stdout",
     "output_type": "stream",
     "text": [
      "3\n",
      "4\n"
     ]
    }
   ],
   "source": [
    "#Sol2\n",
    "def rootOfNum(a):\n",
    "    if (a == 0 or a == 1):\n",
    "        return a\n",
    "\n",
    "    i = 1\n",
    "    r = 1\n",
    "    while r <= a:\n",
    "        i += 1\n",
    "        r = i * i\n",
    "\n",
    "    return i-1\n",
    "\n",
    "print(rootOfNum(11))\n",
    "print(rootOfNum(16))"
   ]
  },
  {
   "cell_type": "markdown",
   "metadata": {
    "id": "lBaBOGm1TNY3"
   },
   "source": [
    "**29. Write a Python program to check if a given string is a valid palindrome ignoring non-alphanumeric characters.**"
   ]
  },
  {
   "cell_type": "code",
   "execution_count": 39,
   "metadata": {
    "colab": {
     "base_uri": "https://localhost:8080/"
    },
    "id": "XV-YKRc9UJDg",
    "outputId": "c8cb8869-d4ae-44a9-9a72-1c6e400ebbfd"
   },
   "outputs": [
    {
     "name": "stdout",
     "output_type": "stream",
     "text": [
      "True\n",
      "True\n",
      "False\n"
     ]
    }
   ],
   "source": [
    "def isPalindrome(a):\n",
    "    a = a.lower()\n",
    "    p = \"\".join( ele for ele in a if ele.isalnum())\n",
    "    return p == p[::-1]\n",
    "\n",
    "print(isPalindrome(\"Was it a car or a cat I saw?\"))\n",
    "print(isPalindrome(\"22/02/2022\"))\n",
    "print(isPalindrome(\"Hi, I am in Ohio!\"))"
   ]
  },
  {
   "cell_type": "markdown",
   "metadata": {
    "id": "GoN2E8RKTOnu"
   },
   "source": [
    "**30. Implement a function to find the minimum element in a rotated sorted list.**"
   ]
  },
  {
   "cell_type": "code",
   "execution_count": 40,
   "metadata": {
    "colab": {
     "base_uri": "https://localhost:8080/"
    },
    "id": "6EOXZPsdUKm_",
    "outputId": "7fa58c89-70eb-4f09-9830-7f788c64714e"
   },
   "outputs": [
    {
     "name": "stdout",
     "output_type": "stream",
     "text": [
      "5\n"
     ]
    }
   ],
   "source": [
    "#Sol1\n",
    "def findMin(a):\n",
    "    return min(a)\n",
    "\n",
    "print(findMin([8, 9, 10, 5, 6, 7]))"
   ]
  },
  {
   "cell_type": "code",
   "execution_count": 41,
   "metadata": {
    "colab": {
     "base_uri": "https://localhost:8080/"
    },
    "id": "nqoO2m9lxupJ",
    "outputId": "34975704-eb9d-4ebf-8041-0dfbaaa14f35"
   },
   "outputs": [
    {
     "name": "stdout",
     "output_type": "stream",
     "text": [
      "5\n"
     ]
    }
   ],
   "source": [
    "#Sol2\n",
    "def findMin(a):\n",
    "    n = len(a)\n",
    "    min_ele = a[0];\n",
    "    \n",
    "    for i in range(n) :\n",
    "        if a[i] < min_ele :\n",
    "            min_ele = a[i]\n",
    "\n",
    "    return min_ele\n",
    "\n",
    "print(findMin([8, 9, 10, 5, 6, 7]))"
   ]
  },
  {
   "cell_type": "markdown",
   "metadata": {
    "id": "hfo6IWJQTQMl"
   },
   "source": [
    "**31. Write a program to find the sum of all even numbers in a list.**"
   ]
  },
  {
   "cell_type": "code",
   "execution_count": 42,
   "metadata": {
    "colab": {
     "base_uri": "https://localhost:8080/"
    },
    "id": "N5uWcRsyULLA",
    "outputId": "95ce432b-ea75-47a3-f681-d0e8ae3243e6"
   },
   "outputs": [
    {
     "name": "stdout",
     "output_type": "stream",
     "text": [
      "8\n"
     ]
    }
   ],
   "source": [
    "def evenNumSum(a):\n",
    "    s=0\n",
    "    for ele in a:\n",
    "        if ele % 2==0:\n",
    "            s += ele\n",
    "    return s\n",
    "\n",
    "print(evenNumSum([1, 2, 6, 3, 5]))"
   ]
  },
  {
   "cell_type": "markdown",
   "metadata": {
    "id": "auVBqbYXTb3J"
   },
   "source": [
    "**32. Implement a function to calculate the power of a number using recursion.**"
   ]
  },
  {
   "cell_type": "code",
   "execution_count": 43,
   "metadata": {
    "colab": {
     "base_uri": "https://localhost:8080/"
    },
    "id": "noVpQlZsULy5",
    "outputId": "dee7ad3a-f1eb-4cba-bc2c-1e294e0dfeff"
   },
   "outputs": [
    {
     "name": "stdout",
     "output_type": "stream",
     "text": [
      "125\n"
     ]
    }
   ],
   "source": [
    "def recursivePower(n, p):\n",
    "    if p== 0:\n",
    "        return 1\n",
    "\n",
    "    return (n*recursivePower(n, p-1))\n",
    "\n",
    "\n",
    "print(recursivePower(5, 3))"
   ]
  },
  {
   "cell_type": "markdown",
   "metadata": {
    "id": "i1W99-a-TcxG"
   },
   "source": [
    "**33. Write a Python program to remove duplicates from a list while preserving the order.**"
   ]
  },
  {
   "cell_type": "code",
   "execution_count": 44,
   "metadata": {
    "colab": {
     "base_uri": "https://localhost:8080/"
    },
    "id": "nedZrmiqUMZ-",
    "outputId": "bce31361-dfe1-4c95-c216-f8ab064b6e6a"
   },
   "outputs": [
    {
     "name": "stdout",
     "output_type": "stream",
     "text": [
      "[5, 4, 3, 6, 2, 8]\n"
     ]
    }
   ],
   "source": [
    "def rmvDup(a):\n",
    "    lst = []\n",
    "    for ele in a:\n",
    "        if ele not in lst:\n",
    "            lst.append(ele)\n",
    "    return lst\n",
    "\n",
    "print(rmvDup([5, 4, 3, 4, 6, 2, 4, 5, 8]))"
   ]
  },
  {
   "cell_type": "markdown",
   "metadata": {
    "id": "nCSgovHrTeBa"
   },
   "source": [
    "**34. Implement a function to find the longest common prefix among a list of strings.**"
   ]
  },
  {
   "cell_type": "code",
   "execution_count": 45,
   "metadata": {
    "colab": {
     "base_uri": "https://localhost:8080/"
    },
    "id": "XmY9hOxHUM6z",
    "outputId": "a45db773-0146-4f66-d7d9-2e0b2eeda7a2"
   },
   "outputs": [
    {
     "name": "stdout",
     "output_type": "stream",
     "text": [
      "ban\n",
      "ba\n"
     ]
    }
   ],
   "source": [
    "def LCP(a):\n",
    "    n = len(a)\n",
    "\n",
    "    if n == 0:\n",
    "        return a[0]\n",
    "\n",
    "    a.sort()\n",
    "    end = min(len(a[0]), len(a[n-1]))\n",
    "\n",
    "    i = 0\n",
    "    while (i < end and a[0][i] == a[n-1][i]):\n",
    "        i += 1\n",
    "\n",
    "    pre = a[0][0:i]\n",
    "    return pre\n",
    "\n",
    "print(LCP([\"banana\", \"band\", \"bank\"]))\n",
    "print(LCP([\"banana\", \"band\", \"bank\", \"baker\"]))"
   ]
  },
  {
   "cell_type": "markdown",
   "metadata": {
    "id": "WO4BO3zJTfVc"
   },
   "source": [
    "**35. Write a program to check if a given number is a perfect square.**"
   ]
  },
  {
   "cell_type": "code",
   "execution_count": 46,
   "metadata": {
    "colab": {
     "base_uri": "https://localhost:8080/"
    },
    "id": "1T2pZs5cUNa3",
    "outputId": "3bfdf927-c843-4519-bb1f-075eb0475457"
   },
   "outputs": [
    {
     "name": "stdout",
     "output_type": "stream",
     "text": [
      "True\n",
      "False\n",
      "True\n"
     ]
    }
   ],
   "source": [
    "def perfectSquare(a):\n",
    "    x = a//2\n",
    "    y = set([x])\n",
    "    while x*x != a:\n",
    "        x = (x + (a//x)) // 2\n",
    "        if x in y:\n",
    "            return False\n",
    "        y.add(x)\n",
    "    return True\n",
    "\n",
    "print(perfectSquare(4))\n",
    "print(perfectSquare(8))\n",
    "print(perfectSquare(16))"
   ]
  },
  {
   "cell_type": "markdown",
   "metadata": {
    "id": "YbZEeMCLTgVl"
   },
   "source": [
    "**36. Implement a function to calculate the product of all elements in a list.**"
   ]
  },
  {
   "cell_type": "code",
   "execution_count": 47,
   "metadata": {
    "colab": {
     "base_uri": "https://localhost:8080/"
    },
    "id": "y3p1U5gQUN1u",
    "outputId": "12eb7f93-f00b-441d-a08e-f947aa336cef"
   },
   "outputs": [
    {
     "name": "stdout",
     "output_type": "stream",
     "text": [
      "120\n"
     ]
    }
   ],
   "source": [
    "def listProduct(a):\n",
    "    p = 1\n",
    "    for ele in a:\n",
    "        p *= ele\n",
    "    return p\n",
    "\n",
    "print(listProduct([5, 4, 3, 2, 1]))"
   ]
  },
  {
   "cell_type": "markdown",
   "metadata": {
    "id": "3Cx4iKyiTjNl"
   },
   "source": [
    "**37. Write a Python program to reverse the order of words in a sentence while preserving the word order.**"
   ]
  },
  {
   "cell_type": "code",
   "execution_count": 48,
   "metadata": {
    "colab": {
     "base_uri": "https://localhost:8080/"
    },
    "id": "amEEd39BUOQq",
    "outputId": "8ce4768e-5261-447a-d50e-c843b2e04d70"
   },
   "outputs": [
    {
     "name": "stdout",
     "output_type": "stream",
     "text": [
      "vowels containing string a is This\n"
     ]
    }
   ],
   "source": [
    "def wordReverse(a):\n",
    "    lst = a.split(\" \")\n",
    "    lst= lst[::-1]\n",
    "    return \" \".join(lst)\n",
    "\n",
    "print(wordReverse(\"This is a string containing vowels\"))"
   ]
  },
  {
   "cell_type": "markdown",
   "metadata": {
    "id": "zd9TJmC-TkQB"
   },
   "source": [
    "**38. Implement a function to find the missing number in a given list of consecutive numbers.**"
   ]
  },
  {
   "cell_type": "code",
   "execution_count": 49,
   "metadata": {
    "colab": {
     "base_uri": "https://localhost:8080/"
    },
    "id": "v77pyEwLUPRj",
    "outputId": "8ec1ffce-299c-4ea9-8cdf-035a55687329"
   },
   "outputs": [
    {
     "name": "stdout",
     "output_type": "stream",
     "text": [
      "3\n"
     ]
    }
   ],
   "source": [
    "def missingNo(a):\n",
    "    n = len(a)\n",
    "    i, total = 0, 1\n",
    "\n",
    "    for i in range(2, n + 2):\n",
    "        total += i\n",
    "        total -= a[i - 2]\n",
    "    return total\n",
    "\n",
    "print(missingNo([1, 2, 4, 5]))"
   ]
  },
  {
   "cell_type": "markdown",
   "metadata": {
    "id": "_agOjQQsTlJZ"
   },
   "source": [
    "**39. Write a program to find the sum of digits of a given number.**"
   ]
  },
  {
   "cell_type": "code",
   "execution_count": 50,
   "metadata": {
    "colab": {
     "base_uri": "https://localhost:8080/"
    },
    "id": "eHyh5AtvUR7e",
    "outputId": "9bb8944f-0b0e-4804-f249-1b8325c982a2"
   },
   "outputs": [
    {
     "name": "stdout",
     "output_type": "stream",
     "text": [
      "12\n"
     ]
    }
   ],
   "source": [
    "def digitSum(a):\n",
    "    m = str(a)\n",
    "    s = 0\n",
    "    for ele in m:\n",
    "        s += int(ele)\n",
    "    return s\n",
    "\n",
    "print(digitSum(543))"
   ]
  },
  {
   "cell_type": "markdown",
   "metadata": {
    "id": "f2gmi-CgTmJv"
   },
   "source": [
    "**40. Implement a function to check if a given string is a valid palindrome considering case sensitivity.**"
   ]
  },
  {
   "cell_type": "code",
   "execution_count": 51,
   "metadata": {
    "colab": {
     "base_uri": "https://localhost:8080/"
    },
    "id": "_kSU6BfjUSyn",
    "outputId": "3bbcdc13-da95-4cc1-870d-cb1c63efe63e"
   },
   "outputs": [
    {
     "name": "stdout",
     "output_type": "stream",
     "text": [
      "True\n"
     ]
    }
   ],
   "source": [
    "def isPalindrome(a):\n",
    "    a = a.lower()\n",
    "    return a==a[::-1]\n",
    "\n",
    "print(isPalindrome(\"RePaper\"))"
   ]
  },
  {
   "cell_type": "markdown",
   "metadata": {
    "id": "gGdsTC4STnG4"
   },
   "source": [
    "**41. Write a Python program to find the smallest missing positive integer in a list.**"
   ]
  },
  {
   "cell_type": "code",
   "execution_count": 52,
   "metadata": {
    "colab": {
     "base_uri": "https://localhost:8080/"
    },
    "id": "iZWCGsQAUTQV",
    "outputId": "301ddc2e-06cf-4a20-a931-f6136da99140"
   },
   "outputs": [
    {
     "name": "stdout",
     "output_type": "stream",
     "text": [
      "2\n"
     ]
    }
   ],
   "source": [
    "def firstMissingPositive(arr):\n",
    "    n = len(arr)\n",
    "    for i in range(n):\n",
    "        while (arr[i] >= 1 and arr[i] <= n and arr[i] != arr[arr[i] - 1]):\n",
    "            temp = arr[i]\n",
    "            arr[i] = arr[arr[i] - 1]\n",
    "            arr[temp - 1] = temp\n",
    "\n",
    "    for i in range(n):\n",
    "        if (arr[i] != i + 1):\n",
    "            return i + 1\n",
    "\n",
    "    return n + 1\n",
    "\n",
    "print(firstMissingPositive([0, 5, 1, -7, -20]))"
   ]
  },
  {
   "cell_type": "markdown",
   "metadata": {
    "id": "DZsl8dL5ToVf"
   },
   "source": [
    "**42. Implement a function to find the longest palindrome substring in a given string.**"
   ]
  },
  {
   "cell_type": "code",
   "execution_count": 53,
   "metadata": {
    "colab": {
     "base_uri": "https://localhost:8080/"
    },
    "id": "LertjWpGUTrw",
    "outputId": "a23412ff-91a8-4000-df51-277a520be5a6"
   },
   "outputs": [
    {
     "name": "stdout",
     "output_type": "stream",
     "text": [
      "bb\n",
      "racecar\n",
      "rotator\n"
     ]
    }
   ],
   "source": [
    "def longestPalindromeSubstrig(a):\n",
    "    longest = \"\"\n",
    "    n = len(a)\n",
    "    for i in range(n):\n",
    "        for j in range(i+1, n+1):\n",
    "            word = a[i:j]\n",
    "            if word == word[::-1]:\n",
    "                if len(word)>len(longest):\n",
    "                    longest= word\n",
    "    return longest\n",
    "\n",
    "print(longestPalindromeSubstrig(\"wubbalubbadubdub\"))\n",
    "print(longestPalindromeSubstrig(\"thisisaracecar\"))\n",
    "print(longestPalindromeSubstrig(\"rotator\"))"
   ]
  },
  {
   "cell_type": "markdown",
   "metadata": {
    "id": "yxMQOjD-Tpnu"
   },
   "source": [
    "**43. Write a program to find the number of occurrences of a given element in a list.**"
   ]
  },
  {
   "cell_type": "code",
   "execution_count": 54,
   "metadata": {
    "colab": {
     "base_uri": "https://localhost:8080/"
    },
    "id": "nOn6deZlUUTj",
    "outputId": "dfdb4479-8ef9-4db7-c1ac-5d5f5ff0dcb7"
   },
   "outputs": [
    {
     "name": "stdout",
     "output_type": "stream",
     "text": [
      "3\n",
      "2\n"
     ]
    }
   ],
   "source": [
    "def occCount(a, b):\n",
    "    cnt = 0\n",
    "    for ele in a:\n",
    "        if ele == b:\n",
    "            cnt += 1\n",
    "    return cnt\n",
    "\n",
    "print(occCount([5,4, 55, 1, 2, 4, 5, 3, 9, 4], 4))\n",
    "print(occCount([5,4, 55, 1, 2, 4, 5, 3, 9, 4], 5))"
   ]
  },
  {
   "cell_type": "markdown",
   "metadata": {
    "id": "94HIV3cHTrVL"
   },
   "source": [
    "**44. Implement a function to check if a given number is a perfect number.**"
   ]
  },
  {
   "cell_type": "code",
   "execution_count": 55,
   "metadata": {
    "colab": {
     "base_uri": "https://localhost:8080/"
    },
    "id": "OHegxJDTUUwJ",
    "outputId": "c8711ff6-b2ad-4064-a844-f564c4f67585"
   },
   "outputs": [
    {
     "name": "stdout",
     "output_type": "stream",
     "text": [
      "False\n",
      "True\n"
     ]
    }
   ],
   "source": [
    "def perfectNum(a):\n",
    "    s= 1\n",
    "    i = 2\n",
    "    while i * i <= a:\n",
    "        if a%i == 0:\n",
    "            s += i+ (a/i)\n",
    "        i += 1\n",
    "\n",
    "    return (True if s == a and a != 1 else False)\n",
    "\n",
    "print(perfectNum(2))\n",
    "print(perfectNum(28))"
   ]
  },
  {
   "cell_type": "markdown",
   "metadata": {
    "id": "gis1Z-uQTwRp"
   },
   "source": [
    "**45. Write a Python program to remove all duplicates from a string.**"
   ]
  },
  {
   "cell_type": "code",
   "execution_count": 56,
   "metadata": {
    "colab": {
     "base_uri": "https://localhost:8080/"
    },
    "id": "4MBHmQXdUWFh",
    "outputId": "816baa73-be86-46b3-bd3b-bd3c40343968"
   },
   "outputs": [
    {
     "name": "stdout",
     "output_type": "stream",
     "text": [
      "paHy\n"
     ]
    }
   ],
   "source": [
    "#Sol1\n",
    "def rmvDup(a):\n",
    "    s= set(list(a))\n",
    "    return \"\".join(s)\n",
    "\n",
    "\n",
    "print(rmvDup(\"Happy\"))"
   ]
  },
  {
   "cell_type": "code",
   "execution_count": 57,
   "metadata": {
    "colab": {
     "base_uri": "https://localhost:8080/"
    },
    "id": "nNSa9xwVxo0C",
    "outputId": "e6a72265-4ed4-4986-e062-b365412ce181"
   },
   "outputs": [
    {
     "name": "stdout",
     "output_type": "stream",
     "text": [
      "Hapy\n"
     ]
    }
   ],
   "source": [
    "#Sol2\n",
    "def rmvDup(a):\n",
    "    p=\"\"\n",
    "    for ele in a:\n",
    "        if ele not in p:\n",
    "            p = p+ele\n",
    "    return p\n",
    "\n",
    "print(rmvDup(\"Happy\"))"
   ]
  },
  {
   "cell_type": "markdown",
   "metadata": {
    "id": "-LUED5cnTw_R"
   },
   "source": [
    "**46. Implement a function to find the first missing positive**"
   ]
  },
  {
   "cell_type": "code",
   "execution_count": 58,
   "metadata": {
    "id": "KUcQJIzkUYjF"
   },
   "outputs": [],
   "source": [
    "# question incomplete"
   ]
  }
 ],
 "metadata": {
  "colab": {
   "provenance": []
  },
  "kernelspec": {
   "display_name": "Python 3 (ipykernel)",
   "language": "python",
   "name": "python3"
  },
  "language_info": {
   "codemirror_mode": {
    "name": "ipython",
    "version": 3
   },
   "file_extension": ".py",
   "mimetype": "text/x-python",
   "name": "python",
   "nbconvert_exporter": "python",
   "pygments_lexer": "ipython3",
   "version": "3.10.2"
  }
 },
 "nbformat": 4,
 "nbformat_minor": 1
}
