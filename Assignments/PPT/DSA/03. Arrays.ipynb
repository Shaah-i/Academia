{
 "cells": [
  {
   "cell_type": "markdown",
   "id": "e4c2a4d4",
   "metadata": {},
   "source": [
    "# 03. Arrays "
   ]
  },
  {
   "cell_type": "markdown",
   "id": "edb488cc",
   "metadata": {},
   "source": [
    "**Q1. Given an integer array nums of length n and an integer target, find three integers in nums such that the sum is closest to the target. Return the sum of the three integers. You may assume that each input would have exactly one solution.**\n",
    "\n",
    "Example 1:\n",
    "Input: nums = [-1,2,1,-4], target = 1\n",
    "Output: 2\n",
    "\n",
    "Explanation: The sum that is closest to the target is 2. (-1 + 2 + 1 = 2)."
   ]
  },
  {
   "cell_type": "code",
   "execution_count": 1,
   "id": "14b7df2e",
   "metadata": {},
   "outputs": [
    {
     "name": "stdout",
     "output_type": "stream",
     "text": [
      "2\n"
     ]
    }
   ],
   "source": [
    "def ThreeSumClosest(nums, target):\n",
    "    nums.sort()\n",
    "    closestSum = float('inf')\n",
    "    \n",
    "    for i in range(len(nums) - 2):\n",
    "        left = i + 1\n",
    "        right = len(nums) - 1\n",
    "        \n",
    "        while left < right:\n",
    "            currentSum = nums[i] + nums[left] + nums[right]\n",
    "            \n",
    "            if currentSum == target:\n",
    "                return target\n",
    "            \n",
    "            if abs(currentSum - target) < abs(closestSum - target):\n",
    "                closestSum = currentSum\n",
    "            \n",
    "            if currentSum < target:\n",
    "                left += 1\n",
    "            else:\n",
    "                right -= 1\n",
    "    \n",
    "    return closestSum\n",
    "\n",
    "print(ThreeSumClosest([-1, 2, 1, -4], 1))"
   ]
  },
  {
   "cell_type": "markdown",
   "id": "0b8db0ec",
   "metadata": {},
   "source": [
    "**Q2. Given an array nums of n integers, return an array of all the unique quadruplets [nums[a], nums[b], nums[c], nums[d]] such that:**\n",
    "\n",
    "           ● 0 <= a, b, c, d < n\n",
    "           ● a, b, c, and d are distinct.\n",
    "           ● nums[a] + nums[b] + nums[c] + nums[d] == target\n",
    "           \n",
    "You may return the answer in any order.\n",
    "\n",
    "Example 1:\n",
    "Input: nums = [1,0,-1,0,-2,2], target = 0\n",
    "Output: [[-2,-1,1,2],[-2,0,0,2],[-1,0,0,1]]"
   ]
  },
  {
   "cell_type": "code",
   "execution_count": 2,
   "id": "cedff6ac",
   "metadata": {},
   "outputs": [
    {
     "name": "stdout",
     "output_type": "stream",
     "text": [
      "[[-2, -1, 1, 2], [-2, 0, 0, 2], [-1, 0, 0, 1]]\n"
     ]
    }
   ],
   "source": [
    "def FourSum(nums, target):\n",
    "    nums.sort()\n",
    "    result = []\n",
    "    \n",
    "    for a in range(len(nums) - 3):\n",
    "        if a > 0 and nums[a] == nums[a-1]:\n",
    "            continue\n",
    "        \n",
    "        for b in range(a + 1, len(nums) - 2):\n",
    "            if b > a + 1 and nums[b] == nums[b-1]:\n",
    "                continue\n",
    "            \n",
    "            left = b + 1\n",
    "            right = len(nums) - 1\n",
    "            \n",
    "            while left < right:\n",
    "                currentSum = nums[a] + nums[b] + nums[left] + nums[right]\n",
    "                \n",
    "                if currentSum == target:\n",
    "                    result.append([nums[a], nums[b], nums[left], nums[right]])\n",
    "                    left += 1\n",
    "                    right -= 1\n",
    "                    \n",
    "                    while left < right and nums[left] == nums[left-1]:\n",
    "                        left += 1\n",
    "                    \n",
    "                    while left < right and nums[right] == nums[right+1]:\n",
    "                        right -= 1\n",
    "                \n",
    "                elif currentSum < target:\n",
    "                    left += 1\n",
    "                else:\n",
    "                    right -= 1\n",
    "    \n",
    "    return result\n",
    "\n",
    "print(FourSum([1, 0, -1, 0, -2, 2], 0))"
   ]
  },
  {
   "cell_type": "markdown",
   "id": "4d34e122",
   "metadata": {},
   "source": [
    "**Q3. A permutation of an array of integers is an arrangement of its members into a sequence or linear order.**\n",
    "\n",
    "For example, for arr = [1,2,3], the following are all the permutations of arr:\n",
    "[1,2,3], [1,3,2], [2, 1, 3], [2, 3, 1], [3,1,2], [3,2,1].\n",
    "\n",
    "The next permutation of an array of integers is the next lexicographically greater\n",
    "permutation of its integer. More formally, if all the permutations of the array are\n",
    "sorted in one container according to their lexicographical order, then the next permutation of that array is the permutation that follows it in the sorted container.\n",
    "\n",
    "If such an arrangement is not possible, the array must be rearranged as the\n",
    "lowest possible order (i.e., sorted in ascending order).\n",
    "\n",
    "● For example, the next permutation of arr = [1,2,3] is [1,3,2].\n",
    "\n",
    "● Similarly, the next permutation of arr = [2,3,1] is [3,1,2].\n",
    "\n",
    "● While the next permutation of arr = [3,2,1] is [1,2,3] because [3,2,1] does not\n",
    "have a lexicographical larger rearrangement.\n",
    "\n",
    "Given an array of integers nums, find the next permutation of nums.\n",
    "The replacement must be in place and use only constant extra memory.\n",
    "\n",
    "Example 1:\n",
    "Input: nums = [1,2,3]\n",
    "Output: [1,3,2]"
   ]
  },
  {
   "cell_type": "code",
   "execution_count": 3,
   "id": "1b494a07",
   "metadata": {},
   "outputs": [
    {
     "name": "stdout",
     "output_type": "stream",
     "text": [
      "[1, 3, 2]\n"
     ]
    }
   ],
   "source": [
    "def NextPermutation(nums):\n",
    "    i = len(nums) - 2\n",
    "    while i >= 0 and nums[i] >= nums[i + 1]:\n",
    "        i -= 1\n",
    "    \n",
    "    if i >= 0:\n",
    "        j = len(nums) - 1\n",
    "        while j >= 0 and nums[i] >= nums[j]:\n",
    "            j -= 1\n",
    "        nums[i], nums[j] = nums[j], nums[i]\n",
    "    \n",
    "    left = i + 1\n",
    "    right = len(nums) - 1\n",
    "    while left < right:\n",
    "        nums[left], nums[right] = nums[right], nums[left]\n",
    "        left += 1\n",
    "        right -= 1\n",
    "    return nums\n",
    "\n",
    "print(NextPermutation([1, 2, 3]))"
   ]
  },
  {
   "cell_type": "markdown",
   "id": "c14dd135",
   "metadata": {},
   "source": [
    "**Q4. Given a sorted array of distinct integers and a target value, return the index if the target is found. If not, return the index where it would be if it were inserted in order.**\n",
    "\n",
    "You must write an algorithm with O(log n) runtime complexity.\n",
    "\n",
    "Example 1:\n",
    "Input: nums = [1,3,5,6], target = 5\n",
    "Output: 2 "
   ]
  },
  {
   "cell_type": "code",
   "execution_count": 4,
   "id": "aae2423b",
   "metadata": {},
   "outputs": [
    {
     "name": "stdout",
     "output_type": "stream",
     "text": [
      "2\n",
      "1\n",
      "4\n"
     ]
    }
   ],
   "source": [
    "# time complexity of O(n)\n",
    "def SearchInsert(nums, target):\n",
    "    for i in range(len(nums)):\n",
    "        if nums[i] == target:\n",
    "            return i\n",
    "        if nums[i] > target:\n",
    "            return i\n",
    "    return i+1\n",
    "print(SearchInsert([1, 3, 5, 6], 5))\n",
    "print(SearchInsert([1, 3, 5, 6], 2))\n",
    "print(SearchInsert([1, 3, 5, 6], 7))"
   ]
  },
  {
   "cell_type": "code",
   "execution_count": 5,
   "id": "143fbbea",
   "metadata": {},
   "outputs": [
    {
     "name": "stdout",
     "output_type": "stream",
     "text": [
      "2\n",
      "1\n",
      "4\n"
     ]
    }
   ],
   "source": [
    "# time complexity of O(log n)\n",
    "def SearchInsert(nums, target):\n",
    "    l = 0\n",
    "    r = len(nums) - 1\n",
    "    \n",
    "    while l <= r:\n",
    "        m = (l + r) // 2\n",
    "        \n",
    "        if nums[m] == target:\n",
    "            return m\n",
    "        elif nums[m] < target:\n",
    "            l = m + 1\n",
    "        else:\n",
    "            r = m - 1\n",
    "            \n",
    "    return l\n",
    "\n",
    "print(SearchInsert([1, 3, 5, 6], 5))\n",
    "print(SearchInsert([1, 3, 5, 6], 2))\n",
    "print(SearchInsert([1, 3, 5, 6], 7))"
   ]
  },
  {
   "cell_type": "markdown",
   "id": "47e0bbbc",
   "metadata": {},
   "source": [
    "**Q5. You are given a large integer represented as an integer array digits, where each digits[i] is the ith digit of the integer. The digits are ordered from most significant to least significant in left-to-right order. The large integer does not contain any leading 0's.**\n",
    "\n",
    "Increment the large integer by one and return the resulting array of digits.\n",
    "\n",
    "Example 1:\n",
    "Input: digits = [1,2,3]\n",
    "Output: [1,2,4]\n",
    "\n",
    "Explanation: The array represents the integer 123.\n",
    "Incrementing by one gives 123 + 1 = 124.\n",
    "Thus, the result should be [1,2,4]."
   ]
  },
  {
   "cell_type": "code",
   "execution_count": 6,
   "id": "61e13948",
   "metadata": {},
   "outputs": [
    {
     "name": "stdout",
     "output_type": "stream",
     "text": [
      "[1, 2, 4]\n"
     ]
    }
   ],
   "source": [
    "def AddOne(digits):\n",
    "    for i in range(len(digits)-1, -1, -1):\n",
    "        if  digits[i] < 9: \n",
    "            digits[i] += 1\n",
    "            return digits\n",
    "        digits[i] = 0\n",
    "    digits.insert(0, 1)\n",
    "    return digits\n",
    "\n",
    "print(AddOne([1, 2, 3]))"
   ]
  },
  {
   "cell_type": "markdown",
   "id": "a836699d",
   "metadata": {},
   "source": [
    "**Q6. Given a non-empty array of integers nums, every element appears twice except for one. Find that single one.**\n",
    "\n",
    "You must implement a solution with a linear runtime complexity and use only\n",
    "constant extra space.\n",
    "\n",
    "Example 1:\n",
    "Input: nums = [2,2,1]\n",
    "Output: 1"
   ]
  },
  {
   "cell_type": "code",
   "execution_count": 7,
   "id": "b202e594",
   "metadata": {},
   "outputs": [
    {
     "name": "stdout",
     "output_type": "stream",
     "text": [
      "1\n"
     ]
    }
   ],
   "source": [
    "def SingleNum(nums):\n",
    "    result = 0\n",
    "    for n in nums:\n",
    "        result ^= n\n",
    "    return result\n",
    "\n",
    "print(SingleNum([2,2,1]))"
   ]
  },
  {
   "cell_type": "markdown",
   "id": "beca2392",
   "metadata": {},
   "source": [
    "**Q7. You are given an inclusive range [lower, upper] and a sorted unique integer array nums, where all elements are within the inclusive range. A number x is considered missing if x is in the range [lower, upper] and x is not in nums.**\n",
    "\n",
    "Return the shortest sorted list of ranges that exactly covers all the missing\n",
    "numbers. That is, no element of nums is included in any of the ranges, and each\n",
    "missing number is covered by one of the ranges.\n",
    "\n",
    "Example 1:\n",
    "Input: nums = [0,1,3,50,75], lower = 0, upper = 99\n",
    "Output: [[2,2],[4,49],[51,74],[76,99]]\n",
    "\n",
    "Explanation: The ranges are:\n",
    "[2,2]\n",
    "[4,49]\n",
    "[51,74]\n",
    "[76,99]"
   ]
  },
  {
   "cell_type": "code",
   "execution_count": 8,
   "id": "d241bce9",
   "metadata": {},
   "outputs": [
    {
     "name": "stdout",
     "output_type": "stream",
     "text": [
      "[[2, 2], [4, 49], [51, 74], [76, 99]]\n"
     ]
    }
   ],
   "source": [
    "def MissingRange(nums, lower, upper):\n",
    "    result = []\n",
    "    start = lower\n",
    "\n",
    "    for num in nums:\n",
    "        if num == start:\n",
    "            start += 1\n",
    "        elif num > start:\n",
    "            result.append([start, num - 1])\n",
    "            start = num + 1\n",
    "\n",
    "    if start <= upper:\n",
    "        result.append([start, upper])\n",
    "\n",
    "    return result\n",
    "\n",
    "print(MissingRange([0, 1, 3, 50, 75], 0, 99))"
   ]
  },
  {
   "cell_type": "markdown",
   "id": "b39cc7aa",
   "metadata": {},
   "source": [
    "**Q8. Given an array of meeting time intervals where intervals[i] = [starti, endi], determine if a person could attend all meetings.**\n",
    "\n",
    "Example 1:\n",
    "Input: intervals = [[0,30],[5,10],[15,20]]\n",
    "Output: false "
   ]
  },
  {
   "cell_type": "code",
   "execution_count": 9,
   "id": "97353700",
   "metadata": {},
   "outputs": [
    {
     "name": "stdout",
     "output_type": "stream",
     "text": [
      "False\n"
     ]
    }
   ],
   "source": [
    "def AttendMeetings(intervals):\n",
    "    intervals.sort(key=lambda x: x[0])\n",
    "    \n",
    "    for i in range(1, len(intervals)):\n",
    "        if intervals[i][0] <= intervals[i-1][1]:\n",
    "            return False\n",
    "    \n",
    "    return True\n",
    "\n",
    "print(AttendMeetings( [[0, 30], [5, 10], [15, 20]]))"
   ]
  }
 ],
 "metadata": {
  "kernelspec": {
   "display_name": "Python 3 (ipykernel)",
   "language": "python",
   "name": "python3"
  },
  "language_info": {
   "codemirror_mode": {
    "name": "ipython",
    "version": 3
   },
   "file_extension": ".py",
   "mimetype": "text/x-python",
   "name": "python",
   "nbconvert_exporter": "python",
   "pygments_lexer": "ipython3",
   "version": "3.10.2"
  }
 },
 "nbformat": 4,
 "nbformat_minor": 5
}
