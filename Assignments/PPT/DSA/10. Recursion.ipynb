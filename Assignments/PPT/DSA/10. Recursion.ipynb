{
 "cells": [
  {
   "cell_type": "markdown",
   "id": "9313a8e5",
   "metadata": {},
   "source": [
    "# 10. Recursion"
   ]
  },
  {
   "cell_type": "markdown",
   "id": "782572ce",
   "metadata": {},
   "source": [
    "**Q1. Given an integer `n`, return `true` if it is a power of three. Otherwise, return `false`.\n",
    "An integer `n` is a power of three, if there exists an integer `x` such that `n == 3x`.**\n",
    "\n",
    "Example 1:\n",
    "Input: n = 27\n",
    "Output: true\n",
    "\n",
    "Explanation: 27 = 33\n",
    "\n",
    "Example 2:\n",
    "Input: n = 0\n",
    "Output: false\n",
    "\n",
    "Explanation: There is no x where 3x = 0.\n",
    "\n",
    "Example 3:\n",
    "Input: n = -1\n",
    "Output: false\n",
    "\n",
    "Explanation: There is no x where 3x = (-1)."
   ]
  },
  {
   "cell_type": "code",
   "execution_count": 4,
   "id": "aa5ce9c0",
   "metadata": {},
   "outputs": [
    {
     "name": "stdout",
     "output_type": "stream",
     "text": [
      "True\n",
      "False\n"
     ]
    }
   ],
   "source": [
    "def PowerOfThree(n):\n",
    " \n",
    "    if (n <= 0):\n",
    "        return False\n",
    "    if (n % 3 == 0):\n",
    "        return PowerOfThree(n // 3)\n",
    "    if (n == 1):\n",
    "        return True\n",
    "    return False\n",
    "\n",
    "print(PowerOfThree(27))\n",
    "print(PowerOfThree(0))"
   ]
  },
  {
   "cell_type": "markdown",
   "id": "662a3371",
   "metadata": {},
   "source": [
    "**Q2. You have a list `arr` of all integers in the range `[1, n]` sorted in a strictly increasing order. Apply the following algorithm on `arr`:**\n",
    "- Starting from left to right, remove the first number and every other number afterward until you reach the end of the list.\n",
    "- Repeat the previous step again, but this time from right to left, remove the rightmost number and every other number from the remaining numbers.\n",
    "- Keep repeating the steps again, alternating left to right and right to left, until a single number remains.\n",
    "\n",
    "Given the integer `n`, return the last number that remains in `arr`.\n",
    "\n",
    "Example 1:\n",
    "Input: n = 9\n",
    "Output: 6\n",
    "\n",
    "Explanation:\n",
    "arr = [1, 2,3, 4,5, 6,7, 8,9]\n",
    "arr = [2,4, 6,8]\n",
    "arr = [2, 6]\n",
    "arr = [6]\n",
    "\n",
    "Example 2:\n",
    "Input: n = 1\n",
    "Output: 1"
   ]
  },
  {
   "cell_type": "code",
   "execution_count": 10,
   "id": "cda71889",
   "metadata": {},
   "outputs": [
    {
     "name": "stdout",
     "output_type": "stream",
     "text": [
      "6\n",
      "1\n"
     ]
    }
   ],
   "source": [
    "def AlternatePopRecusion(n):\n",
    "    if n< 3:\n",
    "        return n\n",
    "    if n%2 == 1:\n",
    "        return AlternatePopRecusion(n-1)\n",
    "    elif n%4 == 2:\n",
    "        return 4*AlternatePopRecusion((n-2)//4)\n",
    "    else:\n",
    "        return 4*AlternatePopRecusion(n//4) - 2\n",
    "    \n",
    "print(AlternatePopRecusion(9))\n",
    "print(AlternatePopRecusion(1))"
   ]
  },
  {
   "cell_type": "markdown",
   "id": "33838c16",
   "metadata": {},
   "source": [
    "**Q3. Given a set represented as a string, write a recursive code to print all subsets of it. The subsets can be printed in any order.**\n",
    "\n",
    "Example 1:\n",
    "Input :  set = “abc”\n",
    "Output : { “”, “a”, “b”, “c”, “ab”, “ac”, “bc”, “abc”}\n",
    "\n",
    "Example 2:\n",
    "Input : set = “abcd”\n",
    "Output : { “”, “a” ,”ab” ,”abc” ,”abcd”, “abd” ,”ac” ,”acd”, “ad” ,”b”, “bc” ,”bcd” ,”bd” ,”c” ,”cd” ,”d” }"
   ]
  },
  {
   "cell_type": "code",
   "execution_count": 45,
   "id": "7e06ae41",
   "metadata": {},
   "outputs": [
    {
     "name": "stdout",
     "output_type": "stream",
     "text": [
      "{'', 'bc', 'ac', 'ab', 'a', 'c', 'b', 'abc'}\n",
      "{'', 'bc', 'abcd', 'abd', 'a', 'bcd', 'cd', 'bd', 'c', 'ac', 'acd', 'ab', 'b', 'abc', 'd', 'ad'}\n"
     ]
    }
   ],
   "source": [
    "def Subset(ip):\n",
    "    if len(ip) == 0:\n",
    "        return {\"\"}\n",
    "\n",
    "    first = ip[0]\n",
    "    subset = Subset(ip[1:])\n",
    "    op = set(subset)\n",
    "\n",
    "    for elem in subset:\n",
    "        op.add(first + elem)\n",
    "\n",
    "    return op\n",
    "\n",
    "print(Subset(\"abc\"))\n",
    "print(Subset(\"abcd\"))"
   ]
  },
  {
   "cell_type": "markdown",
   "id": "11d773e7",
   "metadata": {},
   "source": [
    "**Q4. Given a string calculate length of the string using recursion.**\n",
    "\n",
    "Examples:\n",
    "Input : str = \"abcd\"\n",
    "Output :4\n",
    "\n",
    "Input : str = \"GEEKSFORGEEKS\"\n",
    "Output :13"
   ]
  },
  {
   "cell_type": "code",
   "execution_count": 46,
   "id": "e44544c5",
   "metadata": {},
   "outputs": [
    {
     "name": "stdout",
     "output_type": "stream",
     "text": [
      "4\n",
      "13\n"
     ]
    }
   ],
   "source": [
    "def LenOfStrRecusrsion(ip):\n",
    "    if ip==\"\":\n",
    "        return 0\n",
    "    return 1+LenOfStrRecusrsion(ip[1:])\n",
    "\n",
    "print(LenOfStrRecusrsion(\"abcd\"))\n",
    "print(LenOfStrRecusrsion(\"GEEKSFORGEEKS\"))"
   ]
  },
  {
   "cell_type": "markdown",
   "id": "3d23b0a4",
   "metadata": {},
   "source": [
    "**Q5. We are given a string S, we need to find count of all contiguous substrings starting and ending with same character.**\n",
    "\n",
    "Examples :\n",
    "Input  : S = \"abcab\"\n",
    "Output : 7\n",
    "There are 15 substrings of \"abcab\" - a, ab, abc, abca, abcab, b, bc, bca, bcab, c, ca, cab, a, ab, b\n",
    "Out of the above substrings, there are 7 substrings : a, abca, b, bcab, c, a and b.\n",
    "\n",
    "Input  : S = \"aba\"\n",
    "Output : 4\n",
    "The substrings are a, b, a and aba"
   ]
  },
  {
   "cell_type": "code",
   "execution_count": 49,
   "id": "cfdda467",
   "metadata": {},
   "outputs": [
    {
     "name": "stdout",
     "output_type": "stream",
     "text": [
      "7\n",
      "4\n"
     ]
    }
   ],
   "source": [
    "def Substrings(S):\n",
    "    count = 0\n",
    "\n",
    "    for i in range(len(S)):\n",
    "        for j in range(i, len(S)):\n",
    "            if S[i] == S[j]:\n",
    "                count += 1\n",
    "\n",
    "    return count\n",
    "\n",
    "\n",
    "print(Substrings(\"abcab\"))\n",
    "print(Substrings(\"aba\"))"
   ]
  },
  {
   "cell_type": "markdown",
   "id": "a11e6ea7",
   "metadata": {},
   "source": [
    "**Q6. The [tower of Hanoi](https://en.wikipedia.org/wiki/Tower_of_Hanoi) is a famous puzzle where we have three rods and N disks. The objective of the puzzle is to move the entire stack to another rod. You are given the number of discs N. Initially, these discs are in the rod 1. You need to print all the steps of discs movement so that all the discs reach the 3rd rod. Also, you need to find the total moves.Note: The discs are arranged such that the top disc is numbered 1 and the bottom-most disc is numbered N. Also, all the discs have different sizes and a bigger disc cannot be put on the top of a smaller disc. Refer the provided link to get a better clarity about the puzzle.**\n",
    "\n",
    "Example 1:\n",
    "Input:\n",
    "N = 2\n",
    "Output:\n",
    "move disk 1 from rod 1 to rod 2\n",
    "move disk 2 from rod 1 to rod 3\n",
    "move disk 1 from rod 2 to rod 3\n",
    "3\n",
    "\n",
    "Explanation:For N=2 , steps will be\n",
    "as follows in the example and total\n",
    "3 steps will be taken.\n",
    "\n",
    "Example 2:\n",
    "Input:\n",
    "N = 3\n",
    "Output:\n",
    "move disk 1 from rod 1 to rod 3\n",
    "move disk 2 from rod 1 to rod 2\n",
    "move disk 1 from rod 3 to rod 2\n",
    "move disk 3 from rod 1 to rod 3\n",
    "move disk 1 from rod 2 to rod 1\n",
    "move disk 2 from rod 2 to rod 3\n",
    "move disk 1 from rod 1 to rod 3\n",
    "7\n",
    "\n",
    "Explanation:For N=3 , steps will be\n",
    "as follows in the example and total\n",
    "7 steps will be taken."
   ]
  },
  {
   "cell_type": "code",
   "execution_count": 55,
   "id": "7100950c",
   "metadata": {},
   "outputs": [
    {
     "name": "stdout",
     "output_type": "stream",
     "text": [
      "move disk 1 from rod 1 to rod 2\n",
      "move disk 2 from rod 1 to rod 3\n",
      "move disk 1 from rod 2 to rod 3\n",
      "3\n",
      "move disk 1 from rod 1 to rod 3\n",
      "move disk 2 from rod 1 to rod 2\n",
      "move disk 1 from rod 3 to rod 2\n",
      "move disk 3 from rod 1 to rod 3\n",
      "move disk 1 from rod 2 to rod 1\n",
      "move disk 2 from rod 2 to rod 3\n",
      "move disk 1 from rod 1 to rod 3\n",
      "7\n"
     ]
    }
   ],
   "source": [
    "def TowerOfHanoi(N, source, destination, auxiliary):\n",
    "    if N == 1:\n",
    "        print(\"move disk 1 from rod\", source, \"to rod\", destination)\n",
    "        return 1\n",
    "\n",
    "    moves = 0\n",
    "    moves += TowerOfHanoi(N-1, source, auxiliary, destination)\n",
    "    print(\"move disk\", N, \"from rod\", source, \"to rod\", destination)\n",
    "    moves += 1\n",
    "    moves += TowerOfHanoi(N-1, auxiliary, destination, source)\n",
    "\n",
    "    return moves\n",
    "\n",
    "print(TowerOfHanoi(2, 1, 3, 2))\n",
    "print(TowerOfHanoi(3, 1, 3, 2))"
   ]
  },
  {
   "cell_type": "markdown",
   "id": "a449326a",
   "metadata": {},
   "source": [
    "**Q7. Given a string str, the task is to print all the permutations of str. A permutation is an arrangement of all or part of a set of objects, with regard to the order of the arrangement. For instance, the words ‘bat’ and ‘tab’ represents two distinct permutation (or arrangements) of a similar three letter word.**\n",
    "\n",
    "Examples:\n",
    "Input: str = “cd”\n",
    "Output: cd dc\n",
    "\n",
    "Input: str = “abb”\n",
    "Output: abb abb bab bba bab bba"
   ]
  },
  {
   "cell_type": "code",
   "execution_count": 65,
   "id": "8bde02ab",
   "metadata": {},
   "outputs": [
    {
     "name": "stdout",
     "output_type": "stream",
     "text": [
      "['cd', 'dc']\n",
      "['abb', 'abb', 'bab', 'bba', 'bab', 'bba']\n"
     ]
    }
   ],
   "source": [
    "def Permute(s):\n",
    "    if len(s) == 1:\n",
    "        return [s]\n",
    "    else:\n",
    "        perm = []\n",
    "        for i, ch in enumerate(s):\n",
    "            for p in Permute(s[:i] + s[i+1:]):\n",
    "                perm.append(ch + p)\n",
    "        return perm\n",
    "print(Permute(\"cd\"))\n",
    "print(Permute(\"abb\"))"
   ]
  },
  {
   "cell_type": "code",
   "execution_count": 61,
   "id": "798f0e17",
   "metadata": {},
   "outputs": [
    {
     "data": {
      "text/plain": [
       "3"
      ]
     },
     "execution_count": 61,
     "metadata": {},
     "output_type": "execute_result"
    }
   ],
   "source": [
    "len(\"abc\")"
   ]
  },
  {
   "cell_type": "markdown",
   "id": "2189bda3",
   "metadata": {},
   "source": [
    "**Q8. Given a string, count total number of consonants in it. A consonant is an English alphabet character that is not vowel (a, e, i, o and u). Examples of constants are b, c, d, f, and g.**\n",
    "\n",
    "Examples :\n",
    "Input : abc de\n",
    "Output : 3\n",
    "There are three consonants b, c and d.\n",
    "\n",
    "Input : geeksforgeeks portal\n",
    "Output : 12"
   ]
  },
  {
   "cell_type": "code",
   "execution_count": 19,
   "id": "cac9f3c0",
   "metadata": {},
   "outputs": [
    {
     "name": "stdout",
     "output_type": "stream",
     "text": [
      "3\n",
      "12\n"
     ]
    }
   ],
   "source": [
    "def Consonants(ch):\n",
    "    ch= ch.lower()\n",
    "    return  ch not in ['a', 'e', 'i', 'o', 'u'] and ord(ch) >97 and ord(ch) < 122\n",
    "\n",
    "def ConsonantCnt(s):\n",
    "    n= len(s)\n",
    "    if n== 1:\n",
    "        return Consonants(s[0])\n",
    "    return ConsonantCnt(s[:-1]) + Consonants(s[n-1])\n",
    "\n",
    "print(ConsonantCnt(\"abc de\"))\n",
    "print(ConsonantCnt(\"geeksforgeeks portal\"))"
   ]
  },
  {
   "cell_type": "code",
   "execution_count": null,
   "id": "170cb789",
   "metadata": {},
   "outputs": [],
   "source": []
  }
 ],
 "metadata": {
  "kernelspec": {
   "display_name": "Python 3 (ipykernel)",
   "language": "python",
   "name": "python3"
  },
  "language_info": {
   "codemirror_mode": {
    "name": "ipython",
    "version": 3
   },
   "file_extension": ".py",
   "mimetype": "text/x-python",
   "name": "python",
   "nbconvert_exporter": "python",
   "pygments_lexer": "ipython3",
   "version": "3.10.2"
  }
 },
 "nbformat": 4,
 "nbformat_minor": 5
}
