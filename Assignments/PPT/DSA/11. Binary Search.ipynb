{
 "cells": [
  {
   "cell_type": "markdown",
   "id": "913a99a6",
   "metadata": {},
   "source": [
    "# 11. Binary Search"
   ]
  },
  {
   "cell_type": "markdown",
   "id": "ebda1fb5",
   "metadata": {},
   "source": [
    "**Q1. Given a non-negative integer `x`, return the square root of `x` rounded down to the nearest integer. The returned integer should be non-negative as well.\n",
    "You must not use any built-in exponent function or operator.**\n",
    "- For example, do not use `pow(x, 0.5)` in c++ or `x  0.5` in python.\n",
    "\n",
    "Example 1:\n",
    "Input: x = 4\n",
    "Output: 2\n",
    "\n",
    "Explanation: The square root of 4 is 2, so we return 2.\n",
    "\n",
    "Example 2:\n",
    "Input: x = 8\n",
    "Output: 2\n",
    "\n",
    "Explanation: The square root of 8 is 2.82842..., and since we round it down to the nearest integer, 2 is returned."
   ]
  },
  {
   "cell_type": "code",
   "execution_count": 1,
   "id": "3a4322c9",
   "metadata": {},
   "outputs": [
    {
     "name": "stdout",
     "output_type": "stream",
     "text": [
      "3\n"
     ]
    }
   ],
   "source": [
    "def squareRoot(x):\n",
    "    \n",
    "    if (x == 0 or x == 1):\n",
    "        return x\n",
    "    \n",
    "    i = 1\n",
    "    result = 1\n",
    "    while (result <= x):\n",
    "        i += 1\n",
    "        result = i * i\n",
    " \n",
    "    return i - 1\n",
    "\n",
    "\n",
    "print(squareRoot(11))"
   ]
  },
  {
   "cell_type": "markdown",
   "id": "81bfac8e",
   "metadata": {},
   "source": [
    "**Q2. A peak element is an element that is strictly greater than its neighbors.\n",
    "Given a 0-indexed integer array `nums`, find a peak element, and return its index. If the array contains multiple peaks, return the index to any of the peaks.\n",
    "You may imagine that `nums[-1] = nums[n] = -∞`. In other words, an element is always considered to be strictly greater than a neighbor that is outside the array.\n",
    "You must write an algorithm that runs in `O(log n)` time.**\n",
    "\n",
    "Example 1:\n",
    "Input: nums = [1,2,3,1]\n",
    "Output: 2\n",
    "\n",
    "Explanation: 3 is a peak element and your function should return the index number 2.\n",
    "\n",
    "Example 2:\n",
    "Input: nums = [1,2,1,3,5,6,4]\n",
    "Output: 5\n",
    "\n",
    "Explanation: Your function can return either index number 1 where the peak element is 2, or index number 5 where the peak element is 6."
   ]
  },
  {
   "cell_type": "code",
   "execution_count": 2,
   "id": "ab8bdfd7",
   "metadata": {},
   "outputs": [
    {
     "name": "stdout",
     "output_type": "stream",
     "text": [
      "1\n"
     ]
    }
   ],
   "source": [
    "def peakSearch(arr, n) :\n",
    "    \n",
    "    if (n == 1) :\n",
    "        return 0\n",
    "    if (arr[0] >= arr[1]) :\n",
    "        return 0\n",
    "    if (arr[n - 1] >= arr[n - 2]) :\n",
    "        return n - 1\n",
    "  \n",
    "    for i in range(1, n - 1) :\n",
    "  \n",
    "        if (arr[i] >= arr[i - 1] and arr[i] >= arr[i + 1]) :\n",
    "            return i\n",
    "\n",
    "arr = [ 1,2,1,3,5,6,4]\n",
    "n = len(arr)\n",
    "print(peakSearch(arr, n))"
   ]
  },
  {
   "cell_type": "markdown",
   "id": "ad87a121",
   "metadata": {},
   "source": [
    "**Q3. Given an array `nums` containing `n` distinct numbers in the range `[0, n]`, return the only number in the range that is missing from the array.**\n",
    "\n",
    "Example 1:\n",
    "Input: nums = [3,0,1]\n",
    "Output: 2\n",
    "\n",
    "Explanation: n = 3 since there are 3 numbers, so all numbers are in the range [0,3]. 2 is the missing number in the range since it does not appear in nums.\n",
    "\n",
    "Example 2:\n",
    "Input: nums = [0,1]\n",
    "Output: 2\n",
    "\n",
    "Explanation: n = 2 since there are 2 numbers, so all numbers are in the range [0,2]. 2 is the missing number in the range since it does not appear in nums.\n",
    "\n",
    "Example 3:\n",
    "Input: nums = [9,6,4,2,3,5,7,0,1]\n",
    "Output: 8\n",
    "\n",
    "Explanation: n = 9 since there are 9 numbers, so all numbers are in the range [0,9]. 8 is the missing number in the range since it does not appear in nums."
   ]
  },
  {
   "cell_type": "code",
   "execution_count": 3,
   "id": "2c252aae",
   "metadata": {},
   "outputs": [
    {
     "name": "stdout",
     "output_type": "stream",
     "text": [
      "8\n"
     ]
    }
   ],
   "source": [
    "def missingSearch(arr, N):\n",
    "    temp = [0] * (N+1)\n",
    "    for i in range(0, N):\n",
    "        temp[arr[i] - 1] = 1\n",
    "\n",
    "    for i in range(0, N+1):\n",
    "        if(temp[i] == 0):\n",
    "            ans = i + 1\n",
    "\n",
    "    print(ans)\n",
    "\n",
    "arr = [9,6,4,2,3,5,7,0,1]\n",
    "N = len(arr)\n",
    "\n",
    "missingSearch(arr, N)"
   ]
  },
  {
   "cell_type": "markdown",
   "id": "49169779",
   "metadata": {},
   "source": [
    "**Q4. Given an array of integers `nums` containing `n + 1` integers where each integer is in the range `[1, n]` inclusive.\n",
    "There is only one repeated number in `nums`, return this repeated number.\n",
    "You must solve the problem without modifying the array `nums` and uses only constant extra space.**\n",
    "\n",
    "Example 1:\n",
    "Input: nums = [1,3,4,2,2]\n",
    "Output: 2\n",
    "\n",
    "Example 2:\n",
    "Input: nums = [3,1,3,4,2]\n",
    "Output: 3"
   ]
  },
  {
   "cell_type": "code",
   "execution_count": 4,
   "id": "743a8e20",
   "metadata": {},
   "outputs": [
    {
     "name": "stdout",
     "output_type": "stream",
     "text": [
      "2  \n"
     ]
    }
   ],
   "source": [
    "nums = [1,3,4,2,2]\n",
    "arr_size = len(nums)\n",
    "for i in range(arr_size):\n",
    "    x = nums[i] % arr_size\n",
    "    nums[x] = nums[x] + arr_size\n",
    "\n",
    "for i in range(arr_size):\n",
    "    if (nums[i] >= arr_size*2):\n",
    "        print(i, \" \")"
   ]
  },
  {
   "cell_type": "markdown",
   "id": "0b2e0f9a",
   "metadata": {},
   "source": [
    "**Q5. Given two integer arrays `nums1` and `nums2`, return an array of their intersection. Each element in the result must be unique and you may return the result in any order.**\n",
    "\n",
    "Example 1:\n",
    "Input: nums1 = [1,2,2,1], nums2 = [2,2]\n",
    "Output: [2]\n",
    "\n",
    "Example 2:\n",
    "Input: nums1 = [4,9,5], nums2 = [9,4,9,8,4]\n",
    "Output: [9,4]\n",
    "\n",
    "Explanation: [4,9] is also accepted."
   ]
  },
  {
   "cell_type": "code",
   "execution_count": 5,
   "id": "a676cd4b",
   "metadata": {},
   "outputs": [
    {
     "data": {
      "text/plain": [
       "[2]"
      ]
     },
     "execution_count": 5,
     "metadata": {},
     "output_type": "execute_result"
    }
   ],
   "source": [
    "def intersection(a,b):\n",
    "    n= len(a)\n",
    "    m= len(b)\n",
    "    \n",
    "    s=set()\n",
    "    \n",
    "    if n>m:\n",
    "        larger= a\n",
    "        smaller= b\n",
    "    else:\n",
    "        larger= b\n",
    "        smaller= a\n",
    "        \n",
    "    for i in smaller:\n",
    "        if i in larger:\n",
    "            s.add(i)\n",
    "            \n",
    "    return list(s)\n",
    "\n",
    "intersection([1,2,2,1], [2,2])"
   ]
  },
  {
   "cell_type": "markdown",
   "id": "26e9c919",
   "metadata": {},
   "source": [
    "**Q6. Suppose an array of length `n` sorted in ascending order is rotated between `1` and `n` times. For example, the array `nums = [0,1,2,4,5,6,7]` might become:**\n",
    "- `[4,5,6,7,0,1,2]` if it was rotated `4` times.\n",
    "- `[0,1,2,4,5,6,7]` if it was rotated `7` times.\n",
    "\n",
    "Notice that rotating an array `[a[0], a[1], a[2], ..., a[n-1]]` 1 time results in the array `[a[n-1], a[0], a[1], a[2], ..., a[n-2]]`.\n",
    "Given the sorted rotated array `nums` of unique elements, return the minimum element of this array.\n",
    "You must write an algorithm that runs in `O(log n) time.`\n",
    "\n",
    "Example 1:\n",
    "Input: nums = [3,4,5,1,2]\n",
    "Output: 1\n",
    "\n",
    "Explanation: The original array was [1,2,3,4,5] rotated 3 times.\n",
    "\n",
    "Example 2:\n",
    "Input: nums = [4,5,6,7,0,1,2]\n",
    "Output: 0\n",
    "\n",
    "Explanation: The original array was [0,1,2,4,5,6,7] and it was rotated 4 times.\n",
    "\n",
    "Example 3:\n",
    "Input: nums = [11,13,15,17]\n",
    "Output: 11\n",
    "\n",
    "Explanation: The original array was [11,13,15,17] and it was rotated 4 times."
   ]
  },
  {
   "cell_type": "code",
   "execution_count": 6,
   "id": "189848e1",
   "metadata": {},
   "outputs": [
    {
     "name": "stdout",
     "output_type": "stream",
     "text": [
      "1\n"
     ]
    }
   ],
   "source": [
    "def Minimum(arr):\n",
    "     \n",
    "    N = len(arr)\n",
    "    min_ele = arr[0];\n",
    "\n",
    "    for i in range(N) :\n",
    "        if arr[i] < min_ele :\n",
    "            min_ele = arr[i]\n",
    " \n",
    "    return min_ele;\n",
    " \n",
    "arr = [5, 6, 1, 2, 3, 4]\n",
    " \n",
    "print(Minimum(arr))\n",
    " "
   ]
  },
  {
   "cell_type": "markdown",
   "id": "0be5eff4",
   "metadata": {},
   "source": [
    "**Q7. Given an array of integers `nums` sorted in non-decreasing order, find the starting and ending position of a given `target` value.\n",
    "If `target` is not found in the array, return `[-1, -1]`.\n",
    "You must write an algorithm with `O(log n)` runtime complexity.**\n",
    "\n",
    "Example 1:\n",
    "Input: nums = [5,7,7,8,8,10], target = 8\n",
    "Output: [3,4]\n",
    "\n",
    "Example 2:\n",
    "Input: nums = [5,7,7,8,8,10], target = 6\n",
    "Output: [-1,-1]\n",
    "\n",
    "Example 3:\n",
    "Input: nums = [], target = 0\n",
    "Output: [-1,-1]"
   ]
  },
  {
   "cell_type": "code",
   "execution_count": 7,
   "id": "58505245",
   "metadata": {},
   "outputs": [
    {
     "data": {
      "text/plain": [
       "[3, 4]"
      ]
     },
     "execution_count": 7,
     "metadata": {},
     "output_type": "execute_result"
    }
   ],
   "source": [
    "def firstAndLast(arr, x):\n",
    "    n = len(arr)\n",
    "    first = -1\n",
    "    last = -1\n",
    "    for i in range(0, n):\n",
    "        if (x != arr[i]):\n",
    "            continue\n",
    "        if (first == -1):\n",
    "            first = i\n",
    "        last = i\n",
    "        \n",
    "    op = [first, last]\n",
    "    if (first != -1):\n",
    "        return op\n",
    "    else:\n",
    "        return [-1, -1]\n",
    " \n",
    " \n",
    "arr = [5,7,7,8,8,10]\n",
    "x = 8\n",
    "firstAndLast(arr, x)"
   ]
  },
  {
   "cell_type": "markdown",
   "id": "cad14b6a",
   "metadata": {},
   "source": [
    "**Q8. Given two integer arrays `nums1` and `nums2`, return an array of their intersection. Each element in the result must appear as many times as it shows in both arrays and you may return the result in any order.**\n",
    "\n",
    "Example 1:\n",
    "Input: nums1 = [1,2,2,1], nums2 = [2,2]\n",
    "Output: [2,2]\n",
    "\n",
    "Example 2:\n",
    "Input: nums1 = [4,9,5], nums2 = [9,4,9,8,4]\n",
    "Output: [4,9]\n",
    "\n",
    "Explanation: [9,4] is also accepted."
   ]
  },
  {
   "cell_type": "code",
   "execution_count": 8,
   "id": "5e1a9d10",
   "metadata": {},
   "outputs": [
    {
     "data": {
      "text/plain": [
       "[4, 9]"
      ]
     },
     "execution_count": 8,
     "metadata": {},
     "output_type": "execute_result"
    }
   ],
   "source": [
    "def intersection(a,b):\n",
    "    n= len(a)\n",
    "    m= len(b)\n",
    "    \n",
    "    s=list()\n",
    "    \n",
    "    if n>m:\n",
    "        larger= a\n",
    "        smaller= b\n",
    "    else:\n",
    "        larger= b\n",
    "        smaller= a\n",
    "        \n",
    "    for i in smaller:\n",
    "        if i in larger:\n",
    "            s.append(i)\n",
    "            \n",
    "    return s\n",
    "\n",
    "intersection([4,9,5 ], [9, 4, 9, 8, 4])"
   ]
  }
 ],
 "metadata": {
  "kernelspec": {
   "display_name": "Python 3 (ipykernel)",
   "language": "python",
   "name": "python3"
  },
  "language_info": {
   "codemirror_mode": {
    "name": "ipython",
    "version": 3
   },
   "file_extension": ".py",
   "mimetype": "text/x-python",
   "name": "python",
   "nbconvert_exporter": "python",
   "pygments_lexer": "ipython3",
   "version": "3.10.2"
  }
 },
 "nbformat": 4,
 "nbformat_minor": 5
}
