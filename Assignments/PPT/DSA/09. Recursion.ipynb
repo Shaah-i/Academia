{
 "cells": [
  {
   "cell_type": "markdown",
   "id": "10a52dd9",
   "metadata": {},
   "source": [
    "**Q1. Given an integer `n`, return `true` if it is a power of two. Otherwise, return `false`. An integer `n` is a power of two, if there exists an integer `x` such that `n == 2x`.**\n",
    "\n",
    "Example 1:\n",
    "Input: n = 1 \n",
    "Output: true\n",
    "\n",
    "Example 2:\n",
    "Input: n = 16 \n",
    "Output: true\n",
    "\n",
    "Example 3:\n",
    "Input: n = 3 \n",
    "Output: False"
   ]
  },
  {
   "cell_type": "code",
   "execution_count": 1,
   "id": "94fba7b5",
   "metadata": {},
   "outputs": [
    {
     "name": "stdout",
     "output_type": "stream",
     "text": [
      "True\n",
      "True\n",
      "False\n"
     ]
    }
   ],
   "source": [
    "def PowerOfTwo(n):\n",
    "    if n <= 0:\n",
    "        return False\n",
    "    return (n & (n - 1)) == 0\n",
    "\n",
    "print(PowerOfTwo(1)) \n",
    "print(PowerOfTwo(16)) \n",
    "print(PowerOfTwo(3)) "
   ]
  },
  {
   "cell_type": "markdown",
   "id": "c641ed5a",
   "metadata": {},
   "source": [
    "**Q2. Given a number n, find the sum of the first natural numbers.**\n",
    "\n",
    "Example 1:\n",
    "Input: n = 3 \n",
    "Output: 6\n",
    "\n",
    "Example 2:\n",
    "Input  : 5 \n",
    "Output : 15"
   ]
  },
  {
   "cell_type": "code",
   "execution_count": 2,
   "id": "122268d1",
   "metadata": {},
   "outputs": [
    {
     "name": "stdout",
     "output_type": "stream",
     "text": [
      "6\n",
      "15\n"
     ]
    }
   ],
   "source": [
    "def SumOfNaturalNumbers(n):\n",
    "    return (n * (n + 1)) // 2\n",
    "\n",
    "print(SumOfNaturalNumbers(3))  \n",
    "print(SumOfNaturalNumbers(5))  \n"
   ]
  },
  {
   "cell_type": "markdown",
   "id": "e7e2b814",
   "metadata": {},
   "source": [
    "**Q3 Given a positive integer, N. Find the factorial of N. **\n",
    "\n",
    "Example 1:\n",
    "Input: N = 5 \n",
    "Output: 120\n",
    "\n",
    "Example 2:\n",
    "Input: N = 4\n",
    "Output: 24"
   ]
  },
  {
   "cell_type": "code",
   "execution_count": 3,
   "id": "ad7ac25a",
   "metadata": {},
   "outputs": [
    {
     "name": "stdout",
     "output_type": "stream",
     "text": [
      "120\n",
      "24\n"
     ]
    }
   ],
   "source": [
    "def Factorial(N):\n",
    "    factorial = 1\n",
    "    for i in range(1, N + 1):\n",
    "        factorial *= i\n",
    "    return factorial\n",
    "\n",
    "print(Factorial(5))\n",
    "print(Factorial(4))"
   ]
  },
  {
   "cell_type": "markdown",
   "id": "ec767c7d",
   "metadata": {},
   "source": [
    "**Q4. Given a number N and a power P, the task is to find the exponent of this number raised to the given power, i.e. N^P.**\n",
    "\n",
    "Example 1 : \n",
    "Input: N = 5, P = 2\n",
    "\n",
    "Output: 25\n",
    "\n",
    "Example 2 :\n",
    "Input: N = 2, P = 5\n",
    "\n",
    "Output: 32\n",
    "\n",
    "</aside>"
   ]
  },
  {
   "cell_type": "code",
   "execution_count": 4,
   "id": "1f6a27fa",
   "metadata": {},
   "outputs": [
    {
     "name": "stdout",
     "output_type": "stream",
     "text": [
      "25\n",
      "32\n"
     ]
    }
   ],
   "source": [
    "def Exponent(N, P):\n",
    "    return N ** P\n",
    "\n",
    "print(Exponent(5, 2)) \n",
    "print(Exponent(2, 5))\n"
   ]
  },
  {
   "cell_type": "markdown",
   "id": "8e81f3e4",
   "metadata": {},
   "source": [
    "**Q5. Given an array of integers arr, the task is to find maximum element of that array using recursion.**\n",
    "\n",
    "Example 1:\n",
    "Input: arr = {1, 4, 3, -5, -4, 8, 6};\n",
    "Output: 8\n",
    "\n",
    "Example 2:\n",
    "Input: arr = {1, 4, 45, 6, 10, -8};\n",
    "Output: 45 "
   ]
  },
  {
   "cell_type": "code",
   "execution_count": 5,
   "id": "15d55d71",
   "metadata": {},
   "outputs": [
    {
     "name": "stdout",
     "output_type": "stream",
     "text": [
      "8\n",
      "45\n"
     ]
    }
   ],
   "source": [
    "def FindMax(arr):\n",
    "    if len(arr) == 1:\n",
    "        return arr[0]\n",
    "\n",
    "    mid = len(arr) // 2\n",
    "    left = arr[:mid]\n",
    "    right = arr[mid:]\n",
    "\n",
    "    max_left = FindMax(left)\n",
    "    max_right = FindMax(right)\n",
    "\n",
    "    return max(max_left, max_right)\n",
    "\n",
    "\n",
    "arr1 = [1, 4, 3, -5, -4, 8, 6]\n",
    "print(FindMax(arr1)) \n",
    "\n",
    "arr2 = [1, 4, 45, 6, 10, -8]\n",
    "print(FindMax(arr2)) \n"
   ]
  },
  {
   "cell_type": "markdown",
   "id": "2026c838",
   "metadata": {},
   "source": [
    "**Q6. Given first term (a), common difference (d) and a integer N of the Arithmetic Progression series, the task is to find Nth term of the series.**\n",
    "\n",
    "Example 1:\n",
    "Input : a = 2 d = 1 N = 5\n",
    "Output : 6\n",
    "The 5th term of the series is : 6\n",
    "\n",
    "Example 2:\n",
    "Input : a = 5 d = 2 N = 10\n",
    "Output : 23\n",
    "The 10th term of the series is : 23"
   ]
  },
  {
   "cell_type": "code",
   "execution_count": 6,
   "id": "d8320ee9",
   "metadata": {},
   "outputs": [
    {
     "name": "stdout",
     "output_type": "stream",
     "text": [
      "6\n",
      "23\n"
     ]
    }
   ],
   "source": [
    "def findNthTerm(a, d, N):\n",
    "    return a + (N - 1) * d\n",
    "\n",
    "print(findNthTerm(2, 1, 5))\n",
    "print(findNthTerm(5, 2, 10))\n"
   ]
  },
  {
   "cell_type": "markdown",
   "id": "82bcb5fa",
   "metadata": {},
   "source": [
    "**Q7. Given a string S, the task is to write a program to print all permutations of a given string.**\n",
    "\n",
    "Example 1:\n",
    "Input: S = “ABC”\n",
    "Output: “ABC”, “ACB”, “BAC”, “BCA”, “CBA”, “CAB”\n",
    "\n",
    "Example 2:\n",
    "Input: S = “XY”\n",
    "Output: “XY”, “YX”"
   ]
  },
  {
   "cell_type": "code",
   "execution_count": 7,
   "id": "edd73ef2",
   "metadata": {},
   "outputs": [
    {
     "name": "stdout",
     "output_type": "stream",
     "text": [
      "['ABC', 'ACB', 'BAC', 'BCA', 'CAB', 'CBA']\n",
      "['XY', 'YX']\n"
     ]
    }
   ],
   "source": [
    "def permute(S):\n",
    "    # Base case: If the length of S is 1, return the string itself as the only permutation\n",
    "    if len(S) == 1:\n",
    "        return [S]\n",
    "\n",
    "    # Set to store all permutations\n",
    "    permutations = []\n",
    "\n",
    "    # Generate permutations for each character in S\n",
    "    for i in range(len(S)):\n",
    "        # Remove character at index i from S\n",
    "        c = S[i]\n",
    "        S_without_c = S[:i] + S[i+1:]\n",
    "\n",
    "        # Recursively generate all permutations of S_without_c\n",
    "        sub_permutations = permute(S_without_c)\n",
    "\n",
    "        # Append c to each permutation\n",
    "        for sub_permutation in sub_permutations:\n",
    "            permutations.append(c + sub_permutation)\n",
    "\n",
    "    return permutations\n",
    "\n",
    "\n",
    "print(permute( \"ABC\"))\n",
    "print(permute(\"XY\"))"
   ]
  },
  {
   "cell_type": "markdown",
   "id": "d7e49b6a",
   "metadata": {},
   "source": [
    "**Q8. Given an array, find a product of all array elements.**\n",
    "\n",
    "Example 1:\n",
    "Input  : arr[] = {1, 2, 3, 4, 5}\n",
    "Output : 120\n",
    "\n",
    "\n",
    "Example 2:\n",
    "Input  : arr[] = {1, 6, 3}\n",
    "Output : 18"
   ]
  },
  {
   "cell_type": "code",
   "execution_count": 8,
   "id": "9db97611",
   "metadata": {},
   "outputs": [
    {
     "name": "stdout",
     "output_type": "stream",
     "text": [
      "120\n",
      "18\n"
     ]
    }
   ],
   "source": [
    "def productOfArray(arr):\n",
    "    product = 1\n",
    "    for num in arr:\n",
    "        product *= num\n",
    "    return product\n",
    "\n",
    "print(productOfArray([1, 2, 3, 4, 5]))\n",
    "print(productOfArray([1, 6, 3]))"
   ]
  }
 ],
 "metadata": {
  "kernelspec": {
   "display_name": "Python 3 (ipykernel)",
   "language": "python",
   "name": "python3"
  },
  "language_info": {
   "codemirror_mode": {
    "name": "ipython",
    "version": 3
   },
   "file_extension": ".py",
   "mimetype": "text/x-python",
   "name": "python",
   "nbconvert_exporter": "python",
   "pygments_lexer": "ipython3",
   "version": "3.10.2"
  }
 },
 "nbformat": 4,
 "nbformat_minor": 5
}
