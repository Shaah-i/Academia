{
 "cells": [
  {
   "cell_type": "markdown",
   "id": "dd2eb5c7",
   "metadata": {},
   "source": [
    "# 1. Arrays"
   ]
  },
  {
   "cell_type": "markdown",
   "id": "a3da716d",
   "metadata": {},
   "source": [
    "**Q1. Given an array of integers nums and an integer target, return indices of the two numbers such that they add up to target. You may assume that each input would have exactly one solution, and you may not use the same element twice. You can return the answer in any order.**\n",
    "\n",
    "Example:\n",
    "Input: nums = [2,7,11,15], target = 9\n",
    "Output0 [0,1]\n",
    "\n",
    "Explanation: Because nums[0] + nums[1] == 9, we return [0, 1]["
   ]
  },
  {
   "cell_type": "code",
   "execution_count": 1,
   "id": "560f05d5",
   "metadata": {},
   "outputs": [
    {
     "name": "stdout",
     "output_type": "stream",
     "text": [
      "[0, 1]\n"
     ]
    }
   ],
   "source": [
    "def TwoSum(nums, target):\n",
    "    comp_dict = {}\n",
    "    \n",
    "    for i, nums in enumerate(nums):\n",
    "        comp = target- nums\n",
    "        if comp in comp_dict:\n",
    "            return [comp_dict[comp], i]\n",
    "        comp_dict[nums] = i\n",
    "    return []\n",
    "\n",
    "print(TwoSum([2, 7, 11, 15], 9))"
   ]
  },
  {
   "cell_type": "markdown",
   "id": "5a866e91",
   "metadata": {},
   "source": [
    "**Q2. Given an integer array nums and an integer val, remove all occurrences of val in nums in-place. The order of the elements may be changed. Then return the number of elements in nums which are not equal to val. Consider the number of elements in nums which are not equal to val be k, to get accepted, you need to do the following things:**\n",
    "\n",
    "- Change the array nums such that the first k elements of nums contain the elements which are not equal to val. The remaining elements of nums are not important as well as the size of nums.\n",
    "- Return k.\n",
    "\n",
    "Example :\n",
    "Input: nums = [3,2,2,3], val = 3\n",
    "Output: 2, nums = [2,2,\\_,\\_]\n",
    "\n",
    "Explanation: Your function should return k = 2, with the first two elements of nums being 2. It does not matter what you leave beyond the returned k (hence they are underscores)"
   ]
  },
  {
   "cell_type": "code",
   "execution_count": 2,
   "id": "9e1358fb",
   "metadata": {},
   "outputs": [
    {
     "name": "stdout",
     "output_type": "stream",
     "text": [
      "[2, 2, 2, 3]\n"
     ]
    }
   ],
   "source": [
    "def RemoveElement(nums, val):\n",
    "    k = 0\n",
    "    for i in range (len(nums)):\n",
    "        if nums[i] != val:\n",
    "            nums[k] = nums[i]\n",
    "            k += 1\n",
    "    return k, nums\n",
    "\n",
    "print(RemoveElement([3, 2, 2, 3], 3)[1])"
   ]
  },
  {
   "cell_type": "markdown",
   "id": "b7c92568",
   "metadata": {},
   "source": [
    "**Q3. Given a sorted array of distinct integers and a target value, return the index if the target is found. If not, return the index where it would be if it were inserted in order. You must write an algorithm with O(log n) runtime complexity.**\n",
    "\n",
    "Example 1:\n",
    "Input: nums = [1,3,5,6], target = 5\n",
    "\n",
    "Output: 2"
   ]
  },
  {
   "cell_type": "code",
   "execution_count": 3,
   "id": "6bc15830",
   "metadata": {},
   "outputs": [
    {
     "name": "stdout",
     "output_type": "stream",
     "text": [
      "2\n",
      "1\n",
      "4\n"
     ]
    }
   ],
   "source": [
    "# time complexity of O(n)\n",
    "def SearchInsert(nums, target):\n",
    "    for i in range(len(nums)):\n",
    "        if nums[i] == target:\n",
    "            return i\n",
    "        if nums[i] > target:\n",
    "            return i\n",
    "    return i+1\n",
    "print(SearchInsert([1, 3, 5, 6], 5))\n",
    "print(SearchInsert([1, 3, 5, 6], 2))\n",
    "print(SearchInsert([1, 3, 5, 6], 7))"
   ]
  },
  {
   "cell_type": "code",
   "execution_count": 4,
   "id": "6fc2b091",
   "metadata": {},
   "outputs": [
    {
     "name": "stdout",
     "output_type": "stream",
     "text": [
      "2\n",
      "1\n",
      "4\n"
     ]
    }
   ],
   "source": [
    "# time complexity of O(log n)\n",
    "def SearchInsert(nums, target):\n",
    "    l = 0\n",
    "    r = len(nums) - 1\n",
    "    \n",
    "    while l <= r:\n",
    "        m = (l + r) // 2\n",
    "        \n",
    "        if nums[m] == target:\n",
    "            return m\n",
    "        elif nums[m] < target:\n",
    "            l = m + 1\n",
    "        else:\n",
    "            r = m - 1\n",
    "            \n",
    "    return l\n",
    "\n",
    "print(SearchInsert([1, 3, 5, 6], 5))\n",
    "print(SearchInsert([1, 3, 5, 6], 2))\n",
    "print(SearchInsert([1, 3, 5, 6], 7))"
   ]
  },
  {
   "cell_type": "markdown",
   "id": "07c1ef9c",
   "metadata": {},
   "source": [
    "**Q4. You are given a large integer represented as an integer array digits, where each digits[i] is the ith digit of the integer. The digits are ordered from most significant to least significant in left-to-right order. The large integer does not contain any leading 0's. Increment the large integer by one and return the resulting array of digits.**\n",
    "\n",
    "Example 1:\n",
    "Input: digits = [1,2,3]\n",
    "Output: [1,2,4]\n",
    "\n",
    "Explanation: The array represents the integer 123.\n",
    "\n",
    "Incrementing by one gives 123 + 1 = 124.\n",
    "Thus, the result should be [1,2,4]"
   ]
  },
  {
   "cell_type": "code",
   "execution_count": 5,
   "id": "fe031358",
   "metadata": {},
   "outputs": [
    {
     "name": "stdout",
     "output_type": "stream",
     "text": [
      "[1, 0, 0, 0]\n"
     ]
    }
   ],
   "source": [
    "def AddOne(digits):\n",
    "    for i in range(len(digits)-1, -1, -1):\n",
    "        if  digits[i] < 9: \n",
    "            digits[i] += 1\n",
    "            return digits\n",
    "        digits[i] = 0\n",
    "    digits.insert(0, 1)\n",
    "    return digits\n",
    "\n",
    "print(AddOne([9, 9, 9]))"
   ]
  },
  {
   "cell_type": "markdown",
   "id": "57ba8ee9",
   "metadata": {},
   "source": [
    "**Q5. You are given two integer arrays nums1 and nums2, sorted in non-decreasing order, and two integers m and n, representing the number of elements in nums1 and nums2 respectively.Merge nums1 and nums2 into a single array sorted in non-decreasing order.The final sorted array should not be returned by the function, but instead be stored inside the array nums1. To accommodate this, nums1 has a length of m + n, where the first m elements denote the elements that should be merged, and the last n elements are set to 0 and should be ignored. nums2 has a length of n.**\n",
    "\n",
    "Example 1:\n",
    "Input: nums1 = [1,2,3,0,0,0], m = 3, nums2 = [2,5,6], n = 3\n",
    "Output: [1,2,2,3,5,6]\n",
    "\n",
    "Explanation: The arrays we are merging are [1,2,3] and [2,5,6].\n",
    "The result of the merge is [1,2,2,3,5,6] with the underlined elements coming from nums1.\n"
   ]
  },
  {
   "cell_type": "code",
   "execution_count": 6,
   "id": "9778969c",
   "metadata": {},
   "outputs": [
    {
     "name": "stdout",
     "output_type": "stream",
     "text": [
      "[1, 2, 2, 3, 5, 6]\n"
     ]
    }
   ],
   "source": [
    "def SortMerge(num1, m, num2, n):\n",
    "    n1= num1[:m]\n",
    "    num1 = sorted(n1+num2)\n",
    "    return num1\n",
    "    \n",
    "print(SortMerge([1,2,3,0,0,0], 3, [2,5,6], 3))"
   ]
  },
  {
   "cell_type": "code",
   "execution_count": 7,
   "id": "43f8fe27",
   "metadata": {},
   "outputs": [
    {
     "name": "stdout",
     "output_type": "stream",
     "text": [
      "[1, 2, 2, 3, 5, 6]\n"
     ]
    }
   ],
   "source": [
    "def SortMerge(num1, m, num2, n):\n",
    "    n1= num1[:m]\n",
    "    p, p1, p2= 0,  0, 0\n",
    "    \n",
    "    while p< m+n:\n",
    "        if p2 >= n or (p1< m and num1[p1]< num2[p2]):\n",
    "            num1[p]= n1[p1]\n",
    "            p1+= 1\n",
    "        else:\n",
    "            num1[p]= num2[p2]\n",
    "            p2 +=1\n",
    "        p +=1\n",
    "    return num1\n",
    "\n",
    "print(SortMerge([1,2,3,0,0,0], 3, [2,5,6], 3))"
   ]
  },
  {
   "cell_type": "markdown",
   "id": "c597b752",
   "metadata": {},
   "source": [
    "**Q6. Given an integer array nums, return true if any value appears at least twice in the array, and return false if every element is distinct.**\n",
    "\n",
    "Example 1:\n",
    "Input: nums = [1,2,3,1]\n",
    "\n",
    "Output: true"
   ]
  },
  {
   "cell_type": "code",
   "execution_count": 8,
   "id": "ea234efc",
   "metadata": {},
   "outputs": [
    {
     "name": "stdout",
     "output_type": "stream",
     "text": [
      "True\n"
     ]
    }
   ],
   "source": [
    "def IsDuplicate(nums):\n",
    "    n_set = set()\n",
    "    \n",
    "    for n in nums:\n",
    "        if n in n_set:\n",
    "            return True\n",
    "        n_set.add(n)\n",
    "        \n",
    "    return False\n",
    "\n",
    "print(IsDuplicate([1, 2, 3, 1]))"
   ]
  },
  {
   "cell_type": "markdown",
   "id": "376244b2",
   "metadata": {},
   "source": [
    "**Q7. Given an integer array nums, move all 0's to the end of it while maintaining the relative order of the nonzero elements. Note that you must do this in-place without making a copy of the array.**\n",
    "\n",
    "Example 1:\n",
    "Input: nums = [0,1,0,3,12]\n",
    "Output: [1,3,12,0,0]"
   ]
  },
  {
   "cell_type": "code",
   "execution_count": 9,
   "id": "3172c418",
   "metadata": {},
   "outputs": [
    {
     "name": "stdout",
     "output_type": "stream",
     "text": [
      "[1, 3, 12, 0, 0]\n"
     ]
    }
   ],
   "source": [
    "def MoveZeros(nums):\n",
    "    last_term = 0\n",
    "    \n",
    "    for i in range(len(nums)):\n",
    "        if nums[i] != 0:\n",
    "            nums[i], nums[last_term] = nums[last_term], nums[i]\n",
    "            last_term += 1\n",
    "    return nums\n",
    "            \n",
    "print(MoveZeros([0, 1, 0, 3, 12]))"
   ]
  },
  {
   "cell_type": "markdown",
   "id": "8945e868",
   "metadata": {},
   "source": [
    "**Q8. You have a set of integers s, which originally contains all the numbers from 1 to n. Unfortunately, due to some error, one of the numbers in s got duplicated to another number in the set, which results in repetition of one number and loss of another number. You are given an integer array nums representing the data status of this set after the error. Find the number that occurs twice and the number that is missing and return them in the form of an array.**\n",
    "\n",
    "Example 1:\n",
    "Input: nums = [1,2,2,4]\n",
    "Output: [2,3]"
   ]
  },
  {
   "cell_type": "code",
   "execution_count": 10,
   "id": "b03fd1cc",
   "metadata": {},
   "outputs": [
    {
     "name": "stdout",
     "output_type": "stream",
     "text": [
      "[2, 3]\n"
     ]
    }
   ],
   "source": [
    "def ErrorNumCorrection(nums):\n",
    "    error_array = []\n",
    "    for i in range(len(nums)):\n",
    "        if nums[i] != i+1:\n",
    "            error_array.append(nums[i])\n",
    "            error_array.append(i+1)\n",
    "    return error_array\n",
    "\n",
    "print(ErrorNumCorrection([1, 2, 2, 4]))"
   ]
  }
 ],
 "metadata": {
  "kernelspec": {
   "display_name": "Python 3 (ipykernel)",
   "language": "python",
   "name": "python3"
  },
  "language_info": {
   "codemirror_mode": {
    "name": "ipython",
    "version": 3
   },
   "file_extension": ".py",
   "mimetype": "text/x-python",
   "name": "python",
   "nbconvert_exporter": "python",
   "pygments_lexer": "ipython3",
   "version": "3.10.2"
  }
 },
 "nbformat": 4,
 "nbformat_minor": 5
}
