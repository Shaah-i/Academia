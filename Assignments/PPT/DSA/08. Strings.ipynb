{
 "cells": [
  {
   "cell_type": "markdown",
   "id": "3b58e300",
   "metadata": {},
   "source": [
    "**Q1. Given two strings s1 and s2, return the lowest ASCII sum of deleted characters to make two strings equal.**\n",
    "\n",
    "Example 1:\n",
    "Input: s1 = \"sea\", s2 = \"eat\"\n",
    "Output: 231\n",
    "\n",
    "Explanation: Deleting \"s\" from \"sea\" adds the ASCII value of \"s\" (115) to the sum.\n",
    "\n",
    "Deleting \"t\" from \"eat\" adds 116 to the sum.\n",
    "\n",
    "At the end, both strings are equal, and 115 + 116 = 231 is the minimum sum possible to achieve this."
   ]
  },
  {
   "cell_type": "code",
   "execution_count": 1,
   "id": "f7a8277e",
   "metadata": {},
   "outputs": [
    {
     "name": "stdout",
     "output_type": "stream",
     "text": [
      "231\n"
     ]
    }
   ],
   "source": [
    "def MinDeleteSum(s1, s2):\n",
    "    m, n = len(s1), len(s2)\n",
    "    dp = [[0] * (n + 1) for _ in range(m + 1)]\n",
    "\n",
    "    for i in range(1, m + 1):\n",
    "        dp[i][0] = dp[i - 1][0] + ord(s1[i - 1])\n",
    "\n",
    "    for j in range(1, n + 1):\n",
    "        dp[0][j] = dp[0][j - 1] + ord(s2[j - 1])\n",
    "\n",
    "    for i in range(1, m + 1):\n",
    "        for j in range(1, n + 1):\n",
    "            if s1[i - 1] == s2[j - 1]:\n",
    "                dp[i][j] = dp[i - 1][j - 1]\n",
    "            else:\n",
    "                dp[i][j] = min(dp[i - 1][j] + ord(s1[i - 1]), dp[i][j - 1] + ord(s2[j - 1]))\n",
    "\n",
    "    return dp[m][n]\n",
    "\n",
    "print(MinDeleteSum(\"sea\", \"eat\"))"
   ]
  },
  {
   "cell_type": "markdown",
   "id": "19f18b11",
   "metadata": {},
   "source": [
    "**Q2. Given a string s containing only three types of characters: '(', ')' and '', return true if s is valid. The following rules define a valid string:**\n",
    "- Any left parenthesis '(' must have a corresponding right parenthesis ')'.\n",
    "- Any right parenthesis ')' must have a corresponding left parenthesis '('.\n",
    "- Left parenthesis '(' must go before the corresponding right parenthesis ')'.\n",
    "- '' could be treated as a single right parenthesis ')' or a single left parenthesis '(' or an empty string \"\".\n",
    "\n",
    "Example 1:\n",
    "Input: s = \"()\"\n",
    "Output: True"
   ]
  },
  {
   "cell_type": "code",
   "execution_count": 2,
   "id": "7eef19db",
   "metadata": {},
   "outputs": [
    {
     "name": "stdout",
     "output_type": "stream",
     "text": [
      "True\n"
     ]
    }
   ],
   "source": [
    "def IsValid(s):\n",
    "    stack = []\n",
    "    asterisks = []\n",
    "    \n",
    "    for c in s:\n",
    "        if c == '(':\n",
    "            stack.append(c)\n",
    "        elif c == '*':\n",
    "            asterisks.append(len(stack))\n",
    "        elif c == ')':\n",
    "            if stack:\n",
    "                stack.pop()\n",
    "            elif asterisks:\n",
    "                asterisks.pop()\n",
    "            else:\n",
    "                return False\n",
    "\n",
    "    while stack and asterisks:\n",
    "        if stack.pop() > asterisks.pop():\n",
    "            return False\n",
    "\n",
    "    return len(stack) == 0\n",
    "\n",
    "print(IsValid(\"()\"))"
   ]
  },
  {
   "cell_type": "markdown",
   "id": "fb182447",
   "metadata": {},
   "source": [
    "**Q3. Given two strings word1 and word2, return the minimum number of steps required to make word1 and word2 the same. In one step, you can delete exactly one character in either string.**\n",
    "\n",
    "Example 1:\n",
    "Input: word1 = \"sea\", word2 = \"eat\"\n",
    "Output: 2\n",
    "\n",
    "Explanation: You need one step to make \"sea\" to \"ea\" and another step to make \"eat\" to \"ea\"."
   ]
  },
  {
   "cell_type": "code",
   "execution_count": 3,
   "id": "bff93b8c",
   "metadata": {},
   "outputs": [
    {
     "name": "stdout",
     "output_type": "stream",
     "text": [
      "2\n"
     ]
    }
   ],
   "source": [
    "def MinSteps(word1, word2):\n",
    "    m, n = len(word1), len(word2)\n",
    "    dp = [[0] * (n + 1) for _ in range(m + 1)]\n",
    "\n",
    "    for i in range(m + 1):\n",
    "        dp[i][0] = i\n",
    "\n",
    "    for j in range(n + 1):\n",
    "        dp[0][j] = j\n",
    "\n",
    "    for i in range(1, m + 1):\n",
    "        for j in range(1, n + 1):\n",
    "            if word1[i - 1] == word2[j - 1]:\n",
    "                dp[i][j] = dp[i - 1][j - 1]\n",
    "            else:\n",
    "                dp[i][j] = min(dp[i - 1][j] + 1, dp[i][j - 1] + 1)\n",
    "\n",
    "    return dp[m][n]\n",
    "\n",
    "print(MinSteps(\"sea\", \"eat\"))"
   ]
  },
  {
   "cell_type": "markdown",
   "id": "e882ea6d",
   "metadata": {},
   "source": [
    "**Q4. You need to construct a binary tree from a string consisting of parenthesis and integers. The whole input represents a binary tree. It contains an integer followed by zero, one or two pairs of parenthesis. The integer represents the root's value and a pair of parenthesis contains a child binary tree with the same structure.You always start to construct the left child node of the parent first if it exists.**"
   ]
  },
  {
   "cell_type": "markdown",
   "id": "7c57d28d",
   "metadata": {},
   "source": [
    "**Q5. Given an array of characters chars, compress it using the following algorithm: Begin with an empty string s. For each group of consecutive repeating characters in chars:**\n",
    "- If the group's length is 1, append the character to s.\n",
    "- Otherwise, append the character followed by the group's length.\n",
    "\n",
    "The compressed string s should not be returned separately, but instead, be stored in the input character array chars. Note that group lengths that are 10 or longer will be split into multiple characters in chars.\n",
    "\n",
    "After you are done modifying the input array, return the new length of the array.\n",
    "\n",
    "You must write an algorithm that uses only constant extra space.\n",
    "\n",
    "Example 1:\n",
    "Input: chars = [\"a\",\"a\",\"b\",\"b\",\"c\",\"c\",\"c\"]\n",
    "Output: Return 6, and the first 6 characters of the input array should be: [\"a\",\"2\",\"b\",\"2\",\"c\",\"3\"]\n",
    "\n",
    "Explanation:\n",
    "The groups are \"aa\", \"bb\", and \"ccc\". This compresses to \"a2b2c3\"."
   ]
  },
  {
   "cell_type": "code",
   "execution_count": 4,
   "id": "380fd488",
   "metadata": {},
   "outputs": [
    {
     "name": "stdout",
     "output_type": "stream",
     "text": [
      "(6, ['a', '2', 'b', '2', 'c', '3'])\n"
     ]
    }
   ],
   "source": [
    "def compress(chars):\n",
    "    read, write = 0, 0\n",
    "    count = 1\n",
    "\n",
    "    for i in range(1, len(chars)):\n",
    "        if chars[i] == chars[read]:\n",
    "            count += 1\n",
    "        else:\n",
    "            chars[write] = chars[read]\n",
    "            write += 1\n",
    "\n",
    "            if count > 1:\n",
    "                for digit in str(count):\n",
    "                    chars[write] = digit\n",
    "                    write += 1\n",
    "\n",
    "            count = 1\n",
    "            read = i\n",
    "\n",
    "    chars[write] = chars[read]\n",
    "    write += 1\n",
    "\n",
    "    if count > 1:\n",
    "        for digit in str(count):\n",
    "            chars[write] = digit\n",
    "            write += 1\n",
    "\n",
    "    return write, chars[:write]\n",
    "\n",
    "print(compress([\"a\", \"a\", \"b\", \"b\", \"c\", \"c\", \"c\"]))"
   ]
  },
  {
   "cell_type": "markdown",
   "id": "208bc795",
   "metadata": {},
   "source": [
    "**Q6. Given two strings s and p, return an array of all the start indices of p's anagrams in s. You may return the answer in any order. An Anagram is a word or phrase formed by rearranging the letters of a different word or phrase, typically using all the original letters exactly once.**\n",
    "\n",
    "Example 1:\n",
    "Input: s = \"cbaebabacd\", p = \"abc\"\n",
    "Output: [0,6]\n",
    "\n",
    "Explanation:\n",
    "The substring with start index = 0 is \"cba\", which is an anagram of \"abc\".\n",
    "\n",
    "The substring with start index = 6 is \"bac\", which is an anagram of \"abc\"."
   ]
  },
  {
   "cell_type": "code",
   "execution_count": 5,
   "id": "924d1c1c",
   "metadata": {},
   "outputs": [
    {
     "name": "stdout",
     "output_type": "stream",
     "text": [
      "[0, 6]\n"
     ]
    }
   ],
   "source": [
    "from collections import Counter\n",
    "\n",
    "def findAnagrams(s, p):\n",
    "    result = []\n",
    "    count_p = Counter(p)\n",
    "    count_s = Counter()\n",
    "\n",
    "    left, right = 0, 0\n",
    "    window_size = len(p)\n",
    "\n",
    "    while right < len(s):\n",
    "        count_s[s[right]] += 1\n",
    "\n",
    "        if right - left + 1 == window_size:\n",
    "            if count_p == count_s:\n",
    "                result.append(left)\n",
    "            \n",
    "            count_s[s[left]] -= 1\n",
    "            if count_s[s[left]] == 0:\n",
    "                del count_s[s[left]]\n",
    "            \n",
    "            left += 1\n",
    "\n",
    "        right += 1\n",
    "\n",
    "    return result\n",
    "\n",
    "print(findAnagrams(\"cbaebabacd\", \"abc\"))"
   ]
  },
  {
   "cell_type": "markdown",
   "id": "90447458",
   "metadata": {},
   "source": [
    "**Q7. Given an encoded string, return its decoded string. The encoding rule is: k[encoded_string], where the encoded_string inside the square brackets is being repeated exactly k times. Note that k is guaranteed to be a positive integer. You may assume that the input string is always valid; there are no extra white spaces, square brackets are well-formed, etc. Furthermore, you may assume that the original data does not contain any digits and that digits are only for those repeat numbers, k. For example, there will not be input like 3a or 2[4].**\n",
    "\n",
    "The test cases are generated so that the length of the output will never exceed 105.\n",
    "\n",
    "Example 1:\n",
    "Input: s = \"3[a]2[bc]\"\n",
    "Output: \"aaabcbc\" "
   ]
  },
  {
   "cell_type": "code",
   "execution_count": 6,
   "id": "42e26bc9",
   "metadata": {},
   "outputs": [
    {
     "name": "stdout",
     "output_type": "stream",
     "text": [
      "aaabcbc\n"
     ]
    }
   ],
   "source": [
    "def decodeString(s):\n",
    "    stack = []\n",
    "    curr_num = 0\n",
    "    curr_str = \"\"\n",
    "\n",
    "    for char in s:\n",
    "        if char.isdigit():\n",
    "            curr_num = curr_num * 10 + int(char)\n",
    "        elif char == \"[\":\n",
    "            stack.append((curr_str, curr_num))\n",
    "            curr_str = \"\"\n",
    "            curr_num = 0\n",
    "        elif char == \"]\":\n",
    "            prev_str, prev_num = stack.pop()\n",
    "            curr_str = prev_str + curr_str * prev_num\n",
    "        else:\n",
    "            curr_str += char\n",
    "\n",
    "    return curr_str\n",
    "\n",
    "print(decodeString(\"3[a]2[bc]\"))"
   ]
  },
  {
   "cell_type": "markdown",
   "id": "d238ca4a",
   "metadata": {},
   "source": [
    "**Q8. Given two strings s and goal, return true if you can swap two letters in s so the result is equal to goal, otherwise, return false. Swapping letters is defined as taking two indices i and j (0-indexed) such that i != j and swapping the characters at s[i] and s[j].**\n",
    "- For example, swapping at indices 0 and 2 in \"abcd\" results in \"cbad\".\n",
    "\n",
    "Example 1:\n",
    "Input: s = \"ab\", goal = \"ba\"\n",
    "Output: True\n",
    "\n",
    "Explanation: You can swap s[0] = 'a' and s[1] = 'b' to get \"ba\", which is equal to goal."
   ]
  },
  {
   "cell_type": "code",
   "execution_count": 7,
   "id": "fe02ddb6",
   "metadata": {},
   "outputs": [
    {
     "name": "stdout",
     "output_type": "stream",
     "text": [
      "True\n"
     ]
    }
   ],
   "source": [
    "def buddyStrings(s, goal):\n",
    "    if len(s) != len(goal):\n",
    "        return False\n",
    "\n",
    "    diff_s = []\n",
    "    diff_goal = []\n",
    "\n",
    "    for i in range(len(s)):\n",
    "        if s[i] != goal[i]:\n",
    "            diff_s.append(i)\n",
    "            diff_goal.append(i)\n",
    "\n",
    "    if len(diff_s) != 2 or len(diff_goal) != 2:\n",
    "        return False\n",
    "\n",
    "    if s[diff_s[0]] == goal[diff_goal[1]] and s[diff_s[1]] == goal[diff_goal[0]]:\n",
    "        return True\n",
    "\n",
    "    return False\n",
    "\n",
    "print(buddyStrings(\"ab\", \"ba\"))"
   ]
  }
 ],
 "metadata": {
  "kernelspec": {
   "display_name": "Python 3 (ipykernel)",
   "language": "python",
   "name": "python3"
  },
  "language_info": {
   "codemirror_mode": {
    "name": "ipython",
    "version": 3
   },
   "file_extension": ".py",
   "mimetype": "text/x-python",
   "name": "python",
   "nbconvert_exporter": "python",
   "pygments_lexer": "ipython3",
   "version": "3.10.2"
  }
 },
 "nbformat": 4,
 "nbformat_minor": 5
}
