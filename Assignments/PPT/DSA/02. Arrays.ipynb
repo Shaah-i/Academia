{
 "cells": [
  {
   "cell_type": "markdown",
   "id": "eca3784b",
   "metadata": {},
   "source": [
    "# 02. Arrays "
   ]
  },
  {
   "cell_type": "markdown",
   "id": "9f20678a",
   "metadata": {},
   "source": [
    "**Q1. Given an integer array nums of 2n integers, group these integers into n pairs (a1, b1), (a2, b2),..., (an, bn) such that the sum of min(ai, bi) for all i is maximized. Return the maximized sum.**\n",
    "\n",
    "Example 1:\n",
    "Input: nums = [1,4,3,2]\n",
    "Output: 4"
   ]
  },
  {
   "cell_type": "code",
   "execution_count": 1,
   "id": "adde76f4",
   "metadata": {},
   "outputs": [
    {
     "name": "stdout",
     "output_type": "stream",
     "text": [
      "4\n"
     ]
    }
   ],
   "source": [
    "def ArrayPairSum(nums):\n",
    "    nums.sort()\n",
    "    sum_min = 0\n",
    "\n",
    "    for i in range(0, len(nums), 2):\n",
    "        sum_min += nums[i]\n",
    "\n",
    "    return sum_min\n",
    "\n",
    "print(ArrayPairSum([1, 4, 3, 2]))"
   ]
  },
  {
   "cell_type": "markdown",
   "id": "8f87e4a8",
   "metadata": {},
   "source": [
    "**Q2. Alice has n candies, where the ith candy is of type candyType[i]. Alice noticed that she started to gain weight, so she visited a doctor. The doctor advised Alice to only eat n / 2 of the candies she has (n is always even). Alice likes her candies very much, and she wants to eat the maximum number of different types of candies while still following the doctor's advice.  Given the integer array candyType of length n, return the maximum number of different types of candies she can eat if she only eats n / 2 of them.**\n",
    "\n",
    "Example 1:\n",
    "Input: candyType = [1,1,2,2,3,3]\n",
    "Output: 3\n",
    "\n",
    "Explanation: Alice can only eat 6 / 2 = 3 candies. Since there are only 3 types, she can eat one of each type."
   ]
  },
  {
   "cell_type": "code",
   "execution_count": 2,
   "id": "acee58d9",
   "metadata": {},
   "outputs": [
    {
     "name": "stdout",
     "output_type": "stream",
     "text": [
      "3\n"
     ]
    }
   ],
   "source": [
    "def DistributeCandies(candyType):\n",
    "    uniqueCandies = set()\n",
    "\n",
    "    for candy in candyType:\n",
    "        uniqueCandies.add(candy)\n",
    "\n",
    "    limit = len(candyType) // 2\n",
    "    return min(limit, len(uniqueCandies))\n",
    "\n",
    "print(DistributeCandies([1, 1, 2, 2, 3, 3]))"
   ]
  },
  {
   "cell_type": "markdown",
   "id": "cd557609",
   "metadata": {},
   "source": [
    "**Q3. We define a harmonious array as an array where the difference between its maximum value and its minimum value is exactly 1. Given an integer array nums, return the length of its longest harmonious subsequence among all its possible subsequences. A subsequence of an array is a sequence that can be derived from the array by deleting some or no elements without changing the order of the remaining elements.**\n",
    "\n",
    "Example 1:\n",
    "Input: nums = [1,3,2,2,5,2,3,7]\n",
    "Output: 5\n",
    "\n",
    "Explanation: The longest harmonious subsequence is [3,2,2,2,3]."
   ]
  },
  {
   "cell_type": "code",
   "execution_count": 3,
   "id": "19a79cd7",
   "metadata": {},
   "outputs": [
    {
     "name": "stdout",
     "output_type": "stream",
     "text": [
      "5\n"
     ]
    }
   ],
   "source": [
    "def FindLHS(nums):\n",
    "    numCount = {}\n",
    "    for num in nums:\n",
    "        numCount[num] = numCount.get(num, 0) + 1\n",
    "    \n",
    "    maxLength = 0\n",
    "    for num in numCount.keys():\n",
    "        if num + 1 in numCount:\n",
    "            maxLength = max(maxLength, numCount[num] + numCount[num + 1])\n",
    "    \n",
    "    return maxLength\n",
    "\n",
    "print(FindLHS([1, 3, 2, 2, 5, 2, 3, 7]))"
   ]
  },
  {
   "cell_type": "markdown",
   "id": "228081f0",
   "metadata": {},
   "source": [
    "**Q4. You have a long flowerbed in which some of the plots are planted, and some are not. However, flowers cannot be planted in adjacent plots.Given an integer array flowerbed containing 0's and 1's, where 0 means empty and 1 means not empty, and an integer n, return true if n new flowers can be planted in the flowerbed without violating the no-adjacent-flowers rule and false otherwise.**\n",
    "\n",
    "Example 1:\n",
    "Input: flowerbed = [1,0,0,0,1], n = 1\n",
    "Output: true "
   ]
  },
  {
   "cell_type": "code",
   "execution_count": 4,
   "id": "662f61be",
   "metadata": {},
   "outputs": [
    {
     "name": "stdout",
     "output_type": "stream",
     "text": [
      "True\n"
     ]
    }
   ],
   "source": [
    "def CanPlaceFlowers(flowerbed, n):\n",
    "    count = 0\n",
    "    length = len(flowerbed)\n",
    "    i = 0\n",
    "    \n",
    "    while i < length:\n",
    "        if flowerbed[i] == 0 and (i == 0 or flowerbed[i - 1] == 0) and (i == length - 1 or flowerbed[i + 1] == 0):\n",
    "            count += 1\n",
    "            i += 1\n",
    "        i += 1\n",
    "    \n",
    "    total = 0\n",
    "    i = 0\n",
    "    \n",
    "    while i < length:\n",
    "        if flowerbed[i] == 0 and (i == 0 or flowerbed[i - 1] == 0) and (i == length - 1 or flowerbed[i + 1] == 0):\n",
    "            flowerbed[i] = 1\n",
    "            total += 1\n",
    "        \n",
    "        if total == n:\n",
    "            return True\n",
    "        \n",
    "        i += 1\n",
    "    \n",
    "    return False\n",
    "\n",
    "print(CanPlaceFlowers([1, 0, 0, 0, 1], 1))"
   ]
  },
  {
   "cell_type": "markdown",
   "id": "481b748a",
   "metadata": {},
   "source": [
    "**Q5. Given an integer array nums, find three numbers whose product is maximum and return the maximum product.**\n",
    "\n",
    "Example 1:\n",
    "Input: nums = [1,2,3]\n",
    "Output: 6"
   ]
  },
  {
   "cell_type": "code",
   "execution_count": 5,
   "id": "e9729499",
   "metadata": {},
   "outputs": [
    {
     "name": "stdout",
     "output_type": "stream",
     "text": [
      "6\n"
     ]
    }
   ],
   "source": [
    "def MaxProduct(nums):\n",
    "    if len(nums) == 3:\n",
    "            return nums[0] * nums[1] * nums[2]\n",
    "    max1 = max2 = max3 = -1000 \n",
    "    min1 = min2 = 1000\n",
    "    for i in nums:\n",
    "        if i > max1:\n",
    "            max3 = max2\n",
    "            max2 = max1\n",
    "            max1 = i\n",
    "        elif i > max2:\n",
    "            max3 = max2\n",
    "            max2 = i\n",
    "        elif i > max3:\n",
    "            max3 = i\n",
    "        if i < min1:\n",
    "            min2 = min1\n",
    "            min1 = i\n",
    "        elif i < min2:\n",
    "            min2 = i\n",
    "    return max(max1 * max2 * max3, min1 * min2 * max1)\n",
    "    \n",
    "print(MaxProduct([1, 2, 3]))"
   ]
  },
  {
   "cell_type": "markdown",
   "id": "8d9379a7",
   "metadata": {},
   "source": [
    "**Q6. Given an array of integers nums which is sorted in ascending order, and an integer target, write a function to search target in nums. If target exists, then return its index. Otherwise, return -1. You must write an algorithm with O(log n) runtime complexity.**\n",
    "\n",
    "Input: nums = [-1,0,3,5,9,12], target = 9\n",
    "Output: 4\n",
    "\n",
    "Explanation: 9 exists in nums and its index is 4"
   ]
  },
  {
   "cell_type": "code",
   "execution_count": 6,
   "id": "2bae0d27",
   "metadata": {},
   "outputs": [
    {
     "name": "stdout",
     "output_type": "stream",
     "text": [
      "4\n"
     ]
    }
   ],
   "source": [
    "# time complexity of O(n)\n",
    "def Search(nums, target):\n",
    "    for i in range(len(nums)):\n",
    "        if nums[i] == target:\n",
    "            return i\n",
    "    return -1\n",
    "\n",
    "print(Search([-1,0,3,5,9,12], 9))"
   ]
  },
  {
   "cell_type": "code",
   "execution_count": 7,
   "id": "ce3e1523",
   "metadata": {},
   "outputs": [
    {
     "name": "stdout",
     "output_type": "stream",
     "text": [
      "4\n"
     ]
    }
   ],
   "source": [
    "# time complexity of O(log n)\n",
    "def Search(nums, target):\n",
    "    l = 0\n",
    "    r = len(nums) - 1\n",
    "    \n",
    "    while l < r:\n",
    "        m = l + (r-l) // 2\n",
    "        \n",
    "        if nums[m] >= target:\n",
    "            r = m\n",
    "        else:\n",
    "            l = m + 1\n",
    "            \n",
    "    if nums[l] != target:\n",
    "        return -1\n",
    "    \n",
    "    return l\n",
    "\n",
    "print(Search([-1, 0, 3, 5, 9, 12], 9))"
   ]
  },
  {
   "cell_type": "markdown",
   "id": "34436f72",
   "metadata": {},
   "source": [
    "**Q7. An array is monotonic if it is either monotone increasing or monotone decreasing. An array nums is monotone increasing if for all i <= j, nums[i] <= nums[j]. An array nums is monotone decreasing if for all i <= j, nums[i] >= nums[j]. Given an integer array nums, return true if the given array is monotonic, or false otherwise.**\n",
    "\n",
    "Example 1:\n",
    "Input: nums = [1,2,2,3]\n",
    "Output: true"
   ]
  },
  {
   "cell_type": "code",
   "execution_count": 8,
   "id": "ca678db8",
   "metadata": {},
   "outputs": [
    {
     "name": "stdout",
     "output_type": "stream",
     "text": [
      "True\n"
     ]
    }
   ],
   "source": [
    "def Monotonic(nums):\n",
    "    Inc = True\n",
    "    Dec = True\n",
    "    \n",
    "    for i in range(1, len(nums)):\n",
    "        if nums[i] < nums[i - 1]:\n",
    "            Inc = False\n",
    "        if nums[i] > nums[i - 1]:\n",
    "            Dec = False\n",
    "    \n",
    "    return Inc or Dec\n",
    "\n",
    "print(Monotonic([1, 2, 2, 3]))"
   ]
  },
  {
   "cell_type": "markdown",
   "id": "daa2c9e4",
   "metadata": {},
   "source": [
    "**Q8. You are given an integer array nums and an integer k. In one operation, you can choose any index i where 0 <= i < nums.length and change nums[i] to nums[i] + x where x is an integer from the range [-k, k]. You can apply this operation at most once for each index i. The score of nums is the difference between the maximum and minimum elements in nums. Return the minimum score of nums after applying the mentioned operation at most once for each index in it.**\n",
    "\n",
    "Example 1:\n",
    "Input: nums = [1], k = 0\n",
    "Output: 0\n",
    "\n",
    "Explanation: The score is max(nums) - min(nums) = 1 - 1 = 0."
   ]
  },
  {
   "cell_type": "code",
   "execution_count": 9,
   "id": "b86f0b8e",
   "metadata": {},
   "outputs": [
    {
     "name": "stdout",
     "output_type": "stream",
     "text": [
      "0\n"
     ]
    }
   ],
   "source": [
    "def MinScore(nums, k):\n",
    "    minVal = min(nums)\n",
    "    maxVal = max(nums)\n",
    "    \n",
    "    if k >= maxVal - minVal:\n",
    "        return 0\n",
    "    \n",
    "    target = (minVal + maxVal) / 2\n",
    "    \n",
    "    for i in range(len(nums)):\n",
    "        if nums[i] < target:\n",
    "            nums[i] = minVal + k if target - nums[i] <= k else target\n",
    "        else:\n",
    "            nums[i] = maxVal - k if nums[i] - target <= k else target\n",
    "    \n",
    "    return max(nums) - min(nums)\n",
    "\n",
    "print(MinScore([1], 0))"
   ]
  }
 ],
 "metadata": {
  "kernelspec": {
   "display_name": "Python 3 (ipykernel)",
   "language": "python",
   "name": "python3"
  },
  "language_info": {
   "codemirror_mode": {
    "name": "ipython",
    "version": 3
   },
   "file_extension": ".py",
   "mimetype": "text/x-python",
   "name": "python",
   "nbconvert_exporter": "python",
   "pygments_lexer": "ipython3",
   "version": "3.10.2"
  }
 },
 "nbformat": 4,
 "nbformat_minor": 5
}
