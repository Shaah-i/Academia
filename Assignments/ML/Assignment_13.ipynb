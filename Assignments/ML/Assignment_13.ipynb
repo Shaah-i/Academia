{
 "cells": [
  {
   "cell_type": "markdown",
   "id": "daff0fb8",
   "metadata": {},
   "source": [
    "# Assignment_13"
   ]
  },
  {
   "cell_type": "markdown",
   "id": "dced5dde",
   "metadata": {},
   "source": [
    "### 1. Provide an example of the concepts of Prior, Posterior, and Likelihood.\n",
    "\n",
    "**Ans.** The Bayes rule can be expressed in many forms. The simplest one is in terms of odds. The idea is to take the odds for something happening (against it not happening), which we'll write as prior odds.\n",
    "\n",
    "The word prior refers to our assessment of the odds before obtaining some new information that may be relevant. The purpose of the formula is to update the prior odds when new information becomes available, to obtain the posterior odds, or the odds after obtaining the information (the dictionary meaning of posterior is \"something that comes after, later.)\"\n",
    "The likelihood ratio is the probability of the observation in case the event of interest, divided by the probability of the observation in case of no event.\n",
    "\n",
    "Example: the odds that it will rain later today. Imagine getting up in the morning in Finland. The chances of rain are 206 in 365, so prior odds = 206:159.\n",
    "Suppose the chances of having a cloudy morning on a rainy day are 9 out of 10 - that means that only one out of 10 rainy days start out with blue skies. The chances of clouds are nine times higher on a rainy day than on a rainless day.\n",
    "Likelihood ratio = (9/10) / (1/10) = 9\n",
    "BAYES RULE\n",
    "The Bayes rule for converting prior odds into posterior odds as follows:\n",
    "posterior odds = likelihood ratio × prior odds\n",
    "\n",
    "Ex.:\n",
    "Prior odds = 206:159\n",
    "Likelihood odds = 9\n",
    "Posterior odds = 206:159 × 9 = 1854:159\n"
   ]
  },
  {
   "cell_type": "markdown",
   "id": "e6db3adf",
   "metadata": {},
   "source": [
    "### 2. What role does Bayes' theorem play in the concept learning principle?\n",
    "\n",
    "**Ans.** Bayes Theorem is also used widely in machine learning, where it is a simple, effective way to predict classes with precision and accuracy. The Bayesian method of calculating conditional probabilities is used in machine learning applications that involve classification tasks.Bayes theorem helps us to calculate the single term P(B|A) in terms of P(A|B), P(B), and P(A). This rule is very helpful in such scenarios where we have a good probability of P(A|B), P(B), and P(A) and need to determine the fourth term.Bayes' Theorem allows you to update the predicted probabilities of an event by incorporating new information. Bayes' Theorem was named after 18th-century mathematician Thomas Bayes. It is often employed in finance in calculating or updating risk evaluation."
   ]
  },
  {
   "cell_type": "markdown",
   "id": "2280665f",
   "metadata": {},
   "source": [
    "### 3. Offer an example of how the Nave Bayes classifier is used in real life.\n",
    "\n",
    "**Ans.** Real time Prediction: Naive Bayes is an eager learning classifier and it is sure fast. Thus, it could be used for making predictions in real time. Multi class Prediction: This algorithm is also well known for multi class prediction feature. Here we can predict the probability of multiple classes of target variable."
   ]
  },
  {
   "cell_type": "markdown",
   "id": "4dd5bd12",
   "metadata": {},
   "source": [
    "### 4. Can the Nave Bayes classifier be used on continuous numeric data? If so, how can you go about doing it?\n",
    "\n",
    "**Ans.** How do we perform classification using Naive Bayes when the data we have is continuous in nature. If an instance in test data set has a category that was not present during training then it will assign it “Zero” probability and won't be able to make prediction. This is known as Zero frequency problem.Gaussian Naive Bayes\n",
    "This type of Naive Bayes is used when variables are continuous in nature. It assumes that all the variables have a normal distribution.\n"
   ]
  },
  {
   "cell_type": "markdown",
   "id": "94e974b2",
   "metadata": {},
   "source": [
    "### 5. What are Bayesian Belief Networks, and how do they work? What are their applications? Are they capable of resolving a wide range of issues?\n",
    "\n",
    "**Ans.** It can also be used in various tasks including prediction, anomaly detection, diagnostics, automated insight, reasoning, time series prediction, and decision making under uncertainty. Bayesian Network can be used for building models from data and experts opinions, and it consists of two parts: Directed Acyclic Graph.Bayesian networks are a widely-used class of probabilistic graphical models. They consist of two parts: a structure and parameters. The structure is a directed acyclic graph (DAG) that expresses conditional independencies and dependencies among ran- dom variables associated with nodes."
   ]
  },
  {
   "cell_type": "markdown",
   "id": "859d8c8c",
   "metadata": {},
   "source": [
    "### 6. Passengers are checked in an airport screening system to see if there is an intruder. Let I be the random variable that indicates whether someone is an intruder I = 1) or not I = 0), and A be the variable that indicates alarm I = 0). If an intruder is detected with probability P(A = 1|I = 1) = 0.98 and a non-intruder is detected with probability P(A = 1|I = 0) = 0.001, an alarm will be triggered, implying the error factor. The likelihood of an intruder in the passenger population is P(I = 1) = 0.00001. What are the chances that an alarm would be triggered when an individual is actually an intruder?\n",
    "\n",
    "**Ans.** This can be solved directly with the Bayesian theorem.\n",
    "$P(T = 1|A = 1) = P(A = 1|T = 1)P(T = 1)\n",
    "P(A = 1) \n",
    "=\n",
    "P(A = 1|T = 1)P(T = 1)\n",
    "P(A = 1|T = 1)P(T = 1) + P(A = 1|T = 0)P(T = 0) \n",
    "=\n",
    "0.98 × 0.00001\n",
    "0.98 × 0.00001 + 0.001 × (1 − 0.00001) = 0.0097 \n",
    "≈\n",
    "0.00001\n",
    "0.001\n",
    "= 0.01 $</br>\n",
    "\n",
    "It is interesting that even though for any passenger it can be decided with high reliability (98% and 99.9%)\n",
    "whether (s)he is a terrorist or not, if somebody gets arrested as a terrorist, (s)he is still most likely not a\n",
    "terrorist (with a probability of 99%).\n"
   ]
  },
  {
   "cell_type": "markdown",
   "id": "fa5c7e6a",
   "metadata": {},
   "source": [
    "### 7. An antibiotic resistance test (random variable T) has 1% false positives (i.e., 1% of those who are not immune to an antibiotic display a positive result in the test) and 5% false negatives (i.e., 1% of those who are not resistant to an antibiotic show a positive result in the test) (i.e. 5 percent of those actually resistant to an antibiotic test negative). Assume that 2% of those who were screened were antibiotic-resistant. Calculate the likelihood that a person who tests positive is actually immune (random variable D).\n",
    "\n",
    "**Ans.** T = p means Test positive,\n",
    "T = n means Test negative,\n",
    "D = p means person takes drug,\n",
    "D = n means person does not take drugs\n",
    "We know:\n",
    "$P(T = p|D = n) = 0.01 (false positives) \n",
    "(false negatives) P(T = n|D = p) = 0.05 =⇒ P(T = p|D = p) = 0.95 (true positives) \n",
    "P(D = p) = 0.02 =⇒ P(D = n) = 0.98$\n",
    "\n",
    "We want to know the probability that somebody who tests positive is actually taking drugs:\n",
    "\n",
    "$P(D = p|T = p) = P(T = p|D = p)P(D = p)\n",
    "P(T = p)$\n",
    "(Bayes theorem) \n",
    "We do not know P(T = p):\n",
    "$P(T = p) = P(T = p|D = p)P(D = p) + P(T = p|D = n)P(D = n)$\n",
    "We get:\n",
    "$P(D = p|T = p) = P(T = p|D = p)P(D = p)\n",
    "P(T = p)\n",
    "=P(T = p|D = p)P(D = p)\n",
    "P(T = p|D = p)P(D = p) + P(T = p|D = n)P(D = n)\n",
    "=0.95 · 0.02\n",
    "0.95 · 0.02 + 0.01 · 0.98\n",
    "= 0.019/0.0288 ≈ 0.66$\n",
    "\n",
    "There is a chance of only two thirds that someone with a positive test is actually taking drugs.\n",
    "An alternative way to solve this exercise is using decision trees. Let’s assume there are 1000 people tested.\n",
    "Now we can put this together in a contingency table:\n",
    "$D = p D = n sum\n",
    "T = p 19 9.8 28.8\n",
    "T = n 1 970.2 971.2\n",
    "sum 20 980 1000$\n",
    "\n",
    "To determine the probability that somebody who tests positive is actually taking drugs we have to calculate:\n",
    "taking drugs and positive test\n",
    "all positive test =19\n",
    "28.8\n",
    "≈ 0.66"
   ]
  },
  {
   "cell_type": "markdown",
   "id": "d60dab17",
   "metadata": {},
   "source": [
    "### 8. In order to prepare for the test, a student knows that there will be one question in the exam that is either form A, B, or C. The chances of getting an A, B, or C on the exam are 30 percent, 20%, and 50 percent, respectively. During the planning, the student solved 9 of 10 type A problems, 2 of 10 type B problems, and 6 of 10 type C problems.\n",
    "\n",
    "    1. What is the likelihood that the student can solve the exam problem?\n",
    "\n",
    "    2. Given the student's solution, what is the likelihood that the problem was of form A?\n",
    "\n",
    "**Ans.** : What is the probability that you will solve the problem of the exam?\n",
    "Solution: The probability to solve the problem of the exam is the probability of getting a problem of\n",
    "a certain type times the probability of solving such a problem, summed over all types. This is known\n",
    "as the total probability.\n",
    "$P(solved) = P(solved|A)P(A) + P(solved|B)P(B) + P(solved|C)P(C)$</br>\n",
    "$= 9/10 · 30% + 2/10 · 20% + 6/10 · 50% $</br>\n",
    "$= 27/100 + 4/100 + 30/100 = 61/100 = 0.61 .$</br>\n",
    "\n",
    "\n",
    "(b) Given you have solved the problem, what is the probability that it was of type A?\n",
    "Solution: For this to answer we need Bayes theorem.\n",
    "$P(A|solved) = P(solved|A)P(A)$</br>\n",
    "$P(solved) =9/10 · 30/61/100$</br>\n",
    "$=27/100/61/100$</br>\n",
    "$=27/61$</br>\n",
    "$= 0.442...$ . </br>\n",
    "So we see that given you have solved the problem, the a posteriori probability that the problem was of\n",
    "type A is greater than its a priori probability of 30%, because problems of type A are relatively easy to solve.\n"
   ]
  },
  {
   "cell_type": "markdown",
   "id": "69813d66",
   "metadata": {},
   "source": [
    "### 9. A bank installs a CCTV system to track and photograph incoming customers. Despite the constant influx of customers, we divide the timeline into 5 minute bins. There may be a customer coming into the bank with a 5% chance in each 5-minute time period, or there may be no customer (again, for simplicity, we assume that either there is 1 customer or none, not the case of multiple customers). If there is a client, the CCTV will detect them with a 99 percent probability. If there is no customer, the camera can take a false photograph with a 10% chance of detecting movement from other objects.\n",
    "\n",
    "    1. How many customers come into the bank on a daily basis (10 hours)?\n",
    "\n",
    "    2. On a daily basis, how many fake photographs (photographs taken when there is no customer) and how many missed photographs (photographs taken when there is a customer) are there?\n",
    "\n",
    "    3. Explain likelihood that there is a customer if there is a photograph?\n",
    "\n",
    "**Ans.** \n",
    "\n",
    "1. How many airplanes fly over the radar station on average per day (24 hours)?\n",
    "Solution: There are 24×12 = 288 five-minute periods per day. In each period there is a probability of\n",
    "5% for an airplane being present. Thus the average number of airplanes is 288×5% = 288×0.05 = 14.4.\n",
    "\n",
    "2. How many false alarms (there is an alarm even though there is no airplane) and how many false no-alarms (there is no alarm even though there is an airplane) are there on average per day.\n",
    "Solution: On average there is no airplane in 288 − 14.4 of the five-minute periods. This times the probability of 10% per period for a false alarm yields (288 − 14.4) × 10% = 273.6 × 0.1 = 27.36 false alarms.\n",
    "\n",
    "On average there are 14.4 airplanes, each of which has a probability of 1% of getting missed. Thus the number of false no-alarms is 14.4 × 1% = 14.4 × 0.01 = 0.144. there is an alarm, what is the probability that there is indeed an airplane?\n",
    "Solution: For this question we need Bayes theorem.\n",
    "$P(airplane|alarm) =P(alarm|airplane)P(airplane)/P(alarm)\n",
    "=P(alarm|airplane)P(airplane)/\n",
    "(P(alarm|airplane)P(airplane) + P(alarm|no airplane)P(no airplane) )\n",
    "=(0.99 · 0.05)/(0.99 · 0.05 + 0.1 · (1 − 0.05))\n",
    "= 0.342... \n",
    "≈ 0.05/(0.05 + 0.1)\n",
    "= 0.333... . \n",
    "\n",
    "\n",
    "\n",
    "It might be somewhat surprising that the probability of an airplane being present given an alarm is\n",
    "only 34% even though the detection of an airplane is so reliable (99%). The reason is that airplanes are\n",
    "not so frequent (only 5%) and the probability for an alarm given no airplane is relatively high (10%)\n"
   ]
  },
  {
   "cell_type": "markdown",
   "id": "5b3ffaa5",
   "metadata": {},
   "source": [
    "### 10. Create the conditional probability table associated with the node Won Toss in the Bayesian Belief network to represent the conditional independence assumptions of the Nave Bayes classifier for the match winning prediction problem in Section 6.4.4.\n",
    "\n",
    "**Ans.**"
   ]
  }
 ],
 "metadata": {
  "kernelspec": {
   "display_name": "Python 3 (ipykernel)",
   "language": "python",
   "name": "python3"
  },
  "language_info": {
   "codemirror_mode": {
    "name": "ipython",
    "version": 3
   },
   "file_extension": ".py",
   "mimetype": "text/x-python",
   "name": "python",
   "nbconvert_exporter": "python",
   "pygments_lexer": "ipython3",
   "version": "3.10.2"
  }
 },
 "nbformat": 4,
 "nbformat_minor": 5
}
