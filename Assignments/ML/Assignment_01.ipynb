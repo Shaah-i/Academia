{
 "cells": [
  {
   "cell_type": "markdown",
   "id": "daff0fb8",
   "metadata": {},
   "source": [
    "# Assignment_01"
   ]
  },
  {
   "cell_type": "markdown",
   "id": "dced5dde",
   "metadata": {},
   "source": [
    "### 1. What does one mean by the term \"machine learning\"?\n",
    "\n",
    "**Ans.** Machine Learning is an AI technique that teaches computers to learn from experience. Machine learning algorithms use computational methods to “learn” information directly from data without relying on a predetermined equation as a model."
   ]
  },
  {
   "cell_type": "markdown",
   "id": "26d8e19c",
   "metadata": {},
   "source": [
    "### 2.Can you think of 4 distinct types of issues where it shines?\n",
    "\n",
    "**Ans.**\n",
    "\n",
    "+ **Computer Vision** :  Computer vision is one of the most common applications of machine learning. It is used to identify text, objects, people, place, things etc. The popular usecase is grouping images according to type e.g. sky, landscape, indoor, sea etc.\n",
    "\n",
    "+ **Segmentation** : Machine learning is widely used by various platforms for creating segments and then giving a recommendation based on that.\n",
    "\n",
    "+ **Natural Language Processing (NLP)** :  While viewing a foreign site we usually get an option to translate the page to local language, this comes under NLP. In this the process of converting understanding the content sentiment and converting it into local language with same sentiments is done. It is used by almost all sites.\n",
    "\n",
    "+ **Price prediction** :  It predicts price of various things like air tickets, gold, shares, cryptocurrencies etc. It usually considers trends from past times and predict the future for us."
   ]
  },
  {
   "cell_type": "markdown",
   "id": "9a0503a6",
   "metadata": {},
   "source": [
    "### 3.What is a labeled training set, and how does it work?\n",
    "\n",
    "**Ans.** You split up the data containing known response variable values into two pieces. The training set is used to train the algorithm, and then we use the trained model on the test set to predict the response variable values that are already known. This is done to evaluate the model properly and helps us understand the data properly."
   ]
  },
  {
   "cell_type": "markdown",
   "id": "63f820f2",
   "metadata": {},
   "source": [
    "### 4.What are the two most important tasks that are supervised?\n",
    "\n",
    "**Ans.** The two most common supervised learning tasks are Regression and Classification."
   ]
  },
  {
   "cell_type": "markdown",
   "id": "c545d3ae",
   "metadata": {},
   "source": [
    "### 5.Can you think of four examples of unsupervised tasks?\n",
    "\n",
    "**Ans.** Four common Unsupervised Tasks included Clustering, Visualization, Dimensionality Reduction, and Association Rule Learning."
   ]
  },
  {
   "cell_type": "markdown",
   "id": "f4a4e120",
   "metadata": {},
   "source": [
    "### 6.State the machine learning model that would be best to make a robot walk through various unfamiliar terrains?\n",
    "\n",
    "**Ans.** The best Machine Learning algorithm to allow a Robot to walk in unfamiliar terrains is Reinforced Learning, where the robot can learn from response of the terrain to optimize itself."
   ]
  },
  {
   "cell_type": "markdown",
   "id": "4c7b18f0",
   "metadata": {},
   "source": [
    "### 7.Which algorithm will you use to divide your customers into different groups?\n",
    "\n",
    "**Ans.** The Best way to Segment Customers into different known groups is  Supervised Learning. For which we can use algorithms like KNN, SVM, RandomForest, Logistic regression etc."
   ]
  },
  {
   "cell_type": "markdown",
   "id": "551842e5",
   "metadata": {},
   "source": [
    "### 8.Will you consider the problem of spam detection to be a supervised or unsupervised learning problem?\n",
    "\n",
    "**Ans.** Spam detection is a Supervised Machine Learning problem because the labels are known (spam or ham)."
   ]
  },
  {
   "cell_type": "markdown",
   "id": "a4646e6d",
   "metadata": {},
   "source": [
    "### 9.What is the concept of an online learning system?\n",
    "\n",
    "**Ans.** Online learning system is a learning system in which the machine learns continously, as data is given in small streams continuously."
   ]
  },
  {
   "cell_type": "markdown",
   "id": "5bfa698f",
   "metadata": {},
   "source": [
    "### 10.What is out-of-core learning, and how does it differ from core learning?\n",
    "\n",
    "**Ans.** Out-of-core learning system is a system that can handle data that cannot fit into your computer memory. It uses online learning system to feed data in small bits."
   ]
  },
  {
   "cell_type": "markdown",
   "id": "957bdda9",
   "metadata": {},
   "source": [
    "### 11.What kind of learning algorithm makes predictions using a similarity measure?\n",
    "\n",
    "**Ans.** Learning algorithm that relies on a similarity measure to make predictions is Instance Based Algorithm."
   ]
  },
  {
   "cell_type": "markdown",
   "id": "246713a3",
   "metadata": {},
   "source": [
    "### 12.What's the difference between a model parameter and a hyperparameter in a learning algorithm?\n",
    "\n",
    "**Ans.** Model parameter determines how a model will predict given a new instance. Model usually has more than one parameter (i.e. slope of a linear model). Hyperparameter is a parameter for the learning algorithm, not of a model."
   ]
  },
  {
   "cell_type": "markdown",
   "id": "d7c5d377",
   "metadata": {},
   "source": [
    "### 13.What are the criteria that model-based learning algorithms look for? What is the most popular method they use to achieve success? What method do they use to make predictions?\n",
    "\n",
    "**Ans.** Model based learning algorithm search for the optimal value of parameters in a model that will give the best results for the new instance. We often use a cost function or similar to determine what the parameter value has to be in order to minimise the function. The model makes predictions by using the value of the new instance and the parameter in the functions."
   ]
  },
  {
   "cell_type": "markdown",
   "id": "8ac89985",
   "metadata": {},
   "source": [
    "### 14.Can you name four of the most important Machine Learning challenges?\n",
    "\n",
    "**Ans.**\n",
    "1. Overfitting the data.\n",
    "2. Underfitting the data.\n",
    "3. Lacking data.\n",
    "4. Non representative data.\n",
    "5. Dimensionality curse."
   ]
  },
  {
   "cell_type": "markdown",
   "id": "a104db4a",
   "metadata": {},
   "source": [
    "### 15.What happens if the model performs well on the training data but fails to generalize the results to new situations? Can you think of three different options?\n",
    "\n",
    "**Ans.**  If the model performs poorly to new instances, then it has overfitted on the training data. To solve this, we can do any of the following three:\n",
    "\n",
    "* Get more data\n",
    "* Implement a simpler model\n",
    "* Eliminate outliers or noise from the existing data set."
   ]
  },
  {
   "cell_type": "markdown",
   "id": "4d19909e",
   "metadata": {},
   "source": [
    "### 16.What exactly is a test set, and why would you need one?\n",
    "\n",
    "**Ans.** Test set is a set to test your model (fit using training data) to see how it performs. Test set is necessary to determine how good (or bad) a model performs."
   ]
  },
  {
   "cell_type": "markdown",
   "id": "52c16fed",
   "metadata": {},
   "source": [
    "### 17.What is a validation set's purpose?\n",
    "\n",
    "**Ans.** Validation set is a set used to compare between different training models."
   ]
  },
  {
   "cell_type": "markdown",
   "id": "809437ec",
   "metadata": {},
   "source": [
    "### 18.What precisely is the train-dev kit, when will you need it, how do you put it to use?\n",
    "\n",
    "**Ans.** Cross-validation is a tool to compare models without needing a separate validation set. It is preferred over validation set because we can save from breaking of part of the training set to create a validation set, as having more data is valuable regardless."
   ]
  },
  {
   "cell_type": "markdown",
   "id": "58f6cc34",
   "metadata": {},
   "source": [
    "### 19.What could go wrong if you use the test set to tune hyperparameters?\n",
    "\n",
    "**Ans.** If you tune hyperparameters using the test sets, then it may not perform well on the out-of-sample data because the model is tuned just for that specific set."
   ]
  }
 ],
 "metadata": {
  "kernelspec": {
   "display_name": "Python 3 (ipykernel)",
   "language": "python",
   "name": "python3"
  },
  "language_info": {
   "codemirror_mode": {
    "name": "ipython",
    "version": 3
   },
   "file_extension": ".py",
   "mimetype": "text/x-python",
   "name": "python",
   "nbconvert_exporter": "python",
   "pygments_lexer": "ipython3",
   "version": "3.10.2"
  }
 },
 "nbformat": 4,
 "nbformat_minor": 5
}
