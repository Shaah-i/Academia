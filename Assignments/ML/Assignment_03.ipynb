{
 "cells": [
  {
   "cell_type": "markdown",
   "id": "daff0fb8",
   "metadata": {},
   "source": [
    "# Assignment_03"
   ]
  },
  {
   "cell_type": "markdown",
   "id": "dced5dde",
   "metadata": {},
   "source": [
    "### 1.Explain the term machine learning, and how does it work? Explain two machine learning applications in the business world. What are some of the ethical concerns that machine learning applications could raise?\n",
    "\n",
    "**Ans.**\n",
    "\n",
    "Machine Learning is an AI technique that teaches computers to learn from experience. Machine learning algorithms use computational methods to “learn” information directly from data without relying on a predetermined equation as a model. The algorithms adaptively improve their performance as the number of samples available for learning increases. Deep learning is a specialized form of machine learning.\n",
    "\n",
    "Machine learning uses two types of techniques: supervised learning, which trains a model on known input and output data so that it can predict future outputs, and unsupervised learning, which finds hidden patterns or intrinsic structures in input data.\n",
    "\n"
   ]
  },
  {
   "cell_type": "markdown",
   "id": "e6db3adf",
   "metadata": {},
   "source": [
    "### 2. Describe the process of human learning:\n",
    "           i. Under the supervision of experts\n",
    "\n",
    "           ii. With the assistance of experts in an indirect manner\n",
    "\n",
    "            iii. Self-education\n",
    "\n",
    "**Ans.** The processes of Human learning are described below:\n",
    "\n",
    "**`Under the supervision of experts`**: Human-guided machine learning is a process whereby subject matter experts accelerate the learning process by teaching the technology in real-time. For example, if the machine learning model comes across a piece of data it is uncertain about, a human can be asked to weigh in and give feedback. The model then learns from this input, and uses it to make a more accurate prediction the next time. Human-guided machine learning works from the bottom up by first using algorithms to conduct the heavy lifting of identifying relationships within the data, and engaging humans when necessary for training or validation Concept Learning.\n",
    "\n",
    "**`With the assistance of experts in an indirect manner`**: Well The process of an algorithm learning from the training dataset can be thought of as a teacher supervising the learning process. We know the correct answers, the algorithm iteratively makes predictions on the training data and is corrected by the teacher. Learning stops when the algorithm achieves an acceptable level of performance Operant Conditioning.\n",
    "\n",
    "**`Self education`**: Ability to recognize patterns, learn from data, and become more intelligent over time (can be AI or programmatically based).Machine Learning: AI systems with ability to automatically learn and improve from experience without being explicitly programmed via training Hebbian Learning."
   ]
  },
  {
   "cell_type": "markdown",
   "id": "2280665f",
   "metadata": {},
   "source": [
    "### 3. Provide a few examples of various types of machine learning.\n",
    "\n",
    "**Ans.** Examples of Various types of Machine Learning techniques are:\n",
    "\n",
    "Example of **`Supervised Learning`** is text classification problems. In this set of problems, the goal is to predict the class label of a given piece of text. One particularly popular topic in text classification is to predict the sentiment of a piece of text, like a tweet or a product review,Image segmentation, Medical Diagnosis\n",
    "\n",
    "Example of **`Unsupervised Learning`** : Fraud detection, Malware detection, Anomaly detection, Clustering Analysis, Identification of human errors during data entry Conducting accurate basket analysis, etc.\n",
    "\n",
    "Example of **`Reinforcement Learning`** : Applications in self-driving cars, Industry automation : learning-based robots are used to perform various tasks."
   ]
  },
  {
   "cell_type": "markdown",
   "id": "4dd5bd12",
   "metadata": {},
   "source": [
    "### 4. Examine the various forms of machine learning.\n",
    "\n",
    "**Ans.** These are three types of Machine Learning Techniques:\n",
    "\n",
    "1. Supervised Learning\n",
    "2. Unsupervised Learning\n",
    "3. Reinforcement Learning."
   ]
  },
  {
   "cell_type": "markdown",
   "id": "94e974b2",
   "metadata": {},
   "source": [
    "### 5. Can you explain what a well-posed learning problem is? Explain the main characteristics that must be present to identify a learning problem properly.\n",
    "\n",
    "**Ans.** *Well Posed Learning Problem* – A computer program is said to learn from experience `E` in context to some task `T` and some performance measure `P`, if its performance on `T`, as was measured by `P`, upgrades with experience E.Any problem can be segregated as well-posed learning problem if it has three traits – `Task`, `Performance` and `Experience`."
   ]
  },
  {
   "cell_type": "markdown",
   "id": "859d8c8c",
   "metadata": {},
   "source": [
    "### 6. Is machine learning capable of solving all problems? Give a detailed explanation of your answer.\n",
    "\n",
    "**Ans.** Machine Learning probably can run into all problems for solving but lays down with some concerns which are:\n",
    "\n",
    "**`Ethics`**: The idea of trusting data and algorithms more than our own judgment has its pros and cons.Obviously, we benefit from these algorithms, otherwise, we wouldn’t be using them in the first place. These algorithms allow us to automate processes by making informed judgments using available data. Sometimes, however, this means replacing someone’s job with an algorithm, which comes with ethical ramifications.\n",
    "\n",
    "**`Deterministic Problem`**: Machine learning is stochastic, not deterministic. A neural network does not understand Newton’s second law, or that density cannot be negative — there are no physical constraints.\n",
    "\n",
    "**`Lack of Data`**: Many machine learning algorithms require large amounts of data before they begin to give useful results."
   ]
  },
  {
   "cell_type": "markdown",
   "id": "fa5c7e6a",
   "metadata": {},
   "source": [
    "### 7. What are the various methods and technologies for solving machine learning problems? Any two of them should be defined in detail.\n",
    "\n",
    "**Ans.** The Various Technologies Used in Machine Learning Problems are: `Scikit Learn`, `Pytorch`, `Tensorflow, Keras`, `Python`.\n",
    "\n",
    "   1. **`Scikit Learn`**: Scikit-learn (Sklearn) is the most useful and robust library for machine learning in Python. It provides a selection of efficient tools for machine learning and statistical modeling including classification, Regression, clustering and dimensionality reduction via a consistence interface in Python.\n",
    "   2. **`Tensorflow`**: It is a open source artificial intelligence library, Using data flow graphs to build models. It allows developers to create large-scale neural networks with many layers. TensorFlow is mainly used for: Classification, Perception, Understanding, Discovering, Prediction and Creation.\n",
    "\n",
    "The Various Methods used in Machine Learning Problems are: Regression, Classification, Clustering, Dimensionality Reductio, Ensemble Methods, Neural Network, Deep Learning, Transfer Learning, Reinforcement Learning, Natural Language Processing, Word Embeddings.\n",
    "\n",
    "**`Regression`** methods fall within the category of supervised ML. They help to predict or explain a particular numerical value based on a set of prior data, for example predicting the price of a property based on previous pricing data for similar properties.\n",
    "\n",
    "Another class of supervised ML, **`classification`** methods predict or explain a class value. For example, they can help predict whether or not an online customer will buy a product. The output can be yes or no, buyer or not buyer. But classification methods aren’t limited to two classes. For example, a classification method could help to assess whether a given image contains a car or a truck. In this case, the output will be 3 different values:\n",
    "\n",
    "1. The image contains a car\n",
    "2. The image contains a truck\n",
    "3. The image contains neither a car nor a truck."
   ]
  },
  {
   "cell_type": "markdown",
   "id": "d60dab17",
   "metadata": {},
   "source": [
    "### 8. Can you explain the various forms of supervised learning? Explain each one with an example application.\n",
    "\n",
    "**Ans.** The various forms of supervised learning are explained in detail below:\n",
    "\n",
    "**`Regression`**: In regression, a single output value is produced using training data.For example, regression can help predict the price of a house based on its locality, size, etc.</br>\n",
    "**`Decision Trees`**: A decision tree is a flowchart-like model that contains conditional control statements, comprising decisions and their probable consequences. The output relates to the labelling of unforeseen data.</br>\n",
    "</br>\n",
    "**`Classification`**: It involves grouping the data into classes.eg. If you are thinking of extending credit to a person, you can use classification to determine whether or not a person would be a loan defaulter.</br>\n",
    "**`Naive Bayesian Model`**: The Bayesian model of classification is used for large finite datasets. It is a method of assigning class labels using a direct acyclic graph.</br>"
   ]
  },
  {
   "cell_type": "markdown",
   "id": "69813d66",
   "metadata": {},
   "source": [
    "### 9. What is the difference between supervised and unsupervised learning? With a sample application in each region, explain the differences.\n",
    "\n",
    "**Ans.** Ans: Supervised learning algorithms are trained using labeled data. Unsupervised learning algorithms are trained using unlabeled data.In unsupervised learning, only input data is provided to the model.\n",
    "\n",
    "Examples:</br>\n",
    "**`Supervised Learning`** : Classification and Regression.</br>\n",
    "**`Unsuperised Learning`** : Clustering.</br>"
   ]
  },
  {
   "cell_type": "markdown",
   "id": "5b3ffaa5",
   "metadata": {},
   "source": [
    "### 10. Describe the machine learning process in depth.\n",
    "a. Make brief notes on any two of the following:\n",
    "\n",
    "    i. MATLAB is one of the most widely used programming languages.\n",
    "\n",
    "    ii. Deep learning applications in healthcare\n",
    "\n",
    "    iii. Study of the market basket\n",
    "\n",
    "    iv. Linear regression (simple)\n",
    "\n",
    "**Ans.** \n",
    "\n",
    "**MATLAB is one of the most widely used programming languages.**\n",
    "\n",
    "In 2022 this is not the case according to an article from [Northeastern University](https://www.northeastern.edu/graduate/blog/most-popular-programming-languages/).\n",
    "Although this being the cas matlab is a very powerful tool. The famous numpy library in python comes inspired from the inbuilt functios in Matlab. Matlab is mostly used in scientific research field. In matlab we can create apps with drag and drop for frontend and only backend needs to be handeled. The only drawback is it a proprietary language.\n",
    "\n",
    "**Linear regression (simple)**\n",
    "\n",
    "Simple linear regression is used to estimate the relationship between two quantitative variables. You can use simple linear regression when you want to know:\n",
    "\n",
    "* How strong the relationship is between two variables (e.g. the relationship between rainfall and soil erosion).\n",
    "* The value of the dependent variable at a certain value of the independent variable (e.g. the amount of soil erosion at a certain level of rainfall)."
   ]
  },
  {
   "cell_type": "markdown",
   "id": "db40ce4d",
   "metadata": {},
   "source": [
    "### 11. Make a comparison between:-\n",
    "\n",
    "         1. Generalization and abstraction\n",
    "\n",
    "          2. Learning that is guided and unsupervised\n",
    "\n",
    "          3. Regression and classification\n",
    "\n",
    "**Ans.** The differences between among the given concepts is:\n",
    "\n",
    "**`Generalization and abstraction`**: Abstraction is the process of removing details of objects. And Generalization, then, is the formulation of general concepts from specific instances by abstracting common properties. A concrete object can be looked at as a “subset” of a more generalized object.\n",
    "\n",
    "**`Learning that is guided and Unsupervised`**: Supervised learning is the method that trains machines to use data that is well classified and labeled. Whereas Unsupervised learning, on the other hand, is the method that trains machines to use data that is neither classified nor labeled.\n",
    "\n",
    "**`Regression and classification`**:\n",
    "\n",
    "*Classification Models* – Classification models are used for problems where the output variable can be categorized, such as `Yes` or `No` OR `Pass` or `Fail`. Classification Models are used to predict the category of the data. Real-life examples include spam detection, sentiment analysis, scorecard prediction of exams, etc.\n",
    "\n",
    "*Regression Models* – Regression models are used for problems where the output variable is a real value such as a unique number, dollars, salary, weight or pressure, for example. It is most often used to predict numerical values based on previous data observations. Some of the more familiar regression algorithms include linear regression, logistic regression, polynomial regression, and ridge regression."
   ]
  }
 ],
 "metadata": {
  "kernelspec": {
   "display_name": "Python 3 (ipykernel)",
   "language": "python",
   "name": "python3"
  },
  "language_info": {
   "codemirror_mode": {
    "name": "ipython",
    "version": 3
   },
   "file_extension": ".py",
   "mimetype": "text/x-python",
   "name": "python",
   "nbconvert_exporter": "python",
   "pygments_lexer": "ipython3",
   "version": "3.10.2"
  }
 },
 "nbformat": 4,
 "nbformat_minor": 5
}
