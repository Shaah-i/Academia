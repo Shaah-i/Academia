{
 "cells": [
  {
   "cell_type": "markdown",
   "id": "daff0fb8",
   "metadata": {},
   "source": [
    "# Assignment_08"
   ]
  },
  {
   "cell_type": "markdown",
   "id": "dced5dde",
   "metadata": {},
   "source": [
    "### 1. What exactly is a feature? Give an example to illustrate your point.\n",
    "\n",
    "**Ans.** Features are the basic building blocks of datasets. The quality of the features in your dataset has a major impact on the quality of the insights you will gain when you use that dataset for machine learning.\n",
    "\n",
    "Additionally, different business problems within the same industry do not necessarily require the same features, which is why it is important to have a strong understanding of the business goals of your data science project."
   ]
  },
  {
   "cell_type": "markdown",
   "id": "e6db3adf",
   "metadata": {},
   "source": [
    "### 2. What are the various circumstances in which feature construction is required?\n",
    "\n",
    "**Ans.** The features in your data will directly influence the predictive models you use and the results you can achieve. Your results are dependent on many inter-dependent properties. You need great features that describe the structures inherent in your data. Better features means flexibility."
   ]
  },
  {
   "cell_type": "markdown",
   "id": "2280665f",
   "metadata": {},
   "source": [
    "### 3. Describe how nominal variables are encoded.\n",
    "\n",
    "**Ans.** Nominal data is made of discrete values with no numerical relationship between the different categories — mean and median are meaningless. Animal species is one example. For example, pig is not higher than bird and lower than fish."
   ]
  },
  {
   "cell_type": "markdown",
   "id": "4dd5bd12",
   "metadata": {},
   "source": [
    "### 4. Describe how numeric features are converted to categorical features.\n",
    "\n",
    "**Ans.** Converting categorical to numerical features is easy using various encoding techniques but numeric features converted to categorical is a bit difficult. It can be done by dividing data into different class.\n",
    "For example scores of students in exam can be converted into grades by creating a range of marks for each grade. eg. `<35 : F, 35-45 : E, 46-55 : D, 56-65 : C, 66-75 : B, 76-85 : A, >85 : A+`\n",
    "So each students will get grades according to the marks they have obtained."
   ]
  },
  {
   "cell_type": "markdown",
   "id": "94e974b2",
   "metadata": {},
   "source": [
    "### 5. Describe the feature selection wrapper approach. State the advantages and disadvantages of this approach?\n",
    "\n",
    "**Ans.** Wrapper methods measure the “usefulness” of features based on the classifier performance. In contrast, the filter methods pick up the intrinsic properties of the features (i.e., the “relevance” of the features) measured via univariate statistics instead of cross-validation performance.\n",
    "\n",
    "The wrapper classification algorithms with joint dimensionality reduction and classification can also be used but these methods have high computation cost, lower discriminative power. Moreover, these methods depend on the efficient selection of classifiers for obtaining high accuracy"
   ]
  },
  {
   "cell_type": "markdown",
   "id": "859d8c8c",
   "metadata": {},
   "source": [
    "### 6. When is a feature considered irrelevant? What can be said to quantify it?\n",
    "\n",
    "**Ans.** Features are considered relevant if they are either strongly or weakly relevant, and are considered irrelevant otherwise.\n",
    "\n",
    "Irrelevant features can never contribute to prediction accuracy, by definition. Also to quantify it we need to first check the list of features, There are three types of feature selection:\n",
    "\n",
    "* Wrapper methods (forward, backward, and stepwise selection)\n",
    "* Filter methods (ANOVA, Pearson correlation, variance thresholding)\n",
    "* Embedded methods (Lasso, Ridge, Decision Tree)."
   ]
  },
  {
   "cell_type": "markdown",
   "id": "fa5c7e6a",
   "metadata": {},
   "source": [
    "### 7. When is a function considered redundant? What criteria are used to identify features that could be redundant?\n",
    "\n",
    "**Ans.** If two features `{X1, X2}` are highly correlated, then the two features become redundant features since they have same information in terms of correlation measure. In other words, the correlation measure provides statistical association between any given a pair of features.\n",
    "\n",
    "Minimum redundancy feature selection is an algorithm frequently used in a method to accurately identify characteristics of genes and phenotypes"
   ]
  },
  {
   "cell_type": "markdown",
   "id": "d60dab17",
   "metadata": {},
   "source": [
    "### 8. What are the various distance measurements used to determine feature similarity?\n",
    "\n",
    "**Ans.**  Four of the most commonly used distance measures in machine learning are as follows:\n",
    "\n",
    "* Hamming Distance.\n",
    "* Euclidean Distance\n",
    "* Manhattan Distance."
   ]
  },
  {
   "cell_type": "markdown",
   "id": "69813d66",
   "metadata": {},
   "source": [
    "### 9. State difference between Euclidean and Manhattan distances?\n",
    "\n",
    "**Ans.** The Manhattan distance is like going from start to destination by car following the road while Euclidean distance is like the arial distance. This can be better understood by the image below:\n",
    "\n",
    "<img src=\"data:image/png;base64,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\" style=\"cursor:pointer;max-width:100%;\" onclick=\"(function(img){if(img.wnd!=null&&!img.wnd.closed){img.wnd.focus();}else{var r=function(evt){if(evt.data=='ready'&&evt.source==img.wnd){img.wnd.postMessage(decodeURIComponent(img.getAttribute('src')),'*');window.removeEventListener('message',r);}};window.addEventListener('message',r);img.wnd=window.open('https://viewer.diagrams.net/?client=1&page=0&edit=_blank');}})(this);\"/>"
   ]
  },
  {
   "cell_type": "markdown",
   "id": "bd2bc4c4",
   "metadata": {},
   "source": [
    "### 10. Distinguish between feature transformation and feature selection.\n",
    "\n",
    "**Ans.** Feature selection is for filtering irrelevant or redundant features from your dataset. The key difference between feature selection and transformation is that feature selection keeps a subset of the original features while feature transformation converting the features into workable form."
   ]
  }
 ],
 "metadata": {
  "kernelspec": {
   "display_name": "Python 3 (ipykernel)",
   "language": "python",
   "name": "python3"
  },
  "language_info": {
   "codemirror_mode": {
    "name": "ipython",
    "version": 3
   },
   "file_extension": ".py",
   "mimetype": "text/x-python",
   "name": "python",
   "nbconvert_exporter": "python",
   "pygments_lexer": "ipython3",
   "version": "3.10.2"
  }
 },
 "nbformat": 4,
 "nbformat_minor": 5
}
