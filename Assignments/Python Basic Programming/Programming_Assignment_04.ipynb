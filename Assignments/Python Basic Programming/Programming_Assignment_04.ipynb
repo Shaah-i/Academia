{
 "cells": [
  {
   "cell_type": "markdown",
   "id": "07e87f28",
   "metadata": {},
   "source": [
    "# Programming_Assignment_04"
   ]
  },
  {
   "cell_type": "markdown",
   "id": "c71c991b",
   "metadata": {},
   "source": [
    "#### 1. Write a Python Program to Find the Factorial of a Number?"
   ]
  },
  {
   "cell_type": "code",
   "execution_count": 1,
   "id": "4fd7359c",
   "metadata": {},
   "outputs": [
    {
     "data": {
      "text/plain": [
       "1"
      ]
     },
     "execution_count": 1,
     "metadata": {},
     "output_type": "execute_result"
    }
   ],
   "source": [
    "def fact(i):\n",
    "    fact=1\n",
    "    for num in range(2,i+1):\n",
    "        fact *= num\n",
    "#         print(fact)\n",
    "    return fact\n",
    "\n",
    "\n",
    "fact(0)"
   ]
  },
  {
   "cell_type": "markdown",
   "id": "ea3a012c",
   "metadata": {},
   "source": [
    "#### 2. Write a Python Program to Display the multiplication Table?"
   ]
  },
  {
   "cell_type": "code",
   "execution_count": 2,
   "id": "066fb68a",
   "metadata": {},
   "outputs": [
    {
     "name": "stdout",
     "output_type": "stream",
     "text": [
      "5  x  1  =  5\n",
      "5  x  2  =  10\n",
      "5  x  3  =  15\n",
      "5  x  4  =  20\n",
      "5  x  5  =  25\n",
      "5  x  6  =  30\n",
      "5  x  7  =  35\n",
      "5  x  8  =  40\n",
      "5  x  9  =  45\n",
      "5  x  10  =  50\n",
      "**************************************************\n",
      "18  x  1  =  18\n",
      "18  x  2  =  36\n",
      "18  x  3  =  54\n",
      "18  x  4  =  72\n",
      "18  x  5  =  90\n",
      "18  x  6  =  108\n",
      "18  x  7  =  126\n",
      "18  x  8  =  144\n",
      "18  x  9  =  162\n",
      "18  x  10  =  180\n"
     ]
    }
   ],
   "source": [
    "def table(i):\n",
    "    j=0\n",
    "    for mult in range (1,11):\n",
    "        j+=i\n",
    "        print(i,\" x \",mult,\" = \", j)\n",
    "table(5)\n",
    "print(\"*\"*50)\n",
    "table(18)"
   ]
  },
  {
   "cell_type": "markdown",
   "id": "db91c63b",
   "metadata": {},
   "source": [
    "#### 3. Write a Python Program to Print the Fibonacci sequence?"
   ]
  },
  {
   "cell_type": "code",
   "execution_count": 3,
   "id": "32b8290c",
   "metadata": {},
   "outputs": [
    {
     "name": "stdout",
     "output_type": "stream",
     "text": [
      "0\n",
      "1\n",
      "1\n",
      "2\n",
      "3\n",
      "5\n",
      "8\n",
      "13\n",
      "21\n"
     ]
    }
   ],
   "source": [
    "def fibo(n):\n",
    "    n1 = 0\n",
    "    n2 = 1\n",
    "    count = 0\n",
    "    if n <= 0:\n",
    "        print(\"Input natural numbers only\")\n",
    "    elif n == 1:\n",
    "        print(n1)\n",
    "    else:\n",
    "        while count <= n:\n",
    "            print(n1)\n",
    "            nex = n1+n2\n",
    "            \n",
    "            n1 = n2\n",
    "            n2 = nex\n",
    "            count += 1\n",
    "        \n",
    "fibo(8)"
   ]
  },
  {
   "cell_type": "markdown",
   "id": "31f51497",
   "metadata": {},
   "source": [
    "#### 4. Write a Python Program to Check Armstrong Number?"
   ]
  },
  {
   "cell_type": "code",
   "execution_count": 4,
   "id": "6b419908",
   "metadata": {},
   "outputs": [
    {
     "name": "stdout",
     "output_type": "stream",
     "text": [
      "153 is an Armstrong Number\n",
      "1634 is an Armstrong Number\n",
      "1 is an Armstrong Number\n",
      "2 is an Armstrong Number\n",
      "100 is not an Armstrong Number\n"
     ]
    }
   ],
   "source": [
    "def isArmstrong(i):\n",
    "    i=str(i)\n",
    "    lst=list(i)\n",
    "    power_sum = 0\n",
    "    for s in lst:\n",
    "        power_sum += int(s)**len(lst)\n",
    "    if power_sum == int(i):\n",
    "        print(i, \"is an Armstrong Number\")\n",
    "    else:\n",
    "        print(i, \"is not an Armstrong Number\")\n",
    "\n",
    "isArmstrong(153)\n",
    "isArmstrong(1634)\n",
    "isArmstrong(1)\n",
    "isArmstrong(2)\n",
    "isArmstrong(100)"
   ]
  },
  {
   "cell_type": "markdown",
   "id": "0f38661b",
   "metadata": {},
   "source": [
    "#### 5. Write a Python Program to Find Armstrong Number in an Interval?"
   ]
  },
  {
   "cell_type": "code",
   "execution_count": 5,
   "id": "9d467115",
   "metadata": {},
   "outputs": [
    {
     "data": {
      "text/plain": [
       "[0, 1, 2, 3, 4, 5, 6, 7, 8, 9, 153, 370, 371, 407]"
      ]
     },
     "execution_count": 5,
     "metadata": {},
     "output_type": "execute_result"
    }
   ],
   "source": [
    "def astrngSeries(a,b):\n",
    "    asn=[]\n",
    "    nasn=[]\n",
    "    for i in range(a,b+1):\n",
    "        lst=list(str(i))\n",
    "        power_sum = 0\n",
    "        for s in lst:\n",
    "            power_sum += int(s)**len(lst)\n",
    "        if power_sum == i:\n",
    "            asn.append(i)\n",
    "        else:\n",
    "            nasn.append(i)\n",
    "    return asn\n",
    "\n",
    "astrngSeries(0,500)\n",
    "        "
   ]
  },
  {
   "cell_type": "markdown",
   "id": "bff435d5",
   "metadata": {},
   "source": [
    "#### 6. Write a Python Program to Find the Sum of Natural Numbers?"
   ]
  },
  {
   "cell_type": "code",
   "execution_count": 6,
   "id": "45b8719d",
   "metadata": {},
   "outputs": [
    {
     "name": "stdout",
     "output_type": "stream",
     "text": [
      "CPU times: total: 0 ns\n",
      "Wall time: 8.01 ms\n"
     ]
    },
    {
     "data": {
      "text/plain": [
       "5000050000"
      ]
     },
     "execution_count": 6,
     "metadata": {},
     "output_type": "execute_result"
    }
   ],
   "source": [
    "# natural numbers start from 1.\n",
    "\n",
    "def sumNatural(a):\n",
    "    s=0\n",
    "    for i in range(1,a+1):\n",
    "        s+=i\n",
    "    return s\n",
    "\n",
    "%time sumNatural(100000)"
   ]
  },
  {
   "cell_type": "code",
   "execution_count": 7,
   "id": "e3c7c6a1",
   "metadata": {},
   "outputs": [
    {
     "name": "stdout",
     "output_type": "stream",
     "text": [
      "CPU times: total: 0 ns\n",
      "Wall time: 0 ns\n",
      "CPU times: total: 15.6 ms\n",
      "Wall time: 1.02 ms\n"
     ]
    },
    {
     "data": {
      "text/plain": [
       "5000050000"
      ]
     },
     "execution_count": 7,
     "metadata": {},
     "output_type": "execute_result"
    }
   ],
   "source": [
    "# with lesser computation time\n",
    "\n",
    "def sumNaturalS(n):\n",
    "    a=1 #1 as difference between series\n",
    "    %time s= (n/2)*(a+n)\n",
    "    s= (n/2)*(a+n)\n",
    "    return int(s)\n",
    "\n",
    "%time sumNaturalS(100000)"
   ]
  }
 ],
 "metadata": {
  "kernelspec": {
   "display_name": "Python 3 (ipykernel)",
   "language": "python",
   "name": "python3"
  },
  "language_info": {
   "codemirror_mode": {
    "name": "ipython",
    "version": 3
   },
   "file_extension": ".py",
   "mimetype": "text/x-python",
   "name": "python",
   "nbconvert_exporter": "python",
   "pygments_lexer": "ipython3",
   "version": "3.10.2"
  }
 },
 "nbformat": 4,
 "nbformat_minor": 5
}
