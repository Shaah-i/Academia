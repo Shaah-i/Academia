{
 "cells": [
  {
   "cell_type": "markdown",
   "id": "ff6d1a7b",
   "metadata": {},
   "source": [
    "# Programming_Assignment_08"
   ]
  },
  {
   "cell_type": "markdown",
   "id": "d929054d",
   "metadata": {},
   "source": [
    "#### 1. Write a Python Program to Add Two Matrices?"
   ]
  },
  {
   "cell_type": "code",
   "execution_count": 1,
   "id": "8b181d46",
   "metadata": {},
   "outputs": [
    {
     "name": "stdout",
     "output_type": "stream",
     "text": [
      "[[12, 17, 6], [10, 10, 10], [14, 16, 9]]\n"
     ]
    }
   ],
   "source": [
    "mat1 = [[8,12,0],[3,2,1],[5,8,2]]\n",
    "mat2 =[[4,5,6],[7,8,9],[9,8,7]]\n",
    "res = [[0,0,0],[0,0,0],[0,0,0]]\n",
    "\n",
    "for i in range(len(mat1)):\n",
    "    for j in range(len(mat1[i])):\n",
    "        res[i][j] = mat1[i][j] + mat2[i][j]\n",
    "print(res)"
   ]
  },
  {
   "cell_type": "markdown",
   "id": "8c7c2b9d",
   "metadata": {},
   "source": [
    "#### 2. Write a Python Program to Multiply Two Matrices?"
   ]
  },
  {
   "cell_type": "code",
   "execution_count": 2,
   "id": "338d7306",
   "metadata": {},
   "outputs": [
    {
     "name": "stdout",
     "output_type": "stream",
     "text": [
      "[[116, 136, 156], [35, 39, 43], [94, 105, 116]]\n"
     ]
    }
   ],
   "source": [
    "mat1 = [[8,12,0],[3,2,1],[5,8,2]]\n",
    "mat2 =[[4,5,6],[7,8,9],[9,8,7]]\n",
    "res = [[0,0,0],[0,0,0],[0,0,0]]\n",
    "\n",
    "for i in range(len(mat1)):\n",
    "    for j in range(len(mat2[0])):\n",
    "        for k in range(len(mat2)):\n",
    "            res[i][j] += mat1[i][k] * mat2[k][j]\n",
    "print(res)"
   ]
  },
  {
   "cell_type": "code",
   "execution_count": 3,
   "id": "8c03ba01",
   "metadata": {},
   "outputs": [
    {
     "data": {
      "text/plain": [
       "array([[116, 136, 156],\n",
       "       [ 35,  39,  43],\n",
       "       [ 94, 105, 116]])"
      ]
     },
     "execution_count": 3,
     "metadata": {},
     "output_type": "execute_result"
    }
   ],
   "source": [
    "import numpy as np\n",
    "\n",
    "mat1 = [[8,12,0],[3,2,1],[5,8,2]]\n",
    "mat2 =[[4,5,6],[7,8,9],[9,8,7]]\n",
    "np.dot(mat1,mat2)"
   ]
  },
  {
   "cell_type": "markdown",
   "id": "6a74c319",
   "metadata": {},
   "source": [
    "#### 3. Write a Python Program to Transpose a Matrix?"
   ]
  },
  {
   "cell_type": "code",
   "execution_count": 4,
   "id": "2a283f77",
   "metadata": {},
   "outputs": [
    {
     "name": "stdout",
     "output_type": "stream",
     "text": [
      "[[5, 6], [4, 8], [5, 9]]\n"
     ]
    }
   ],
   "source": [
    "mat=[[5,4,5],[6,8,9]]\n",
    "res=[[0,0],[0,0],[0,0]]\n",
    "\n",
    "for i in range(len(mat)):\n",
    "    for j in range(len(mat[0])):\n",
    "        res[j][i] = mat[i][j]\n",
    "print(res)"
   ]
  },
  {
   "cell_type": "code",
   "execution_count": 5,
   "id": "457fd54b",
   "metadata": {},
   "outputs": [
    {
     "name": "stdout",
     "output_type": "stream",
     "text": [
      "[[5 6]\n",
      " [4 8]\n",
      " [5 9]]\n"
     ]
    }
   ],
   "source": [
    "import numpy as np\n",
    "\n",
    "mat=np.array([[5,4,5],[6,8,9]])\n",
    "print(mat.T)"
   ]
  },
  {
   "cell_type": "code",
   "execution_count": 6,
   "id": "3ad7426f",
   "metadata": {},
   "outputs": [
    {
     "name": "stdout",
     "output_type": "stream",
     "text": [
      "[[5 4 5]\n",
      " [6 8 9]]\n",
      "[[1 0 0]\n",
      " [0 1 1]\n",
      " [1 0 0]]\n"
     ]
    }
   ],
   "source": [
    "import numpy as np\n",
    "\n",
    "def tpMat(mat):\n",
    "    tp=np.array(mat)\n",
    "    print(tp.T)\n",
    "\n",
    "tpMat([[5, 6], [4, 8], [5, 9]])\n",
    "tpMat([[1,0,1], [0,1,0], [0,1,0]])"
   ]
  },
  {
   "cell_type": "markdown",
   "id": "7240b22e",
   "metadata": {},
   "source": [
    "#### 4. Write a Python Program to Sort Words in Alphabetic Order?"
   ]
  },
  {
   "cell_type": "code",
   "execution_count": 7,
   "id": "b011036b",
   "metadata": {},
   "outputs": [
    {
     "data": {
      "text/plain": [
       "'bat cat cow hog owl zebra'"
      ]
     },
     "execution_count": 7,
     "metadata": {},
     "output_type": "execute_result"
    }
   ],
   "source": [
    "def ascSort(words):\n",
    "    li = list(words.split(\" \"))\n",
    "    li.sort()\n",
    "    return \" \".join(li)\n",
    "\n",
    "ascSort(\"zebra cat hog bat cow owl\")"
   ]
  },
  {
   "cell_type": "markdown",
   "id": "e32e58e1",
   "metadata": {},
   "source": [
    "#### 5. Write a Python Program to Remove Punctuation From a String?"
   ]
  },
  {
   "cell_type": "code",
   "execution_count": 8,
   "id": "673b9c80",
   "metadata": {},
   "outputs": [
    {
     "name": "stdout",
     "output_type": "stream",
     "text": [
      "Hello! How are you?\n",
      "Hello How are you\n"
     ]
    }
   ],
   "source": [
    "words = input()\n",
    "punct=\"\"\"!()-[]{};:'\"\\,<>./?@#$%^&*_~]\"\"\"\n",
    "for i in words:\n",
    "    if i in punct:\n",
    "        words = words.replace(i,\"\")\n",
    "print(words)\n"
   ]
  }
 ],
 "metadata": {
  "kernelspec": {
   "display_name": "Python 3 (ipykernel)",
   "language": "python",
   "name": "python3"
  },
  "language_info": {
   "codemirror_mode": {
    "name": "ipython",
    "version": 3
   },
   "file_extension": ".py",
   "mimetype": "text/x-python",
   "name": "python",
   "nbconvert_exporter": "python",
   "pygments_lexer": "ipython3",
   "version": "3.10.2"
  }
 },
 "nbformat": 4,
 "nbformat_minor": 5
}
