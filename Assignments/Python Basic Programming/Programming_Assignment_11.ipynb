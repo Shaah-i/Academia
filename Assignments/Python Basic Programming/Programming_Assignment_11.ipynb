{
 "cells": [
  {
   "cell_type": "markdown",
   "id": "6de41d67",
   "metadata": {},
   "source": [
    "# Programming_Assignment_11"
   ]
  },
  {
   "cell_type": "markdown",
   "id": "d929054d",
   "metadata": {},
   "source": [
    "#### 1. Write a Python program to find words which are greater than given length k?"
   ]
  },
  {
   "cell_type": "code",
   "execution_count": 1,
   "id": "8b181d46",
   "metadata": {},
   "outputs": [
    {
     "name": "stdout",
     "output_type": "stream",
     "text": [
      "['Hello', 'you?']\n",
      "['Can', 'discuss', 'this', 'right', 'now?']\n"
     ]
    }
   ],
   "source": [
    "def grtrWord(a,k):\n",
    "    \"\"\"\n",
    "    finds out the words which are greater than given length k\n",
    "    a : the string whos words are to be checked\n",
    "    k : word length to be checked\n",
    "    \"\"\"\n",
    "    o = []\n",
    "    for i in a.split(\" \"):\n",
    "        if len(i) > k:\n",
    "            o.append(i)\n",
    "    print (o)\n",
    "    \n",
    "grtrWord(\"Hello how are you?\",3)\n",
    "grtrWord(\"Can we discuss this right now?\",2)"
   ]
  },
  {
   "cell_type": "markdown",
   "id": "f98e4450",
   "metadata": {},
   "source": [
    "#### 2. Write a Python program for removing i-th character from a string?"
   ]
  },
  {
   "cell_type": "code",
   "execution_count": 2,
   "id": "fa65e005",
   "metadata": {},
   "outputs": [
    {
     "data": {
      "text/plain": [
       "'Pytonprogramm'"
      ]
     },
     "execution_count": 2,
     "metadata": {},
     "output_type": "execute_result"
    }
   ],
   "source": [
    "def rmvChar(a,i):\n",
    "    \"\"\"    \n",
    "    removes i-th character from a string\n",
    "    a : the string \n",
    "    i : word length to be checked\n",
    "    \"\"\"\n",
    "    a=list(a)\n",
    "    del a[i-1]\n",
    "    a=\"\".join(a)\n",
    "    return a\n",
    "    \n",
    "rmvChar(\"Pythonprogramm\",4)"
   ]
  },
  {
   "cell_type": "code",
   "execution_count": 3,
   "id": "1a3e1808",
   "metadata": {},
   "outputs": [
    {
     "name": "stdout",
     "output_type": "stream",
     "text": [
      "enter a string : Hellow, how are you?\n",
      "enter the position of character to be removed : 6\n",
      "Hello, how are you?\n"
     ]
    }
   ],
   "source": [
    "a=input(\"enter a string : \")\n",
    "i = int(input(\"enter the position of character to be removed : \"))\n",
    "a=list(a)\n",
    "del a[i-1]\n",
    "r=\"\".join(a)\n",
    "print(r)"
   ]
  },
  {
   "cell_type": "markdown",
   "id": "937ed5b2",
   "metadata": {},
   "source": [
    "#### 3. Write a Python program to split and join a string?"
   ]
  },
  {
   "cell_type": "code",
   "execution_count": 4,
   "id": "3474ca27",
   "metadata": {},
   "outputs": [
    {
     "name": "stdout",
     "output_type": "stream",
     "text": [
      "enter a string : What is your name?\n",
      "split string :  ['What', 'is', 'your', 'name?']\n",
      "joined string :  What is your name?\n"
     ]
    }
   ],
   "source": [
    "def splitJoin():\n",
    "    a= input(\"enter a string : \")\n",
    "    s = a.split(\" \")\n",
    "    j = \" \".join(s)\n",
    "    print(\"split string : \", s)\n",
    "    print(\"joined string : \", j)\n",
    "    \n",
    "splitJoin()"
   ]
  },
  {
   "cell_type": "markdown",
   "id": "c34aa779",
   "metadata": {},
   "source": [
    "#### 4. Write a Python to check if a given string is binary string or not?"
   ]
  },
  {
   "cell_type": "code",
   "execution_count": 5,
   "id": "f1453b6b",
   "metadata": {},
   "outputs": [
    {
     "name": "stdout",
     "output_type": "stream",
     "text": [
      "1101100111\n",
      "'1101100111' is a binary string\n",
      "aeghtgrfh\n",
      "'aeghtgrfh' is not a binary string\n",
      "123548\n",
      "'123548' is not a binary string\n"
     ]
    }
   ],
   "source": [
    "def isBinary():\n",
    "    \"\"\"\n",
    "    Checks if the string is a binary or not    \n",
    "    \"\"\"\n",
    "    a=input()\n",
    "    p =['1','0']\n",
    "    count = 0\n",
    "    for i in a:\n",
    "        if i in p:\n",
    "            count=1\n",
    "            continue\n",
    "        else:\n",
    "            count=0\n",
    "            break\n",
    "    if count == 1:\n",
    "        print(\"'{}' is a binary string\".format(a))\n",
    "    else:\n",
    "        print(\"'{}' is not a binary string\".format(a))\n",
    "        \n",
    "isBinary()\n",
    "isBinary()\n",
    "isBinary()"
   ]
  },
  {
   "cell_type": "markdown",
   "id": "dfc8074d",
   "metadata": {},
   "source": [
    "#### 5. Write a Python program to find uncommon words from two Strings?"
   ]
  },
  {
   "cell_type": "code",
   "execution_count": 6,
   "id": "6acffa47",
   "metadata": {},
   "outputs": [
    {
     "name": "stdout",
     "output_type": "stream",
     "text": [
      "['how', 'are', 'I', 'am', 'fine', 'thank']\n"
     ]
    }
   ],
   "source": [
    "def uncommonStr(a,b):\n",
    "    lst_a=a.split()\n",
    "    lst_b=b.split()\n",
    "    u=[]\n",
    "    for i in lst_a:\n",
    "        if i not in lst_b:\n",
    "            u.append(i)\n",
    "    \n",
    "    for j in lst_b:\n",
    "        if j not in lst_a:\n",
    "            u.append(j)\n",
    "    print(u)\n",
    "    \n",
    "a=\"Hello, how are you\"\n",
    "b=\"Hello, I am fine thank you\"\n",
    "uncommonStr(a,b)"
   ]
  },
  {
   "cell_type": "markdown",
   "id": "b2052e24",
   "metadata": {},
   "source": [
    "#### 6. Write a Python to find all duplicate characters in string?"
   ]
  },
  {
   "cell_type": "code",
   "execution_count": 7,
   "id": "6d07d41a",
   "metadata": {},
   "outputs": [
    {
     "name": "stdout",
     "output_type": "stream",
     "text": [
      "l h o   e\n",
      "p o i s   u\n"
     ]
    }
   ],
   "source": [
    "def dupChar(a):\n",
    "    l=list(a)\n",
    "    uni=[]\n",
    "    dup=[]\n",
    "    for i in l:\n",
    "        if i not in uni:\n",
    "            uni.append(i)\n",
    "        elif i in uni:\n",
    "            if i in dup:\n",
    "                continue\n",
    "            elif i not in dup:\n",
    "                dup.append(i)\n",
    "    return \" \".join(dup)\n",
    "#     print(\"Duplicate : \", \"\".join(dup))\n",
    "#     print(\"Unique : \", \"\".join(uni))\n",
    "\n",
    "print(dupChar(\"hello, how are you\"))\n",
    "print(dupChar(\"Hippopotamus is huge\"))"
   ]
  },
  {
   "cell_type": "markdown",
   "id": "11f1839c",
   "metadata": {},
   "source": [
    "#### 7. Write a Python Program to check if a string contains any special character?"
   ]
  },
  {
   "cell_type": "code",
   "execution_count": 8,
   "id": "c8d7123b",
   "metadata": {},
   "outputs": [
    {
     "data": {
      "text/plain": [
       "'It has special charachters'"
      ]
     },
     "execution_count": 8,
     "metadata": {},
     "output_type": "execute_result"
    }
   ],
   "source": [
    "def checkSpec(a):\n",
    "    l=list(a)\n",
    "    spec=\"\"\"[@_!$%^&*()<>?/\\|}{~:]#\"\"\"\n",
    "    count= 0\n",
    "    for i in l:\n",
    "        if i in spec:\n",
    "            count += 1\n",
    "    if count >= 1:\n",
    "        return \"It has special charachters\"\n",
    "    \n",
    "checkSpec(\"Hello! How are you?\")"
   ]
  }
 ],
 "metadata": {
  "kernelspec": {
   "display_name": "Python 3 (ipykernel)",
   "language": "python",
   "name": "python3"
  },
  "language_info": {
   "codemirror_mode": {
    "name": "ipython",
    "version": 3
   },
   "file_extension": ".py",
   "mimetype": "text/x-python",
   "name": "python",
   "nbconvert_exporter": "python",
   "pygments_lexer": "ipython3",
   "version": "3.10.2"
  }
 },
 "nbformat": 4,
 "nbformat_minor": 5
}
