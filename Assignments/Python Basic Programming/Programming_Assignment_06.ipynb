{
 "cells": [
  {
   "cell_type": "markdown",
   "id": "e63bf51d",
   "metadata": {},
   "source": [
    "# Programming_Assignment_06"
   ]
  },
  {
   "cell_type": "markdown",
   "id": "d929054d",
   "metadata": {},
   "source": [
    "#### 1. Write a Python Program to Display Fibonacci Sequence Using Recursion?"
   ]
  },
  {
   "cell_type": "code",
   "execution_count": 1,
   "id": "8b181d46",
   "metadata": {},
   "outputs": [
    {
     "name": "stdout",
     "output_type": "stream",
     "text": [
      "[0, 1, 1, 2, 3, 5, 8, 13, 21]\n"
     ]
    }
   ],
   "source": [
    "def recrsive_fibo(n):\n",
    "    if n== 0:\n",
    "        return 0\n",
    "    elif n == 1:\n",
    "        return 1\n",
    "    else:\n",
    "        return recrsive_fibo(n-1)+recrsive_fibo(n-2)\n",
    "    \n",
    "n=8    \n",
    "l=[]\n",
    "for i in range(n+1):\n",
    "    l.append(recrsive_fibo(i))\n",
    "print(l)"
   ]
  },
  {
   "cell_type": "markdown",
   "id": "3f4d1197",
   "metadata": {},
   "source": [
    "#### 2. Write a Python Program to Find Factorial of Number Using Recursion?"
   ]
  },
  {
   "cell_type": "code",
   "execution_count": 2,
   "id": "aa546a49",
   "metadata": {},
   "outputs": [
    {
     "data": {
      "text/plain": [
       "720"
      ]
     },
     "execution_count": 2,
     "metadata": {},
     "output_type": "execute_result"
    }
   ],
   "source": [
    "def recursive_fact(n):\n",
    "    if n<1:\n",
    "        return 1\n",
    "    else:\n",
    "        return n*recursive_fact(n-1)\n",
    "    \n",
    "recursive_fact(6)"
   ]
  },
  {
   "cell_type": "markdown",
   "id": "d863ef2e",
   "metadata": {},
   "source": [
    "#### 3. Write a Python Program to calculate your Body Mass Index?"
   ]
  },
  {
   "cell_type": "code",
   "execution_count": 3,
   "id": "5c6436a5",
   "metadata": {},
   "outputs": [
    {
     "name": "stdout",
     "output_type": "stream",
     "text": [
      "Your BMI is 21.6 and you are healthy\n",
      "Your BMI is 17.94 and you are undreweight\n",
      "Your BMI is 27.13 and you are overweight\n",
      "Your BMI is 32.37 and you are obese\n"
     ]
    }
   ],
   "source": [
    "def BMI(h,w):\n",
    "    bmi = w/h**2\n",
    "    if bmi < 18.5:\n",
    "        b = 'undreweight'\n",
    "    elif 18.5 < bmi < 24.9:\n",
    "        b = 'healthy'\n",
    "    elif 24.9 < bmi < 30:\n",
    "        b = 'overweight'\n",
    "    elif bmi > 30:\n",
    "        b = 'obese'\n",
    "    print(\"Your BMI is {0} and you are {1}\".format(round(bmi,2),b))\n",
    "\n",
    "BMI(1.800,70)\n",
    "BMI(1.8288,60)\n",
    "BMI(1.9200,100)\n",
    "BMI(1.6205,85)"
   ]
  },
  {
   "cell_type": "markdown",
   "id": "0cf5a752",
   "metadata": {},
   "source": [
    "#### 4. Write a Python Program to calculate the natural logarithm of any number?"
   ]
  },
  {
   "cell_type": "code",
   "execution_count": 4,
   "id": "263c1af9",
   "metadata": {},
   "outputs": [
    {
     "data": {
      "text/plain": [
       "3.4657359027997265"
      ]
     },
     "execution_count": 4,
     "metadata": {},
     "output_type": "execute_result"
    }
   ],
   "source": [
    "import math\n",
    "\n",
    "math.log(32)"
   ]
  },
  {
   "cell_type": "markdown",
   "id": "7d54423d",
   "metadata": {},
   "source": [
    "#### 5. Write a Python Program for cube sum of first n natural numbers?"
   ]
  },
  {
   "cell_type": "code",
   "execution_count": 5,
   "id": "8ad71620",
   "metadata": {},
   "outputs": [
    {
     "data": {
      "text/plain": [
       "36"
      ]
     },
     "execution_count": 5,
     "metadata": {},
     "output_type": "execute_result"
    }
   ],
   "source": [
    "def cubeSum(r):\n",
    "    ts = 0\n",
    "    for i in range(1,r+1):\n",
    "        ts += i**3\n",
    "    return ts\n",
    "\n",
    "cubeSum(3)"
   ]
  },
  {
   "cell_type": "code",
   "execution_count": 6,
   "id": "014e30fb",
   "metadata": {},
   "outputs": [
    {
     "data": {
      "text/plain": [
       "36"
      ]
     },
     "execution_count": 6,
     "metadata": {},
     "output_type": "execute_result"
    }
   ],
   "source": [
    "def cubeSumA(n):\n",
    "    ts = ((n*(n+1))/2)**2\n",
    "    return round(ts)\n",
    "\n",
    "cubeSumA(3)"
   ]
  }
 ],
 "metadata": {
  "kernelspec": {
   "display_name": "Python 3 (ipykernel)",
   "language": "python",
   "name": "python3"
  },
  "language_info": {
   "codemirror_mode": {
    "name": "ipython",
    "version": 3
   },
   "file_extension": ".py",
   "mimetype": "text/x-python",
   "name": "python",
   "nbconvert_exporter": "python",
   "pygments_lexer": "ipython3",
   "version": "3.10.2"
  }
 },
 "nbformat": 4,
 "nbformat_minor": 5
}
