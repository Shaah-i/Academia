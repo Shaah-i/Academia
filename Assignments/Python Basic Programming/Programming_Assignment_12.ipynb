{
 "cells": [
  {
   "cell_type": "markdown",
   "id": "61bba2c3",
   "metadata": {},
   "source": [
    "# Programming_Assignment_12"
   ]
  },
  {
   "cell_type": "markdown",
   "id": "d929054d",
   "metadata": {},
   "source": [
    "#### 1. Write a Python program to Extract Unique values dictionary values?"
   ]
  },
  {
   "cell_type": "code",
   "execution_count": 1,
   "id": "8b181d46",
   "metadata": {},
   "outputs": [
    {
     "data": {
      "text/plain": [
       "{5, 66, 8, 'asd'}"
      ]
     },
     "execution_count": 1,
     "metadata": {},
     "output_type": "execute_result"
    }
   ],
   "source": [
    "def unqDictValue(a):\n",
    "    keys=set(a.keys())\n",
    "    values=set(a.values())\n",
    "    return values\n",
    "\n",
    "unqDictValue({1:5, 6:8,'wed':66, 85:'asd', 'wea':66, 541:8})\n",
    "        "
   ]
  },
  {
   "cell_type": "markdown",
   "id": "767d08a2",
   "metadata": {},
   "source": [
    "#### 2. Write a Python program to find the sum of all items in a dictionary?"
   ]
  },
  {
   "cell_type": "code",
   "execution_count": 2,
   "id": "f5d2d9d0",
   "metadata": {},
   "outputs": [
    {
     "name": "stdout",
     "output_type": "stream",
     "text": [
      "316\n"
     ]
    }
   ],
   "source": [
    "def itmSum(a):\n",
    "    k=a.items()\n",
    "    s=0\n",
    "    for i in k:\n",
    "        for j in i:\n",
    "            s += j\n",
    "    print(s)\n",
    "    \n",
    "itmSum({1:5, 6:8, 89:66, 85:56})"
   ]
  },
  {
   "cell_type": "markdown",
   "id": "8607e08d",
   "metadata": {},
   "source": [
    "#### 3. Write a Python program to Merging two Dictionaries?"
   ]
  },
  {
   "cell_type": "code",
   "execution_count": 3,
   "id": "3862ef84",
   "metadata": {},
   "outputs": [
    {
     "data": {
      "text/plain": [
       "{1: 5, 6: 8, 89: 66, 85: 'asd', 'yt': 5, 'wed': 66, 'wea': 66, 541: 8}"
      ]
     },
     "execution_count": 3,
     "metadata": {},
     "output_type": "execute_result"
    }
   ],
   "source": [
    "def mergDict(a,b):\n",
    "    c = a | b\n",
    "    return c\n",
    "\n",
    "mergDict({1:5, 6:8, 89:66, 85:56},{'yt':5, 6:8,'wed':66, 85:'asd', 'wea':66, 541:8})"
   ]
  },
  {
   "cell_type": "markdown",
   "id": "e74c56d7",
   "metadata": {},
   "source": [
    "#### 4. Write a Python program to convert key-values list to flat dictionary?"
   ]
  },
  {
   "cell_type": "code",
   "execution_count": 4,
   "id": "1927300a",
   "metadata": {},
   "outputs": [
    {
     "data": {
      "text/plain": [
       "{1: 4, 2: 'fedad', 'ewe': 2, 3: 5, 'eqwe': 'qwewq', 8: 9}"
      ]
     },
     "execution_count": 4,
     "metadata": {},
     "output_type": "execute_result"
    }
   ],
   "source": [
    "\n",
    "\n",
    "def lstToFlatDict(l):\n",
    "    d={}\n",
    "    for i in l:\n",
    "        d.update(i)\n",
    "    return d\n",
    "\n",
    "lst=[{1:4, 2:'fedad', 'ewe':2},{3:5, 'eqwe':'qwewq'},{8:9}]\n",
    "lstToFlatDict(lst)"
   ]
  },
  {
   "cell_type": "markdown",
   "id": "b2a7c897",
   "metadata": {},
   "source": [
    "#### 5. Write a Python program to insertion at the beginning in OrderedDict?"
   ]
  },
  {
   "cell_type": "code",
   "execution_count": 5,
   "id": "60826615",
   "metadata": {},
   "outputs": [
    {
     "name": "stdout",
     "output_type": "stream",
     "text": [
      "{'yt': 5, 6: 8, 'wed': 66, 85: 56, 'wea': 66, 541: 8, 1: 5, 89: 66}\n"
     ]
    }
   ],
   "source": [
    "d = {1:5, 6:8, 89:66, 85:56}\n",
    "n = {'yt':5, 6:8,'wed':66, 85:'asd', 'wea':66, 541:8}\n",
    "\n",
    "n.update(d)\n",
    "print(n)"
   ]
  },
  {
   "cell_type": "markdown",
   "id": "71c5e23d",
   "metadata": {},
   "source": [
    "#### 6. Write a Python program to check order of character in string using OrderedDict()?"
   ]
  },
  {
   "cell_type": "code",
   "execution_count": 6,
   "id": "f9ed12e0",
   "metadata": {},
   "outputs": [
    {
     "data": {
      "text/plain": [
       "True"
      ]
     },
     "execution_count": 6,
     "metadata": {},
     "output_type": "execute_result"
    }
   ],
   "source": [
    "from collections import OrderedDict \n",
    "\n",
    "def ordDict(input,pattern):\n",
    "    dict = OrderedDict.fromkeys(input)\n",
    "    ptrlen = 0\n",
    "    for key,value in dict.items(): \n",
    "        if (key == pattern[ptrlen]): \n",
    "            ptrlen = ptrlen + 1\n",
    "        if (ptrlen == (len(pattern))): \n",
    "            return True\n",
    "\n",
    "    return False\n",
    "\n",
    "input = \"samsung soany sample sap\"\n",
    "pattern=\"sa\"\n",
    "ordDict(input,pattern)"
   ]
  },
  {
   "cell_type": "markdown",
   "id": "bc7d52d9",
   "metadata": {},
   "source": [
    "#### 7. Write a Python program to sort Python Dictionaries by Key or Value?"
   ]
  },
  {
   "cell_type": "code",
   "execution_count": 7,
   "id": "f25be7d9",
   "metadata": {},
   "outputs": [
    {
     "data": {
      "text/plain": [
       "[('a', 5), ('b', 8), ('c', 56), ('d', 66)]"
      ]
     },
     "execution_count": 7,
     "metadata": {},
     "output_type": "execute_result"
    }
   ],
   "source": [
    "from operator import itemgetter\n",
    "\n",
    "def sortDict(d):\n",
    "    sd=sorted(d.items())\n",
    "    return sd\n",
    "\n",
    "d = {\"a\":5, \"b\":8, \"d\":66, \"c\":56}\n",
    "sortDict(d)"
   ]
  }
 ],
 "metadata": {
  "kernelspec": {
   "display_name": "Python 3 (ipykernel)",
   "language": "python",
   "name": "python3"
  },
  "language_info": {
   "codemirror_mode": {
    "name": "ipython",
    "version": 3
   },
   "file_extension": ".py",
   "mimetype": "text/x-python",
   "name": "python",
   "nbconvert_exporter": "python",
   "pygments_lexer": "ipython3",
   "version": "3.10.2"
  }
 },
 "nbformat": 4,
 "nbformat_minor": 5
}
