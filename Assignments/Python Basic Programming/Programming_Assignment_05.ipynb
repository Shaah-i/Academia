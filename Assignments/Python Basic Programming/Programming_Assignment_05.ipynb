{
 "cells": [
  {
   "cell_type": "markdown",
   "id": "d16ba17b",
   "metadata": {},
   "source": [
    "# Programming_Assignment_05"
   ]
  },
  {
   "cell_type": "markdown",
   "id": "d929054d",
   "metadata": {},
   "source": [
    "#### 1. Write a Python Program to Find LCM?"
   ]
  },
  {
   "cell_type": "code",
   "execution_count": 1,
   "id": "8b181d46",
   "metadata": {},
   "outputs": [
    {
     "name": "stdout",
     "output_type": "stream",
     "text": [
      "LCM of 5,2 is 10\n",
      "LCM of 140,2 is 140\n",
      "LCM of 54,8 is 216\n"
     ]
    }
   ],
   "source": [
    "def LCM(x,y):\n",
    "    if x>y:\n",
    "        large=x\n",
    "    else:\n",
    "        large=x\n",
    "    while True:\n",
    "        if((large%x ==0) and (large%y == 0)):\n",
    "            lcm = large\n",
    "            break\n",
    "        else:\n",
    "            large +=1\n",
    "    print('LCM of {0},{1} is {2}'.format(x,y,lcm))\n",
    "\n",
    "LCM(5,2)\n",
    "LCM(140,2)\n",
    "LCM(54,8)"
   ]
  },
  {
   "cell_type": "markdown",
   "id": "f13fd083",
   "metadata": {},
   "source": [
    "#### 2. Write a Python Program to Find HCF?"
   ]
  },
  {
   "cell_type": "code",
   "execution_count": 2,
   "id": "fc64dfd5",
   "metadata": {},
   "outputs": [
    {
     "name": "stdout",
     "output_type": "stream",
     "text": [
      "HCF of 5,2 is 1\n",
      "HCF of 140,2 is 2\n",
      "HCF of 54,8 is 2\n"
     ]
    }
   ],
   "source": [
    "def HCF(x,y):\n",
    "    if x>y:\n",
    "        small = y\n",
    "    else:\n",
    "        small = x\n",
    "    for i in range(1,small+1):\n",
    "        if ((x%i == 0) and (y%i == 0)):\n",
    "            hcf = i\n",
    "    print('HCF of {0},{1} is {2}'.format(x,y,hcf))\n",
    "\n",
    "HCF(5,2)\n",
    "HCF(140,2)\n",
    "HCF(54,8)"
   ]
  },
  {
   "cell_type": "markdown",
   "id": "2499da67",
   "metadata": {},
   "source": [
    "#### 3. Write a Python Program to Convert Decimal to Binary, Octal and Hexadecimal?"
   ]
  },
  {
   "cell_type": "code",
   "execution_count": 3,
   "id": "31ed9687",
   "metadata": {},
   "outputs": [
    {
     "name": "stdout",
     "output_type": "stream",
     "text": [
      "Decimal : 100\n",
      "Binary : 1100100\n",
      "Octal : 144\n",
      "Hexadecimal :  64\n"
     ]
    }
   ],
   "source": [
    "def decToBiOctHex(a):\n",
    "    b= []\n",
    "    o= []\n",
    "    h= \"\"\n",
    "    num= int(a)\n",
    "    num1= int(a)\n",
    "    num2= int(a)\n",
    "    print(\"Decimal :\", a)\n",
    "    while num>0:\n",
    "        b.append(str(num%2))\n",
    "        num= num//2\n",
    "    b= b[::-1]\n",
    "    print(\"Binary :\", int(\"\".join(b)))\n",
    "    while num1>0:\n",
    "        o.append(str(num1%8))\n",
    "        num1= num1//8\n",
    "    o= o[::-1]\n",
    "    print(\"Octal :\", int(\"\".join(o)))\n",
    "    \n",
    "    dicto={0:'0', 1:'1', 2:'2', 3:'3', 4:'4', 5:'5', 6:'6', 7:'7', 8:'8', 9:'9', 10:'A', 11:'B', 12:'C', 13:'D', 14:'E', 15:'F'}\n",
    "    while num2>0:\n",
    "        rem= num2 % 16\n",
    "        h= dicto[rem] + h\n",
    "        num2= num2//16\n",
    "    print(\"Hexadecimal : \", h)\n",
    "\n",
    "decToBiOctHex(100)"
   ]
  },
  {
   "cell_type": "code",
   "execution_count": 4,
   "id": "8382d562",
   "metadata": {},
   "outputs": [
    {
     "name": "stdout",
     "output_type": "stream",
     "text": [
      "Decimal : 100\n",
      "Binary : 1100100\n",
      "Octal : 144\n",
      "Hexadecimal :  64\n"
     ]
    }
   ],
   "source": [
    "def decToBiOctHexa(a):\n",
    "    print(\"Decimal :\", a)\n",
    "    print(\"Binary :\", bin(a)[2:])\n",
    "    print(\"Octal :\", oct(a)[2:])\n",
    "    print(\"Hexadecimal : \", hex(a)[2:])\n",
    "    \n",
    "decToBiOctHexa(100)"
   ]
  },
  {
   "cell_type": "markdown",
   "id": "014dbc5e",
   "metadata": {},
   "source": [
    "#### 4. Write a Python Program To Find ASCII value of a character?"
   ]
  },
  {
   "cell_type": "code",
   "execution_count": 5,
   "id": "0bafefcf",
   "metadata": {},
   "outputs": [
    {
     "name": "stdout",
     "output_type": "stream",
     "text": [
      "112\n"
     ]
    }
   ],
   "source": [
    "print(ord('p'))"
   ]
  },
  {
   "cell_type": "markdown",
   "id": "acabc28a",
   "metadata": {},
   "source": [
    "#### 5. Write a Python Program to Make a Simple Calculator with 4 basic mathematical operations?"
   ]
  },
  {
   "cell_type": "code",
   "execution_count": 6,
   "id": "ca3362f4",
   "metadata": {},
   "outputs": [
    {
     "name": "stdout",
     "output_type": "stream",
     "text": [
      "9\n",
      "2\n",
      "10\n",
      "2.5\n"
     ]
    }
   ],
   "source": [
    "def calc(a,b,ope):\n",
    "    \"\"\"\n",
    "    returns operation based on inputs. \n",
    "    a and b are numbers and ope stands for add:addition, sub:subtraction, mult:multiplication, div:division\n",
    "    \"\"\"\n",
    "    if ope == 'add':\n",
    "        return a+b\n",
    "    elif ope == 'sub':\n",
    "        return a-b\n",
    "    elif ope == 'mult':\n",
    "        return a*b\n",
    "    elif ope == 'div':\n",
    "        return a/b\n",
    "    \n",
    "print(calc(5,4,'add'))\n",
    "print(calc(6,4,'sub'))\n",
    "print(calc(5,2,'mult'))\n",
    "print(calc(5,2,'div'))"
   ]
  }
 ],
 "metadata": {
  "kernelspec": {
   "display_name": "Python 3 (ipykernel)",
   "language": "python",
   "name": "python3"
  },
  "language_info": {
   "codemirror_mode": {
    "name": "ipython",
    "version": 3
   },
   "file_extension": ".py",
   "mimetype": "text/x-python",
   "name": "python",
   "nbconvert_exporter": "python",
   "pygments_lexer": "ipython3",
   "version": "3.10.2"
  }
 },
 "nbformat": 4,
 "nbformat_minor": 5
}
