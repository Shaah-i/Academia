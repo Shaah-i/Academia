{
 "cells": [
  {
   "cell_type": "markdown",
   "id": "a5247965",
   "metadata": {},
   "source": [
    "# Assignment_2"
   ]
  },
  {
   "cell_type": "markdown",
   "id": "ba144045",
   "metadata": {},
   "source": [
    "### 1.What are the two values of the Boolean data type? How do you write them?\n",
    "\n",
    "**Ans.** Boolean data have the two values as 0 and 1 and we write them as ``True`` and ``False`` (case sensitive)"
   ]
  },
  {
   "cell_type": "code",
   "execution_count": 1,
   "id": "ede9e31d",
   "metadata": {},
   "outputs": [
    {
     "name": "stdout",
     "output_type": "stream",
     "text": [
      "<class 'bool'>\n"
     ]
    }
   ],
   "source": [
    "a=True\n",
    "b=False\n",
    "print(type(a))"
   ]
  },
  {
   "cell_type": "markdown",
   "id": "cc94c48a",
   "metadata": {},
   "source": [
    "### 2. What are the three different types of Boolean operators?\n",
    "\n",
    "**Ans.** The 3 different types of Boolean operators are AND, OR and NOT.\n",
    "\n",
    "AND can be used as ``and`` e.g. a and b\n",
    "\n",
    "OR can be used as ``or`` e.g. b or a\n",
    "\n",
    "NOT can be used as ``not`` e.g. not(a)"
   ]
  },
  {
   "cell_type": "markdown",
   "id": "e5fd3b43",
   "metadata": {},
   "source": [
    "### 3. Make a list of each Boolean operator's truth tables (i.e. every possible combination of Boolean values for the operator and what it evaluate).\n"
   ]
  },
  {
   "cell_type": "code",
   "execution_count": 2,
   "id": "0334f043",
   "metadata": {},
   "outputs": [
    {
     "name": "stdout",
     "output_type": "stream",
     "text": [
      "Truth table for AND: \n",
      "True and True =  True\n",
      "True and False =  False\n",
      "False and True =  False\n",
      "False and False =  False\n",
      "\n",
      " xxxxxxxxxxxxxxxxxxxxxxxxx \n",
      "\n",
      "Truth table for OR: \n",
      "True or True =  True\n",
      "True or False =  True\n",
      "False or True =  True\n",
      "False or False =  False\n",
      "\n",
      " xxxxxxxxxxxxxxxxxxxxxxxxx \n",
      "\n",
      "Truth table for NOT: \n",
      "not(True) =  False\n",
      "not(False) =  True\n"
     ]
    }
   ],
   "source": [
    "# Ans.\n",
    "print(\"Truth table for AND: \")\n",
    "print(\"True and True = \",True and True)\n",
    "print(\"True and False = \",True and False)\n",
    "print(\"False and True = \",False and True)\n",
    "print(\"False and False = \",False and False)\n",
    "print('\\n','x'*25,'\\n')\n",
    "print(\"Truth table for OR: \")\n",
    "print(\"True or True = \",True or True)\n",
    "print(\"True or False = \",True or False)\n",
    "print(\"False or True = \",False or True)\n",
    "print(\"False or False = \",False or False)\n",
    "print('\\n','x'*25,'\\n')\n",
    "print(\"Truth table for NOT: \")\n",
    "print(\"not(True) = \", not(True))\n",
    "print(\"not(False) = \", not(False))"
   ]
  },
  {
   "cell_type": "markdown",
   "id": "aa177203",
   "metadata": {},
   "source": [
    "### 4. What are the values of the following expressions?\n",
    "(5 > 4) and (3 == 5)\n",
    "not (5 > 4)\n",
    "(5 > 4) or (3 == 5)\n",
    "not ((5 > 4) or (3 == 5))\n",
    "(True and True) and (True == False)\n",
    "(not False) or (not True)\n",
    "\n",
    "**Ans.**\n",
    "* (5 > 4) and (3 == 5) = False\n",
    "* not (5 > 4) = False\n",
    "* (5 > 4) or (3 == 5) = True\n",
    "* not ((5 > 4) or (3 == 5)) = False\n",
    "* (True and True) and (True == False) = False\n",
    "* (not False) or (not True) = True"
   ]
  },
  {
   "cell_type": "code",
   "execution_count": 3,
   "id": "1eb5d573",
   "metadata": {},
   "outputs": [
    {
     "name": "stdout",
     "output_type": "stream",
     "text": [
      "False\n",
      "False\n",
      "True\n",
      "False\n",
      "False\n",
      "True\n"
     ]
    }
   ],
   "source": [
    "print((5 > 4) and (3 == 5))\n",
    "print(not (5 > 4))\n",
    "print((5 > 4) or (3 == 5))\n",
    "print(not ((5 > 4) or (3 == 5)))\n",
    "print((True and True) and (True == False))\n",
    "print((not False) or (not True))"
   ]
  },
  {
   "cell_type": "markdown",
   "id": "407ed4bf",
   "metadata": {},
   "source": [
    "### 5. What are the six comparison operators?\n",
    "\n",
    "**Ans.**\n",
    "The Six comparision operators available in python are:\n",
    "Equal (``==``) compares if equal e.g. x==y\n",
    "\n",
    "Not Equal (``!=``) compares if not equal e.g. x!=y\n",
    "\n",
    "Greater than (``>``) compares if greater than e.g. x>y\n",
    "\n",
    "Less than (``<``) compares if less than e.g. x<y\n",
    "\n",
    "Greater than or equal to (``>=``) compares if greater than or equal to  e.g. x>=y\n",
    "\n",
    "Less than or equal to  (``<=``) compares if less than or equal to  e.g. x<=y\n"
   ]
  },
  {
   "cell_type": "markdown",
   "id": "1ee92555",
   "metadata": {},
   "source": [
    "### 6. How do you tell the difference between the equal to and assignment operators?Describe a condition and when you would use one.\n",
    "\n",
    "**Ans.** Comparison operator equal to is used to compare if the values are equal. Assignment operator is used to store a value inside the variables, list, sets e.t.c.\n",
    "\n",
    "If I want to store a value in variable \"a\" , say 23, I will use assignment operator e.g. a = 23\n",
    "\n",
    "If I want to check if a value stored in variable \"a\", say 24, I will use comparison operator e.g. a == 24\n",
    "\n",
    "P.S. We will get some output for comparison operator like True or False but there is no output for assignment operator as it is used to asign a value."
   ]
  },
  {
   "cell_type": "markdown",
   "id": "0e1bb1f7",
   "metadata": {},
   "source": [
    "### 7. Identify the three blocks in this code:\n",
    "\n",
    "spam = 0\n",
    "if spam == 10:\n",
    "    print('eggs')\n",
    "if spam > 5:\n",
    "    print('bacon')\n",
    "else:\n",
    "    print('ham')\n",
    "print('spam')\n",
    "print('spam')"
   ]
  },
  {
   "cell_type": "code",
   "execution_count": 4,
   "id": "f6e73e16",
   "metadata": {},
   "outputs": [
    {
     "name": "stdout",
     "output_type": "stream",
     "text": [
      "ham\n",
      "spam\n",
      "spam\n"
     ]
    }
   ],
   "source": [
    "# Ans.\n",
    "\n",
    "spam = 0\n",
    "if spam == 10:\n",
    "    print('eggs') #block 1\n",
    "if spam > 5:\n",
    "    print('bacon') #block 2\n",
    "else:\n",
    "    print('ham') #block 3\n",
    "print('spam')\n",
    "print('spam')"
   ]
  },
  {
   "cell_type": "markdown",
   "id": "d2b1f77c",
   "metadata": {},
   "source": [
    "### 8. Write code that prints Hello if 1 is stored in spam, prints Howdy if 2 is stored in spam, and prints Greetings! if anything else is stored in spam.\n"
   ]
  },
  {
   "cell_type": "code",
   "execution_count": 5,
   "id": "a45c49a0",
   "metadata": {},
   "outputs": [
    {
     "name": "stdout",
     "output_type": "stream",
     "text": [
      "Greetings!\n"
     ]
    }
   ],
   "source": [
    "# Ans.\n",
    "\n",
    "# spam= \"a\"\n",
    "if spam == 1:\n",
    "    print(\"Hello\")\n",
    "elif spam == 2:\n",
    "    print(\"Howdy\")\n",
    "else:\n",
    "    print(\"Greetings!\")"
   ]
  },
  {
   "cell_type": "markdown",
   "id": "6cdc2933",
   "metadata": {},
   "source": [
    "### 9.If your programme is stuck in an endless loop, what keys you’ll press?\n",
    "\n",
    "**Ans.** Press ``ctlr+c`` to stop a programme stuck in an infinite loop"
   ]
  },
  {
   "cell_type": "markdown",
   "id": "424f71f3",
   "metadata": {},
   "source": [
    "### 10. How can you tell the difference between break and continue?\n",
    "\n",
    "**Ans.** The break statement will move the execution outside the loop if break condtion is satisfied. Whereas the continue statement will move the execution to the start of the loop.\n"
   ]
  },
  {
   "cell_type": "markdown",
   "id": "f4068d0a",
   "metadata": {},
   "source": [
    "### 11. In a for loop, what is the difference between range(10), range(0, 10), and range(0, 10, 1)?\n",
    "\n",
    "**Ans.** It makes no difference inside the for loop. The only difference is \n",
    "1. The range(10) call range from 0 to 9 (but not include 10)\n",
    "2. The range (0,10) explicitly tells the loop to start at 0\n",
    "3. The range(0,10,1) explicitly tells the loop to increase the variable by 1 on each iteration"
   ]
  },
  {
   "cell_type": "code",
   "execution_count": 6,
   "id": "e097eb38",
   "metadata": {},
   "outputs": [
    {
     "name": "stdout",
     "output_type": "stream",
     "text": [
      "0\n",
      "1\n",
      "2\n",
      "3\n",
      "4\n",
      "5\n",
      "6\n",
      "7\n",
      "8\n",
      "9\n",
      "xxxxxxxxxxxxxxxxxxxxxxxxx\n",
      "0\n",
      "1\n",
      "2\n",
      "3\n",
      "4\n",
      "5\n",
      "6\n",
      "7\n",
      "8\n",
      "9\n",
      "xxxxxxxxxxxxxxxxxxxxxxxxx\n",
      "0\n",
      "1\n",
      "2\n",
      "3\n",
      "4\n",
      "5\n",
      "6\n",
      "7\n",
      "8\n",
      "9\n"
     ]
    }
   ],
   "source": [
    "for num in range(10):\n",
    "    print(num)\n",
    "print(\"x\"*25)\n",
    "for j in range(0,10):\n",
    "    print(j)\n",
    "print(\"x\"*25)\n",
    "for k in range(0,10,1):\n",
    "    print(k)\n"
   ]
  },
  {
   "cell_type": "code",
   "execution_count": 7,
   "id": "c2f113dd",
   "metadata": {},
   "outputs": [
    {
     "name": "stdout",
     "output_type": "stream",
     "text": [
      "range(0, 10)\n",
      "range(0, 10)\n",
      "range(0, 10)\n"
     ]
    }
   ],
   "source": [
    "print(range(10))\n",
    "print(range(0,10))\n",
    "print(range(0,10,1))"
   ]
  },
  {
   "cell_type": "markdown",
   "id": "334f3845",
   "metadata": {},
   "source": [
    "### 12. Write a short program that prints the numbers 1 to 10 using a for loop. Then write an equivalent program that prints the numbers 1 to 10 using a while loop."
   ]
  },
  {
   "cell_type": "code",
   "execution_count": 8,
   "id": "adfc71b8",
   "metadata": {},
   "outputs": [
    {
     "name": "stdout",
     "output_type": "stream",
     "text": [
      "using for loop\n",
      "12345678910\n",
      "\n",
      "using while loop\n",
      "12345678910"
     ]
    }
   ],
   "source": [
    "# Ans.\n",
    "\n",
    "print(\"using for loop\")\n",
    "for num in range(1,11):\n",
    "    print(num, end=\"\")\n",
    "print('\\n')\n",
    "print(\"using while loop\")\n",
    "var= 0\n",
    "while var != 10:\n",
    "    var += 1\n",
    "    print(var, end=\"\")\n",
    "    "
   ]
  },
  {
   "cell_type": "markdown",
   "id": "0b53e595",
   "metadata": {},
   "source": [
    "### 13. If you had a function named bacon() inside a module named spam, how would you call it after importing spam?\n",
    "\n",
    "**Ans.** This function can be called with ``spam.bacon()``"
   ]
  }
 ],
 "metadata": {
  "kernelspec": {
   "display_name": "Python 3 (ipykernel)",
   "language": "python",
   "name": "python3"
  },
  "language_info": {
   "codemirror_mode": {
    "name": "ipython",
    "version": 3
   },
   "file_extension": ".py",
   "mimetype": "text/x-python",
   "name": "python",
   "nbconvert_exporter": "python",
   "pygments_lexer": "ipython3",
   "version": "3.10.2"
  }
 },
 "nbformat": 4,
 "nbformat_minor": 5
}
