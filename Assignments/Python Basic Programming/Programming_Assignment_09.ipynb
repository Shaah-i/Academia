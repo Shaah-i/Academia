{
 "cells": [
  {
   "cell_type": "markdown",
   "id": "3d58f491",
   "metadata": {},
   "source": [
    "# Programming_Assignment_09"
   ]
  },
  {
   "cell_type": "markdown",
   "id": "d929054d",
   "metadata": {},
   "source": [
    "#### 1. Write a Python program to check if the given number is a Disarium Number?"
   ]
  },
  {
   "cell_type": "code",
   "execution_count": 1,
   "id": "8b181d46",
   "metadata": {},
   "outputs": [
    {
     "name": "stdout",
     "output_type": "stream",
     "text": [
      "533 is not a Disarium Number\n",
      "175 is a Disarium Number\n",
      "99 is not a Disarium Number\n"
     ]
    }
   ],
   "source": [
    "def isDisarium(i):\n",
    "    i=str(i)\n",
    "    lst=list(i)\n",
    "    power_sum = 0\n",
    "    for s in range(len(lst)):\n",
    "        power_sum += int(lst[s])**(s+1)\n",
    "    if power_sum == int(i):\n",
    "        print(i, \"is a Disarium Number\")\n",
    "    else:\n",
    "        print(i, \"is not a Disarium Number\")\n",
    "        \n",
    "isDisarium(533)\n",
    "isDisarium(175)\n",
    "isDisarium(99)"
   ]
  },
  {
   "cell_type": "markdown",
   "id": "96cbd186",
   "metadata": {},
   "source": [
    "#### 2. Write a Python program to print all disarium numbers between 1 to 100?"
   ]
  },
  {
   "cell_type": "code",
   "execution_count": 2,
   "id": "8a3e8eeb",
   "metadata": {},
   "outputs": [
    {
     "data": {
      "text/plain": [
       "[1, 2, 3, 4, 5, 6, 7, 8, 9, 89]"
      ]
     },
     "execution_count": 2,
     "metadata": {},
     "output_type": "execute_result"
    }
   ],
   "source": [
    "def DismSeries(a,b):\n",
    "    dsn=[]\n",
    "    ndsn=[]\n",
    "    for i in range(a,b+1):\n",
    "        lst=list(str(i))\n",
    "        power_sum = 0\n",
    "        for s in range(len(lst)):\n",
    "            power_sum += int(lst[s])**(s+1)\n",
    "        if power_sum == i:\n",
    "            dsn.append(i)\n",
    "        else:\n",
    "            ndsn.append(i)\n",
    "    return dsn\n",
    "DismSeries(1,100)"
   ]
  },
  {
   "cell_type": "markdown",
   "id": "ee7dc0bf",
   "metadata": {},
   "source": [
    "#### 3. Write a Python program to check if the given number is Happy Number?"
   ]
  },
  {
   "cell_type": "code",
   "execution_count": 3,
   "id": "bc735ede",
   "metadata": {},
   "outputs": [
    {
     "name": "stdout",
     "output_type": "stream",
     "text": [
      "True\n",
      "False\n",
      "False\n"
     ]
    }
   ],
   "source": [
    "def isHappy(i):\n",
    "    \n",
    "    i_dup = i\n",
    "    h = set()   \n",
    "    while True:\n",
    "        if i != '1' and str(i) not in h:\n",
    "            h.add(i)\n",
    "            s = 0\n",
    "            i=str(i)\n",
    "            for ele in range(len(i)):\n",
    "                s += int(i[ele])**2\n",
    "            i = str(s)\n",
    "        elif str(i) in h:\n",
    "            return False\n",
    "            break\n",
    "        else:\n",
    "            return True\n",
    "            break\n",
    "            \n",
    "print(isHappy(10))\n",
    "print(isHappy(12))\n",
    "print(isHappy(20))"
   ]
  },
  {
   "cell_type": "markdown",
   "id": "7b6e0f51",
   "metadata": {},
   "source": [
    "#### 4. Write a Python program to print all happy numbers between 1 and 100?"
   ]
  },
  {
   "cell_type": "code",
   "execution_count": 4,
   "id": "7b9d904e",
   "metadata": {},
   "outputs": [
    {
     "name": "stdout",
     "output_type": "stream",
     "text": [
      "[1, 7, 10, 13, 19, 23, 28, 31, 32, 44, 49, 68, 70, 79, 82, 86, 91, 94, 97, 100]\n"
     ]
    }
   ],
   "source": [
    "# using the above code\n",
    "\n",
    "m=[]\n",
    "for i in range(1,101):\n",
    "    if isHappy(i) == True:\n",
    "        m.append(i)\n",
    "print(m)"
   ]
  },
  {
   "cell_type": "markdown",
   "id": "aa25f529",
   "metadata": {},
   "source": [
    "#### 5. Write a Python program to determine whether the given number is a Harshad Number?"
   ]
  },
  {
   "cell_type": "code",
   "execution_count": 5,
   "id": "a40e76db",
   "metadata": {},
   "outputs": [
    {
     "name": "stdout",
     "output_type": "stream",
     "text": [
      "55 is not a Harshad Number\n",
      "18 is a Harshad Number\n",
      "3 is a Harshad Number\n"
     ]
    }
   ],
   "source": [
    "def isHarshad(i):\n",
    "    i = str(i)\n",
    "    lst = list(i)\n",
    "    dsum = 0\n",
    "    for s in lst:\n",
    "        dsum += int(s)\n",
    "    if int(i)%dsum == 0:\n",
    "        print(i, \"is a Harshad Number\")\n",
    "    else:\n",
    "        print(i, \"is not a Harshad Number\")\n",
    "        \n",
    "isHarshad(55)\n",
    "isHarshad(18)\n",
    "isHarshad(3)"
   ]
  },
  {
   "cell_type": "code",
   "execution_count": 6,
   "id": "3729531d",
   "metadata": {},
   "outputs": [
    {
     "data": {
      "text/plain": [
       "[1,\n",
       " 2,\n",
       " 3,\n",
       " 4,\n",
       " 5,\n",
       " 6,\n",
       " 7,\n",
       " 8,\n",
       " 9,\n",
       " 10,\n",
       " 12,\n",
       " 18,\n",
       " 20,\n",
       " 21,\n",
       " 24,\n",
       " 27,\n",
       " 30,\n",
       " 36,\n",
       " 40,\n",
       " 42,\n",
       " 45,\n",
       " 48,\n",
       " 50,\n",
       " 54,\n",
       " 60,\n",
       " 63,\n",
       " 70,\n",
       " 72,\n",
       " 80,\n",
       " 81,\n",
       " 84,\n",
       " 90,\n",
       " 100]"
      ]
     },
     "execution_count": 6,
     "metadata": {},
     "output_type": "execute_result"
    }
   ],
   "source": [
    "def HarSeries(a,b):\n",
    "    hn=[]\n",
    "    nhn=[]\n",
    "    for i in range(a,b+1):\n",
    "        lst=list(str(i))\n",
    "        dsum = 0\n",
    "        for s in lst:\n",
    "            dsum += int(s)\n",
    "        if int(i)%dsum == 0:\n",
    "            hn.append(i)\n",
    "        else:\n",
    "            nhn.append(i)\n",
    "    return hn\n",
    "\n",
    "HarSeries(1,100)"
   ]
  },
  {
   "cell_type": "markdown",
   "id": "75c25a48",
   "metadata": {},
   "source": [
    "#### 6. Write a Python program to print all pronic numbers between 1 and 100?"
   ]
  },
  {
   "cell_type": "code",
   "execution_count": 7,
   "id": "cdabad2c",
   "metadata": {},
   "outputs": [
    {
     "name": "stdout",
     "output_type": "stream",
     "text": [
      "[0, 2, 6, 12, 20, 30, 42, 56, 72, 90]\n"
     ]
    }
   ],
   "source": [
    "from math import sqrt\n",
    "\n",
    "def checkPronic(x):\n",
    "    i=0\n",
    "    while (i <= int(sqrt(x))):\n",
    "        if x== i*(i+1):\n",
    "            return True\n",
    "        i += 1\n",
    "    return False\n",
    "\n",
    "# for the series upto 100\n",
    "j = 0\n",
    "m=[]\n",
    "while (j<=100):\n",
    "    if checkPronic(j):\n",
    "        m.append(j)\n",
    "    j += 1\n",
    "    \n",
    "print(m)"
   ]
  }
 ],
 "metadata": {
  "kernelspec": {
   "display_name": "Python 3 (ipykernel)",
   "language": "python",
   "name": "python3"
  },
  "language_info": {
   "codemirror_mode": {
    "name": "ipython",
    "version": 3
   },
   "file_extension": ".py",
   "mimetype": "text/x-python",
   "name": "python",
   "nbconvert_exporter": "python",
   "pygments_lexer": "ipython3",
   "version": "3.10.2"
  }
 },
 "nbformat": 4,
 "nbformat_minor": 5
}
