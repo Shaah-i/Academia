{
 "cells": [
  {
   "cell_type": "markdown",
   "id": "f11e96f1",
   "metadata": {},
   "source": [
    "# Programming_Assignment_15"
   ]
  },
  {
   "cell_type": "markdown",
   "id": "d929054d",
   "metadata": {},
   "source": [
    "#### Question 1:\n",
    "\n",
    "Please write a program using generator to print the numbers which can be divisible by 5 and\n",
    "7 between 0 and n in comma separated form while n is input by console.\n",
    "Example:\n",
    "If the following n is given as input to the program:\n",
    "100\n",
    "Then, the output of the program should be:\n",
    "0,35,70"
   ]
  },
  {
   "cell_type": "code",
   "execution_count": 1,
   "id": "8b181d46",
   "metadata": {},
   "outputs": [
    {
     "name": "stdout",
     "output_type": "stream",
     "text": [
      "0,35,70\n"
     ]
    }
   ],
   "source": [
    "class divGen:\n",
    "    def __init__(self,n):\n",
    "        self.n = n\n",
    "    def div_5_7(self):\n",
    "        l=[]\n",
    "        for i in range(self.n+1):\n",
    "            if i % 7 == 0 and i % 5 == 0:\n",
    "                l.append(str(i))\n",
    "        print(\",\".join(l))\n",
    "                \n",
    "op= divGen(100)\n",
    "op.div_5_7()"
   ]
  },
  {
   "cell_type": "markdown",
   "id": "bdbe71bf",
   "metadata": {},
   "source": [
    "#### Question 2:\n",
    "\n",
    "Please write a program using generator to print the even numbers between 0 and n in comma\n",
    "separated form while n is input by console.\n",
    "Example:\n",
    "If the following n is given as input to the program:\n",
    "10\n",
    "Then, the output of the program should be:\n",
    "0,2,4,6,8,10"
   ]
  },
  {
   "cell_type": "code",
   "execution_count": 2,
   "id": "c73b4251",
   "metadata": {},
   "outputs": [
    {
     "name": "stdout",
     "output_type": "stream",
     "text": [
      "0,2,4,6,8,10\n"
     ]
    }
   ],
   "source": [
    "class evenGen:\n",
    "    def __init__(self,n):\n",
    "        self.n = n\n",
    "    def evenNum(self):\n",
    "        l=[]\n",
    "        for i in range(self.n+1):\n",
    "            if i % 2 == 0:\n",
    "                l.append(str(i))\n",
    "        print(\",\".join(l))\n",
    "op= evenGen(10)\n",
    "op.evenNum()"
   ]
  },
  {
   "cell_type": "markdown",
   "id": "857756e6",
   "metadata": {},
   "source": [
    "#### Question 3:\n",
    "\n",
    "The Fibonacci Sequence is computed based on the following formula:\n",
    "\n",
    "`f(n)=0 if n=0`\n",
    "\n",
    "`f(n)=1 if n=1`\n",
    "\n",
    "`f(n)=f(n-1)+f(n-2) if n>1`\n",
    "\n",
    "\n",
    "Please write a program using list comprehension to print the Fibonacci Sequence in comma\n",
    "separated form with a given n input by console.\n",
    "Example:\n",
    "If the following n is given as input to the program:\n",
    "7\n",
    "\n",
    "Then, the output of the program should be:\n",
    "0,1,1,2,3,5,8,13"
   ]
  },
  {
   "cell_type": "code",
   "execution_count": 3,
   "id": "6981366f",
   "metadata": {},
   "outputs": [
    {
     "name": "stdout",
     "output_type": "stream",
     "text": [
      "[0, 1, 1, 2, 3, 5, 8, 13, 21]\n"
     ]
    }
   ],
   "source": [
    "def fab(n):\n",
    "    if n == 0:\n",
    "        return 0\n",
    "    elif n == 1:\n",
    "        return 1\n",
    "    else:\n",
    "        return fab(n-1)+fab(n-2)\n",
    "\n",
    "n=8\n",
    "l=[]\n",
    "for i in range(n+1):\n",
    "    l.append(fab(i))\n",
    "print(l)"
   ]
  },
  {
   "cell_type": "markdown",
   "id": "8d4d5eb7",
   "metadata": {},
   "source": [
    "#### Question 4:\n",
    "\n",
    "Assuming that we have some email addresses in the &quot;username@companyname.com&quot; format,\n",
    "please write program to print the user name of a given email address. Both user names and\n",
    "company names are composed of letters only.\n",
    "\n",
    "Example:\n",
    "\n",
    "If the following email address is given as input to the program: `john@google.com`\n",
    "\n",
    "Then, the output of the program should be:\n",
    "`john`"
   ]
  },
  {
   "cell_type": "code",
   "execution_count": 4,
   "id": "58139da6",
   "metadata": {},
   "outputs": [
    {
     "name": "stdout",
     "output_type": "stream",
     "text": [
      "john@google.com\n",
      "john\n",
      "shubbh9@gmail.com\n",
      "shubbh9\n",
      "sudhanshu@ineuron.ai\n",
      "sudhanshu\n"
     ]
    }
   ],
   "source": [
    "def nameMail():\n",
    "    i=input(\"\")\n",
    "    l=i.split(\"@\")\n",
    "    print(l[0])\n",
    "\n",
    "nameMail()\n",
    "nameMail()\n",
    "nameMail()"
   ]
  },
  {
   "cell_type": "markdown",
   "id": "d22d92e3",
   "metadata": {},
   "source": [
    "#### Question 5:\n",
    "\n",
    "Define a class named Shape and its subclass Square. The Square class has an init function\n",
    "which takes a length as argument. Both classes have a area function which can print the area\n",
    "of the shape where Shape&#39;s area is 0 by default."
   ]
  },
  {
   "cell_type": "code",
   "execution_count": 5,
   "id": "c0e6ece1",
   "metadata": {},
   "outputs": [
    {
     "data": {
      "text/plain": [
       "144"
      ]
     },
     "execution_count": 5,
     "metadata": {},
     "output_type": "execute_result"
    }
   ],
   "source": [
    "class Shape:\n",
    "    def area(self):\n",
    "        return 0\n",
    "\n",
    "class Square(Shape):\n",
    "    def __init__(self,length):\n",
    "        self.length = length\n",
    "    def area(self):\n",
    "        return self.length**2\n",
    "    \n",
    "op= Square(12)\n",
    "op.area()"
   ]
  }
 ],
 "metadata": {
  "kernelspec": {
   "display_name": "Python 3 (ipykernel)",
   "language": "python",
   "name": "python3"
  },
  "language_info": {
   "codemirror_mode": {
    "name": "ipython",
    "version": 3
   },
   "file_extension": ".py",
   "mimetype": "text/x-python",
   "name": "python",
   "nbconvert_exporter": "python",
   "pygments_lexer": "ipython3",
   "version": "3.10.2"
  }
 },
 "nbformat": 4,
 "nbformat_minor": 5
}
