{
 "cells": [
  {
   "cell_type": "markdown",
   "id": "abe8f004",
   "metadata": {},
   "source": [
    "# Programming_Assignment_10"
   ]
  },
  {
   "cell_type": "markdown",
   "id": "d929054d",
   "metadata": {},
   "source": [
    "#### 1. Write a Python program to find sum of elements in list?"
   ]
  },
  {
   "cell_type": "code",
   "execution_count": 1,
   "id": "8b181d46",
   "metadata": {},
   "outputs": [
    {
     "name": "stdout",
     "output_type": "stream",
     "text": [
      "15\n",
      "20\n"
     ]
    }
   ],
   "source": [
    "def sumList(lst):\n",
    "    s=0\n",
    "    for i in lst:\n",
    "        s += i\n",
    "    return s\n",
    "\n",
    "print(sumList([1,2,3,4,5]))\n",
    "print(sumList([8,6,4,2]))"
   ]
  },
  {
   "cell_type": "markdown",
   "id": "d2919240",
   "metadata": {},
   "source": [
    "#### 2. Write a Python program to Multiply all numbers in the list?"
   ]
  },
  {
   "cell_type": "code",
   "execution_count": 2,
   "id": "8ff327f9",
   "metadata": {},
   "outputs": [
    {
     "name": "stdout",
     "output_type": "stream",
     "text": [
      "120\n",
      "384\n"
     ]
    }
   ],
   "source": [
    "def multList(lst):\n",
    "    s=1\n",
    "    for i in lst:\n",
    "        s *= i\n",
    "    return s\n",
    "\n",
    "print(multList([1,2,3,4,5]))\n",
    "print(multList([8,6,4,2]))"
   ]
  },
  {
   "cell_type": "markdown",
   "id": "d09b3afc",
   "metadata": {},
   "source": [
    "#### 3. Write a Python program to find smallest number in a list?"
   ]
  },
  {
   "cell_type": "code",
   "execution_count": 3,
   "id": "24d197f7",
   "metadata": {},
   "outputs": [
    {
     "name": "stdout",
     "output_type": "stream",
     "text": [
      "1\n",
      "2\n"
     ]
    }
   ],
   "source": [
    "def minList(lst):\n",
    "    return min(lst)\n",
    "\n",
    "print(minList([1,2,3,4,5]))\n",
    "print(minList([8,6,4,2]))"
   ]
  },
  {
   "cell_type": "markdown",
   "id": "b7b830d5",
   "metadata": {},
   "source": [
    "#### 4. Write a Python program to find largest number in a list?"
   ]
  },
  {
   "cell_type": "code",
   "execution_count": 4,
   "id": "d02e4809",
   "metadata": {},
   "outputs": [
    {
     "name": "stdout",
     "output_type": "stream",
     "text": [
      "5\n",
      "8\n"
     ]
    }
   ],
   "source": [
    "def maxList(lst):\n",
    "    return max(lst)\n",
    "\n",
    "print(maxList([1,2,3,4,5]))\n",
    "print(maxList([8,6,4,2]))"
   ]
  },
  {
   "cell_type": "markdown",
   "id": "f67ef98d",
   "metadata": {},
   "source": [
    "#### 5. Write a Python program to find second largest number in a list?"
   ]
  },
  {
   "cell_type": "code",
   "execution_count": 5,
   "id": "a8cf0f66",
   "metadata": {},
   "outputs": [
    {
     "name": "stdout",
     "output_type": "stream",
     "text": [
      "5\n",
      "8\n"
     ]
    }
   ],
   "source": [
    "def max2List(lst):\n",
    "    lst.sort()\n",
    "    return lst[-1]\n",
    "\n",
    "print(max2List([1,2,3,4,5]))\n",
    "print(max2List([8,6,4,2]))"
   ]
  },
  {
   "cell_type": "markdown",
   "id": "a7a110dd",
   "metadata": {},
   "source": [
    "#### 6. Write a Python program to find N largest elements from a list?"
   ]
  },
  {
   "cell_type": "code",
   "execution_count": 6,
   "id": "50464376",
   "metadata": {},
   "outputs": [
    {
     "name": "stdout",
     "output_type": "stream",
     "text": [
      "4\n",
      "4\n"
     ]
    }
   ],
   "source": [
    "def maxNList(lst,N):\n",
    "    lst.sort()\n",
    "    return lst[N-1]\n",
    "\n",
    "print(maxNList([1,2,3,4,5],4))\n",
    "print(maxNList([8,6,4,2],2))"
   ]
  },
  {
   "cell_type": "markdown",
   "id": "ad5c9da4",
   "metadata": {},
   "source": [
    "#### 7. Write a Python program to print even numbers in a list?"
   ]
  },
  {
   "cell_type": "code",
   "execution_count": 7,
   "id": "8896aa04",
   "metadata": {},
   "outputs": [
    {
     "name": "stdout",
     "output_type": "stream",
     "text": [
      "[2, 4]\n",
      "[8, 6, 4, 2]\n"
     ]
    }
   ],
   "source": [
    "def evenList(lst):\n",
    "    l1=[]\n",
    "    for i in lst:\n",
    "        if i%2 == 0:\n",
    "            l1.append(i)\n",
    "    return l1\n",
    "\n",
    "print(evenList([1,2,3,4,5]))\n",
    "print(evenList([8,6,4,2]))"
   ]
  },
  {
   "cell_type": "markdown",
   "id": "a2ce268a",
   "metadata": {},
   "source": [
    "#### 8. Write a Python program to print odd numbers in a List?"
   ]
  },
  {
   "cell_type": "code",
   "execution_count": 8,
   "id": "09aa676e",
   "metadata": {},
   "outputs": [
    {
     "name": "stdout",
     "output_type": "stream",
     "text": [
      "[1, 3, 5]\n",
      "[]\n"
     ]
    }
   ],
   "source": [
    "def oddList(lst):\n",
    "    l1=[]\n",
    "    for i in lst:\n",
    "        if i%2 != 0:\n",
    "            l1.append(i)\n",
    "    return l1\n",
    "\n",
    "print(oddList([1,2,3,4,5]))\n",
    "print(oddList([8,6,4,2]))"
   ]
  },
  {
   "cell_type": "markdown",
   "id": "269234fc",
   "metadata": {},
   "source": [
    "#### 9. Write a Python program to Remove empty List from List?"
   ]
  },
  {
   "cell_type": "code",
   "execution_count": 9,
   "id": "15c79e40",
   "metadata": {},
   "outputs": [
    {
     "name": "stdout",
     "output_type": "stream",
     "text": [
      "[1, 5, [5, 's'], 'sddw']\n"
     ]
    }
   ],
   "source": [
    "def rmvEmptList(lst):\n",
    "    for i in lst:\n",
    "        if type(i) == list:\n",
    "            if len(i) == 0:\n",
    "                lst.remove(i)\n",
    "    return lst\n",
    "\n",
    "print(rmvEmptList([1,5,[],[5,'s'],'sddw',[]]))"
   ]
  },
  {
   "cell_type": "markdown",
   "id": "83ce1b15",
   "metadata": {},
   "source": [
    "#### 10. Write a Python program to Cloning or Copying a list?"
   ]
  },
  {
   "cell_type": "code",
   "execution_count": 10,
   "id": "15f605ae",
   "metadata": {},
   "outputs": [
    {
     "data": {
      "text/plain": [
       "[1, 2, 3, 4, 5]"
      ]
     },
     "execution_count": 10,
     "metadata": {},
     "output_type": "execute_result"
    }
   ],
   "source": [
    "def cloneList(lst):\n",
    "    c_lst =[]\n",
    "    for i in lst:\n",
    "        c_lst.append(i)\n",
    "    return c_lst\n",
    "\n",
    "cloneList([1,2,3,4,5])"
   ]
  },
  {
   "cell_type": "code",
   "execution_count": 11,
   "id": "e31fa3c9",
   "metadata": {},
   "outputs": [
    {
     "data": {
      "text/plain": [
       "[1, 2, 3, 4, 5]"
      ]
     },
     "execution_count": 11,
     "metadata": {},
     "output_type": "execute_result"
    }
   ],
   "source": [
    "def cloneList(lst):\n",
    "    import copy\n",
    "    c_lst =lst.copy()\n",
    "#     c_lst = copy.copy(lst)\n",
    "    return c_lst\n",
    "\n",
    "cloneList([1,2,3,4,5])"
   ]
  },
  {
   "cell_type": "markdown",
   "id": "c4ccc469",
   "metadata": {},
   "source": [
    "#### 11. Write a Python program to Count occurrences of an element in a list?"
   ]
  },
  {
   "cell_type": "code",
   "execution_count": 12,
   "id": "7a0ea183",
   "metadata": {},
   "outputs": [
    {
     "data": {
      "text/plain": [
       "3"
      ]
     },
     "execution_count": 12,
     "metadata": {},
     "output_type": "execute_result"
    }
   ],
   "source": [
    "def occList(lst,letter):\n",
    "    new = [letter]\n",
    "    count = 0\n",
    "    for i in lst:\n",
    "        if i in new:\n",
    "            count += 1\n",
    "    return count\n",
    "occList([1,1,2,3,4,1,2,3,8,8,8,8,8],1)"
   ]
  }
 ],
 "metadata": {
  "kernelspec": {
   "display_name": "Python 3 (ipykernel)",
   "language": "python",
   "name": "python3"
  },
  "language_info": {
   "codemirror_mode": {
    "name": "ipython",
    "version": 3
   },
   "file_extension": ".py",
   "mimetype": "text/x-python",
   "name": "python",
   "nbconvert_exporter": "python",
   "pygments_lexer": "ipython3",
   "version": "3.10.2"
  }
 },
 "nbformat": 4,
 "nbformat_minor": 5
}
