{
 "cells": [
  {
   "cell_type": "markdown",
   "id": "0ccfd4a7",
   "metadata": {},
   "source": [
    "# Programming_Assignment_07"
   ]
  },
  {
   "cell_type": "markdown",
   "id": "d929054d",
   "metadata": {},
   "source": [
    "#### 1. Write a Python Program to find sum of array?"
   ]
  },
  {
   "cell_type": "code",
   "execution_count": 1,
   "id": "8b181d46",
   "metadata": {},
   "outputs": [
    {
     "name": "stdout",
     "output_type": "stream",
     "text": [
      "29\n",
      "28.141592653589793\n"
     ]
    }
   ],
   "source": [
    "from math import *\n",
    "def sumArray(*args):\n",
    "    print(sum(args))\n",
    "\n",
    "sumArray(1,5,4,9,10)\n",
    "sumArray(1,5,pi,9,10)"
   ]
  },
  {
   "cell_type": "markdown",
   "id": "8f230837",
   "metadata": {},
   "source": [
    "#### 2. Write a Python Program to find largest element in an array?"
   ]
  },
  {
   "cell_type": "code",
   "execution_count": 2,
   "id": "ade48869",
   "metadata": {
    "scrolled": true
   },
   "outputs": [
    {
     "name": "stdout",
     "output_type": "stream",
     "text": [
      "10\n",
      "3.141592653589793\n"
     ]
    }
   ],
   "source": [
    "from math import *\n",
    "def maxArray(*args):\n",
    "    print(max(args))\n",
    "\n",
    "maxArray(1,5,4,9,10)\n",
    "maxArray(1,2.52,pi)"
   ]
  },
  {
   "cell_type": "markdown",
   "id": "359096ef",
   "metadata": {},
   "source": [
    "#### 3. Write a Python Program for array rotation?"
   ]
  },
  {
   "cell_type": "code",
   "execution_count": 3,
   "id": "ac8ab23d",
   "metadata": {},
   "outputs": [
    {
     "data": {
      "text/plain": [
       "[1, 2, 3, 4, 5]"
      ]
     },
     "execution_count": 3,
     "metadata": {},
     "output_type": "execute_result"
    }
   ],
   "source": [
    "def rotatArray(*args):\n",
    "    lst=list(args)\n",
    "    x=lst[1]\n",
    "    for i in range(len(lst)-2):\n",
    "        lst[i], lst[i+1] == lst[i+1], lst[i]\n",
    "#         lst[-1] == x\n",
    "    return lst\n",
    "rotatArray(1,2,3,4,5)"
   ]
  },
  {
   "cell_type": "markdown",
   "id": "21b1c30c",
   "metadata": {},
   "source": [
    "#### 4. Write a Python Program to Split the array and add the first part to the end?"
   ]
  },
  {
   "cell_type": "code",
   "execution_count": 4,
   "id": "aa2b33b6",
   "metadata": {},
   "outputs": [
    {
     "name": "stdout",
     "output_type": "stream",
     "text": [
      "6\n",
      "28\n"
     ]
    }
   ],
   "source": [
    "def splitAdd(*args):\n",
    "    lst=list(args)\n",
    "    return lst[0]+lst[-1]\n",
    "    \n",
    "print(splitAdd(1,2,3,4,5))\n",
    "print(splitAdd(10,13,14,9,18))"
   ]
  },
  {
   "cell_type": "markdown",
   "id": "750b0a56",
   "metadata": {},
   "source": [
    "#### 5. Write a Python Program to check if given array is Monotonic?"
   ]
  },
  {
   "cell_type": "code",
   "execution_count": 5,
   "id": "43d2e975",
   "metadata": {},
   "outputs": [
    {
     "name": "stdout",
     "output_type": "stream",
     "text": [
      "True\n",
      "False\n"
     ]
    }
   ],
   "source": [
    "def isMonotonic(*args):\n",
    "    return (all(args[i] <= args[i + 1] for i in range(len(args)- 1)) or\n",
    "            all(args[i] >= args[i + 1] for i in range(len(args)- 1)))\n",
    "\n",
    "print(isMonotonic(1,2,3,4,5))\n",
    "print(isMonotonic(5,10,20,5))"
   ]
  }
 ],
 "metadata": {
  "kernelspec": {
   "display_name": "Python 3 (ipykernel)",
   "language": "python",
   "name": "python3"
  },
  "language_info": {
   "codemirror_mode": {
    "name": "ipython",
    "version": 3
   },
   "file_extension": ".py",
   "mimetype": "text/x-python",
   "name": "python",
   "nbconvert_exporter": "python",
   "pygments_lexer": "ipython3",
   "version": "3.10.2"
  }
 },
 "nbformat": 4,
 "nbformat_minor": 5
}
