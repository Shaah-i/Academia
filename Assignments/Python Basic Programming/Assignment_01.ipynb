{
 "cells": [
  {
   "cell_type": "markdown",
   "id": "daff0fb8",
   "metadata": {},
   "source": [
    "# Assignment_1"
   ]
  },
  {
   "cell_type": "markdown",
   "id": "dced5dde",
   "metadata": {},
   "source": [
    "### 1. In the below elements which of them are values or an expression? eg:- values can be integer or string and expressions will be mathematical operators.\n",
    "`* 'hello' -87.8 - / + 6`\n",
    "\n",
    "**Ans.**\n",
    "\n",
    "* Value: 'hello', -87.8, 6 \n",
    "* Expression : *, -, /, +"
   ]
  },
  {
   "cell_type": "markdown",
   "id": "82da4c63",
   "metadata": {},
   "source": [
    "### 2. What is the difference between string and variable?\n",
    "\n",
    "**Ans.** A string is a group of characters or a single character usually enclosed in Double quotes \" \" or single quotes ' '. It is a type of data. A variable is used to store of information."
   ]
  },
  {
   "cell_type": "markdown",
   "id": "b2547901",
   "metadata": {},
   "source": [
    "### 3. Describe three different data types.\n",
    "\n",
    "**Ans.**\n",
    "* float() : float data type is floating point number (decimal values).\n",
    "* list() : list data type are used to store multiple items in a single variable. Lists are created using square brackets.\n",
    "* complex() : complex data type is complex number represented as (real part) + (imaginary part)j."
   ]
  },
  {
   "cell_type": "markdown",
   "id": "a8f456ac",
   "metadata": {},
   "source": [
    "### 4. What is an expression made up of? What do all expressions do?\n",
    "\n",
    "**Ans.**\n",
    "An expression is a combination of values, variables, operators, and calls to functions. Expressions need to be evaluated. If we ask Python to print an expression, the interpreter evaluates the expression and displays the result. e.g. ``print((2*a)+b)`` . Here ``(2*a)+b`` is the expression"
   ]
  },
  {
   "cell_type": "markdown",
   "id": "1c1be901",
   "metadata": {},
   "source": [
    "<!-- Some part is missing in the question. -->\n",
    "\n",
    "### 5. This assignment statements, like spam = 10. What is the difference between an expression and a statement?\n",
    "\n",
    "**Ans.**\n",
    "An expression is a combination of values, variables, operators, and calls to functions. The interpreter evaluates for it.\n",
    "e.g. ``(2*a)+b``\n",
    "\n",
    "A statment is used to creat a variable or display a value, no evaluation is involved.\n",
    "e.g. ``print()``\n"
   ]
  },
  {
   "cell_type": "markdown",
   "id": "9b34326e",
   "metadata": {},
   "source": [
    "### 6. After running the following code, what does the variable bacon contain?\n",
    "bacon = 22\n",
    "bacon + 1\n",
    "\n",
    "**Ans.** bacon = 22. Because bacon+1 is not stored in any variable."
   ]
  },
  {
   "cell_type": "markdown",
   "id": "2656505a",
   "metadata": {},
   "source": [
    "### 7. What should the values of the following two terms be?\n",
    "'spam' + 'spamspam'\n",
    "'spam' * 3\n",
    "\n",
    "**Ans.**\n",
    "\n",
    "'spamspamspam'\n",
    "\n",
    "'spamspamspam'"
   ]
  },
  {
   "cell_type": "markdown",
   "id": "ebf3c6e6",
   "metadata": {},
   "source": [
    "### 8. Why is eggs a valid variable name while 100 is invalid?\n",
    "\n",
    "**Ans.** Name of variable cannot start with a number but can be a string. Hence egg is a valid variable name while 100 is not."
   ]
  },
  {
   "cell_type": "markdown",
   "id": "8911c7eb",
   "metadata": {},
   "source": [
    "### 9. What three functions can be used to get the integer, floating-point number, or string version of a value?\n",
    "\n",
    "**Ans.** \n",
    "* ``int()``\n",
    "* ``float()``\n",
    "* ``str()``"
   ]
  },
  {
   "cell_type": "markdown",
   "id": "66f43c1d",
   "metadata": {},
   "source": [
    "### 10. Why does this expression cause an error? How can you fix it?\n",
    "'I have eaten ' + 99 + ' burritos.'\n",
    "\n",
    "**Ans.**\n",
    "Cannot concatenate a string and an integer.\n",
    "Convert the number 99 into string which can be concatenated.\n",
    "\n",
    "* 'I have eaten ' + '99' + ' burritos.'\n",
    "                OR\n",
    "* 'I have eaten ' + str(99) + ' burritos.'"
   ]
  },
  {
   "cell_type": "code",
   "execution_count": 1,
   "id": "87a4f9fc",
   "metadata": {},
   "outputs": [
    {
     "name": "stdout",
     "output_type": "stream",
     "text": [
      "I have eaten 99 burritos.\n",
      "I have eaten 99 burritos.\n"
     ]
    }
   ],
   "source": [
    "print('I have eaten ' + '99' + ' burritos.')\n",
    "print('I have eaten ' + str(99) + ' burritos.')"
   ]
  }
 ],
 "metadata": {
  "kernelspec": {
   "display_name": "Python 3 (ipykernel)",
   "language": "python",
   "name": "python3"
  },
  "language_info": {
   "codemirror_mode": {
    "name": "ipython",
    "version": 3
   },
   "file_extension": ".py",
   "mimetype": "text/x-python",
   "name": "python",
   "nbconvert_exporter": "python",
   "pygments_lexer": "ipython3",
   "version": "3.10.2"
  }
 },
 "nbformat": 4,
 "nbformat_minor": 5
}
