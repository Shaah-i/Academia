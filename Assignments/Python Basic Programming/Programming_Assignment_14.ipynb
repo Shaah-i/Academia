{
 "cells": [
  {
   "cell_type": "markdown",
   "id": "10d40dc1",
   "metadata": {},
   "source": [
    "# Programming_Assignment_14"
   ]
  },
  {
   "cell_type": "markdown",
   "id": "d929054d",
   "metadata": {},
   "source": [
    "#### Question 1:\n",
    "\n",
    "Define a class with a generator which can iterate the numbers, which are divisible by\n",
    "7, between a given range 0 and n."
   ]
  },
  {
   "cell_type": "code",
   "execution_count": 1,
   "id": "8b181d46",
   "metadata": {},
   "outputs": [
    {
     "name": "stdout",
     "output_type": "stream",
     "text": [
      "0 7 14 21 28 35 42 49 56 63 70 77 84 91 98 105 112 119 126 133 140 147 154 161 168 175 182 189 196 203 210 217 224 231 238 245 252 259 266 273 280 287 294 301 308 315 322 329 336 343 350 "
     ]
    }
   ],
   "source": [
    "class divGen:\n",
    "    def __init__(self,n):\n",
    "        self.n = n\n",
    "    def div7(self):\n",
    "        for i in range(self.n+1):\n",
    "            if i % 7 == 0:\n",
    "                print(i,end=\" \")\n",
    "op= divGen(350)\n",
    "op.div7()"
   ]
  },
  {
   "cell_type": "markdown",
   "id": "e220cfeb",
   "metadata": {},
   "source": [
    "#### Question 2:\n",
    "\n",
    "Write a program to compute the frequency of the words from the input. The output should output after sorting the key alphanumerically.\n",
    "\n",
    "Suppose the following input is supplied to the program:\n",
    "`New to Python or choosing between Python 2 and Python 3? Read Python 2 or Python 3.`\n",
    "\n",
    "Then, the output should be:\n",
    "`2:2 3.:1 3?:1 New:1 Python:5 Read:1 and:1 between:1 choosing:1 or:2 to:1`"
   ]
  },
  {
   "cell_type": "code",
   "execution_count": 2,
   "id": "fdcdd63f",
   "metadata": {},
   "outputs": [
    {
     "name": "stdout",
     "output_type": "stream",
     "text": [
      "New to Python or choosing between Python 2 and Python 3? Read Python 2 or Python 3.\n",
      "2:2 3.:1 3?:1 New:1 Python:5 Read:1 and:1 between:1 choosing:1 or:2 to:1 "
     ]
    }
   ],
   "source": [
    "def wordFreq():\n",
    "    l=input().split(\" \")\n",
    "    freq ={}\n",
    "    for i in l:\n",
    "        if(freq.get(i) == None):\n",
    "            freq[i] = 1\n",
    "        else:\n",
    "            freq[i] += 1\n",
    "    for j in sorted(freq):\n",
    "        print(\"{}:{}\".format(j,freq[j]), end=\" \")\n",
    "\n",
    "wordFreq()"
   ]
  },
  {
   "cell_type": "markdown",
   "id": "595c7965",
   "metadata": {},
   "source": [
    "#### Question 3:\n",
    "\n",
    "Define a class Person and its two child classes: Male and Female. All classes have a\n",
    "method &quot;getGender&quot; which can print &quot;Male&quot; for Male class and &quot;Female&quot; for Female\n",
    "class."
   ]
  },
  {
   "cell_type": "code",
   "execution_count": 3,
   "id": "9a983c3c",
   "metadata": {},
   "outputs": [
    {
     "name": "stdout",
     "output_type": "stream",
     "text": [
      "Male\n",
      "Female\n"
     ]
    }
   ],
   "source": [
    "class Person:\n",
    "    pass\n",
    "\n",
    "class Male(Person):\n",
    "    def getGender():\n",
    "        print(\"Male\")\n",
    "        \n",
    "class Female(Person):\n",
    "    def getGender():\n",
    "        print(\"Female\")\n",
    "        \n",
    "Male.getGender()\n",
    "Female.getGender()"
   ]
  },
  {
   "cell_type": "markdown",
   "id": "df1c9048",
   "metadata": {},
   "source": [
    "#### Question 4:\n",
    "\n",
    "Please write a program to generate all sentences where subject is in [\"I\", \"You\"] and verb is in [\"Play\", \"Love\"] and the object is in [\"Hockey\",\"Football\"] ?"
   ]
  },
  {
   "cell_type": "code",
   "execution_count": 4,
   "id": "104a6b6e",
   "metadata": {},
   "outputs": [
    {
     "name": "stdout",
     "output_type": "stream",
     "text": [
      "I Play Hockey\n",
      "I Play Football\n",
      "I Love Hockey\n",
      "I Love Football\n",
      "You Play Hockey\n",
      "You Play Football\n",
      "You Love Hockey\n",
      "You Love Football\n"
     ]
    }
   ],
   "source": [
    "sub = [\"I\", \"You\"]\n",
    "verb = [\"Play\", \"Love\"]\n",
    "obj = [\"Hockey\",\"Football\"]\n",
    "for s in sub:\n",
    "    for v in verb:\n",
    "        for o in obj:\n",
    "            print(\"{0} {1} {2}\".format(s,v,o))"
   ]
  },
  {
   "cell_type": "markdown",
   "id": "37488954",
   "metadata": {},
   "source": [
    "#### Question 5:\n",
    "Please write a program to compress and decompress the string &quot;hello world!hello\n",
    "world!hello world!hello world!&quot;."
   ]
  },
  {
   "cell_type": "code",
   "execution_count": 5,
   "id": "351822ef",
   "metadata": {},
   "outputs": [
    {
     "name": "stdout",
     "output_type": "stream",
     "text": [
      "hel2o world!hel2o world!hel2o world!hel2o world!\n",
      "hello world!hello world!hello world!hello world!\n"
     ]
    }
   ],
   "source": [
    "def comprs(a):\n",
    "    op = a[0]\n",
    "    count = 1\n",
    "    for i in range(len(a)-1):\n",
    "        if a[i] == a[i+1]:\n",
    "            count += 1\n",
    "        else:\n",
    "            if count > 1:\n",
    "                op += str(count)\n",
    "            op += a[i+1]\n",
    "            count = 1\n",
    "    if count > 1:\n",
    "        op += str(count)\n",
    "    print(op)\n",
    "\n",
    "def dcomprs(a):\n",
    "    op = ''\n",
    "    for i in range(len(a)):\n",
    "        if a[i].isdigit():\n",
    "            op += op[-1]*(int(a[i])-1)\n",
    "        else:\n",
    "            op += a[i]\n",
    "    print(op)\n",
    "        \n",
    "comprs(\"hello world!hello world!hello world!hello world!\")\n",
    "dcomprs(\"hel2o world!hel2o world!hel2o world!hel2o world!\")"
   ]
  },
  {
   "cell_type": "markdown",
   "id": "36b0b529",
   "metadata": {},
   "source": [
    "#### Question 6:\n",
    "\n",
    "Please write a binary search function which searches an item in a sorted list. The\n",
    "function should return the index of element to be searched in the list."
   ]
  },
  {
   "cell_type": "code",
   "execution_count": 6,
   "id": "788bdf76",
   "metadata": {},
   "outputs": [
    {
     "name": "stdout",
     "output_type": "stream",
     "text": [
      "7\n",
      "Not in list\n"
     ]
    }
   ],
   "source": [
    "sl=[1,2,4,5,7,8,11,15,18,20,26,39,99]\n",
    "def binSearch(lst,n):\n",
    "    l = 0\n",
    "    h = len(lst)-1\n",
    "    \n",
    "    while l <= h:\n",
    "        m = (h+l)//2\n",
    "        if lst[m] < n:\n",
    "            l = m+1\n",
    "        elif lst[m] > n:\n",
    "            h = m-1\n",
    "        else:\n",
    "            return m\n",
    "    else:\n",
    "        return 'Not in list'\n",
    "    \n",
    "print(binSearch(sl,15))\n",
    "print(binSearch(sl,151))\n"
   ]
  }
 ],
 "metadata": {
  "kernelspec": {
   "display_name": "Python 3 (ipykernel)",
   "language": "python",
   "name": "python3"
  },
  "language_info": {
   "codemirror_mode": {
    "name": "ipython",
    "version": 3
   },
   "file_extension": ".py",
   "mimetype": "text/x-python",
   "name": "python",
   "nbconvert_exporter": "python",
   "pygments_lexer": "ipython3",
   "version": "3.10.2"
  }
 },
 "nbformat": 4,
 "nbformat_minor": 5
}
