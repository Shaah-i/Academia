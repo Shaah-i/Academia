{
 "cells": [
  {
   "cell_type": "markdown",
   "id": "f1847fb9",
   "metadata": {},
   "source": [
    "# Programming_Assignment_13"
   ]
  },
  {
   "cell_type": "markdown",
   "id": "d929054d",
   "metadata": {},
   "source": [
    "#### Question 1:\n",
    "\n",
    "Write a program that calculates and prints the value according to the given formula:\n",
    "Q = Square root of [(2 * C * D)/H]\n",
    "Following are the fixed values of C and H:\n",
    "C is 50. H is 30.\n",
    "D is the variable whose values should be input to your program in a comma-separated\n",
    "sequence.\n",
    "Example\n",
    "Let us assume the following comma separated input sequence is given to the program:\n",
    "100,150,180\n",
    "The output of the program should be:\n",
    "18,22,24"
   ]
  },
  {
   "cell_type": "code",
   "execution_count": 1,
   "id": "8b181d46",
   "metadata": {},
   "outputs": [
    {
     "name": "stdout",
     "output_type": "stream",
     "text": [
      "100,150,180\n",
      "[18, 22, 24]\n"
     ]
    }
   ],
   "source": [
    "from math import *\n",
    "\n",
    "c=50\n",
    "h=30\n",
    "d=(input().split(\",\"))\n",
    "r=[]\n",
    "for i in range(len(d)):\n",
    "    q=int(sqrt((2*c*int(d[i]))//h))\n",
    "    r.append(q)\n",
    "print(r)"
   ]
  },
  {
   "cell_type": "markdown",
   "id": "4b2eb841",
   "metadata": {},
   "source": [
    "#### Question 2:\n",
    "\n",
    "Write a program which takes 2 digits, X,Y as input and generates a 2-dimensional array. The\n",
    "element value in the i-th row and j-th column of the array should be i*j.\n",
    "Note: i=0,1.., X-1; j=0,1,¡Y-1.\n",
    "Example\n",
    "Suppose the following inputs are given to the program:\n",
    "3,5\n",
    "Then, the output of the program should be:\n",
    "[[0, 0, 0, 0, 0], [0, 1, 2, 3, 4], [0, 2, 4, 6, 8]]"
   ]
  },
  {
   "cell_type": "code",
   "execution_count": 2,
   "id": "80dbfee2",
   "metadata": {},
   "outputs": [
    {
     "name": "stdout",
     "output_type": "stream",
     "text": [
      "3,5\n",
      "[[0, 0, 0, 0, 0], [0, 1, 2, 3, 4], [0, 2, 4, 6, 8]]\n"
     ]
    }
   ],
   "source": [
    "x,y=input().split(\",\")\n",
    "\n",
    "l=[]\n",
    "for i in range(int(x)):\n",
    "    m=[]\n",
    "    for j in range(int(y)):\n",
    "        m.append(i*j)\n",
    "    l.append(m)\n",
    "print(l)"
   ]
  },
  {
   "cell_type": "markdown",
   "id": "dcd2e3ac",
   "metadata": {},
   "source": [
    "#### Question 3:\n",
    "Write a program that accepts a comma separated sequence of words as input and prints the\n",
    "words in a comma-separated sequence after sorting them alphabetically.\n",
    "Suppose the following input is supplied to the program:\n",
    "without,hello,bag,world\n",
    "Then, the output should be:\n",
    "bag,hello,without,world"
   ]
  },
  {
   "cell_type": "code",
   "execution_count": 3,
   "id": "b35f7d8f",
   "metadata": {},
   "outputs": [
    {
     "name": "stdout",
     "output_type": "stream",
     "text": [
      "without,hello,bag,world\n",
      "bag,hello,without,world\n"
     ]
    }
   ],
   "source": [
    "def strSort():\n",
    "    l=input().split(\",\")\n",
    "    s=sorted(l)\n",
    "    ss=\",\".join(s)\n",
    "    print(ss)\n",
    "    \n",
    "strSort()"
   ]
  },
  {
   "cell_type": "markdown",
   "id": "cf5c98f4",
   "metadata": {},
   "source": [
    "#### Question 4:\n",
    "\n",
    "Write a program that accepts a sequence of whitespace separated words as input and prints\n",
    "the words after removing all duplicate words and sorting them alphanumerically.\n",
    "Suppose the following input is supplied to the program:\n",
    "hello world and practice makes perfect and hello world again\n",
    "Then, the output should be:\n",
    "again and hello makes perfect practice world"
   ]
  },
  {
   "cell_type": "code",
   "execution_count": 4,
   "id": "79f903ad",
   "metadata": {},
   "outputs": [
    {
     "name": "stdout",
     "output_type": "stream",
     "text": [
      "hello world and practice makes perfect and hello world again\n",
      "again and hello makes perfect practice world\n"
     ]
    }
   ],
   "source": [
    "def strSort2():\n",
    "    l=input().split(\" \")\n",
    "    l=set(l)\n",
    "    s=sorted(l)\n",
    "    ss=\" \".join(s)\n",
    "    print(ss)\n",
    "\n",
    "strSort2()"
   ]
  },
  {
   "cell_type": "markdown",
   "id": "ea5134bb",
   "metadata": {},
   "source": [
    "#### Question 5:\n",
    "\n",
    "Write a program that accepts a sentence and calculate the number of letters and digits.\n",
    "Suppose the following input is supplied to the program:\n",
    "hello world! 123\n",
    "Then, the output should be:\n",
    "LETTERS 10\n",
    "\n",
    "DIGITS 3"
   ]
  },
  {
   "cell_type": "code",
   "execution_count": 5,
   "id": "22ac6965",
   "metadata": {},
   "outputs": [
    {
     "name": "stdout",
     "output_type": "stream",
     "text": [
      "LETTERS 10\n",
      "DIGITS 3\n"
     ]
    }
   ],
   "source": [
    "a=\"hello world! 123\"\n",
    "a=a.replace(\" \",\"\")\n",
    "l=list(a)\n",
    "ltr_cnt = 0\n",
    "dig_cnt = 0\n",
    "spc_cnt = 0\n",
    "for i in l:\n",
    "    if i.isalpha() == True:\n",
    "        ltr_cnt += 1\n",
    "    elif i.isalnum() == True :\n",
    "        dig_cnt += 1\n",
    "    else:\n",
    "        spc_cnt += 1\n",
    "print(\"LETTERS {}\".format(ltr_cnt))\n",
    "print(\"DIGITS {}\".format(dig_cnt))\n",
    "# print(\"SPECIAL CHARS {}\".format(spc_cnt))"
   ]
  },
  {
   "cell_type": "markdown",
   "id": "f85575f2",
   "metadata": {},
   "source": [
    "#### Question 6:\n",
    "\n",
    "A website requires the users to input username and password to register. Write a program to\n",
    "check the validity of password input by users.\n",
    "Following are the criteria for checking the password:\n",
    "1. At least 1 letter between [a-z]\n",
    "2. At least 1 number between [0-9]\n",
    "1. At least 1 letter between [A-Z]\n",
    "3. At least 1 character from [$#@]\n",
    "4. Minimum length of transaction password: 6\n",
    "5. Maximum length of transaction password: 12\n",
    "Your program should accept a sequence of comma separated passwords and will check them\n",
    "according to the above criteria. Passwords that match the criteria are to be printed, each\n",
    "separated by a comma.\n",
    "Example\n",
    "If the following passwords are given as input to the program:\n",
    "ABd1234@1,a F1#,2w3E*,2We3345\n",
    "Then, the output of the program should be:\n",
    "ABd1234@1"
   ]
  },
  {
   "cell_type": "code",
   "execution_count": 6,
   "id": "b7d2a409",
   "metadata": {},
   "outputs": [
    {
     "name": "stdout",
     "output_type": "stream",
     "text": [
      "ABd1234@1,a F1#,2w3E*,2We3345\n",
      "ABd1234@1\n"
     ]
    }
   ],
   "source": [
    "def passCheck():\n",
    "    p = input(\"\")\n",
    "#     s = \"abcdefghijklmnopqrstuvwxyz\"\n",
    "#     c = \"ABCDEFGHIJKLMNOPQRSTUVWXYZ\"\n",
    "#     n = \"0123456789\"\n",
    "    spc = \"$#@\"\n",
    "    for i in p.split(\",\"):\n",
    "        if 6 <= len(i) <= 12:\n",
    "            if any(j.isupper() for j in i):\n",
    "                if any(j.islower() for j in i):\n",
    "                    if any(j for j in i if j in spc):\n",
    "                        print(i)\n",
    "                               \n",
    "passCheck() "
   ]
  }
 ],
 "metadata": {
  "kernelspec": {
   "display_name": "Python 3 (ipykernel)",
   "language": "python",
   "name": "python3"
  },
  "language_info": {
   "codemirror_mode": {
    "name": "ipython",
    "version": 3
   },
   "file_extension": ".py",
   "mimetype": "text/x-python",
   "name": "python",
   "nbconvert_exporter": "python",
   "pygments_lexer": "ipython3",
   "version": "3.10.2"
  }
 },
 "nbformat": 4,
 "nbformat_minor": 5
}
