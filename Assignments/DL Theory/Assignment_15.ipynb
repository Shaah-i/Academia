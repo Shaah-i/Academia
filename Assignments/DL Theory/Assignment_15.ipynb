{
 "cells": [
  {
   "cell_type": "markdown",
   "id": "06f10b11-8e8d-4a78-af31-42d3d40bacc8",
   "metadata": {
    "id": "06f10b11-8e8d-4a78-af31-42d3d40bacc8"
   },
   "source": [
    "# Assignment_15"
   ]
  },
  {
   "cell_type": "markdown",
   "id": "73a21c29-a4db-4658-8de9-2c72461044d3",
   "metadata": {
    "id": "73a21c29-a4db-4658-8de9-2c72461044d3"
   },
   "source": [
    "#### Q1. Deep Learning.\n",
    "    a. Build a DNN with five hidden layers of 100 neurons each, He initialization, and the ELU activation function.\n",
    "    b. Using Adam optimization and early stopping, try training it on MNIST but only on digits 0 to 4, as we will use transfer learning for digits 5 to 9 in the next exercise. You will need a softmax output layer with five neurons, and as always make sure to save checkpoints at regular intervals and save the final model so you can reuse it later.\n",
    "    c. Tune the hyperparameters using cross-validation and see what precision you can achieve.**\n",
    "    d. Now try adding Batch Normalization and compare the learning curves: is it converging faster than before? Does it produce a better model?\n",
    "    e. Is the model overfitting the training set? Try adding dropout to every layer and try again. Does it help?\n",
    "\n",
    "**Ans.** \n"
   ]
  },
  {
   "cell_type": "code",
   "execution_count": 1,
   "id": "PC9pqVHhAuqv",
   "metadata": {
    "id": "PC9pqVHhAuqv"
   },
   "outputs": [
    {
     "name": "stderr",
     "output_type": "stream",
     "text": [
      "C:\\Users\\HappySoul\\AppData\\Local\\Programs\\Python\\Python310\\lib\\site-packages\\keras\\initializers\\initializers.py:120: UserWarning: The initializer VarianceScaling is unseeded and being called multiple times, which will return identical values each time (even if the initializer is unseeded). Please update your code to provide a seed to the initializer, or avoid using the same initalizer instance more than once.\n",
      "  warnings.warn(\n"
     ]
    }
   ],
   "source": [
    "#  a\n",
    "import tensorflow as tf\n",
    "from functools import partial\n",
    "\n",
    "# Define the number of inputs and outputs\n",
    "n_inputs = 28 * 28 # MNIST\n",
    "n_outputs = 10\n",
    "\n",
    "# Define the number of neurons in each hidden layer\n",
    "n_hidden1 = 100\n",
    "n_hidden2 = 100\n",
    "n_hidden3 = 100\n",
    "n_hidden4 = 100\n",
    "n_hidden5 = 100\n",
    "\n",
    "# Define the initializer and activation function to use\n",
    "he_init = tf.keras.initializers.VarianceScaling(scale=2., mode='fan_avg', distribution='uniform')\n",
    "elu_activation = tf.keras.activations.elu\n",
    "\n",
    "# Create the model using the Sequential API\n",
    "model = tf.keras.models.Sequential([\n",
    "    tf.keras.layers.Flatten(input_shape=[28, 28]), # Flatten the input data\n",
    "    tf.keras.layers.Dense(n_hidden1, activation=elu_activation, kernel_initializer=he_init), # First hidden layer\n",
    "    tf.keras.layers.Dense(n_hidden2, activation=elu_activation, kernel_initializer=he_init), # Second hidden layer\n",
    "    tf.keras.layers.Dense(n_hidden3, activation=elu_activation, kernel_initializer=he_init), # Third hidden layer\n",
    "    tf.keras.layers.Dense(n_hidden4, activation=elu_activation, kernel_initializer=he_init), # Fourth hidden layer\n",
    "    tf.keras.layers.Dense(n_hidden5, activation=elu_activation, kernel_initializer=he_init), # Fifth hidden layer\n",
    "    tf.keras.layers.Dense(n_outputs) # Output layer\n",
    "])"
   ]
  },
  {
   "cell_type": "code",
   "execution_count": 2,
   "id": "aea58841-cbc9-408f-b394-a6c272c7aac6",
   "metadata": {
    "tags": []
   },
   "outputs": [
    {
     "name": "stdout",
     "output_type": "stream",
     "text": [
      "Epoch 1/30\n",
      "877/877 [==============================] - 12s 9ms/step - loss: 0.0948 - accuracy: 0.9714 - val_loss: 0.0625 - val_accuracy: 0.9805\n",
      "Epoch 2/30\n",
      "877/877 [==============================] - 8s 9ms/step - loss: 0.0373 - accuracy: 0.9884 - val_loss: 0.0416 - val_accuracy: 0.9863\n",
      "Epoch 3/30\n",
      "877/877 [==============================] - 8s 9ms/step - loss: 0.0217 - accuracy: 0.9930 - val_loss: 0.0350 - val_accuracy: 0.9902\n",
      "Epoch 4/30\n",
      "877/877 [==============================] - 8s 9ms/step - loss: 0.0156 - accuracy: 0.9945 - val_loss: 0.0487 - val_accuracy: 0.9871\n",
      "Epoch 5/30\n",
      "877/877 [==============================] - 8s 9ms/step - loss: 0.0113 - accuracy: 0.9961 - val_loss: 0.0249 - val_accuracy: 0.9922\n",
      "Epoch 6/30\n",
      "877/877 [==============================] - 8s 9ms/step - loss: 0.0071 - accuracy: 0.9978 - val_loss: 0.0313 - val_accuracy: 0.9934\n",
      "Epoch 7/30\n",
      "877/877 [==============================] - 8s 9ms/step - loss: 0.0098 - accuracy: 0.9968 - val_loss: 0.0308 - val_accuracy: 0.9887\n",
      "Epoch 8/30\n",
      "877/877 [==============================] - 8s 9ms/step - loss: 0.0083 - accuracy: 0.9971 - val_loss: 0.0362 - val_accuracy: 0.9902\n",
      "Epoch 9/30\n",
      "877/877 [==============================] - 7s 8ms/step - loss: 0.0041 - accuracy: 0.9984 - val_loss: 0.0391 - val_accuracy: 0.9910\n",
      "Epoch 10/30\n",
      "877/877 [==============================] - 5s 6ms/step - loss: 0.0091 - accuracy: 0.9973 - val_loss: 0.0283 - val_accuracy: 0.9926\n",
      "Epoch 11/30\n",
      "877/877 [==============================] - 5s 6ms/step - loss: 0.0037 - accuracy: 0.9987 - val_loss: 0.0333 - val_accuracy: 0.9914\n",
      "Epoch 12/30\n",
      "877/877 [==============================] - 5s 6ms/step - loss: 0.0059 - accuracy: 0.9983 - val_loss: 0.0346 - val_accuracy: 0.9922\n",
      "Epoch 13/30\n",
      "877/877 [==============================] - 5s 6ms/step - loss: 0.0028 - accuracy: 0.9994 - val_loss: 0.0224 - val_accuracy: 0.9953\n",
      "Epoch 14/30\n",
      "877/877 [==============================] - 5s 6ms/step - loss: 1.3651e-04 - accuracy: 1.0000 - val_loss: 0.0207 - val_accuracy: 0.9961\n",
      "Epoch 15/30\n",
      "877/877 [==============================] - 5s 6ms/step - loss: 2.6942e-05 - accuracy: 1.0000 - val_loss: 0.0212 - val_accuracy: 0.9961\n",
      "Epoch 16/30\n",
      "877/877 [==============================] - 5s 6ms/step - loss: 9.7990e-06 - accuracy: 1.0000 - val_loss: 0.0219 - val_accuracy: 0.9969\n",
      "Epoch 17/30\n",
      "877/877 [==============================] - 5s 6ms/step - loss: 5.9959e-06 - accuracy: 1.0000 - val_loss: 0.0228 - val_accuracy: 0.9969\n",
      "Epoch 18/30\n",
      "877/877 [==============================] - 5s 6ms/step - loss: 3.9855e-06 - accuracy: 1.0000 - val_loss: 0.0235 - val_accuracy: 0.9969\n",
      "Epoch 19/30\n",
      "877/877 [==============================] - 5s 6ms/step - loss: 2.6655e-06 - accuracy: 1.0000 - val_loss: 0.0245 - val_accuracy: 0.9969\n",
      "Epoch 20/30\n",
      "877/877 [==============================] - 5s 6ms/step - loss: 1.7324e-06 - accuracy: 1.0000 - val_loss: 0.0250 - val_accuracy: 0.9969\n",
      "Epoch 21/30\n",
      "877/877 [==============================] - 5s 6ms/step - loss: 1.0862e-06 - accuracy: 1.0000 - val_loss: 0.0259 - val_accuracy: 0.9969\n",
      "Epoch 22/30\n",
      "877/877 [==============================] - 5s 6ms/step - loss: 7.2563e-07 - accuracy: 1.0000 - val_loss: 0.0270 - val_accuracy: 0.9969\n",
      "Epoch 23/30\n",
      "877/877 [==============================] - 5s 6ms/step - loss: 4.5946e-07 - accuracy: 1.0000 - val_loss: 0.0273 - val_accuracy: 0.9965\n",
      "Epoch 24/30\n",
      "877/877 [==============================] - 5s 6ms/step - loss: 3.0244e-07 - accuracy: 1.0000 - val_loss: 0.0278 - val_accuracy: 0.9965\n"
     ]
    }
   ],
   "source": [
    "#  b\n",
    "\n",
    "from tensorflow import keras\n",
    "import numpy as np\n",
    "\n",
    "# Load MNIST dataset\n",
    "(X_train_full, y_train_full), (X_test, y_test) = keras.datasets.mnist.load_data()\n",
    "\n",
    "# Scale the data\n",
    "X_train_full = X_train_full / 255.0\n",
    "X_test = X_test / 255.0\n",
    "\n",
    "# Create a validation set and training set\n",
    "X_valid, X_train = X_train_full[:5000], X_train_full[5000:]\n",
    "y_valid, y_train = y_train_full[:5000], y_train_full[5000:]\n",
    "\n",
    "# Only keep digits 0 to 4 in the training and validation sets\n",
    "X_train = X_train[y_train < 5]\n",
    "y_train = y_train[y_train < 5]\n",
    "X_valid = X_valid[y_valid < 5]\n",
    "y_valid = y_valid[y_valid < 5]\n",
    "\n",
    "# Build the model\n",
    "model = keras.models.Sequential([\n",
    "    keras.layers.Flatten(input_shape=[28, 28]),\n",
    "    keras.layers.Dense(300, activation=\"relu\"),\n",
    "    keras.layers.Dense(100, activation=\"relu\"),\n",
    "    keras.layers.Dense(5, activation=\"softmax\")\n",
    "])\n",
    "\n",
    "# Compile the model\n",
    "model.compile(loss=\"sparse_categorical_crossentropy\",\n",
    "              optimizer=\"adam\",\n",
    "              metrics=[\"accuracy\"])\n",
    "\n",
    "# Define early stopping\n",
    "early_stopping_cb = keras.callbacks.EarlyStopping(patience=10,\n",
    "                                                  restore_best_weights=True)\n",
    "\n",
    "# Train the model\n",
    "history = model.fit(X_train, y_train, epochs=30,\n",
    "                    validation_data=(X_valid, y_valid),\n",
    "                    callbacks=[early_stopping_cb])"
   ]
  },
  {
   "cell_type": "code",
   "execution_count": 3,
   "id": "7576cc7b-f23e-406e-b7a2-8364e4b76aa7",
   "metadata": {
    "tags": []
   },
   "outputs": [],
   "source": [
    "# Save the final model\n",
    "model.save(\"my_mnist_model.h5\")"
   ]
  },
  {
   "cell_type": "code",
   "execution_count": 4,
   "id": "3cdbac18-0835-4ac5-bbc3-103e20d7c4ea",
   "metadata": {
    "tags": []
   },
   "outputs": [
    {
     "name": "stderr",
     "output_type": "stream",
     "text": [
      "C:\\Users\\HappySoul\\AppData\\Local\\Temp\\ipykernel_32836\\1556500993.py:38: DeprecationWarning: KerasClassifier is deprecated, use Sci-Keras (https://github.com/adriangb/scikeras) instead. See https://www.adriangb.com/scikeras/stable/migration.html for help migrating.\n",
      "  keras_clf = keras.wrappers.scikit_learn.KerasClassifier(build_model)\n",
      "WARNING:absl:`lr` is deprecated in Keras optimizer, please use `learning_rate` or use the legacy optimizer, e.g.,tf.keras.optimizers.legacy.Adam.\n"
     ]
    },
    {
     "name": "stdout",
     "output_type": "stream",
     "text": [
      "585/585 [==============================] - 2s 3ms/step - loss: 0.3287 - accuracy: 0.8959 - val_loss: 0.1239 - val_accuracy: 0.9625\n",
      "293/293 [==============================] - 1s 2ms/step\n"
     ]
    },
    {
     "name": "stderr",
     "output_type": "stream",
     "text": [
      "WARNING:absl:`lr` is deprecated in Keras optimizer, please use `learning_rate` or use the legacy optimizer, e.g.,tf.keras.optimizers.legacy.Adam.\n"
     ]
    },
    {
     "name": "stdout",
     "output_type": "stream",
     "text": [
      "585/585 [==============================] - 2s 3ms/step - loss: 0.2904 - accuracy: 0.9205 - val_loss: 0.1293 - val_accuracy: 0.9625\n",
      "293/293 [==============================] - 1s 2ms/step\n"
     ]
    },
    {
     "name": "stderr",
     "output_type": "stream",
     "text": [
      "WARNING:absl:`lr` is deprecated in Keras optimizer, please use `learning_rate` or use the legacy optimizer, e.g.,tf.keras.optimizers.legacy.Adam.\n"
     ]
    },
    {
     "name": "stdout",
     "output_type": "stream",
     "text": [
      "585/585 [==============================] - 2s 3ms/step - loss: 0.2760 - accuracy: 0.9204 - val_loss: 0.1229 - val_accuracy: 0.9652\n",
      "293/293 [==============================] - 1s 2ms/step\n"
     ]
    },
    {
     "name": "stderr",
     "output_type": "stream",
     "text": [
      "WARNING:absl:`lr` is deprecated in Keras optimizer, please use `learning_rate` or use the legacy optimizer, e.g.,tf.keras.optimizers.legacy.Adam.\n"
     ]
    },
    {
     "name": "stdout",
     "output_type": "stream",
     "text": [
      "585/585 [==============================] - 2s 3ms/step - loss: 0.1820 - accuracy: 0.9483 - val_loss: 0.0961 - val_accuracy: 0.9695\n",
      "293/293 [==============================] - 1s 2ms/step\n"
     ]
    },
    {
     "name": "stderr",
     "output_type": "stream",
     "text": [
      "WARNING:absl:`lr` is deprecated in Keras optimizer, please use `learning_rate` or use the legacy optimizer, e.g.,tf.keras.optimizers.legacy.Adam.\n"
     ]
    },
    {
     "name": "stdout",
     "output_type": "stream",
     "text": [
      "585/585 [==============================] - 3s 3ms/step - loss: 0.1997 - accuracy: 0.9456 - val_loss: 0.1086 - val_accuracy: 0.9687\n",
      "293/293 [==============================] - 1s 2ms/step\n"
     ]
    },
    {
     "name": "stderr",
     "output_type": "stream",
     "text": [
      "WARNING:absl:`lr` is deprecated in Keras optimizer, please use `learning_rate` or use the legacy optimizer, e.g.,tf.keras.optimizers.legacy.Adam.\n"
     ]
    },
    {
     "name": "stdout",
     "output_type": "stream",
     "text": [
      "585/585 [==============================] - 2s 3ms/step - loss: 0.1980 - accuracy: 0.9478 - val_loss: 0.0990 - val_accuracy: 0.9722\n",
      "293/293 [==============================] - 1s 2ms/step\n"
     ]
    },
    {
     "name": "stderr",
     "output_type": "stream",
     "text": [
      "WARNING:absl:`lr` is deprecated in Keras optimizer, please use `learning_rate` or use the legacy optimizer, e.g.,tf.keras.optimizers.legacy.Adam.\n"
     ]
    },
    {
     "name": "stdout",
     "output_type": "stream",
     "text": [
      "585/585 [==============================] - 3s 3ms/step - loss: 0.3011 - accuracy: 0.9081 - val_loss: 0.1228 - val_accuracy: 0.9629\n",
      "293/293 [==============================] - 1s 2ms/step\n"
     ]
    },
    {
     "name": "stderr",
     "output_type": "stream",
     "text": [
      "WARNING:absl:`lr` is deprecated in Keras optimizer, please use `learning_rate` or use the legacy optimizer, e.g.,tf.keras.optimizers.legacy.Adam.\n"
     ]
    },
    {
     "name": "stdout",
     "output_type": "stream",
     "text": [
      "585/585 [==============================] - 3s 3ms/step - loss: 0.3624 - accuracy: 0.8775 - val_loss: 0.1242 - val_accuracy: 0.9601\n",
      "293/293 [==============================] - 1s 2ms/step\n"
     ]
    },
    {
     "name": "stderr",
     "output_type": "stream",
     "text": [
      "WARNING:absl:`lr` is deprecated in Keras optimizer, please use `learning_rate` or use the legacy optimizer, e.g.,tf.keras.optimizers.legacy.Adam.\n"
     ]
    },
    {
     "name": "stdout",
     "output_type": "stream",
     "text": [
      "585/585 [==============================] - 2s 3ms/step - loss: 0.3164 - accuracy: 0.9088 - val_loss: 0.1090 - val_accuracy: 0.9683\n",
      "293/293 [==============================] - 1s 2ms/step\n"
     ]
    },
    {
     "name": "stderr",
     "output_type": "stream",
     "text": [
      "WARNING:absl:`lr` is deprecated in Keras optimizer, please use `learning_rate` or use the legacy optimizer, e.g.,tf.keras.optimizers.legacy.Adam.\n"
     ]
    },
    {
     "name": "stdout",
     "output_type": "stream",
     "text": [
      "585/585 [==============================] - 3s 3ms/step - loss: 0.1834 - accuracy: 0.9471 - val_loss: 0.0924 - val_accuracy: 0.9711\n",
      "293/293 [==============================] - 1s 2ms/step\n"
     ]
    },
    {
     "name": "stderr",
     "output_type": "stream",
     "text": [
      "WARNING:absl:`lr` is deprecated in Keras optimizer, please use `learning_rate` or use the legacy optimizer, e.g.,tf.keras.optimizers.legacy.Adam.\n"
     ]
    },
    {
     "name": "stdout",
     "output_type": "stream",
     "text": [
      "585/585 [==============================] - 3s 3ms/step - loss: 0.1961 - accuracy: 0.9448 - val_loss: 0.0923 - val_accuracy: 0.9711\n",
      "293/293 [==============================] - 1s 2ms/step\n"
     ]
    },
    {
     "name": "stderr",
     "output_type": "stream",
     "text": [
      "WARNING:absl:`lr` is deprecated in Keras optimizer, please use `learning_rate` or use the legacy optimizer, e.g.,tf.keras.optimizers.legacy.Adam.\n"
     ]
    },
    {
     "name": "stdout",
     "output_type": "stream",
     "text": [
      "585/585 [==============================] - 3s 3ms/step - loss: 0.1855 - accuracy: 0.9506 - val_loss: 0.0997 - val_accuracy: 0.9707\n",
      "293/293 [==============================] - 1s 2ms/step\n"
     ]
    },
    {
     "name": "stderr",
     "output_type": "stream",
     "text": [
      "WARNING:absl:`lr` is deprecated in Keras optimizer, please use `learning_rate` or use the legacy optimizer, e.g.,tf.keras.optimizers.legacy.Adam.\n"
     ]
    },
    {
     "name": "stdout",
     "output_type": "stream",
     "text": [
      "585/585 [==============================] - 2s 3ms/step - loss: 0.2928 - accuracy: 0.9161 - val_loss: 0.1231 - val_accuracy: 0.9613\n",
      "293/293 [==============================] - 1s 2ms/step\n"
     ]
    },
    {
     "name": "stderr",
     "output_type": "stream",
     "text": [
      "WARNING:absl:`lr` is deprecated in Keras optimizer, please use `learning_rate` or use the legacy optimizer, e.g.,tf.keras.optimizers.legacy.Adam.\n"
     ]
    },
    {
     "name": "stdout",
     "output_type": "stream",
     "text": [
      "585/585 [==============================] - 2s 3ms/step - loss: 0.2796 - accuracy: 0.9293 - val_loss: 0.1201 - val_accuracy: 0.9648\n",
      "293/293 [==============================] - 1s 2ms/step\n"
     ]
    },
    {
     "name": "stderr",
     "output_type": "stream",
     "text": [
      "WARNING:absl:`lr` is deprecated in Keras optimizer, please use `learning_rate` or use the legacy optimizer, e.g.,tf.keras.optimizers.legacy.Adam.\n"
     ]
    },
    {
     "name": "stdout",
     "output_type": "stream",
     "text": [
      "585/585 [==============================] - 2s 3ms/step - loss: 0.2769 - accuracy: 0.9278 - val_loss: 0.1254 - val_accuracy: 0.9629\n",
      "293/293 [==============================] - 1s 2ms/step\n"
     ]
    },
    {
     "name": "stderr",
     "output_type": "stream",
     "text": [
      "WARNING:absl:`lr` is deprecated in Keras optimizer, please use `learning_rate` or use the legacy optimizer, e.g.,tf.keras.optimizers.legacy.Adam.\n"
     ]
    },
    {
     "name": "stdout",
     "output_type": "stream",
     "text": [
      "585/585 [==============================] - 2s 3ms/step - loss: 0.2009 - accuracy: 0.9459 - val_loss: 0.1029 - val_accuracy: 0.9703\n",
      "293/293 [==============================] - 1s 2ms/step\n"
     ]
    },
    {
     "name": "stderr",
     "output_type": "stream",
     "text": [
      "WARNING:absl:`lr` is deprecated in Keras optimizer, please use `learning_rate` or use the legacy optimizer, e.g.,tf.keras.optimizers.legacy.Adam.\n"
     ]
    },
    {
     "name": "stdout",
     "output_type": "stream",
     "text": [
      "585/585 [==============================] - 3s 3ms/step - loss: 0.1873 - accuracy: 0.9499 - val_loss: 0.1009 - val_accuracy: 0.9691\n",
      "293/293 [==============================] - 1s 2ms/step\n"
     ]
    },
    {
     "name": "stderr",
     "output_type": "stream",
     "text": [
      "WARNING:absl:`lr` is deprecated in Keras optimizer, please use `learning_rate` or use the legacy optimizer, e.g.,tf.keras.optimizers.legacy.Adam.\n"
     ]
    },
    {
     "name": "stdout",
     "output_type": "stream",
     "text": [
      "585/585 [==============================] - 2s 3ms/step - loss: 0.2022 - accuracy: 0.9472 - val_loss: 0.0970 - val_accuracy: 0.9746\n",
      "293/293 [==============================] - 1s 2ms/step\n"
     ]
    },
    {
     "name": "stderr",
     "output_type": "stream",
     "text": [
      "WARNING:absl:`lr` is deprecated in Keras optimizer, please use `learning_rate` or use the legacy optimizer, e.g.,tf.keras.optimizers.legacy.Adam.\n"
     ]
    },
    {
     "name": "stdout",
     "output_type": "stream",
     "text": [
      "585/585 [==============================] - 3s 3ms/step - loss: 0.3497 - accuracy: 0.8890 - val_loss: 0.1237 - val_accuracy: 0.9629\n",
      "293/293 [==============================] - 1s 2ms/step\n"
     ]
    },
    {
     "name": "stderr",
     "output_type": "stream",
     "text": [
      "WARNING:absl:`lr` is deprecated in Keras optimizer, please use `learning_rate` or use the legacy optimizer, e.g.,tf.keras.optimizers.legacy.Adam.\n"
     ]
    },
    {
     "name": "stdout",
     "output_type": "stream",
     "text": [
      "585/585 [==============================] - 3s 3ms/step - loss: 0.3867 - accuracy: 0.8553 - val_loss: 0.1428 - val_accuracy: 0.9562\n",
      "293/293 [==============================] - 1s 2ms/step\n"
     ]
    },
    {
     "name": "stderr",
     "output_type": "stream",
     "text": [
      "WARNING:absl:`lr` is deprecated in Keras optimizer, please use `learning_rate` or use the legacy optimizer, e.g.,tf.keras.optimizers.legacy.Adam.\n"
     ]
    },
    {
     "name": "stdout",
     "output_type": "stream",
     "text": [
      "585/585 [==============================] - 3s 3ms/step - loss: 0.3473 - accuracy: 0.9141 - val_loss: 0.1177 - val_accuracy: 0.9668\n",
      "293/293 [==============================] - 1s 2ms/step\n"
     ]
    },
    {
     "name": "stderr",
     "output_type": "stream",
     "text": [
      "WARNING:absl:`lr` is deprecated in Keras optimizer, please use `learning_rate` or use the legacy optimizer, e.g.,tf.keras.optimizers.legacy.Adam.\n"
     ]
    },
    {
     "name": "stdout",
     "output_type": "stream",
     "text": [
      "585/585 [==============================] - 3s 3ms/step - loss: 0.1862 - accuracy: 0.9495 - val_loss: 0.0928 - val_accuracy: 0.9730\n",
      "293/293 [==============================] - 1s 2ms/step\n"
     ]
    },
    {
     "name": "stderr",
     "output_type": "stream",
     "text": [
      "WARNING:absl:`lr` is deprecated in Keras optimizer, please use `learning_rate` or use the legacy optimizer, e.g.,tf.keras.optimizers.legacy.Adam.\n"
     ]
    },
    {
     "name": "stdout",
     "output_type": "stream",
     "text": [
      "585/585 [==============================] - 3s 3ms/step - loss: 0.1947 - accuracy: 0.9409 - val_loss: 0.0918 - val_accuracy: 0.9719\n",
      "293/293 [==============================] - 1s 2ms/step\n"
     ]
    },
    {
     "name": "stderr",
     "output_type": "stream",
     "text": [
      "WARNING:absl:`lr` is deprecated in Keras optimizer, please use `learning_rate` or use the legacy optimizer, e.g.,tf.keras.optimizers.legacy.Adam.\n"
     ]
    },
    {
     "name": "stdout",
     "output_type": "stream",
     "text": [
      "585/585 [==============================] - 3s 3ms/step - loss: 0.2043 - accuracy: 0.9391 - val_loss: 0.0883 - val_accuracy: 0.9750\n",
      "293/293 [==============================] - 1s 2ms/step\n"
     ]
    },
    {
     "name": "stderr",
     "output_type": "stream",
     "text": [
      "WARNING:absl:`lr` is deprecated in Keras optimizer, please use `learning_rate` or use the legacy optimizer, e.g.,tf.keras.optimizers.legacy.Adam.\n"
     ]
    },
    {
     "name": "stdout",
     "output_type": "stream",
     "text": [
      "877/877 [==============================] - 4s 3ms/step - loss: 0.1706 - accuracy: 0.9505 - val_loss: 0.0703 - val_accuracy: 0.9769\n",
      "{'learning_rate': 0.003, 'n_hidden': 2, 'n_neurons': 30}\n"
     ]
    }
   ],
   "source": [
    "#  c\n",
    "\n",
    "from tensorflow import keras\n",
    "from sklearn.model_selection import GridSearchCV\n",
    "from sklearn.metrics import precision_score, make_scorer\n",
    "import numpy as np\n",
    "\n",
    "# Load MNIST dataset\n",
    "(X_train_full, y_train_full), (X_test, y_test) = keras.datasets.mnist.load_data()\n",
    "\n",
    "# Scale the data\n",
    "X_train_full = X_train_full / 255.0\n",
    "X_test = X_test / 255.0\n",
    "\n",
    "# Create a validation set and training set\n",
    "X_valid, X_train = X_train_full[:5000], X_train_full[5000:]\n",
    "y_valid, y_train = y_train_full[:5000], y_train_full[5000:]\n",
    "\n",
    "# Only keep digits 0 to 4 in the training and validation sets\n",
    "X_train = X_train[y_train < 5]\n",
    "y_train = y_train[y_train < 5]\n",
    "X_valid = X_valid[y_valid < 5]\n",
    "y_valid = y_valid[y_valid < 5]\n",
    "\n",
    "# Build a function to create the model\n",
    "def build_model(n_hidden=1, n_neurons=30, learning_rate=3e-3):\n",
    "    model = keras.models.Sequential()\n",
    "    model.add(keras.layers.Flatten(input_shape=[28, 28]))\n",
    "    for layer in range(n_hidden):\n",
    "        model.add(keras.layers.Dense(n_neurons, activation=\"relu\"))\n",
    "    model.add(keras.layers.Dense(5, activation=\"softmax\"))\n",
    "    optimizer = keras.optimizers.Adam(lr=learning_rate)\n",
    "    model.compile(loss=\"sparse_categorical_crossentropy\", optimizer=optimizer,\n",
    "                  metrics=[\"accuracy\"])\n",
    "    return model\n",
    "\n",
    "# Create a KerasClassifier object\n",
    "keras_clf = keras.wrappers.scikit_learn.KerasClassifier(build_model)\n",
    "\n",
    "# Define the hyperparameters to search over\n",
    "param_grid = {\n",
    "    \"n_hidden\": [1, 2],\n",
    "    \"n_neurons\": [10, 30],\n",
    "    \"learning_rate\": [3e-4, 3e-3]\n",
    "}\n",
    "\n",
    "# Create a GridSearchCV object\n",
    "grid_search_cv = GridSearchCV(keras_clf, param_grid,\n",
    "                              cv=3,\n",
    "                              scoring=make_scorer(precision_score,\n",
    "                                                  average='weighted'))\n",
    "\n",
    "\n",
    "# Fit the GridSearchCV object to the data\n",
    "grid_search_cv.fit(X_train, y_train,\n",
    "                   validation_data=(X_valid, y_valid),\n",
    "                   callbacks=[keras.callbacks.EarlyStopping(patience=10)])\n",
    "\n",
    "# Print the best hyperparameters\n",
    "print(grid_search_cv.best_params_)"
   ]
  },
  {
   "cell_type": "code",
   "execution_count": 5,
   "id": "nC57RlKbVt0s",
   "metadata": {
    "id": "nC57RlKbVt0s"
   },
   "outputs": [
    {
     "name": "stdout",
     "output_type": "stream",
     "text": [
      "Epoch 1/100\n",
      "877/877 [==============================] - 9s 6ms/step - loss: 0.1301 - accuracy: 0.9596 - val_loss: 0.0643 - val_accuracy: 0.9797\n",
      "Epoch 2/100\n",
      "877/877 [==============================] - 5s 6ms/step - loss: 0.0615 - accuracy: 0.9810 - val_loss: 0.0537 - val_accuracy: 0.9832\n",
      "Epoch 3/100\n",
      "877/877 [==============================] - 5s 6ms/step - loss: 0.0450 - accuracy: 0.9857 - val_loss: 0.0433 - val_accuracy: 0.9867\n",
      "Epoch 4/100\n",
      "877/877 [==============================] - 5s 6ms/step - loss: 0.0388 - accuracy: 0.9881 - val_loss: 0.0378 - val_accuracy: 0.9898\n",
      "Epoch 5/100\n",
      "877/877 [==============================] - 5s 6ms/step - loss: 0.0324 - accuracy: 0.9896 - val_loss: 0.0514 - val_accuracy: 0.9844\n",
      "Epoch 6/100\n",
      "877/877 [==============================] - 5s 6ms/step - loss: 0.0249 - accuracy: 0.9921 - val_loss: 0.0409 - val_accuracy: 0.9887\n",
      "Epoch 7/100\n",
      "877/877 [==============================] - 5s 6ms/step - loss: 0.0245 - accuracy: 0.9926 - val_loss: 0.0312 - val_accuracy: 0.9891\n",
      "Epoch 8/100\n",
      "877/877 [==============================] - 6s 6ms/step - loss: 0.0191 - accuracy: 0.9938 - val_loss: 0.0416 - val_accuracy: 0.9902\n",
      "Epoch 9/100\n",
      "877/877 [==============================] - 5s 6ms/step - loss: 0.0211 - accuracy: 0.9930 - val_loss: 0.0326 - val_accuracy: 0.9910\n",
      "Epoch 10/100\n",
      "877/877 [==============================] - 5s 6ms/step - loss: 0.0171 - accuracy: 0.9941 - val_loss: 0.0258 - val_accuracy: 0.9934\n",
      "Epoch 11/100\n",
      "877/877 [==============================] - 5s 6ms/step - loss: 0.0171 - accuracy: 0.9947 - val_loss: 0.0379 - val_accuracy: 0.9879\n",
      "Epoch 12/100\n",
      "877/877 [==============================] - 6s 6ms/step - loss: 0.0150 - accuracy: 0.9951 - val_loss: 0.0341 - val_accuracy: 0.9906\n",
      "Epoch 13/100\n",
      "877/877 [==============================] - 5s 6ms/step - loss: 0.0173 - accuracy: 0.9952 - val_loss: 0.0370 - val_accuracy: 0.9914\n",
      "Epoch 14/100\n",
      "877/877 [==============================] - 5s 6ms/step - loss: 0.0107 - accuracy: 0.9968 - val_loss: 0.0323 - val_accuracy: 0.9918\n",
      "Epoch 15/100\n",
      "877/877 [==============================] - 6s 6ms/step - loss: 0.0115 - accuracy: 0.9963 - val_loss: 0.0390 - val_accuracy: 0.9918\n",
      "Epoch 16/100\n",
      "877/877 [==============================] - 6s 7ms/step - loss: 0.0100 - accuracy: 0.9971 - val_loss: 0.0286 - val_accuracy: 0.9930\n",
      "Epoch 17/100\n",
      "877/877 [==============================] - 5s 6ms/step - loss: 0.0110 - accuracy: 0.9964 - val_loss: 0.0319 - val_accuracy: 0.9918\n",
      "Epoch 18/100\n",
      "877/877 [==============================] - 5s 6ms/step - loss: 0.0093 - accuracy: 0.9968 - val_loss: 0.0323 - val_accuracy: 0.9926\n",
      "Epoch 19/100\n",
      "877/877 [==============================] - 6s 6ms/step - loss: 0.0101 - accuracy: 0.9966 - val_loss: 0.0415 - val_accuracy: 0.9902\n",
      "Epoch 20/100\n",
      "877/877 [==============================] - 5s 6ms/step - loss: 0.0082 - accuracy: 0.9972 - val_loss: 0.0367 - val_accuracy: 0.9922\n"
     ]
    }
   ],
   "source": [
    "#  d\n",
    "\n",
    "\n",
    "# Build DNN with Batch Normalization\n",
    "model = keras.models.Sequential([\n",
    "    keras.layers.Flatten(input_shape=[28, 28]),\n",
    "    keras.layers.BatchNormalization(),\n",
    "    keras.layers.Dense(100, activation=\"elu\", kernel_initializer=\"he_normal\"),\n",
    "    keras.layers.BatchNormalization(),\n",
    "    keras.layers.Dense(100, activation=\"elu\", kernel_initializer=\"he_normal\"),\n",
    "    keras.layers.BatchNormalization(),\n",
    "    keras.layers.Dense(100, activation=\"elu\", kernel_initializer=\"he_normal\"),\n",
    "    keras.layers.BatchNormalization(),\n",
    "    keras.layers.Dense(100, activation=\"elu\", kernel_initializer=\"he_normal\"),\n",
    "    keras.layers.BatchNormalization(),\n",
    "    keras.layers.Dense(5, activation=\"softmax\")\n",
    "])\n",
    "\n",
    "# Compile model\n",
    "model.compile(loss=\"sparse_categorical_crossentropy\",\n",
    "              optimizer=keras.optimizers.Adam(),\n",
    "              metrics=[\"accuracy\"])\n",
    "\n",
    "# Train model\n",
    "history_bn = model.fit(X_train, y_train, epochs=100, batch_size=32,\n",
    "                       validation_data=(X_valid, y_valid),\n",
    "                       callbacks=[early_stopping_cb])"
   ]
  },
  {
   "cell_type": "code",
   "execution_count": 6,
   "id": "OKhYeZmodfFE",
   "metadata": {
    "id": "OKhYeZmodfFE"
   },
   "outputs": [
    {
     "data": {
      "image/png": "[encoded data removed]",
      "text/plain": [
       "<Figure size 432x288 with 1 Axes>"
      ]
     },
     "metadata": {
      "needs_background": "light"
     },
     "output_type": "display_data"
    },
    {
     "data": {
      "image/png": "[encoded data removed]",
      "text/plain": [
       "<Figure size 432x288 with 1 Axes>"
      ]
     },
     "metadata": {
      "needs_background": "light"
     },
     "output_type": "display_data"
    }
   ],
   "source": [
    "import matplotlib.pyplot as plt\n",
    "\n",
    "# Plot learning curves\n",
    "def plot_learning_curves(history, label=None):\n",
    "    plt.plot(history.history[\"loss\"], label=label + \" training\")\n",
    "    plt.plot(history.history[\"val_loss\"], label=label + \" validation\")\n",
    "    plt.legend()\n",
    "    plt.title(\"Learning curves\")\n",
    "    plt.xlabel(\"Epochs\")\n",
    "    plt.ylabel(\"Loss\")\n",
    "    plt.show()\n",
    "\n",
    "plot_learning_curves(history, label=\"Original\")\n",
    "plot_learning_curves(history_bn, label=\"Batch Normalization\")"
   ]
  },
  {
   "cell_type": "code",
   "execution_count": 7,
   "id": "oHGKyucNd4f9",
   "metadata": {
    "id": "oHGKyucNd4f9"
   },
   "outputs": [
    {
     "name": "stdout",
     "output_type": "stream",
     "text": [
      "Epoch 1/100\n",
      "877/877 [==============================] - 7s 6ms/step - loss: 0.2133 - accuracy: 0.9327 - val_loss: 0.0790 - val_accuracy: 0.9754\n",
      "Epoch 2/100\n",
      "877/877 [==============================] - 5s 5ms/step - loss: 0.1173 - accuracy: 0.9645 - val_loss: 0.0594 - val_accuracy: 0.9816\n",
      "Epoch 3/100\n",
      "877/877 [==============================] - 5s 5ms/step - loss: 0.0922 - accuracy: 0.9712 - val_loss: 0.0539 - val_accuracy: 0.9832\n",
      "Epoch 4/100\n",
      "877/877 [==============================] - 5s 6ms/step - loss: 0.0787 - accuracy: 0.9770 - val_loss: 0.0497 - val_accuracy: 0.9855\n",
      "Epoch 5/100\n",
      "877/877 [==============================] - 5s 6ms/step - loss: 0.0689 - accuracy: 0.9790 - val_loss: 0.0486 - val_accuracy: 0.9840\n",
      "Epoch 6/100\n",
      "877/877 [==============================] - 5s 6ms/step - loss: 0.0649 - accuracy: 0.9806 - val_loss: 0.0464 - val_accuracy: 0.9859\n",
      "Epoch 7/100\n",
      "877/877 [==============================] - 5s 6ms/step - loss: 0.0564 - accuracy: 0.9826 - val_loss: 0.0309 - val_accuracy: 0.9902\n",
      "Epoch 8/100\n",
      "877/877 [==============================] - 5s 6ms/step - loss: 0.0534 - accuracy: 0.9839 - val_loss: 0.0322 - val_accuracy: 0.9891\n",
      "Epoch 9/100\n",
      "877/877 [==============================] - 5s 6ms/step - loss: 0.0481 - accuracy: 0.9852 - val_loss: 0.0307 - val_accuracy: 0.9894\n",
      "Epoch 10/100\n",
      "877/877 [==============================] - 5s 6ms/step - loss: 0.0411 - accuracy: 0.9875 - val_loss: 0.0371 - val_accuracy: 0.9883\n",
      "Epoch 11/100\n",
      "877/877 [==============================] - 5s 6ms/step - loss: 0.0440 - accuracy: 0.9871 - val_loss: 0.0321 - val_accuracy: 0.9906\n",
      "Epoch 12/100\n",
      "877/877 [==============================] - 5s 6ms/step - loss: 0.0372 - accuracy: 0.9882 - val_loss: 0.0288 - val_accuracy: 0.9910\n",
      "Epoch 13/100\n",
      "877/877 [==============================] - 5s 6ms/step - loss: 0.0390 - accuracy: 0.9882 - val_loss: 0.0309 - val_accuracy: 0.9906\n",
      "Epoch 14/100\n",
      "877/877 [==============================] - 5s 6ms/step - loss: 0.0374 - accuracy: 0.9887 - val_loss: 0.0339 - val_accuracy: 0.9910\n",
      "Epoch 15/100\n",
      "877/877 [==============================] - 5s 6ms/step - loss: 0.0324 - accuracy: 0.9896 - val_loss: 0.0346 - val_accuracy: 0.9918\n",
      "Epoch 16/100\n",
      "877/877 [==============================] - 5s 6ms/step - loss: 0.0351 - accuracy: 0.9895 - val_loss: 0.0258 - val_accuracy: 0.9922\n",
      "Epoch 17/100\n",
      "877/877 [==============================] - 5s 6ms/step - loss: 0.0335 - accuracy: 0.9903 - val_loss: 0.0282 - val_accuracy: 0.9918\n",
      "Epoch 18/100\n",
      "877/877 [==============================] - 5s 6ms/step - loss: 0.0294 - accuracy: 0.9905 - val_loss: 0.0272 - val_accuracy: 0.9937\n",
      "Epoch 19/100\n",
      "877/877 [==============================] - 5s 6ms/step - loss: 0.0286 - accuracy: 0.9915 - val_loss: 0.0266 - val_accuracy: 0.9910\n",
      "Epoch 20/100\n",
      "877/877 [==============================] - 5s 6ms/step - loss: 0.0309 - accuracy: 0.9906 - val_loss: 0.0204 - val_accuracy: 0.9941\n",
      "Epoch 21/100\n",
      "877/877 [==============================] - 5s 6ms/step - loss: 0.0268 - accuracy: 0.9918 - val_loss: 0.0233 - val_accuracy: 0.9934\n",
      "Epoch 22/100\n",
      "877/877 [==============================] - 5s 6ms/step - loss: 0.0295 - accuracy: 0.9916 - val_loss: 0.0343 - val_accuracy: 0.9918\n",
      "Epoch 23/100\n",
      "877/877 [==============================] - 6s 7ms/step - loss: 0.0230 - accuracy: 0.9933 - val_loss: 0.0253 - val_accuracy: 0.9941\n",
      "Epoch 24/100\n",
      "877/877 [==============================] - 8s 9ms/step - loss: 0.0263 - accuracy: 0.9923 - val_loss: 0.0268 - val_accuracy: 0.9930\n",
      "Epoch 25/100\n",
      "877/877 [==============================] - 8s 9ms/step - loss: 0.0239 - accuracy: 0.9929 - val_loss: 0.0334 - val_accuracy: 0.9894\n",
      "Epoch 26/100\n",
      "877/877 [==============================] - 7s 8ms/step - loss: 0.0236 - accuracy: 0.9931 - val_loss: 0.0261 - val_accuracy: 0.9934\n",
      "Epoch 27/100\n",
      "877/877 [==============================] - 8s 9ms/step - loss: 0.0254 - accuracy: 0.9927 - val_loss: 0.0258 - val_accuracy: 0.9934\n",
      "Epoch 28/100\n",
      "877/877 [==============================] - 8s 9ms/step - loss: 0.0245 - accuracy: 0.9923 - val_loss: 0.0222 - val_accuracy: 0.9945\n",
      "Epoch 29/100\n",
      "877/877 [==============================] - 7s 8ms/step - loss: 0.0247 - accuracy: 0.9925 - val_loss: 0.0193 - val_accuracy: 0.9937\n",
      "Epoch 30/100\n",
      "877/877 [==============================] - 8s 9ms/step - loss: 0.0227 - accuracy: 0.9933 - val_loss: 0.0273 - val_accuracy: 0.9937\n",
      "Epoch 31/100\n",
      "877/877 [==============================] - 7s 8ms/step - loss: 0.0178 - accuracy: 0.9945 - val_loss: 0.0284 - val_accuracy: 0.9945\n",
      "Epoch 32/100\n",
      "877/877 [==============================] - 7s 8ms/step - loss: 0.0199 - accuracy: 0.9942 - val_loss: 0.0345 - val_accuracy: 0.9930\n",
      "Epoch 33/100\n",
      "877/877 [==============================] - 7s 8ms/step - loss: 0.0216 - accuracy: 0.9943 - val_loss: 0.0251 - val_accuracy: 0.9949\n",
      "Epoch 34/100\n",
      "877/877 [==============================] - 7s 8ms/step - loss: 0.0211 - accuracy: 0.9940 - val_loss: 0.0231 - val_accuracy: 0.9949\n",
      "Epoch 35/100\n",
      "877/877 [==============================] - 7s 8ms/step - loss: 0.0183 - accuracy: 0.9943 - val_loss: 0.0256 - val_accuracy: 0.9961\n",
      "Epoch 36/100\n",
      "877/877 [==============================] - 7s 8ms/step - loss: 0.0201 - accuracy: 0.9942 - val_loss: 0.0266 - val_accuracy: 0.9941\n",
      "Epoch 37/100\n",
      "877/877 [==============================] - 7s 8ms/step - loss: 0.0189 - accuracy: 0.9948 - val_loss: 0.0278 - val_accuracy: 0.9941\n",
      "Epoch 38/100\n",
      "877/877 [==============================] - 7s 8ms/step - loss: 0.0173 - accuracy: 0.9943 - val_loss: 0.0227 - val_accuracy: 0.9934\n",
      "Epoch 39/100\n",
      "877/877 [==============================] - 7s 8ms/step - loss: 0.0183 - accuracy: 0.9946 - val_loss: 0.0195 - val_accuracy: 0.9953\n"
     ]
    }
   ],
   "source": [
    "#  e\n",
    "\n",
    "# Build DNN with Dropout\n",
    "model = keras.models.Sequential([\n",
    "    keras.layers.Flatten(input_shape=[28, 28]),\n",
    "    keras.layers.Dropout(rate=0.2),\n",
    "    keras.layers.Dense(100, activation=\"elu\", kernel_initializer=\"he_normal\"),\n",
    "    keras.layers.Dropout(rate=0.2),\n",
    "    keras.layers.Dense(100, activation=\"elu\", kernel_initializer=\"he_normal\"),\n",
    "    keras.layers.Dropout(rate=0.2),\n",
    "    keras.layers.Dense(100, activation=\"elu\", kernel_initializer=\"he_normal\"),\n",
    "    keras.layers.Dropout(rate=0.2),\n",
    "    keras.layers.Dense(100, activation=\"elu\", kernel_initializer=\"he_normal\"),\n",
    "    keras.layers.Dropout(rate=0.2),\n",
    "    keras.layers.Dense(5, activation=\"softmax\")\n",
    "])\n",
    "\n",
    "# Compile model\n",
    "model.compile(loss=\"sparse_categorical_crossentropy\",\n",
    "              optimizer=keras.optimizers.Adam(),\n",
    "              metrics=[\"accuracy\"])\n",
    "\n",
    "# Train model\n",
    "history_dropout = model.fit(X_train, y_train, epochs=100, batch_size=32,\n",
    "                            validation_data=(X_valid, y_valid),\n",
    "                            callbacks=[early_stopping_cb])\n"
   ]
  },
  {
   "cell_type": "code",
   "execution_count": 8,
   "id": "FoYFRWEJenFT",
   "metadata": {
    "id": "FoYFRWEJenFT",
    "tags": []
   },
   "outputs": [
    {
     "data": {
      "image/png": "[encoded data removed]",
      "text/plain": [
       "<Figure size 432x288 with 1 Axes>"
      ]
     },
     "metadata": {
      "needs_background": "light"
     },
     "output_type": "display_data"
    },
    {
     "data": {
      "image/png": "[encoded data removed]",
      "text/plain": [
       "<Figure size 432x288 with 1 Axes>"
      ]
     },
     "metadata": {
      "needs_background": "light"
     },
     "output_type": "display_data"
    }
   ],
   "source": [
    "plot_learning_curves(history_bn, label=\"Batch Normalization\")\n",
    "plot_learning_curves(history_dropout, label=\"Dropout\")"
   ]
  },
  {
   "cell_type": "markdown",
   "id": "28cdf155-1916-4688-be4a-5f6e726052a0",
   "metadata": {},
   "source": [
    "#### Q2. Transfer learning.\n",
    "    a. Create a new DNN that reuses all the pretrained hidden layers of the previous model, freezes them, and replaces the softmax output layer with a new one.\n",
    "    b. Train this new DNN on digits 5 to 9, using only 100 images per digit, and time how long it takes. Despite this small number of examples, can you achieve high precision?\n",
    "    c. Try caching the frozen layers, and train the model again: how much faster is it now?\n",
    "    d. Try again reusing just four hidden layers instead of five. Can you achieve a higher precision?\n",
    "    e. Now unfreeze the top two hidden layers and continue training: can you get the model to perform even better?\n",
    "\n",
    "**Ans.**"
   ]
  },
  {
   "cell_type": "code",
   "execution_count": 9,
   "id": "27018961-e009-4b2c-8eeb-ec91fa3b878b",
   "metadata": {
    "tags": []
   },
   "outputs": [
    {
     "name": "stdout",
     "output_type": "stream",
     "text": [
      "Model: \"sequential_1\"\n",
      "_________________________________________________________________\n",
      " Layer (type)                Output Shape              Param #   \n",
      "=================================================================\n",
      " flatten_1 (Flatten)         (None, 784)               0         \n",
      "                                                                 \n",
      " dense_6 (Dense)             (None, 300)               235500    \n",
      "                                                                 \n",
      " dense_7 (Dense)             (None, 100)               30100     \n",
      "                                                                 \n",
      " dense_8 (Dense)             (None, 5)                 505       \n",
      "                                                                 \n",
      "=================================================================\n",
      "Total params: 266,105\n",
      "Trainable params: 266,105\n",
      "Non-trainable params: 0\n",
      "_________________________________________________________________\n",
      "Epoch 1/10\n",
      "16/16 [==============================] - 2s 65ms/step - loss: 5656.4521 - accuracy: 0.5520 - val_loss: 4887.2061 - val_accuracy: 0.5610\n",
      "Epoch 2/10\n",
      "16/16 [==============================] - 1s 42ms/step - loss: 3486.2139 - accuracy: 0.6780 - val_loss: 2249.5803 - val_accuracy: 0.7361\n",
      "Epoch 3/10\n",
      "16/16 [==============================] - 1s 44ms/step - loss: 2715.7395 - accuracy: 0.7360 - val_loss: 8338.5811 - val_accuracy: 0.5501\n",
      "Epoch 4/10\n",
      "16/16 [==============================] - 1s 51ms/step - loss: 2369.7952 - accuracy: 0.7360 - val_loss: 2256.4983 - val_accuracy: 0.7252\n",
      "Epoch 5/10\n",
      "16/16 [==============================] - 1s 59ms/step - loss: 1536.4396 - accuracy: 0.7980 - val_loss: 2043.0004 - val_accuracy: 0.7573\n",
      "Epoch 6/10\n",
      "16/16 [==============================] - 1s 45ms/step - loss: 2092.2695 - accuracy: 0.7680 - val_loss: 7753.8252 - val_accuracy: 0.5727\n",
      "Epoch 7/10\n",
      "16/16 [==============================] - 1s 45ms/step - loss: 2153.5491 - accuracy: 0.7660 - val_loss: 4135.2954 - val_accuracy: 0.6455\n",
      "Epoch 8/10\n",
      "16/16 [==============================] - 1s 51ms/step - loss: 1700.3030 - accuracy: 0.7820 - val_loss: 2218.0974 - val_accuracy: 0.7597\n",
      "Epoch 9/10\n",
      "16/16 [==============================] - 1s 47ms/step - loss: 1529.3613 - accuracy: 0.7960 - val_loss: 1606.6929 - val_accuracy: 0.7865\n",
      "Epoch 10/10\n",
      "16/16 [==============================] - 1s 49ms/step - loss: 1169.8297 - accuracy: 0.8340 - val_loss: 9415.9141 - val_accuracy: 0.6801\n"
     ]
    }
   ],
   "source": [
    "import tensorflow as tf\n",
    "from tensorflow import keras\n",
    "\n",
    "# Load the pretrained model\n",
    "pretrained_model = keras.models.load_model(\"my_mnist_model.h5\")\n",
    "pretrained_model.summary()\n",
    "\n",
    "# Create a new DNN that reuses all the pretrained hidden layers of the previous model\n",
    "new_model = keras.models.Sequential(pretrained_model.layers[:-1])\n",
    "\n",
    "# Freeze the reused layers\n",
    "for layer in new_model.layers:\n",
    "    layer.trainable = False\n",
    "\n",
    "# Add a new softmax output layer with the desired number of units\n",
    "new_model.add(keras.layers.Dense(5, activation=\"softmax\"))\n",
    "\n",
    "# Compile the new model\n",
    "new_model.compile(loss=\"sparse_categorical_crossentropy\", optimizer=\"sgd\", metrics=[\"accuracy\"])\n",
    "\n",
    "# Load the training data for digits 5 to 9\n",
    "(X_train, y_train), (X_test, y_test) = keras.datasets.mnist.load_data()\n",
    "X_train = X_train[y_train >= 5]\n",
    "y_train = y_train[y_train >= 5] - 5\n",
    "X_test = X_test[y_test >= 5]\n",
    "y_test = y_test[y_test >= 5] - 5\n",
    "\n",
    "# Train the new model on digits 5 to 9 using only 100 images per digit\n",
    "history = new_model.fit(X_train[:500], y_train[:500], epochs=10, validation_data=(X_test, y_test))"
   ]
  },
  {
   "cell_type": "code",
   "execution_count": 10,
   "id": "012eee0b-cba7-4dc5-8190-972b928f7b1d",
   "metadata": {
    "tags": []
   },
   "outputs": [
    {
     "name": "stdout",
     "output_type": "stream",
     "text": [
      "152/152 [==============================] - 1s 4ms/step - loss: 9415.9141 - accuracy: 0.6801\n",
      "Test accuracy: 0.6801069974899292\n"
     ]
    }
   ],
   "source": [
    "# Evaluate the trained model\n",
    "test_loss, test_acc = new_model.evaluate(X_test, y_test)\n",
    "print(f\"Test accuracy: {test_acc}\")"
   ]
  },
  {
   "cell_type": "code",
   "execution_count": 11,
   "id": "e8d32853-d109-4513-a83f-9f80ba08082d",
   "metadata": {
    "tags": []
   },
   "outputs": [
    {
     "name": "stdout",
     "output_type": "stream",
     "text": [
      "Epoch 1/10\n",
      "16/16 [==============================] - 2s 63ms/step - loss: 2114.9336 - accuracy: 0.8000 - val_loss: 1791.0963 - val_accuracy: 0.7667\n",
      "Epoch 2/10\n",
      "16/16 [==============================] - 1s 41ms/step - loss: 929.8950 - accuracy: 0.8280 - val_loss: 1754.7231 - val_accuracy: 0.7649\n",
      "Epoch 3/10\n",
      "16/16 [==============================] - 1s 41ms/step - loss: 1437.4323 - accuracy: 0.8020 - val_loss: 1328.3975 - val_accuracy: 0.8249\n",
      "Epoch 4/10\n",
      "16/16 [==============================] - 1s 40ms/step - loss: 1251.7568 - accuracy: 0.8400 - val_loss: 2279.0239 - val_accuracy: 0.7793\n",
      "Epoch 5/10\n",
      "16/16 [==============================] - 1s 41ms/step - loss: 882.5602 - accuracy: 0.8520 - val_loss: 3138.5281 - val_accuracy: 0.7237\n",
      "Epoch 6/10\n",
      "16/16 [==============================] - 1s 41ms/step - loss: 1208.2098 - accuracy: 0.8200 - val_loss: 2488.1692 - val_accuracy: 0.7297\n",
      "Epoch 7/10\n",
      "16/16 [==============================] - 1s 39ms/step - loss: 1814.0593 - accuracy: 0.7900 - val_loss: 1877.1578 - val_accuracy: 0.7846\n",
      "Epoch 8/10\n",
      "16/16 [==============================] - 1s 42ms/step - loss: 1270.3575 - accuracy: 0.8280 - val_loss: 1882.8356 - val_accuracy: 0.7877\n",
      "Epoch 9/10\n",
      "16/16 [==============================] - 1s 44ms/step - loss: 731.0855 - accuracy: 0.8680 - val_loss: 3353.7117 - val_accuracy: 0.7136\n",
      "Epoch 10/10\n",
      "16/16 [==============================] - 1s 48ms/step - loss: 591.7545 - accuracy: 0.8600 - val_loss: 2109.4065 - val_accuracy: 0.7595\n",
      "152/152 [==============================] - 1s 4ms/step - loss: 2109.4065 - accuracy: 0.7595\n",
      "Test accuracy: 0.7595145106315613\n",
      "Epoch 1/10\n",
      "16/16 [==============================] - 2s 86ms/step - loss: 1842.0013 - accuracy: 0.6060 - val_loss: 1234.2755 - val_accuracy: 0.7523\n",
      "Epoch 2/10\n",
      "16/16 [==============================] - 1s 45ms/step - loss: 432.1019 - accuracy: 0.8660 - val_loss: 759.4324 - val_accuracy: 0.7657\n",
      "Epoch 3/10\n",
      "16/16 [==============================] - 1s 49ms/step - loss: 161.4456 - accuracy: 0.9080 - val_loss: 468.7638 - val_accuracy: 0.8288\n",
      "Epoch 4/10\n",
      "16/16 [==============================] - 1s 55ms/step - loss: 127.6385 - accuracy: 0.9220 - val_loss: 501.1193 - val_accuracy: 0.8400\n",
      "Epoch 5/10\n",
      "16/16 [==============================] - 1s 54ms/step - loss: 89.9124 - accuracy: 0.9380 - val_loss: 530.2521 - val_accuracy: 0.8109\n",
      "Epoch 6/10\n",
      "16/16 [==============================] - 1s 56ms/step - loss: 90.4041 - accuracy: 0.9460 - val_loss: 401.6633 - val_accuracy: 0.8562\n",
      "Epoch 7/10\n",
      "16/16 [==============================] - 1s 58ms/step - loss: 68.2403 - accuracy: 0.9540 - val_loss: 436.1719 - val_accuracy: 0.8414\n",
      "Epoch 8/10\n",
      "16/16 [==============================] - 1s 57ms/step - loss: 123.4360 - accuracy: 0.9180 - val_loss: 375.8649 - val_accuracy: 0.8597\n",
      "Epoch 9/10\n",
      "16/16 [==============================] - 1s 54ms/step - loss: 48.7812 - accuracy: 0.9580 - val_loss: 434.0987 - val_accuracy: 0.8484\n",
      "Epoch 10/10\n",
      "16/16 [==============================] - 1s 56ms/step - loss: 43.5568 - accuracy: 0.9660 - val_loss: 279.2704 - val_accuracy: 0.8916\n"
     ]
    }
   ],
   "source": [
    "# Try caching the frozen layers and train the model again\n",
    "new_model.layers[0].trainable = True\n",
    "new_model.compile(loss=\"sparse_categorical_crossentropy\", optimizer=\"sgd\", metrics=[\"accuracy\"])\n",
    "history = new_model.fit(X_train[:500], y_train[:500], epochs=10, validation_data=(X_test, y_test))\n",
    "\n",
    "# Evaluate the trained model again\n",
    "test_loss, test_acc = new_model.evaluate(X_test, y_test)\n",
    "print(f\"Test accuracy: {test_acc}\")\n",
    "\n",
    "# Try again reusing just four hidden layers instead of five\n",
    "new_model2 = keras.models.Sequential(pretrained_model.layers[:-2])\n",
    "for layer in new_model2.layers:\n",
    "    layer.trainable = False\n",
    "new_model2.add(keras.layers.Dense(5, activation=\"softmax\"))\n",
    "new_model2.compile(loss=\"sparse_categorical_crossentropy\", optimizer=\"sgd\", metrics=[\"accuracy\"])\n",
    "history = new_model2.fit(X_train[:500], y_train[:500], epochs=10, validation_data=(X_test, y_test))"
   ]
  },
  {
   "cell_type": "code",
   "execution_count": 12,
   "id": "280f42c2-0a48-4694-a5e7-c1e016604264",
   "metadata": {
    "tags": []
   },
   "outputs": [
    {
     "name": "stdout",
     "output_type": "stream",
     "text": [
      "152/152 [==============================] - 1s 6ms/step - loss: 279.2704 - accuracy: 0.8916\n",
      "Test accuracy: 0.8915860652923584\n"
     ]
    }
   ],
   "source": [
    "# Evaluate the trained model again\n",
    "test_loss, test_acc = new_model2.evaluate(X_test, y_test)\n",
    "print(f\"Test accuracy: {test_acc}\")"
   ]
  },
  {
   "cell_type": "code",
   "execution_count": 13,
   "id": "50cd9c48-71fa-4dad-ba0d-699665ea87a2",
   "metadata": {
    "tags": []
   },
   "outputs": [
    {
     "name": "stdout",
     "output_type": "stream",
     "text": [
      "Epoch 1/10\n",
      "16/16 [==============================] - 2s 77ms/step - loss: 1017145.8750 - accuracy: 0.4600 - val_loss: 1800.3519 - val_accuracy: 0.3493\n",
      "Epoch 2/10\n",
      "16/16 [==============================] - 1s 59ms/step - loss: 461.4739 - accuracy: 0.3600 - val_loss: 4.4295 - val_accuracy: 0.3754\n",
      "Epoch 3/10\n",
      "16/16 [==============================] - 1s 55ms/step - loss: 1.6205 - accuracy: 0.4240 - val_loss: 4.3941 - val_accuracy: 0.3129\n",
      "Epoch 4/10\n",
      "16/16 [==============================] - 1s 50ms/step - loss: 1.3567 - accuracy: 0.3560 - val_loss: 4.3845 - val_accuracy: 0.3222\n",
      "Epoch 5/10\n",
      "16/16 [==============================] - 1s 50ms/step - loss: 1.3503 - accuracy: 0.3620 - val_loss: 4.3941 - val_accuracy: 0.3226\n",
      "Epoch 6/10\n",
      "16/16 [==============================] - 1s 54ms/step - loss: 1.3507 - accuracy: 0.3620 - val_loss: 4.3885 - val_accuracy: 0.3232\n",
      "Epoch 7/10\n",
      "16/16 [==============================] - 1s 56ms/step - loss: 1.3478 - accuracy: 0.3620 - val_loss: 4.3975 - val_accuracy: 0.3234\n",
      "Epoch 8/10\n",
      "16/16 [==============================] - 1s 61ms/step - loss: 1.3469 - accuracy: 0.3620 - val_loss: 4.3927 - val_accuracy: 0.3242\n",
      "Epoch 9/10\n",
      "16/16 [==============================] - 1s 56ms/step - loss: 1.3456 - accuracy: 0.3620 - val_loss: 4.3967 - val_accuracy: 0.3244\n",
      "Epoch 10/10\n",
      "16/16 [==============================] - 1s 52ms/step - loss: 1.3446 - accuracy: 0.3620 - val_loss: 4.3892 - val_accuracy: 0.3246\n"
     ]
    }
   ],
   "source": [
    "# Now unfreeze the top two hidden layers and continue training\n",
    "for layer in new_model2.layers[-3:]:\n",
    "    layer.trainable = True\n",
    "new_model2.compile(loss=\"sparse_categorical_crossentropy\", optimizer=\"sgd\", metrics=[\"accuracy\"])\n",
    "history = new_model2.fit(X_train[:500], y_train[:500], epochs=10, validation_data=(X_test, y_test))"
   ]
  },
  {
   "cell_type": "code",
   "execution_count": 14,
   "id": "db44f4be-d7b7-4d8a-9894-e1031d1130fd",
   "metadata": {
    "tags": []
   },
   "outputs": [
    {
     "name": "stdout",
     "output_type": "stream",
     "text": [
      "152/152 [==============================] - 1s 5ms/step - loss: 4.3892 - accuracy: 0.3246\n",
      "Test accuracy: 0.32462456822395325\n"
     ]
    }
   ],
   "source": [
    "# Evaluate the trained model again\n",
    "test_loss, test_acc = new_model2.evaluate(X_test, y_test)\n",
    "print(f\"Test accuracy: {test_acc}\")"
   ]
  },
  {
   "cell_type": "markdown",
   "id": "9d63bc8f-2ebe-4aec-b990-3a3540bd4320",
   "metadata": {},
   "source": [
    "#### Q3. Pretraining on an auxiliary task.\n",
    "    a. In this exercise you will build a DNN that compares two MNIST digit images and predicts whether they represent the same digit or not. Then you will reuse the lower layers of this network to train an MNIST classifier using very little training data. Start by building two DNNs (let’s call them DNN A and B), both similar to the one you built earlier but without the output layer: each DNN should have five hidden layers of 100 neurons each, He initialization, and ELU activation. Next, add one more hidden layer with 10 units on top of both DNNs. To do this, you should use TensorFlow’s concat() function with axis=1 to concatenate the outputs of both DNNs for each instance, then feed the result to the hidden layer. Finally, add an output layer with a single neuron using the logistic activation function.\n",
    "    b. Split the MNIST training set in two sets: split #1 should containing 55,000 images, and split #2 should contain contain 5,000 images. Create a function that generates a training batch where each instance is a pair of MNIST images picked from split #1. Half of the training instances should be pairs of images that belong to the same class, while the other half should be images from different classes. For each pair, the training label should be 0 if the images are from the same class, or 1 if they are from different classes.\n",
    "    c. Train the DNN on this training set. For each image pair, you can simultaneously feed the first image to DNN A and the second image to DNN B. The whole network will gradually learn to tell whether two images belong to the same class or not.\n",
    "    d. Now create a new DNN by reusing and freezing the hidden layers of DNN A and adding a softmax output layer on top with 10 neurons. Train this network on split #2 and see if you can achieve high performance despite having only 500 images per class.\n",
    "    \n",
    "**Ans.**"
   ]
  },
  {
   "cell_type": "code",
   "execution_count": 15,
   "id": "32f553ef-7c41-4cd0-a9a9-b819308142ea",
   "metadata": {
    "tags": []
   },
   "outputs": [],
   "source": [
    "import tensorflow as tf\n",
    "from tensorflow import keras\n",
    "import numpy as np\n",
    "\n",
    "# Load the MNIST dataset and split it into two sets\n",
    "(X_train_full, y_train_full), (X_test, y_test) = keras.datasets.mnist.load_data()\n",
    "X_train_full = X_train_full.astype(np.float32) / 255\n",
    "X_test = X_test.astype(np.float32) / 255\n",
    "X_train1 = X_train_full[:55000]\n",
    "y_train1 = y_train_full[:55000]\n",
    "X_train2 = X_train_full[55000:]\n",
    "y_train2 = y_train_full[55000:]\n",
    "\n",
    "# Define a function to generate a training batch where each instance is a pair of MNIST images\n",
    "def generate_batch(batch_size):\n",
    "    X_batch1 = np.empty((batch_size, 28, 28), dtype=np.float32)\n",
    "    X_batch2 = np.empty((batch_size, 28, 28), dtype=np.float32)\n",
    "    y_batch = np.empty((batch_size, 1), dtype=np.int32)\n",
    "    for i in range(batch_size):\n",
    "        index1 = np.random.randint(len(X_train1))\n",
    "        X_batch1[i] = X_train1[index1]\n",
    "        if i % 2 == 0:\n",
    "            # Images from the same class\n",
    "            index2 = index1\n",
    "            while index2 == index1:\n",
    "                index2 = np.random.randint(len(X_train1))\n",
    "                if y_train1[index2] == y_train1[index1]:\n",
    "                    break\n",
    "            y_batch[i] = 0\n",
    "        else:\n",
    "            # Images from different classes\n",
    "            index2 = index1\n",
    "            while index2 == index1 or y_train1[index2] == y_train1[index1]:\n",
    "                index2 = np.random.randint(len(X_train1))\n",
    "            y_batch[i] = 1\n",
    "        X_batch2[i] = X_train1[index2]\n",
    "    return [X_batch1, X_batch2], y_batch\n",
    "\n",
    "# Build two DNNs (let’s call them DNN A and B), both similar to the one you built earlier but without the output layer\n",
    "def build_dnn():\n",
    "    model = keras.models.Sequential()\n",
    "    model.add(keras.layers.Flatten(input_shape=[28, 28]))\n",
    "    for _ in range(5):\n",
    "        model.add(keras.layers.Dense(100, activation=\"elu\", kernel_initializer=\"he_normal\"))\n",
    "    return model\n",
    "\n",
    "dnn_a = build_dnn()\n",
    "dnn_b = build_dnn()\n",
    "\n",
    "# Add one more hidden layer with 10 units on top of both DNNs\n",
    "merged_output = keras.layers.concatenate([dnn_a.output, dnn_b.output])\n",
    "hidden_layer = keras.layers.Dense(10, activation=\"elu\", kernel_initializer=\"he_normal\")(merged_output)\n",
    "\n",
    "# Add an output layer with a single neuron using the logistic activation function\n",
    "output_layer = keras.layers.Dense(1, activation=\"sigmoid\")(hidden_layer)\n",
    "\n",
    "# Create a new model that takes two MNIST images as inputs and outputs a single value representing whether the images belong to the same class or not\n",
    "model = keras.models.Model(inputs=[dnn_a.input, dnn_b.input], outputs=[output_layer])\n",
    "\n",
    "# Compile the model\n",
    "model.compile(loss=\"binary_crossentropy\", optimizer=\"nadam\", metrics=[\"accuracy\"])\n",
    "\n",
    "# Train the DNN on this training set\n",
    "batch_size = 32\n",
    "for epoch in range(10):\n",
    "    for iteration in range(len(X_train1) // batch_size):\n",
    "        X_batch, y_batch = generate_batch(batch_size)\n",
    "        model.train_on_batch(X_batch, y_batch)\n",
    "\n",
    "# Create a new DNN by reusing and freezing the hidden layers of DNN A and adding a softmax output layer on top with 10 neurons\n",
    "new_model = keras.models.Sequential(dnn_a.layers[:-1])\n",
    "for layer in new_model.layers:\n",
    "    layer.trainable = False\n",
    "\n",
    "new_model.add(keras.layers.Dense(10, activation=\"softmax\"))\n",
    "\n",
    "# Compile the new model\n",
    "new_model.compile(loss=\"sparse_categorical_crossentropy\", optimizer=\"nadam\", metrics=[\"accuracy\"])\n"
   ]
  },
  {
   "cell_type": "code",
   "execution_count": 16,
   "id": "5519ce1d-beec-4e78-9c74-b566b4df909c",
   "metadata": {},
   "outputs": [
    {
     "name": "stdout",
     "output_type": "stream",
     "text": [
      "Epoch 1/10\n",
      "157/157 [==============================] - 2s 5ms/step - loss: 2.8468 - accuracy: 0.2026\n",
      "Epoch 2/10\n",
      "157/157 [==============================] - 1s 6ms/step - loss: 1.7713 - accuracy: 0.3748\n",
      "Epoch 3/10\n",
      "157/157 [==============================] - 1s 6ms/step - loss: 1.6125 - accuracy: 0.4596\n",
      "Epoch 4/10\n",
      "157/157 [==============================] - 1s 6ms/step - loss: 1.5091 - accuracy: 0.5048\n",
      "Epoch 5/10\n",
      "157/157 [==============================] - 1s 5ms/step - loss: 1.4339 - accuracy: 0.5392\n",
      "Epoch 6/10\n",
      "157/157 [==============================] - 1s 5ms/step - loss: 1.3716 - accuracy: 0.5600\n",
      "Epoch 7/10\n",
      "157/157 [==============================] - 1s 5ms/step - loss: 1.3255 - accuracy: 0.5794\n",
      "Epoch 8/10\n",
      "157/157 [==============================] - 1s 5ms/step - loss: 1.2802 - accuracy: 0.5910\n",
      "Epoch 9/10\n",
      "157/157 [==============================] - 1s 6ms/step - loss: 1.2458 - accuracy: 0.6072\n",
      "Epoch 10/10\n",
      "157/157 [==============================] - 1s 5ms/step - loss: 1.2158 - accuracy: 0.6150\n"
     ]
    }
   ],
   "source": [
    "# Train this network on split #2 and see if you can achieve high performance despite having only 500 images per class\n",
    "history = new_model.fit(X_train2, y_train2, epochs=10)"
   ]
  },
  {
   "cell_type": "code",
   "execution_count": 17,
   "id": "1c4cd760-aa86-4c9c-9261-9db78f16d2c5",
   "metadata": {
    "tags": []
   },
   "outputs": [
    {
     "name": "stdout",
     "output_type": "stream",
     "text": [
      "313/313 [==============================] - 2s 5ms/step - loss: 1.2968 - accuracy: 0.5624\n",
      "Test accuracy: 0.5623999834060669\n"
     ]
    }
   ],
   "source": [
    "# Evaluate the trained model on the test set\n",
    "test_loss, test_acc = new_model.evaluate(X_test, y_test)\n",
    "print(f\"Test accuracy: {test_acc}\")"
   ]
  }
 ],
 "metadata": {
  "accelerator": "GPU",
  "colab": {
   "provenance": []
  },
  "gpuClass": "standard",
  "kernelspec": {
   "display_name": "Python 3 (ipykernel)",
   "language": "python",
   "name": "python3"
  },
  "language_info": {
   "codemirror_mode": {
    "name": "ipython",
    "version": 3
   },
   "file_extension": ".py",
   "mimetype": "text/x-python",
   "name": "python",
   "nbconvert_exporter": "python",
   "pygments_lexer": "ipython3",
   "version": "3.10.2"
  }
 },
 "nbformat": 4,
 "nbformat_minor": 5
}
