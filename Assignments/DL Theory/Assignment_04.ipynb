{
 "cells": [
  {
   "cell_type": "markdown",
   "metadata": {},
   "source": [
    "# Assignment_04"
   ]
  },
  {
   "cell_type": "markdown",
   "metadata": {},
   "source": [
    "#### Q1. How would you describe TensorFlow in a short sentence? What are its main features? Can you name other popular Deep Learning libraries?\n",
    "\n",
    "**Ans.** **TensorFlow** is a Python-friendly open source library for numerical computation that makes machine learning and developing neural networks faster and easier.\n",
    "\n",
    "**Features:** TensorFlow allows developers to create dataflow graphs—structures that describe how data moves through a graph, or a series of processing nodes. Each node in the graph represents a mathematical operation, and each connection or edge between nodes is a multidimensional data array, or tensor.\n",
    "\n",
    "**DL Libraries:** 1.pytorch,2. Microsoft CNTK, 3. MXNet, 4. Caffe."
   ]
  },
  {
   "cell_type": "markdown",
   "metadata": {},
   "source": [
    "#### Q2. Is TensorFlow a drop-in replacement for NumPy? What are the main differences between the two?\n",
    "\n",
    "**Ans.** NumPy and TensorFlow are actually very similar in many respects. Both are, essentially, array manipulation libraries, built around the concept of tensors.&\n",
    "Tensorflow is consistently much slower than Numpy.\n",
    "Main difference between the two is : \n",
    "Tensorflow is a library for artificial intelligence,especially machine learning. Numpy is a library for doing numerical calculations."
   ]
  },
  {
   "cell_type": "markdown",
   "metadata": {},
   "source": [
    "#### Q3. Do you get the same result with tf.range(10) and tf.constant(np.arange(10))?\n",
    "\n",
    "**Ans.** Yes.we get same results. both expressions will produce a 1-dimensional tensor with values from 0 to 9, and the two tensors will be equivalent."
   ]
  },
  {
   "cell_type": "markdown",
   "metadata": {},
   "source": [
    "#### Q4. Can you name six other data structures available in TensorFlow, beyond regular tensors?\n",
    "\n",
    "**Ans.** There are four main tensor type you can create:\n",
    "Variable.</br>\n",
    "constant.</br>\n",
    "placeholder.</br>\n",
    "SparseTensor.</br>\n",
    "The most common types of tensors are: 3D tensors: used in time series. 4D-Tensors: used with images. 5D tensioners: used with videos.</br>\n",
    "\n",
    " 1. `tf.Variable`: A special type of tensor that can be mutated, similar to a mutable tensor. tf.Variable objects can be used to represent model parameters that need to be updated during training.\n",
    "\n",
    "2. `tf.constant`: A constant tensor with fixed values that cannot be changed.\n",
    "\n",
    "3. `tf.placeholder`: A placeholder tensor that is used to feed input data into a TensorFlow graph during computation. Placeholders allow for dynamic input shapes and can be useful in building flexible models.\n",
    "\n",
    "4. `tf.SparseTensor`: A sparse tensor that efficiently represents tensors with a large number of zero values.\n",
    "\n",
    "5. `tf.RaggedTensor`: A tensor with a variable number of dimensions, allowing for handling irregular or ragged data.\n",
    "\n",
    "6. `tf.TensorArray`: A data structure that allows for dynamically growing a tensor along a specific dimension, similar to a dynamic array in other programming languages. This can be useful for building dynamic models, such as recurrent neural networks."
   ]
  },
  {
   "cell_type": "markdown",
   "metadata": {},
   "source": [
    "#### Q5. A custom loss function can be defined by writing a function or by subclassing the keras.losses.Loss class. When would you use each option?\n",
    "\n",
    "**Ans.** A custom loss function can be created by defining a function that takes the true values and predicted values as required parameters. The function should return an array of losses. The function can then be passed the compile stage."
   ]
  },
  {
   "cell_type": "markdown",
   "metadata": {},
   "source": [
    "#### Q6. Similarly, a custom metric can be defined in a function or a subclass of keras.metrics.Metric. When would you use each option?\n",
    "\n",
    "**Ans.** As mentioned in Keras docu.</br>\n",
    "`import keras.backend as K\n",
    "def mean_pred(y_true, y_pred): \n",
    "return K.mean(y_pred) model.`</br>\n",
    "Or you can implement it in a hacky way as mentioned in Keras GH issue. For that you need to use callbacks argument of model"
   ]
  },
  {
   "cell_type": "markdown",
   "metadata": {},
   "source": [
    "#### Q7. When should you create a custom layer versus a custom model?\n",
    "\n",
    "**Ans.** If you are building a new model architecture using existing keras/tf layers then build a custom model. If you are implementing your own custom tensor operations with in a layer, then build a custom layer."
   ]
  },
  {
   "cell_type": "markdown",
   "metadata": {},
   "source": [
    "#### Q8. What are some use cases that require writing your own custom training loop?\n",
    "\n",
    "**Ans.** The training loop consists of repeatedly doing three tasks in order: Sending a batch of inputs through the model to generate outputs. Calculating the loss by comparing the outputs to the output.Using gradient tape to find the gradients. Optimizing the variables with those gradients\n",
    "I would like to train a CNN using a custom training loop. However  if there is a way that I can use my own gradient computation function instead of using the automatic differentiation provided by dlfeval(), modelGradients(), and gradient(), that are used with a dlnetwork(), which is used in custom training loops, versus an lgraph."
   ]
  },
  {
   "cell_type": "markdown",
   "metadata": {},
   "source": [
    "#### Q9. Can custom Keras components contain arbitrary Python code, or must they be convertible to TF Functions?\n",
    "\n",
    "**Ans.** Tf function provides the functionality of converting a python function automatically into a tensorflow graph which can then be executed efficiently by the tensorflow runtime.\n",
    "\n",
    "`tf_train_step = tf.function(train_step)\n",
    "%%time\n",
    "train(train_data, tf_train_step)`\n",
    "\n"
   ]
  },
  {
   "cell_type": "markdown",
   "metadata": {},
   "source": [
    "#### Q10. What are the main rules to respect if you want a function to be convertible to a TF Function?\n",
    "\n",
    "**Ans.** \n",
    "Here are the main rules to respect if you want a function to be convertible to a TensorFlow Function:\n",
    "\n",
    "1. `Avoid Using Python Objects`: TensorFlow Functions can only contain TensorFlow operations and tensors, so you should avoid using any Python objects or data types that cannot be represented in a TensorFlow graph.\n",
    "\n",
    "2. `Use TensorFlow Tensors`: All inputs to a TensorFlow Function should be represented as TensorFlow Tensors, and all outputs should be TensorFlow Tensors or lists/tuples of TensorFlow Tensors.\n",
    "\n",
    "3. `Avoid Dynamic Control Flow`: TensorFlow Functions can only contain static control flow constructs, such as `tf.cond` and `tf.while_loop`, so you should avoid using dynamic control flow constructs such as `if` statements and loops.\n",
    "\n",
    "4. `Avoid Assigning to Variables`: TensorFlow Functions are stateless, meaning that they should not contain any assignments to variables or other stateful operations.\n",
    "\n",
    "5. `Avoid Non-Deterministic Operations`: TensorFlow Functions should only contain deterministic operations, meaning that the output should always be the same given the same inputs.\n",
    "\n",
    "6. `Use Specialized TensorFlow Functions`: When possible, you should use specialized TensorFlow Functions such as `tf.nn` and `tf.math` to perform common operations, as these functions are optimized for performance and compatibility with TensorFlow.\n",
    "\n",
    "7. `Annotate with @tf.function`: To ensure that a Python function can be converted to a TensorFlow Function, you should annotate it with the `@tf.function` decorator, which will convert the function to a TensorFlow Function and ensure that it is compatible with TensorFlow's autograph system.\n",
    "\n",
    "By following these rules, you czan ensure that your functions are compatible with TensorFlow's autograph system and can be converted to efficient, high-performance TensorFlow Functions that can be used in computational graphs."
   ]
  },
  {
   "cell_type": "markdown",
   "metadata": {},
   "source": [
    "#### Q11. When would you need to create a dynamic Keras model? How do you do that? Why not make all your models dynamic?\n",
    "\n",
    "**Ans.** You would need to create a dynamic Keras model when the shape or size of your inputs and/or outputs is not fixed at the time of model construction. This could occur in several scenarios, such as:\n",
    "\n",
    "1. When working with variable-length sequences of data, such as text or time series data.\n",
    "2. When dealing with images or other data types where the dimensions of the input may vary, such as using data augmentation techniques.\n",
    "3. When using certain types of advanced architectures, such as attention mechanisms or recursive neural networks.\n",
    "In order to create a dynamic Keras model, you need to specify the input shape of your model as `None` for any dimensions that may vary in size. For example, if you were working with sequences of text data, you could define a dynamic Keras model as follows:\n",
    "\n",
    "`import tensorflow as tf`\n",
    "\n",
    "`from tensorflow import keras`\n",
    "\n",
    "`inputs = keras.Input(shape=(None,), dtype=\"int32\")`\n",
    "\n",
    "`x = keras.layers.Embedding(input_dim=1000, output_dim=16)(inputs)`\n",
    "\n",
    "`x = keras.layers.LSTM(32)(x)`\n",
    "\n",
    "`outputs = keras.layers.Dense(1, activation=\"sigmoid\")(x)`\n",
    "\n",
    "`model = keras.Model(inputs, outputs)`\n",
    "\n",
    "\n",
    "In this example, the input shape of the model is defined as `(None,)`, which allows for variable-length sequences of integer data to be passed in as inputs.\n",
    "\n",
    "It is not always necessary or desirable to make all models dynamic, as there can be some performance benefits to using static models with fixed input and output shapes. Static models can be optimized more effectively by the TensorFlow compiler, and can take advantage of hardware-specific optimizations such as fused operations.\n",
    "\n",
    "However, in cases where you need to work with variable-length or dynamically shaped data, or when using certain types of advanced architectures, a dynamic Keras model may be necessary to achieve the desired results. In these cases, it is important to follow best practices and ensure that your model is well-designed and efficient, in order to achieve good performance and scalability.\n"
   ]
  }
 ],
 "metadata": {
  "kernelspec": {
   "display_name": "Python 3 (ipykernel)",
   "language": "python",
   "name": "python3"
  },
  "language_info": {
   "codemirror_mode": {
    "name": "ipython",
    "version": 3
   },
   "file_extension": ".py",
   "mimetype": "text/x-python",
   "name": "python",
   "nbconvert_exporter": "python",
   "pygments_lexer": "ipython3",
   "version": "3.10.2"
  }
 },
 "nbformat": 4,
 "nbformat_minor": 4
}
