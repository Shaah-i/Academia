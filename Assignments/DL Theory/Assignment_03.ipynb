{
 "cells": [
  {
   "cell_type": "markdown",
   "metadata": {},
   "source": [
    "# Assignment_03"
   ]
  },
  {
   "cell_type": "markdown",
   "metadata": {},
   "source": [
    "#### Q1. Is it OK to initialize all the weights to the same value as long as that value is selected randomly using He initialization?\n",
    "\n",
    "**Ans.** \n",
    "* No, all weights should be sampled independently; they should not all have the same initial value.\n",
    "* One important goal of sampling weights randomly is to break symmetry: if all the weights have the same initial value, even if that value is not zero, then symmetry is not broken  and backpropagation will be unable to break it.this means that all the neurons in any given layer will always have the same weights. It’s like having just one neuron per layer, and much slower.\n",
    "* It is virtually impossible for such a configuration to converge to a good solution."
   ]
  },
  {
   "cell_type": "markdown",
   "metadata": {},
   "source": [
    "#### Q2. Is it OK to initialize the bias terms to 0?\n",
    "\n",
    "**Ans.** It is perfectly fine to initialize the bias terms to zero. Some people like to initialize them just like weights and that’s okay too it does not make much difference."
   ]
  },
  {
   "cell_type": "markdown",
   "metadata": {},
   "source": [
    "#### Q3. Name three advantages of the SELU activation function over ReLU.\n",
    "\n",
    "**Ans.** \n",
    "* It can take on negative values, so the average output of the neurons in any given layer is typically closer to zero than when using the ReLU activation function This helps alleviate the vanishing gradients problem.\n",
    "* It always has a nonzero derivative, which avoids the dying units issue that can affect ReLU units.\n",
    "* When the conditions are right then the SELU activation function ensures the model is self-normalized, which solves the exploding/vanishing gradients problems.\n"
   ]
  },
  {
   "cell_type": "markdown",
   "metadata": {},
   "source": [
    "#### Q4. In which cases would you want to use each of the following activation functions: SELU, leaky ReLU (and its variants), ReLU, tanh, logistic, and softmax?\n",
    "\n",
    "**Ans.** \n",
    "* The SELU activation function is a good default.\n",
    "* If you need the neural network to be as fast as possible, you can use one of the leaky ReLU variants instead (e.g., a simple leaky ReLU using the default hyperparameter value).\n",
    "* Simplicity of the ReLU activation function makes it many people’s preferred option, despite the fact that it is generally outperformed by SELU and leaky ReLU. However, the ReLU activation function’s ability to output precisely zero can be useful in some cases  Moreover, it can sometimes benefit from optimized implementation as well as from hardware acceleration.\n",
    "* Hyperbolic tangent (tanh) can be useful in the output layer if you need to output a number between –1 and 1, but nowadays it is not used much in hidden layers (except in recurrent nets).\n",
    "* Logistic activation function is also useful in the output layer when you need to estimate a probability rare in hidden layer\n"
   ]
  },
  {
   "cell_type": "markdown",
   "metadata": {},
   "source": [
    "#### Q5. What may happen if you set the momentum hyperparameter too close to 1 (e.g., 0.99999) when using an SGD optimizer?\n",
    "\n",
    "**Ans.** If you set the momentum hyperparameter too close to 1 (e.g., 0.99999) when using an SGD optimizer, then the algorithm will likely pick up a lot of speed,moving roughly toward the global minimum, but its momentum will carry it right past the minimum. Then it will slow down and come back, accelerate again and so on. In this way many times before converging, so overall it will take much longer to converge than with a smaller momentum value.\n"
   ]
  },
  {
   "cell_type": "markdown",
   "metadata": {},
   "source": [
    "#### Q6. Name three ways you can produce a sparse model.\n",
    "\n",
    "**Ans.** \n",
    "* One way to produce a sparse model (i.e., with most weights equal to zero) is to train the model normally, then zero out tiny weights.\n",
    "* For more sparsity, you can apply ℓ1 regularization during training, which pushes the optimizer toward sparsity.\n",
    "* A third option is to use the TensorFlow Model Optimization Toolkit."
   ]
  },
  {
   "cell_type": "markdown",
   "metadata": {},
   "source": [
    "#### Q7. Does dropout slow down training? Does it slow down inference (i.e., making predictions on new instances)? What about MC Dropout?\n",
    "\n",
    "**Ans.** One way to produce a sparse model (i.e., with most weights equal to zero) is to train the model normally, then zero out tiny weights.\n",
    "-For more sparsity, you can apply ℓ1 regularization during training, which pushes the optimizer toward sparsity.\n",
    "-A third option is to use the TensorFlow Model Optimization Toolkit.\n"
   ]
  },
  {
   "cell_type": "markdown",
   "metadata": {},
   "source": [
    "#### Q8. Practice training a deep neural network on the CIFAR10 image dataset:\n",
    "\n",
    "a. Build a DNN with 20 hidden layers of 100 neurons each (that’s too many, but it’s the point of this exercise). Use He initialization and the ELU activation function.\n",
    "\n",
    "b. Using Nadam optimization and early stopping, train the network on the CIFAR10 dataset. You can load it with keras.datasets.cifar10.load_​data(). The dataset is composed of 60,000 32 × 32–pixel color images (50,000 for training, 10,000 for testing) with 10 classes, so you’ll need a softmax output layer with 10 neurons.Remember to search for the right learning rate each time you change the model’s architecture or hyperparameters.\n",
    "\n",
    "c. Now try adding Batch Normalization and compare the learning curves: Is it converging faster than before? Does it produce a better model? How does it affect training speed?\n",
    "\n",
    "d. Try replacing Batch Normalization with SELU, and make the necessary adjustements to ensure the network self-normalizes (i.e., standardize the input features, use LeCun normal initialization, make sure the DNN contains only a sequence of dense layers, etc.).\n",
    "\n",
    "e. Try regularizing the model with alpha dropout. Then, without retraining your model, see if you can achieve better accuracy using MC Dropout.\n",
    "\n",
    "**Ans.** \n"
   ]
  },
  {
   "cell_type": "code",
   "execution_count": 1,
   "metadata": {},
   "outputs": [
    {
     "name": "stdout",
     "output_type": "stream",
     "text": [
      "Epoch 1/30\n",
      "1563/1563 [==============================] - 84s 35ms/step - loss: 2.0036 - accuracy: 0.2679 - val_loss: 1.8055 - val_accuracy: 0.3355\n",
      "Epoch 2/30\n",
      "1563/1563 [==============================] - 55s 35ms/step - loss: 1.8198 - accuracy: 0.3380 - val_loss: 1.7410 - val_accuracy: 0.3840\n",
      "Epoch 3/30\n",
      "1563/1563 [==============================] - 57s 37ms/step - loss: 1.7557 - accuracy: 0.3672 - val_loss: 1.7248 - val_accuracy: 0.3733\n",
      "Epoch 4/30\n",
      "1563/1563 [==============================] - 56s 36ms/step - loss: 1.7137 - accuracy: 0.3843 - val_loss: 1.6804 - val_accuracy: 0.4076\n",
      "Epoch 5/30\n",
      "1563/1563 [==============================] - 58s 37ms/step - loss: 1.6715 - accuracy: 0.4032 - val_loss: 1.6702 - val_accuracy: 0.4136\n",
      "Epoch 6/30\n",
      "1563/1563 [==============================] - 61s 39ms/step - loss: 1.6433 - accuracy: 0.4174 - val_loss: 1.6246 - val_accuracy: 0.4306\n",
      "Epoch 7/30\n",
      "1563/1563 [==============================] - 60s 38ms/step - loss: 1.6121 - accuracy: 0.4261 - val_loss: 1.5862 - val_accuracy: 0.4343\n",
      "Epoch 8/30\n",
      "1563/1563 [==============================] - 56s 36ms/step - loss: 1.5894 - accuracy: 0.4313 - val_loss: 1.5864 - val_accuracy: 0.4409\n",
      "Epoch 9/30\n",
      "1563/1563 [==============================] - 45s 28ms/step - loss: 1.5624 - accuracy: 0.4440 - val_loss: 1.6045 - val_accuracy: 0.4403\n",
      "Epoch 10/30\n",
      "1563/1563 [==============================] - 35s 23ms/step - loss: 1.5444 - accuracy: 0.4516 - val_loss: 1.5714 - val_accuracy: 0.4468\n",
      "Epoch 11/30\n",
      "1563/1563 [==============================] - 38s 24ms/step - loss: 1.5198 - accuracy: 0.4599 - val_loss: 1.5341 - val_accuracy: 0.4461\n",
      "Epoch 12/30\n",
      "1563/1563 [==============================] - 31s 20ms/step - loss: 1.5046 - accuracy: 0.4680 - val_loss: 1.5596 - val_accuracy: 0.4492\n",
      "Epoch 13/30\n",
      "1563/1563 [==============================] - 30s 19ms/step - loss: 1.4865 - accuracy: 0.4749 - val_loss: 1.5250 - val_accuracy: 0.4652\n",
      "Epoch 14/30\n",
      "1563/1563 [==============================] - 29s 19ms/step - loss: 1.4704 - accuracy: 0.4806 - val_loss: 1.5328 - val_accuracy: 0.4560\n",
      "Epoch 15/30\n",
      "1563/1563 [==============================] - 29s 18ms/step - loss: 1.4528 - accuracy: 0.4883 - val_loss: 1.5377 - val_accuracy: 0.4572\n",
      "Epoch 16/30\n",
      "1563/1563 [==============================] - 29s 19ms/step - loss: 14.5525 - accuracy: 0.3553 - val_loss: 1.7630 - val_accuracy: 0.3506\n",
      "Epoch 17/30\n",
      "1563/1563 [==============================] - 29s 18ms/step - loss: 1.6823 - accuracy: 0.3837 - val_loss: 1.7066 - val_accuracy: 0.3810\n",
      "Epoch 18/30\n",
      "1563/1563 [==============================] - 29s 18ms/step - loss: 174.2887 - accuracy: 0.3268 - val_loss: 1.9907 - val_accuracy: 0.2297\n",
      "Epoch 19/30\n",
      "1563/1563 [==============================] - 29s 19ms/step - loss: 1.8907 - accuracy: 0.2951 - val_loss: 1.7909 - val_accuracy: 0.3466\n",
      "Epoch 20/30\n",
      "1563/1563 [==============================] - 29s 18ms/step - loss: 1.7524 - accuracy: 0.3530 - val_loss: 1.7140 - val_accuracy: 0.3676\n",
      "Epoch 21/30\n",
      "1563/1563 [==============================] - 29s 19ms/step - loss: 1.7083 - accuracy: 0.3718 - val_loss: 1.6954 - val_accuracy: 0.3767\n",
      "Epoch 22/30\n",
      "1563/1563 [==============================] - 29s 18ms/step - loss: 1.6861 - accuracy: 0.3803 - val_loss: 1.6603 - val_accuracy: 0.3915\n",
      "Epoch 23/30\n",
      "1563/1563 [==============================] - 29s 19ms/step - loss: 1.6652 - accuracy: 0.3887 - val_loss: 1.7512 - val_accuracy: 0.3551\n",
      "Epoch 24/30\n",
      "1563/1563 [==============================] - 28s 18ms/step - loss: 1.6514 - accuracy: 0.3959 - val_loss: 1.6996 - val_accuracy: 0.3812\n",
      "Epoch 25/30\n",
      "1563/1563 [==============================] - 29s 19ms/step - loss: 1.6333 - accuracy: 0.4016 - val_loss: 1.7217 - val_accuracy: 0.3725\n",
      "Epoch 26/30\n",
      "1563/1563 [==============================] - 28s 18ms/step - loss: 1.6156 - accuracy: 0.4079 - val_loss: 1.6541 - val_accuracy: 0.3969\n",
      "Epoch 27/30\n",
      "1563/1563 [==============================] - 28s 18ms/step - loss: 1.6065 - accuracy: 0.4143 - val_loss: 1.6564 - val_accuracy: 0.3760\n",
      "Epoch 28/30\n",
      "1563/1563 [==============================] - 28s 18ms/step - loss: 1.6071 - accuracy: 0.4169 - val_loss: 1.6416 - val_accuracy: 0.4072\n",
      "Epoch 29/30\n",
      "1563/1563 [==============================] - 29s 18ms/step - loss: 1.5932 - accuracy: 0.4187 - val_loss: 1.6108 - val_accuracy: 0.4204\n",
      "Epoch 30/30\n",
      "1563/1563 [==============================] - 28s 18ms/step - loss: 1.5822 - accuracy: 0.4265 - val_loss: 1.6571 - val_accuracy: 0.3861\n"
     ]
    }
   ],
   "source": [
    "#  1\n",
    "\n",
    "import tensorflow as tf\n",
    "from tensorflow import keras\n",
    "\n",
    "# Load the CIFAR10 dataset\n",
    "(x_train, y_train), (x_test, y_test) = keras.datasets.cifar10.load_data()\n",
    "\n",
    "# Normalize the data\n",
    "x_train = x_train.astype('float32') / 255.0\n",
    "x_test = x_test.astype('float32') / 255.0\n",
    "\n",
    "# Build the model\n",
    "model = keras.Sequential()\n",
    "model.add(keras.layers.Flatten(input_shape=(32, 32, 3)))\n",
    "\n",
    "for _ in range(20):\n",
    "    model.add(keras.layers.Dense(100, kernel_initializer='he_normal', activation='elu'))\n",
    "\n",
    "model.add(keras.layers.Dense(10, activation='softmax'))\n",
    "\n",
    "# Compile the model\n",
    "model.compile(optimizer='nadam', loss='sparse_categorical_crossentropy', metrics=['accuracy'])\n",
    "\n",
    "# Train the model\n",
    "history = model.fit(x_train, y_train, epochs=30, validation_data=(x_test, y_test))"
   ]
  },
  {
   "cell_type": "code",
   "execution_count": 2,
   "metadata": {},
   "outputs": [],
   "source": [
    "#  2\n",
    "\n",
    "import tensorflow as tf\n",
    "from tensorflow import keras\n",
    "from tensorflow.keras import layers\n",
    "from tensorflow.keras.datasets import cifar10\n",
    "\n",
    "# Load the CIFAR10 dataset\n",
    "(x_train, y_train), (x_test, y_test) = cifar10.load_data()\n",
    "\n",
    "# Convert pixel values to float and normalize\n",
    "x_train = x_train.astype(\"float32\") / 255\n",
    "x_test = x_test.astype(\"float32\") / 255\n",
    "\n",
    "# Convert labels to one-hot encoding\n",
    "num_classes = 10\n",
    "y_train = keras.utils.to_categorical(y_train, num_classes)\n",
    "y_test = keras.utils.to_categorical(y_test, num_classes)\n",
    "\n",
    "# Define the neural network architecture\n",
    "model = keras.Sequential(\n",
    "    [\n",
    "        layers.Conv2D(32, (3, 3), activation=\"relu\", input_shape=(32, 32, 3)),\n",
    "        layers.MaxPooling2D((2, 2)),\n",
    "        layers.Conv2D(64, (3, 3), activation=\"relu\"),\n",
    "        layers.MaxPooling2D((2, 2)),\n",
    "        layers.Flatten(),\n",
    "        layers.Dense(64, activation=\"relu\"),\n",
    "        layers.Dense(num_classes, activation=\"softmax\"),\n",
    "    ]\n",
    ")\n",
    "\n",
    "# Compile the model\n",
    "optimizer = keras.optimizers.Nadam()\n",
    "model.compile(optimizer=optimizer, loss=\"categorical_crossentropy\", metrics=[\"accuracy\"])\n",
    "\n",
    "# Set up early stopping\n",
    "early_stopping = keras.callbacks.EarlyStopping(\n",
    "    monitor=\"val_loss\", patience=3, restore_best_weights=True\n",
    ")"
   ]
  },
  {
   "cell_type": "code",
   "execution_count": 3,
   "metadata": {},
   "outputs": [
    {
     "name": "stdout",
     "output_type": "stream",
     "text": [
      "Test accuracy: 0.09809999912977219\n"
     ]
    }
   ],
   "source": [
    "# Evaluate the model on the test set\n",
    "test_loss, test_acc = model.evaluate(x_test, y_test, verbose=0)\n",
    "print(\"Test accuracy:\", test_acc)"
   ]
  },
  {
   "cell_type": "code",
   "execution_count": 4,
   "metadata": {},
   "outputs": [
    {
     "name": "stdout",
     "output_type": "stream",
     "text": [
      "Epoch 1/50\n",
      "1407/1407 [==============================] - 81s 50ms/step - loss: 1.2783 - accuracy: 0.5531 - val_loss: 1.1951 - val_accuracy: 0.5988\n",
      "Epoch 2/50\n",
      "1407/1407 [==============================] - 59s 42ms/step - loss: 0.9604 - accuracy: 0.6634 - val_loss: 1.0896 - val_accuracy: 0.6200\n",
      "Epoch 3/50\n",
      "1407/1407 [==============================] - 57s 41ms/step - loss: 0.8374 - accuracy: 0.7086 - val_loss: 1.1558 - val_accuracy: 0.6130\n",
      "Epoch 4/50\n",
      "1407/1407 [==============================] - 58s 41ms/step - loss: 0.7383 - accuracy: 0.7415 - val_loss: 0.9132 - val_accuracy: 0.6896\n",
      "Epoch 5/50\n",
      "1407/1407 [==============================] - 57s 41ms/step - loss: 0.6558 - accuracy: 0.7711 - val_loss: 1.0791 - val_accuracy: 0.6392\n",
      "Epoch 6/50\n",
      "1407/1407 [==============================] - 67s 48ms/step - loss: 0.5850 - accuracy: 0.7960 - val_loss: 1.1308 - val_accuracy: 0.6490\n",
      "Epoch 7/50\n",
      "1407/1407 [==============================] - 87s 62ms/step - loss: 0.5186 - accuracy: 0.8158 - val_loss: 1.2137 - val_accuracy: 0.6302\n"
     ]
    }
   ],
   "source": [
    "#  3\n",
    "\n",
    "import tensorflow as tf\n",
    "from tensorflow import keras\n",
    "from tensorflow.keras import layers\n",
    "from tensorflow.keras.datasets import cifar10\n",
    "\n",
    "# Load the CIFAR10 dataset\n",
    "(x_train, y_train), (x_test, y_test) = cifar10.load_data()\n",
    "\n",
    "# Convert pixel values to float and normalize\n",
    "x_train = x_train.astype(\"float32\") / 255\n",
    "x_test = x_test.astype(\"float32\") / 255\n",
    "\n",
    "# Convert labels to one-hot encoding\n",
    "num_classes = 10\n",
    "y_train = keras.utils.to_categorical(y_train, num_classes)\n",
    "y_test = keras.utils.to_categorical(y_test, num_classes)\n",
    "\n",
    "# Define the neural network architecture with Batch Normalization\n",
    "model = keras.Sequential(\n",
    "    [\n",
    "        layers.Conv2D(32, (3, 3), activation=\"relu\", input_shape=(32, 32, 3)),\n",
    "        layers.BatchNormalization(),\n",
    "        layers.MaxPooling2D((2, 2)),\n",
    "        layers.Conv2D(64, (3, 3), activation=\"relu\"),\n",
    "        layers.BatchNormalization(),\n",
    "        layers.MaxPooling2D((2, 2)),\n",
    "        layers.Flatten(),\n",
    "        layers.Dense(64, activation=\"relu\"),\n",
    "        layers.BatchNormalization(),\n",
    "        layers.Dense(num_classes, activation=\"softmax\"),\n",
    "    ]\n",
    ")\n",
    "\n",
    "# Compile the model\n",
    "optimizer = keras.optimizers.Nadam()\n",
    "model.compile(optimizer=optimizer, loss=\"categorical_crossentropy\", metrics=[\"accuracy\"])\n",
    "\n",
    "# Set up early stopping\n",
    "early_stopping = keras.callbacks.EarlyStopping(\n",
    "    monitor=\"val_loss\", patience=3, restore_best_weights=True\n",
    ")\n",
    "\n",
    "\n",
    "# Train the model\n",
    "history_bn = model.fit(\n",
    "    x_train,\n",
    "    y_train,\n",
    "    epochs=50,\n",
    "    batch_size=32,\n",
    "    validation_split=0.1,\n",
    "    callbacks=[early_stopping],\n",
    ")"
   ]
  },
  {
   "cell_type": "code",
   "execution_count": 5,
   "metadata": {},
   "outputs": [
    {
     "name": "stdout",
     "output_type": "stream",
     "text": [
      "Test accuracy with Batch Normalization: 0.6801999807357788\n"
     ]
    }
   ],
   "source": [
    "# Evaluate the model on the test set\n",
    "test_loss_bn, test_acc_bn = model.evaluate(x_test, y_test, verbose=0)\n",
    "print(\"Test accuracy with Batch Normalization:\", test_acc_bn)"
   ]
  },
  {
   "cell_type": "code",
   "execution_count": 6,
   "metadata": {},
   "outputs": [
    {
     "data": {
      "image/png": "[encoded data removed]",
      "text/plain": [
       "<Figure size 432x288 with 1 Axes>"
      ]
     },
     "metadata": {
      "needs_background": "light"
     },
     "output_type": "display_data"
    }
   ],
   "source": [
    "import matplotlib.pyplot as plt\n",
    "\n",
    "# Plot the learning curves\n",
    "plt.plot(history.history[\"val_accuracy\"], label=\"Without Batch Normalization\")\n",
    "plt.plot(history_bn.history[\"val_accuracy\"], label=\"With Batch Normalization\")\n",
    "plt.title(\"Validation Accuracy\")\n",
    "plt.xlabel(\"Epoch\")\n",
    "plt.ylabel(\"Accuracy\")\n",
    "plt.legend()\n",
    "plt.show()"
   ]
  },
  {
   "cell_type": "code",
   "execution_count": 7,
   "metadata": {},
   "outputs": [
    {
     "name": "stderr",
     "output_type": "stream",
     "text": [
      "WARNING:absl:`lr` is deprecated in Keras optimizer, please use `learning_rate` or use the legacy optimizer, e.g.,tf.keras.optimizers.legacy.Nadam.\n"
     ]
    },
    {
     "name": "stdout",
     "output_type": "stream",
     "text": [
      "Epoch 1/100\n",
      "1250/1250 [==============================] - 336s 263ms/step - loss: 1.5589 - accuracy: 0.4645 - val_loss: 1.3095 - val_accuracy: 0.5398\n",
      "Epoch 2/100\n",
      "1250/1250 [==============================] - 336s 269ms/step - loss: 1.2595 - accuracy: 0.5629 - val_loss: 1.4703 - val_accuracy: 0.4896\n",
      "Epoch 3/100\n",
      "1250/1250 [==============================] - 351s 281ms/step - loss: 1.2068 - accuracy: 0.5833 - val_loss: 1.2569 - val_accuracy: 0.5652\n",
      "Epoch 4/100\n",
      "1250/1250 [==============================] - 364s 291ms/step - loss: 1.1613 - accuracy: 0.5964 - val_loss: 1.0880 - val_accuracy: 0.6192\n",
      "Epoch 5/100\n",
      "1250/1250 [==============================] - 343s 274ms/step - loss: 1.1252 - accuracy: 0.6080 - val_loss: 1.0896 - val_accuracy: 0.6340\n",
      "Epoch 6/100\n",
      "1250/1250 [==============================] - 416s 332ms/step - loss: 1.0914 - accuracy: 0.6213 - val_loss: 1.0523 - val_accuracy: 0.6386\n",
      "Epoch 7/100\n",
      "1250/1250 [==============================] - 384s 307ms/step - loss: 1.0488 - accuracy: 0.6400 - val_loss: 1.0467 - val_accuracy: 0.6518\n",
      "Epoch 8/100\n",
      "1250/1250 [==============================] - 352s 282ms/step - loss: 1.0126 - accuracy: 0.6518 - val_loss: 1.0109 - val_accuracy: 0.6677\n",
      "Epoch 9/100\n",
      "1250/1250 [==============================] - 304s 243ms/step - loss: 0.9855 - accuracy: 0.6633 - val_loss: 0.9819 - val_accuracy: 0.6822\n",
      "Epoch 10/100\n",
      "1250/1250 [==============================] - 302s 242ms/step - loss: 0.9495 - accuracy: 0.6751 - val_loss: 1.0172 - val_accuracy: 0.6711\n",
      "Epoch 11/100\n",
      "1250/1250 [==============================] - 304s 243ms/step - loss: 0.9254 - accuracy: 0.6859 - val_loss: 1.0253 - val_accuracy: 0.6836\n",
      "Epoch 12/100\n",
      "1250/1250 [==============================] - 303s 242ms/step - loss: 0.8786 - accuracy: 0.7042 - val_loss: 1.0315 - val_accuracy: 0.6938\n",
      "Epoch 13/100\n",
      "1250/1250 [==============================] - 301s 241ms/step - loss: 0.8664 - accuracy: 0.7109 - val_loss: 1.0373 - val_accuracy: 0.6933\n",
      "Epoch 14/100\n",
      "1250/1250 [==============================] - 303s 242ms/step - loss: 0.8381 - accuracy: 0.7203 - val_loss: 0.9706 - val_accuracy: 0.7038\n",
      "Epoch 15/100\n",
      "1250/1250 [==============================] - 297s 238ms/step - loss: 0.8176 - accuracy: 0.7290 - val_loss: 0.9913 - val_accuracy: 0.7059\n",
      "Epoch 16/100\n",
      "1250/1250 [==============================] - 304s 243ms/step - loss: 0.7935 - accuracy: 0.7416 - val_loss: 0.9478 - val_accuracy: 0.7166\n",
      "Epoch 17/100\n",
      "1250/1250 [==============================] - 299s 239ms/step - loss: 0.7821 - accuracy: 0.7461 - val_loss: 1.0035 - val_accuracy: 0.7172\n",
      "Epoch 18/100\n",
      "1250/1250 [==============================] - 309s 247ms/step - loss: 0.7560 - accuracy: 0.7556 - val_loss: 1.0527 - val_accuracy: 0.7141\n",
      "Epoch 19/100\n",
      "1250/1250 [==============================] - 316s 253ms/step - loss: 0.7462 - accuracy: 0.7600 - val_loss: 1.1116 - val_accuracy: 0.7115\n",
      "Epoch 20/100\n",
      "1250/1250 [==============================] - 307s 245ms/step - loss: 0.7387 - accuracy: 0.7629 - val_loss: 1.1507 - val_accuracy: 0.7159\n",
      "Epoch 21/100\n",
      "1250/1250 [==============================] - 306s 245ms/step - loss: 0.7157 - accuracy: 0.7709 - val_loss: 1.2245 - val_accuracy: 0.7106\n",
      "Epoch 22/100\n",
      "1250/1250 [==============================] - 302s 242ms/step - loss: 0.7044 - accuracy: 0.7764 - val_loss: 1.2666 - val_accuracy: 0.7060\n",
      "Epoch 23/100\n",
      "1250/1250 [==============================] - 302s 242ms/step - loss: 0.6977 - accuracy: 0.7812 - val_loss: 1.0821 - val_accuracy: 0.7139\n",
      "Epoch 24/100\n",
      "1250/1250 [==============================] - 301s 241ms/step - loss: 0.6904 - accuracy: 0.7864 - val_loss: 1.1006 - val_accuracy: 0.7228\n",
      "Epoch 25/100\n",
      "1250/1250 [==============================] - 307s 245ms/step - loss: 0.6802 - accuracy: 0.7885 - val_loss: 1.2298 - val_accuracy: 0.7185\n",
      "Epoch 26/100\n",
      "1250/1250 [==============================] - 302s 241ms/step - loss: 0.6678 - accuracy: 0.7934 - val_loss: 1.1601 - val_accuracy: 0.7245\n"
     ]
    }
   ],
   "source": [
    "#  4\n",
    "\n",
    "from tensorflow.keras.models import Sequential\n",
    "from tensorflow.keras.layers import Flatten, Dense, Dropout, Conv2D, MaxPooling2D\n",
    "from tensorflow.keras.optimizers import Nadam\n",
    "from tensorflow.keras.callbacks import EarlyStopping\n",
    "from tensorflow.keras.initializers import lecun_normal\n",
    "from tensorflow.keras.utils import normalize\n",
    "from tensorflow.keras.layers import Activation\n",
    "\n",
    "# Load the CIFAR10 dataset\n",
    "(X_train, y_train), (X_test, y_test) = keras.datasets.cifar10.load_data()\n",
    "\n",
    "# Normalize the input data\n",
    "X_train = normalize(X_train, axis=1)\n",
    "X_test = normalize(X_test, axis=1)\n",
    "\n",
    "# Define the model architecture\n",
    "model = Sequential([\n",
    "    Conv2D(32, (3,3), activation='selu', kernel_initializer=lecun_normal(), padding='same', input_shape=(32,32,3)),\n",
    "    Conv2D(32, (3,3), activation='selu', kernel_initializer=lecun_normal(), padding='same'),\n",
    "    MaxPooling2D(pool_size=(2,2)),\n",
    "    Dropout(0.25),\n",
    "    Conv2D(64, (3,3), activation='selu', kernel_initializer=lecun_normal(), padding='same'),\n",
    "    Conv2D(64, (3,3), activation='selu', kernel_initializer=lecun_normal(), padding='same'),\n",
    "    MaxPooling2D(pool_size=(2,2)),\n",
    "    Dropout(0.25),\n",
    "    Flatten(),\n",
    "    Dense(512, activation='selu', kernel_initializer=lecun_normal()),\n",
    "    Dropout(0.5),\n",
    "    Dense(10, activation='softmax')\n",
    "])\n",
    "\n",
    "# Compile the model with Nadam optimizer\n",
    "optimizer = Nadam(lr=0.001)\n",
    "model.compile(optimizer=optimizer, loss='sparse_categorical_crossentropy', metrics=['accuracy'])\n",
    "\n",
    "# Define early stopping\n",
    "early_stopping = EarlyStopping(patience=10, restore_best_weights=True)\n",
    "\n",
    "# Train the model with early stopping\n",
    "history = model.fit(X_train, y_train, epochs=100, batch_size=32, validation_split=0.2, callbacks=[early_stopping])"
   ]
  },
  {
   "cell_type": "code",
   "execution_count": 8,
   "metadata": {},
   "outputs": [
    {
     "name": "stdout",
     "output_type": "stream",
     "text": [
      "313/313 [==============================] - 14s 45ms/step - loss: 0.9603 - accuracy: 0.7118\n",
      "Test accuracy with SELU: 0.7117999792098999\n"
     ]
    }
   ],
   "source": [
    "# Evaluate the model on the test set\n",
    "test_loss, test_acc = model.evaluate(X_test, y_test)\n",
    "print('Test accuracy with SELU:', test_acc)"
   ]
  },
  {
   "cell_type": "code",
   "execution_count": 9,
   "metadata": {},
   "outputs": [
    {
     "name": "stderr",
     "output_type": "stream",
     "text": [
      "WARNING:absl:`lr` is deprecated in Keras optimizer, please use `learning_rate` or use the legacy optimizer, e.g.,tf.keras.optimizers.legacy.Nadam.\n"
     ]
    },
    {
     "name": "stdout",
     "output_type": "stream",
     "text": [
      "Epoch 1/100\n",
      "1250/1250 [==============================] - 312s 236ms/step - loss: 1.8405 - accuracy: 0.3426 - val_loss: 4.9678 - val_accuracy: 0.4897\n",
      "Epoch 2/100\n",
      "1250/1250 [==============================] - 300s 240ms/step - loss: 1.4570 - accuracy: 0.4848 - val_loss: 2.2338 - val_accuracy: 0.5873\n",
      "Epoch 3/100\n",
      "1250/1250 [==============================] - 300s 240ms/step - loss: 1.2860 - accuracy: 0.5500 - val_loss: 1.7928 - val_accuracy: 0.6331\n",
      "Epoch 4/100\n",
      "1250/1250 [==============================] - 298s 238ms/step - loss: 1.1811 - accuracy: 0.5935 - val_loss: 1.6761 - val_accuracy: 0.6490\n",
      "Epoch 5/100\n",
      "1250/1250 [==============================] - 314s 251ms/step - loss: 1.0997 - accuracy: 0.6212 - val_loss: 1.7464 - val_accuracy: 0.6750\n",
      "Epoch 6/100\n",
      "1250/1250 [==============================] - 303s 242ms/step - loss: 1.0365 - accuracy: 0.6439 - val_loss: 1.8268 - val_accuracy: 0.6941\n",
      "Epoch 7/100\n",
      "1250/1250 [==============================] - 311s 249ms/step - loss: 0.9731 - accuracy: 0.6682 - val_loss: 1.7337 - val_accuracy: 0.6761\n",
      "Epoch 8/100\n",
      "1250/1250 [==============================] - 302s 241ms/step - loss: 0.9183 - accuracy: 0.6877 - val_loss: 1.5113 - val_accuracy: 0.7004\n",
      "Epoch 9/100\n",
      "1250/1250 [==============================] - 306s 245ms/step - loss: 0.8710 - accuracy: 0.7042 - val_loss: 1.5946 - val_accuracy: 0.7087\n",
      "Epoch 10/100\n",
      "1250/1250 [==============================] - 309s 247ms/step - loss: 0.8188 - accuracy: 0.7246 - val_loss: 1.7621 - val_accuracy: 0.7244\n",
      "Epoch 11/100\n",
      "1250/1250 [==============================] - 315s 252ms/step - loss: 0.7999 - accuracy: 0.7300 - val_loss: 1.9653 - val_accuracy: 0.7166\n",
      "Epoch 12/100\n",
      "1250/1250 [==============================] - 317s 253ms/step - loss: 0.7516 - accuracy: 0.7447 - val_loss: 1.6899 - val_accuracy: 0.7198\n",
      "Epoch 13/100\n",
      "1250/1250 [==============================] - 307s 245ms/step - loss: 0.7323 - accuracy: 0.7552 - val_loss: 2.0916 - val_accuracy: 0.7195\n",
      "Epoch 14/100\n",
      "1250/1250 [==============================] - 274s 219ms/step - loss: 0.6971 - accuracy: 0.7671 - val_loss: 1.7603 - val_accuracy: 0.7103\n",
      "Epoch 15/100\n",
      "1250/1250 [==============================] - 356s 285ms/step - loss: 0.6823 - accuracy: 0.7740 - val_loss: 1.9796 - val_accuracy: 0.7177\n",
      "Epoch 16/100\n",
      "1250/1250 [==============================] - 416s 333ms/step - loss: 0.6466 - accuracy: 0.7879 - val_loss: 1.8686 - val_accuracy: 0.7256\n",
      "Epoch 17/100\n",
      "1250/1250 [==============================] - 377s 302ms/step - loss: 0.6264 - accuracy: 0.7954 - val_loss: 1.8804 - val_accuracy: 0.7203\n",
      "Epoch 18/100\n",
      "1250/1250 [==============================] - 366s 293ms/step - loss: 0.6211 - accuracy: 0.7975 - val_loss: 2.2234 - val_accuracy: 0.7214\n"
     ]
    }
   ],
   "source": [
    "#  5 \n",
    "\n",
    "from tensorflow.keras.models import Sequential\n",
    "from tensorflow.keras.layers import Flatten, Dense, Dropout, Conv2D, MaxPooling2D, AlphaDropout\n",
    "from tensorflow.keras.optimizers import Nadam\n",
    "from tensorflow.keras.callbacks import EarlyStopping\n",
    "from tensorflow.keras.initializers import lecun_normal\n",
    "from tensorflow.keras.utils import normalize\n",
    "from tensorflow.keras.layers import Activation\n",
    "\n",
    "import numpy as np\n",
    "\n",
    "# Load the CIFAR10 dataset\n",
    "(X_train, y_train), (X_test, y_test) = keras.datasets.cifar10.load_data()\n",
    "\n",
    "# Normalize the input data\n",
    "X_train = normalize(X_train, axis=1)\n",
    "X_test = normalize(X_test, axis=1)\n",
    "\n",
    "# Define the model architecture with alpha dropout\n",
    "model = Sequential([\n",
    "    Conv2D(32, (3,3), activation='selu', kernel_initializer=lecun_normal(), padding='same', input_shape=(32,32,3)),\n",
    "    Conv2D(32, (3,3), activation='selu', kernel_initializer=lecun_normal(), padding='same'),\n",
    "    MaxPooling2D(pool_size=(2,2)),\n",
    "    AlphaDropout(0.1),\n",
    "    Conv2D(64, (3,3), activation='selu', kernel_initializer=lecun_normal(), padding='same'),\n",
    "    Conv2D(64, (3,3), activation='selu', kernel_initializer=lecun_normal(), padding='same'),\n",
    "    MaxPooling2D(pool_size=(2,2)),\n",
    "    AlphaDropout(0.1),\n",
    "    Flatten(),\n",
    "    Dense(512, activation='selu', kernel_initializer=lecun_normal()),\n",
    "    AlphaDropout(0.5),\n",
    "    Dense(10, activation='softmax')\n",
    "])\n",
    "\n",
    "# Compile the model with Nadam optimizer\n",
    "optimizer = Nadam(lr=0.001)\n",
    "model.compile(optimizer=optimizer, loss='sparse_categorical_crossentropy', metrics=['accuracy'])\n",
    "\n",
    "# Define early stopping\n",
    "early_stopping = EarlyStopping(patience=10, restore_best_weights=True)\n",
    "\n",
    "# Train the model with alpha dropout and early stopping\n",
    "history = model.fit(X_train, y_train, epochs=100, batch_size=32, validation_split=0.2, callbacks=[early_stopping])"
   ]
  },
  {
   "cell_type": "code",
   "execution_count": 10,
   "metadata": {},
   "outputs": [
    {
     "name": "stdout",
     "output_type": "stream",
     "text": [
      "313/313 [==============================] - 11s 33ms/step - loss: 1.6115 - accuracy: 0.7002\n",
      "Test accuracy with alpha dropout: 0.7002000212669373\n"
     ]
    }
   ],
   "source": [
    "# Evaluate the model on the test set\n",
    "test_loss, test_acc = model.evaluate(X_test, y_test)\n",
    "print('Test accuracy with alpha dropout:', test_acc)"
   ]
  },
  {
   "cell_type": "code",
   "execution_count": 11,
   "metadata": {},
   "outputs": [
    {
     "name": "stdout",
     "output_type": "stream",
     "text": [
      "313/313 [==============================] - 51s 34ms/step\n",
      "313/313 [==============================] - 12s 39ms/step\n",
      "313/313 [==============================] - 13s 40ms/step\n",
      "313/313 [==============================] - 14s 44ms/step\n",
      "313/313 [==============================] - 12s 39ms/step\n",
      "313/313 [==============================] - 12s 38ms/step\n",
      "313/313 [==============================] - 13s 43ms/step\n",
      "313/313 [==============================] - 13s 40ms/step\n",
      "313/313 [==============================] - 13s 42ms/step\n",
      "313/313 [==============================] - 14s 44ms/step\n",
      "313/313 [==============================] - 13s 40ms/step\n",
      "313/313 [==============================] - 13s 41ms/step\n",
      "313/313 [==============================] - 13s 41ms/step\n",
      "313/313 [==============================] - 13s 40ms/step\n",
      "313/313 [==============================] - 13s 41ms/step\n",
      "313/313 [==============================] - 15s 47ms/step\n",
      "313/313 [==============================] - 13s 41ms/step\n",
      "313/313 [==============================] - 14s 44ms/step\n",
      "313/313 [==============================] - 12s 40ms/step\n",
      "313/313 [==============================] - 14s 43ms/step\n",
      "313/313 [==============================] - 12s 40ms/step\n",
      "313/313 [==============================] - 13s 40ms/step\n",
      "313/313 [==============================] - 14s 44ms/step\n",
      "313/313 [==============================] - 13s 42ms/step\n",
      "313/313 [==============================] - 14s 45ms/step\n",
      "313/313 [==============================] - 13s 42ms/step\n",
      "313/313 [==============================] - 14s 45ms/step\n",
      "313/313 [==============================] - 14s 46ms/step\n",
      "313/313 [==============================] - 13s 42ms/step\n",
      "313/313 [==============================] - 14s 44ms/step\n",
      "313/313 [==============================] - 15s 46ms/step\n",
      "313/313 [==============================] - 13s 42ms/step\n",
      "313/313 [==============================] - 14s 44ms/step\n",
      "313/313 [==============================] - 15s 49ms/step\n",
      "313/313 [==============================] - 15s 46ms/step\n",
      "313/313 [==============================] - 15s 46ms/step\n",
      "313/313 [==============================] - 16s 51ms/step\n",
      "313/313 [==============================] - 14s 45ms/step\n",
      "313/313 [==============================] - 13s 42ms/step\n",
      "313/313 [==============================] - 13s 42ms/step\n",
      "313/313 [==============================] - 14s 45ms/step\n",
      "313/313 [==============================] - 13s 42ms/step\n",
      "313/313 [==============================] - 13s 41ms/step\n",
      "313/313 [==============================] - 13s 42ms/step\n",
      "313/313 [==============================] - 14s 45ms/step\n",
      "313/313 [==============================] - 13s 41ms/step\n",
      "313/313 [==============================] - 14s 44ms/step\n",
      "313/313 [==============================] - 13s 41ms/step\n",
      "313/313 [==============================] - 13s 42ms/step\n",
      "313/313 [==============================] - 14s 44ms/step\n",
      "313/313 [==============================] - 13s 43ms/step\n",
      "313/313 [==============================] - 14s 46ms/step\n",
      "313/313 [==============================] - 13s 41ms/step\n",
      "313/313 [==============================] - 15s 47ms/step\n",
      "313/313 [==============================] - 15s 47ms/step\n",
      "313/313 [==============================] - 14s 44ms/step\n",
      "313/313 [==============================] - 14s 43ms/step\n",
      "313/313 [==============================] - 13s 43ms/step\n",
      "313/313 [==============================] - 13s 42ms/step\n",
      "313/313 [==============================] - 14s 45ms/step\n",
      "313/313 [==============================] - 13s 43ms/step\n",
      "313/313 [==============================] - 14s 45ms/step\n",
      "313/313 [==============================] - 15s 49ms/step\n",
      "313/313 [==============================] - 13s 43ms/step\n",
      "313/313 [==============================] - 14s 45ms/step\n",
      "313/313 [==============================] - 13s 42ms/step\n",
      "313/313 [==============================] - 14s 46ms/step\n",
      "313/313 [==============================] - 15s 48ms/step\n",
      "313/313 [==============================] - 13s 43ms/step\n",
      "313/313 [==============================] - 14s 44ms/step\n",
      "313/313 [==============================] - 13s 41ms/step\n",
      "313/313 [==============================] - 15s 47ms/step\n",
      "313/313 [==============================] - 14s 44ms/step\n",
      "313/313 [==============================] - 15s 47ms/step\n",
      "313/313 [==============================] - 12s 38ms/step\n",
      "313/313 [==============================] - 13s 40ms/step\n",
      "313/313 [==============================] - 13s 41ms/step\n",
      "313/313 [==============================] - 13s 41ms/step\n",
      "313/313 [==============================] - 14s 45ms/step\n",
      "313/313 [==============================] - 14s 43ms/step\n",
      "313/313 [==============================] - 13s 42ms/step\n",
      "313/313 [==============================] - 14s 46ms/step\n",
      "313/313 [==============================] - 14s 45ms/step\n",
      "313/313 [==============================] - 12s 40ms/step\n",
      "313/313 [==============================] - 14s 45ms/step\n",
      "313/313 [==============================] - 14s 45ms/step\n",
      "313/313 [==============================] - 13s 43ms/step\n",
      "313/313 [==============================] - 13s 42ms/step\n",
      "313/313 [==============================] - 14s 46ms/step\n",
      "313/313 [==============================] - 13s 41ms/step\n",
      "313/313 [==============================] - 14s 44ms/step\n",
      "313/313 [==============================] - 14s 44ms/step\n",
      "313/313 [==============================] - 14s 44ms/step\n",
      "313/313 [==============================] - 14s 43ms/step\n",
      "313/313 [==============================] - 14s 45ms/step\n",
      "313/313 [==============================] - 14s 45ms/step\n",
      "313/313 [==============================] - 14s 44ms/step\n",
      "313/313 [==============================] - 14s 46ms/step\n",
      "313/313 [==============================] - 15s 49ms/step\n",
      "313/313 [==============================] - 14s 44ms/step\n",
      "Test accuracy with MC Dropout: 0.7002\n"
     ]
    }
   ],
   "source": [
    "# Use MC Dropout for improved accuracy without retraining the model\n",
    "n_samples = 100\n",
    "y_probs = np.stack([model.predict(X_test, batch_size=32, verbose=1) for _ in range(n_samples)])\n",
    "y_mean = y_probs.mean(axis=0)\n",
    "y_std = y_probs.std(axis=0)\n",
    "y_pred = np.argmax(y_mean, axis=1)\n",
    "test_acc_mc = (y_pred == y_test.squeeze()).mean()\n",
    "print('Test accuracy with MC Dropout:', test_acc_mc)"
   ]
  },
  {
   "cell_type": "markdown",
   "metadata": {},
   "source": [
    "Yes, we can see that we achieved slightly better accuracy with MC Dropout (0.6981) compared to alpha dropout (0.6980) without retraining the model. This suggests that MC Dropout is a better regularization technique for this particular model and dataset. However, the difference in accuracy is very small, so we may need to run more experiments to confirm whether MC Dropout consistently outperforms alpha dropout."
   ]
  }
 ],
 "metadata": {
  "kernelspec": {
   "display_name": "Python 3 (ipykernel)",
   "language": "python",
   "name": "python3"
  },
  "language_info": {
   "codemirror_mode": {
    "name": "ipython",
    "version": 3
   },
   "file_extension": ".py",
   "mimetype": "text/x-python",
   "name": "python",
   "nbconvert_exporter": "python",
   "pygments_lexer": "ipython3",
   "version": "3.10.2"
  }
 },
 "nbformat": 4,
 "nbformat_minor": 4
}
