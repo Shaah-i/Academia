{
 "cells": [
  {
   "cell_type": "markdown",
   "id": "2aea731f",
   "metadata": {},
   "source": [
    "# Assignment_25"
   ]
  },
  {
   "cell_type": "markdown",
   "id": "37800bcc",
   "metadata": {},
   "source": [
    "### 1) . What is the difference between enclosing a list comprehension in square brackets and parentheses?\n",
    "\n",
    "**Ans.** List comprehension enclosed in a square bracket returns a ``list`` while enclosed in parentheses returns a ``generator`` object."
   ]
  },
  {
   "cell_type": "code",
   "execution_count": 1,
   "id": "aeadd495",
   "metadata": {},
   "outputs": [
    {
     "name": "stdout",
     "output_type": "stream",
     "text": [
      "[0, 1, 2, 3, 4, 5, 6, 7, 8, 9]\n",
      "<generator object <genexpr> at 0x000002E8949E5FC0>\n"
     ]
    }
   ],
   "source": [
    "lst = [i for i in range(10)]\n",
    "print(lst)\n",
    "gen = (i for i in range(10))\n",
    "print(gen)"
   ]
  },
  {
   "cell_type": "markdown",
   "id": "1d911553",
   "metadata": {},
   "source": [
    "### 2) What is the relationship between generators and iterators?\n",
    "\n",
    "**Ans.** An iterator is an object which contains a countable number of values and it's used to iterate over iterable objects like list, tuples, sets, e.t.c. Iterators are implemented using  a class. It follows lazy evaluation where the evaluation of the expression will be on hold and stored in the memory until the item is called specifically which helps us avoid repeated evaluation. As lazy evaluation is implemented, it requires only 1 memory location to process the value and when we are using a large dataset then, wastage of RAm space will be there. For an iterator: ``iter()`` keyword is used to create an iterator containing an iterable object. ``next()`` keyword is used to call the next element in the iterable object.\n",
    "\n",
    "Similarly Generators are another way of creating iterators in a simple way where it uses the keyword yield statment instead of return statement in a defined function. Generators are implemented using a function. Just as iterators, generators also follow lazy evaluation. Here , the yield function returns the data without affecting or exiting the function. It will return a sequence of data in an iterable format where we need to iterate over the sequence to use the data as they won't store the entire sequence in the memory."
   ]
  },
  {
   "cell_type": "code",
   "execution_count": 2,
   "id": "114b94db",
   "metadata": {},
   "outputs": [
    {
     "name": "stdout",
     "output_type": "stream",
     "text": [
      "<class 'list_iterator'>\n",
      "Hello\n",
      "!\n",
      "How\n",
      "are\n",
      "you?\n",
      "+-++-++-++-++-++-++-++-++-++-+\n",
      "<class 'generator'>\n",
      "0\n",
      "4\n",
      "8\n",
      "12\n",
      "16\n"
     ]
    }
   ],
   "source": [
    "itr= iter(['Hello','!', 'How', 'are', 'you?'])\n",
    "print(type(itr))\n",
    "print(next(itr))\n",
    "print(next(itr))\n",
    "print(next(itr))\n",
    "print(next(itr))\n",
    "print(next(itr))\n",
    "\n",
    "\n",
    "print('+-+'*10)\n",
    "\n",
    "def power_table(a):\n",
    "    for i in range(a+1):\n",
    "        yield a*i\n",
    "\n",
    "op = power_table(4)\n",
    "print(type(op))\n",
    "print(next(op))\n",
    "print(next(op))\n",
    "print(next(op))\n",
    "print(next(op))\n",
    "print(next(op))\n",
    "\n"
   ]
  },
  {
   "cell_type": "markdown",
   "id": "13000244",
   "metadata": {},
   "source": [
    "### 3) What are the signs that a function is a generator function?\n",
    "\n",
    "**Ans.** A generator function will always return a iterable object called generator, while a normal function can return a string, list, tuple, dictionary e.t.c. A generator function uses ``yeild`` instead of a ``return``. "
   ]
  },
  {
   "cell_type": "markdown",
   "id": "f02609a5",
   "metadata": {},
   "source": [
    "### 4) What is the purpose of a yield statement?\n",
    "\n",
    "**Ans.** The yield statment suspends function's execution and sends a value back to the caller, but retains enough state to enable function to resume wher it is left off. When resumed, the function continues execution immediately after the last yield run. This allows its code to produce a series of values over time, rather than computing them at once and sending them back like a list."
   ]
  },
  {
   "cell_type": "markdown",
   "id": "817bdb4f",
   "metadata": {},
   "source": [
    "### 5) What is the relationship between map calls and list comprehensions? Make a comparison and contrast between the two.\n",
    "\n",
    "**Ans.** \n",
    "1. Map is faster than list comprehension in case of calling an already function on a bunch of values.\n",
    "2. List returns a list and map returns a map object and need to be deleberately converted to desired datatype.\n",
    "3. List comprehension is faster when we need to evaluate long or complicated expressions.\n",
    "4. List comprehension are more easy to read."
   ]
  }
 ],
 "metadata": {
  "kernelspec": {
   "display_name": "Python 3 (ipykernel)",
   "language": "python",
   "name": "python3"
  },
  "language_info": {
   "codemirror_mode": {
    "name": "ipython",
    "version": 3
   },
   "file_extension": ".py",
   "mimetype": "text/x-python",
   "name": "python",
   "nbconvert_exporter": "python",
   "pygments_lexer": "ipython3",
   "version": "3.10.2"
  }
 },
 "nbformat": 4,
 "nbformat_minor": 5
}
