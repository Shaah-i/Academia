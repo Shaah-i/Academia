{
 "cells": [
  {
   "cell_type": "markdown",
   "id": "0c416ecc",
   "metadata": {},
   "source": [
    "# Assignment_4"
   ]
  },
  {
   "cell_type": "markdown",
   "id": "65c2be51",
   "metadata": {},
   "source": [
    "### 1. What exactly is [ ]?\n",
    "\n",
    "**Ans.** [ ] is used to represent a list. List is a collection which can store hetrogenous data in one variable. [ ] represents an empty list."
   ]
  },
  {
   "cell_type": "markdown",
   "id": "72da2d91",
   "metadata": {},
   "source": [
    "### 2. In a list of values stored in a variable called spam, how would you assign the value 'hello' as the third value? (Assume [2, 4, 6, 8, 10] are in spam.)\n",
    "\n",
    "\n",
    "**Ans.**\n",
    "``sapam[2]='hello'``"
   ]
  },
  {
   "cell_type": "code",
   "execution_count": 1,
   "id": "ce5b5339",
   "metadata": {},
   "outputs": [
    {
     "name": "stdout",
     "output_type": "stream",
     "text": [
      "[2, 4, 6, 8, 10]\n",
      "[2, 4, 'hello', 8, 10]\n"
     ]
    }
   ],
   "source": [
    "spam=[2,4,6,8,10]\n",
    "print(spam)\n",
    "spam[2]='hello'\n",
    "print(spam)"
   ]
  },
  {
   "cell_type": "markdown",
   "id": "a08513f8",
   "metadata": {},
   "source": [
    "## Let's pretend the spam includes the list ['a', 'b', 'c', 'd'] for the next three queries."
   ]
  },
  {
   "cell_type": "markdown",
   "id": "0e9e8d89",
   "metadata": {},
   "source": [
    "### 3. What is the value of spam[int(int('3' * 2) / 11)]?\n",
    "\n",
    "**Ans.**\n",
    "'d'"
   ]
  },
  {
   "cell_type": "code",
   "execution_count": 2,
   "id": "20608d6a",
   "metadata": {},
   "outputs": [
    {
     "data": {
      "text/plain": [
       "'d'"
      ]
     },
     "execution_count": 2,
     "metadata": {},
     "output_type": "execute_result"
    }
   ],
   "source": [
    "spam=['a', 'b', 'c', 'd']\n",
    "spam[int(int('3' * 2) / 11)]"
   ]
  },
  {
   "cell_type": "markdown",
   "id": "33ec22af",
   "metadata": {},
   "source": [
    "### 4. What is the value of spam[-1]?\n",
    "\n",
    "**Ans.**\n",
    "'d'"
   ]
  },
  {
   "cell_type": "code",
   "execution_count": 3,
   "id": "15838856",
   "metadata": {},
   "outputs": [
    {
     "data": {
      "text/plain": [
       "'d'"
      ]
     },
     "execution_count": 3,
     "metadata": {},
     "output_type": "execute_result"
    }
   ],
   "source": [
    "spam[-1]"
   ]
  },
  {
   "cell_type": "markdown",
   "id": "204ed08f",
   "metadata": {},
   "source": [
    "### 5. What is the value of spam[:2]?\n",
    "\n",
    "**Ans.** \n",
    "['a', 'b']"
   ]
  },
  {
   "cell_type": "code",
   "execution_count": 4,
   "id": "b41414bd",
   "metadata": {},
   "outputs": [
    {
     "data": {
      "text/plain": [
       "['a', 'b']"
      ]
     },
     "execution_count": 4,
     "metadata": {},
     "output_type": "execute_result"
    }
   ],
   "source": [
    "spam[:2]"
   ]
  },
  {
   "cell_type": "markdown",
   "id": "9068ae0f",
   "metadata": {},
   "source": [
    "<!-- Corrected the list (comma inside the quotes) -->\n",
    "## Let's pretend bacon has the list [3.14, 'cat', 11, 'cat', True] for the next three questions."
   ]
  },
  {
   "cell_type": "markdown",
   "id": "741ffe63",
   "metadata": {},
   "source": [
    "### 6. What is the value of bacon.index('cat')?\n",
    "\n",
    "**Ans.**\n",
    "1"
   ]
  },
  {
   "cell_type": "code",
   "execution_count": 5,
   "id": "3e4be348",
   "metadata": {},
   "outputs": [
    {
     "data": {
      "text/plain": [
       "1"
      ]
     },
     "execution_count": 5,
     "metadata": {},
     "output_type": "execute_result"
    }
   ],
   "source": [
    "bacon=[3.14, 'cat', 11, 'cat', True]\n",
    "bacon.index('cat')"
   ]
  },
  {
   "cell_type": "markdown",
   "id": "d8dc4bf0",
   "metadata": {},
   "source": [
    "### 7. How does bacon.append(99) change the look of the list value in bacon?\n",
    "\n",
    "**Ans.**\n",
    "The number 99 will be added at the last inside the list.\n",
    "\n",
    "[3.14, 'cat', 11, 'cat', True, 99]"
   ]
  },
  {
   "cell_type": "code",
   "execution_count": 6,
   "id": "43bd2820",
   "metadata": {},
   "outputs": [
    {
     "data": {
      "text/plain": [
       "[3.14, 'cat', 11, 'cat', True, 99]"
      ]
     },
     "execution_count": 6,
     "metadata": {},
     "output_type": "execute_result"
    }
   ],
   "source": [
    "bacon.append(99)\n",
    "bacon"
   ]
  },
  {
   "cell_type": "markdown",
   "id": "5afda6c7",
   "metadata": {},
   "source": [
    "### 8. How does bacon.remove('cat') change the look of the list in bacon?\n",
    "\n",
    "**Ans.**\n",
    "First instance of 'cat' in the list will be removed.\n",
    "\n",
    "[3.14, 11, 'cat', True]"
   ]
  },
  {
   "cell_type": "code",
   "execution_count": 7,
   "id": "cb006615",
   "metadata": {},
   "outputs": [
    {
     "data": {
      "text/plain": [
       "[3.14, 11, 'cat', True]"
      ]
     },
     "execution_count": 7,
     "metadata": {},
     "output_type": "execute_result"
    }
   ],
   "source": [
    "bacon=[3.14, 'cat', 11, 'cat', True]\n",
    "bacon.remove('cat')\n",
    "bacon"
   ]
  },
  {
   "cell_type": "markdown",
   "id": "ca6833a9",
   "metadata": {},
   "source": [
    "### 9. What are the list concatenation and list replication operators?\n",
    "\n",
    "**Ans.**\n",
    "* List concatenation operator is used to join 2 or more list and get a single list. ``+``\n",
    "* List replication operator is used to repeate the content of list for given number of times inside a single list. ``*``"
   ]
  },
  {
   "cell_type": "code",
   "execution_count": 8,
   "id": "0d961f79",
   "metadata": {},
   "outputs": [
    {
     "data": {
      "text/plain": [
       "[1, 2, 5, 3, 4, 1, 2, 5, 3, 4, 1, 2, 5, 3, 4]"
      ]
     },
     "execution_count": 8,
     "metadata": {},
     "output_type": "execute_result"
    }
   ],
   "source": [
    "i=[1,2,5,3,4]\n",
    "j=['a','c','d']\n",
    "\n",
    "i*3"
   ]
  },
  {
   "cell_type": "markdown",
   "id": "cecac850",
   "metadata": {},
   "source": [
    "### 10. What is difference between the list methods append() and insert()?\n",
    "\n",
    "**Ans.** \n",
    "* ``append()`` Add an element to the end of the list\n",
    "* ``insert()`` Insert an element at the defined index"
   ]
  },
  {
   "cell_type": "code",
   "execution_count": 9,
   "id": "4afd246a",
   "metadata": {},
   "outputs": [
    {
     "name": "stdout",
     "output_type": "stream",
     "text": [
      "Using append:  [1, 2, 3, 4, 5, 6, 7, 'a']\n",
      "Using insert:  [1, 2, 3, 'b', 4, 5, 6, 7, 'a']\n"
     ]
    }
   ],
   "source": [
    "i=[1,2,3,4,5,6,7]\n",
    "i.append('a')\n",
    "print('Using append: ',i)\n",
    "i.insert(3,'b')\n",
    "print('Using insert: ',i)"
   ]
  },
  {
   "cell_type": "markdown",
   "id": "2e654108",
   "metadata": {},
   "source": [
    "### 11. What are the two methods for removing items from a list?\n",
    "\n",
    "**Ans.** \n",
    "* ``Remove()`` : Removes an element from the list\n",
    "* ``Pop()`` : Removes and returns an element at the given index"
   ]
  },
  {
   "cell_type": "markdown",
   "id": "17d66bff",
   "metadata": {},
   "source": [
    "### 12. Describe how list values and string values are identical.\n",
    "\n",
    "**Ans.** List values and string values are same in the sense that both can be sliced in same way and most functions can be used for both except of append(),insert() etc in case of tuple."
   ]
  },
  {
   "cell_type": "code",
   "execution_count": 10,
   "id": "10f9a19e",
   "metadata": {},
   "outputs": [
    {
     "name": "stdout",
     "output_type": "stream",
     "text": [
      "5\n",
      "8\n"
     ]
    }
   ],
   "source": [
    "a = [1,2,3,4,5] #list\n",
    "b = (1,2,3,8,6) #tuple\n",
    "\n",
    "print(a[-1])\n",
    "print(b[-2])"
   ]
  },
  {
   "cell_type": "markdown",
   "id": "26d0dcff",
   "metadata": {},
   "source": [
    "### 13. What's the difference between tuples and lists?\n",
    "\n",
    "**Ans.** Tuples are imutable while list is a mutable entity. tuple is stored using () round brackets and list is stored using [] square brackets."
   ]
  },
  {
   "cell_type": "code",
   "execution_count": 11,
   "id": "6e5892e0",
   "metadata": {},
   "outputs": [
    {
     "data": {
      "text/plain": [
       "[1, 2, 3, 4, 5, 22]"
      ]
     },
     "execution_count": 11,
     "metadata": {},
     "output_type": "execute_result"
    }
   ],
   "source": [
    "a.append(22)\n",
    "a"
   ]
  },
  {
   "cell_type": "code",
   "execution_count": 12,
   "id": "da09649c",
   "metadata": {},
   "outputs": [
    {
     "ename": "AttributeError",
     "evalue": "'tuple' object has no attribute 'append'",
     "output_type": "error",
     "traceback": [
      "\u001b[1;31m---------------------------------------------------------------------------\u001b[0m",
      "\u001b[1;31mAttributeError\u001b[0m                            Traceback (most recent call last)",
      "Input \u001b[1;32mIn [12]\u001b[0m, in \u001b[0;36m<cell line: 1>\u001b[1;34m()\u001b[0m\n\u001b[1;32m----> 1\u001b[0m \u001b[43mb\u001b[49m\u001b[38;5;241;43m.\u001b[39;49m\u001b[43mappend\u001b[49m(\u001b[38;5;241m56\u001b[39m)\n",
      "\u001b[1;31mAttributeError\u001b[0m: 'tuple' object has no attribute 'append'"
     ]
    }
   ],
   "source": [
    "b.append(56)"
   ]
  },
  {
   "cell_type": "markdown",
   "id": "1d0cb240",
   "metadata": {},
   "source": [
    "### 14. How do you type a tuple value that only contains the integer 42?\n",
    "\n",
    "**Ans.** We can do it in two ways, creating a list and converting it to a tuple or put value in tuple using a comma at the end."
   ]
  },
  {
   "cell_type": "code",
   "execution_count": 13,
   "id": "0c7b05d1",
   "metadata": {},
   "outputs": [
    {
     "data": {
      "text/plain": [
       "tuple"
      ]
     },
     "execution_count": 13,
     "metadata": {},
     "output_type": "execute_result"
    }
   ],
   "source": [
    "n=(42,)\n",
    "type(n)"
   ]
  },
  {
   "cell_type": "code",
   "execution_count": 14,
   "id": "cd2e04db",
   "metadata": {},
   "outputs": [
    {
     "data": {
      "text/plain": [
       "(42,)"
      ]
     },
     "execution_count": 14,
     "metadata": {},
     "output_type": "execute_result"
    }
   ],
   "source": [
    "d=tuple([42])\n",
    "d"
   ]
  },
  {
   "cell_type": "code",
   "execution_count": 15,
   "id": "42f120de",
   "metadata": {},
   "outputs": [
    {
     "data": {
      "text/plain": [
       "(42,)"
      ]
     },
     "execution_count": 15,
     "metadata": {},
     "output_type": "execute_result"
    }
   ],
   "source": [
    "m=[42]\n",
    "m=tuple(m)\n",
    "m"
   ]
  },
  {
   "cell_type": "markdown",
   "id": "0f6becab",
   "metadata": {},
   "source": [
    "### 15. How do you get a list value's form tuple? How do you get a tuple value's form list?\n",
    "\n",
    "**Ans.** The ``tuple()`` and ``list()`` functions, respectively are used to convert a list to tuple and vice versa"
   ]
  },
  {
   "cell_type": "code",
   "execution_count": 16,
   "id": "b2f337ce",
   "metadata": {},
   "outputs": [
    {
     "name": "stdout",
     "output_type": "stream",
     "text": [
      "<class 'tuple'>\n",
      "(4, 5, 'sad', 68.35) : <class 'list'>\n",
      "[4, 5, 'sad', 68.35] : <class 'tuple'>\n"
     ]
    }
   ],
   "source": [
    "a=(4,5,'sad',68.35)\n",
    "print(type(a))\n",
    "b=list(a)\n",
    "print(a,\":\",type(b))\n",
    "c=tuple(b)\n",
    "print(b,\":\",type(c))"
   ]
  },
  {
   "cell_type": "markdown",
   "id": "7f35cd3e",
   "metadata": {},
   "source": [
    "### 16. Variables that \"contain\" list values are not necessarily lists themselves. Instead, what do they contain?\n",
    "\n",
    "**Ans.** Variables that contain list can be a list or tuple."
   ]
  },
  {
   "cell_type": "code",
   "execution_count": 17,
   "id": "ff49d728",
   "metadata": {},
   "outputs": [
    {
     "name": "stdout",
     "output_type": "stream",
     "text": [
      "<class 'list'>\n",
      "<class 'tuple'>\n"
     ]
    }
   ],
   "source": [
    "y=[[1,2],3,[5,6]]\n",
    "z=([1,8],4,[52,6])\n",
    "\n",
    "print(type(y))\n",
    "print(type(z))\n"
   ]
  },
  {
   "cell_type": "markdown",
   "id": "8e21c740",
   "metadata": {},
   "source": [
    "### 17. How do you distinguish between copy.copy() and copy.deepcopy()?\n",
    "\n",
    "**Ans.** The ``copy.copy()`` function will do a shallow copy of a list, while the ``copy.deepcopy()`` function will do a deep copy of a list i.e. only ``copy.deepcopy()`` will duplicate any lists inside the list."
   ]
  }
 ],
 "metadata": {
  "kernelspec": {
   "display_name": "Python 3 (ipykernel)",
   "language": "python",
   "name": "python3"
  },
  "language_info": {
   "codemirror_mode": {
    "name": "ipython",
    "version": 3
   },
   "file_extension": ".py",
   "mimetype": "text/x-python",
   "name": "python",
   "nbconvert_exporter": "python",
   "pygments_lexer": "ipython3",
   "version": "3.10.2"
  }
 },
 "nbformat": 4,
 "nbformat_minor": 5
}
