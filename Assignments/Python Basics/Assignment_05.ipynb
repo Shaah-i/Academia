{
 "cells": [
  {
   "cell_type": "markdown",
   "id": "2aea731f",
   "metadata": {},
   "source": [
    "# Assignment_5"
   ]
  },
  {
   "cell_type": "markdown",
   "id": "37800bcc",
   "metadata": {},
   "source": [
    "### 1. What does an empty dictionary's code look like?\n",
    "\n",
    "**Ans.** An empty dictionary is often represented by two empty curly brackets.\n",
    "``d = {}`` or ``d = dict()``\n"
   ]
  },
  {
   "cell_type": "code",
   "execution_count": 1,
   "id": "40df7d95",
   "metadata": {},
   "outputs": [
    {
     "name": "stdout",
     "output_type": "stream",
     "text": [
      "a :  {}\n",
      "b :  {}\n"
     ]
    }
   ],
   "source": [
    "# Ans.\n",
    "a=dict()\n",
    "print(\"a : \", a)\n",
    "            #OR\n",
    "b={}\n",
    "print(\"b : \", b)"
   ]
  },
  {
   "cell_type": "markdown",
   "id": "484aa142",
   "metadata": {},
   "source": [
    "<!-- No meaning to question -->\n",
    "### 2. What is the value of a dictionary value with the key 'foo' and the value 42?\n",
    "\n",
    "**Ans.** \n",
    "42"
   ]
  },
  {
   "cell_type": "code",
   "execution_count": 2,
   "id": "22c5ede7",
   "metadata": {},
   "outputs": [
    {
     "data": {
      "text/plain": [
       "dict_values([42])"
      ]
     },
     "execution_count": 2,
     "metadata": {},
     "output_type": "execute_result"
    }
   ],
   "source": [
    "d={\"foo\":42}\n",
    "d.values()"
   ]
  },
  {
   "cell_type": "markdown",
   "id": "43279093",
   "metadata": {},
   "source": [
    "### 3. What is the most significant distinction between a dictionary and a list?\n",
    "\n",
    "**Ans.** list is enclosed in a pair of square bracket [] and dictionary is enclosed in a pair of curly brackets {}. Along with this dictionary has keys and values and list only has values. The Items stored in a dictionary are Unordered , while the items in a list are ordered.\n"
   ]
  },
  {
   "cell_type": "code",
   "execution_count": 3,
   "id": "d89fb336",
   "metadata": {},
   "outputs": [
    {
     "name": "stdout",
     "output_type": "stream",
     "text": [
      "a :  <class 'list'>\n",
      "b :  <class 'dict'>\n"
     ]
    }
   ],
   "source": [
    "a=[]\n",
    "b={}\n",
    "print(\"a : \",type(a))\n",
    "print(\"b : \",type(b))"
   ]
  },
  {
   "cell_type": "markdown",
   "id": "32ee4396",
   "metadata": {},
   "source": [
    "### 4. What happens if you try to access spam['foo'] if spam is {'bar': 100}?\n",
    "\n",
    "**Ans.** It will give an error \"foo\". As there is no key named \"foo\" inside spam.\n"
   ]
  },
  {
   "cell_type": "markdown",
   "id": "09030cea",
   "metadata": {},
   "source": [
    "### 5. If a dictionary is stored in spam, what is the difference between the expressions 'cat' in spam and 'cat' in spam.keys()?\n",
    "\n",
    "**Ans.** The expression 'cat' in spam will check if it is a key in the dictionary, while 'cat' in spam.keys() also does the same."
   ]
  },
  {
   "cell_type": "markdown",
   "id": "e686ac2a",
   "metadata": {},
   "source": [
    "### 6. If a dictionary is stored in spam, what is the difference between the expressions 'cat' in spam and 'cat' in spam.values()?\n",
    "\n",
    "**Ans.** The expression 'cat' in spam will check if it is a key in the dictionary, while 'cat' in spam.values() checks whether there is a value 'cat' for one of the keys in spam.\n"
   ]
  },
  {
   "cell_type": "markdown",
   "id": "b93ea10e",
   "metadata": {},
   "source": [
    "### 7. What is a shortcut for the following code?\n",
    "if 'color' not in spam:\n",
    "spam['color'] = 'black'\n",
    "\n",
    "**Ans.**\n",
    "* spam['color'] = 'black'\n",
    "            OR\n",
    "* spam.setdefault('color','black')\n"
   ]
  },
  {
   "cell_type": "code",
   "execution_count": 4,
   "id": "e5b071bd",
   "metadata": {},
   "outputs": [
    {
     "name": "stdout",
     "output_type": "stream",
     "text": [
      "{'cat': 25, 'bar': 100, 55: 'cat', 'sam': 'cat'}\n",
      "{'cat': 25, 'bar': 100, 55: 'cat', 'sam': 'cat', 'color': 'black'}\n",
      "\n",
      " -x--x--x--x--x--x--x--x--x--x--x--x--x--x--x--x--x--x--x--x- \n",
      "\n",
      "{'cat': 25, 'bar': 100, 55: 'cat', 'sam': 'cat'}\n",
      "{'cat': 25, 'bar': 100, 55: 'cat', 'sam': 'cat', 'color': 'black'}\n"
     ]
    }
   ],
   "source": [
    "# Ans.\n",
    "spam = {'cat': 25, 'bar': 100, 55: 'cat', 'sam': 'cat'}\n",
    "print(spam)\n",
    "spam['color'] = 'black'\n",
    "print(spam)\n",
    "\n",
    "print(\"\\n\", \"-x-\"*20, \"\\n\")\n",
    "\n",
    "spam = {'cat': 25, 'bar': 100, 55: 'cat', 'sam': 'cat'}\n",
    "print(spam)\n",
    "spam.setdefault('color','black')\n",
    "print(spam)"
   ]
  },
  {
   "cell_type": "markdown",
   "id": "2c6f1094",
   "metadata": {},
   "source": [
    "### 8. How do you \"pretty print\" dictionary values using which module and function?\n",
    "\n",
    "**Ans.** Using the using `pprint()` function of pprint module."
   ]
  }
 ],
 "metadata": {
  "kernelspec": {
   "display_name": "Python 3 (ipykernel)",
   "language": "python",
   "name": "python3"
  },
  "language_info": {
   "codemirror_mode": {
    "name": "ipython",
    "version": 3
   },
   "file_extension": ".py",
   "mimetype": "text/x-python",
   "name": "python",
   "nbconvert_exporter": "python",
   "pygments_lexer": "ipython3",
   "version": "3.10.2"
  }
 },
 "nbformat": 4,
 "nbformat_minor": 5
}
