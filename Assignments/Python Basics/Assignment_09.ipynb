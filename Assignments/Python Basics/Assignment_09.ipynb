{
 "cells": [
  {
   "cell_type": "markdown",
   "id": "2aea731f",
   "metadata": {},
   "source": [
    "# Assignment_9"
   ]
  },
  {
   "cell_type": "markdown",
   "id": "37800bcc",
   "metadata": {},
   "source": [
    "### 1. To what does a relative path refer?\n",
    "\n",
    "**Ans.** The relative path is the path of a file with respect to your current working directory\n",
    "P.S. current working directory + relative path = absolute path"
   ]
  },
  {
   "cell_type": "markdown",
   "id": "2bd879db",
   "metadata": {},
   "source": [
    "### 2. What does an absolute path start with your operating system?\n",
    "\n",
    "**Ans.** In Windows based system absolute path starts with ``c:`` and in Linux it starts with ``/``"
   ]
  },
  {
   "cell_type": "markdown",
   "id": "d7d46184",
   "metadata": {},
   "source": [
    "### 3. What do the functions os.getcwd() and os.chdir() do?\n",
    "\n",
    "**Ans.**\n",
    "* ``os.getcwd()`` is used to get the Current Working Directory (CWD)\n",
    "* ``os.chdir()`` is used to change the current directory to specified path. ``pwd`` for current directory and ``cd`` for change directory can also be used."
   ]
  },
  {
   "cell_type": "markdown",
   "id": "30b72902",
   "metadata": {},
   "source": [
    "### 4. What are the . and .. folders?\n",
    "\n",
    "**Ans.** The . is the current directory, while .. signifies the parent directory."
   ]
  },
  {
   "cell_type": "markdown",
   "id": "2a24d6b2",
   "metadata": {},
   "source": [
    "### 5. In C:\\bacon\\eggs\\spam.txt, which part is the dir name, and which part is the base name?\n",
    "\n",
    "**Ans.** \n",
    "* ``C:\\bacon\\eggs\\`` is dir name\n",
    "* ``spam.txt`` is base name\n"
   ]
  },
  {
   "cell_type": "markdown",
   "id": "f5fe4ea4",
   "metadata": {},
   "source": [
    "### 6. What are the three “mode” arguments that can be passed to the open() function?\n",
    "\n",
    "**Ans.** The mode arguments that can be passed to the open() function are as follows:\n",
    "\n",
    "* 'r' - read mode: This is the default mode for open(). The file is opened for reading\n",
    "* 'w' - write mode: open for writing, truncates(cuts) the old content of the file\n",
    "* 'r+' - read/write mode: read and write simultaneously\n",
    "* 'a' - append mode : open for writing, appending to the end of the file if it exists. No overwriting.\n",
    "* 'a+' - append and read mode: read and append the data without overwriting the original file.\n",
    "* 'b' - binary mode : used along with read or write mode ('wb', 'rb') for binary files.\n",
    "* 'x' - exclusive creating mode: create a new file and open it for writing. To be used when file with same name don't exists."
   ]
  },
  {
   "cell_type": "markdown",
   "id": "bf2563a4",
   "metadata": {},
   "source": [
    "### 7. What happens if an existing file is opened in write mode?\n",
    "\n",
    "**Ans.** If an existing file is opened in write mode will overwrite any existing content in a file."
   ]
  },
  {
   "cell_type": "markdown",
   "id": "f01cb5f4",
   "metadata": {},
   "source": [
    "### 8. How do you tell the difference between read() and readlines()?\n",
    "\n",
    "**Ans.** ``read()`` command will read the entire contents of the file into a string, while ``readline()`` command just reads file till the next line. This is useful if there are big files for the RAM."
   ]
  },
  {
   "cell_type": "markdown",
   "id": "2883598c",
   "metadata": {},
   "source": [
    "### 9. What data structure does a shelf value resemble?\n",
    "\n",
    "**Ans.**\n",
    "It resembles a dictionary having key values."
   ]
  }
 ],
 "metadata": {
  "kernelspec": {
   "display_name": "Python 3 (ipykernel)",
   "language": "python",
   "name": "python3"
  },
  "language_info": {
   "codemirror_mode": {
    "name": "ipython",
    "version": 3
   },
   "file_extension": ".py",
   "mimetype": "text/x-python",
   "name": "python",
   "nbconvert_exporter": "python",
   "pygments_lexer": "ipython3",
   "version": "3.10.2"
  }
 },
 "nbformat": 4,
 "nbformat_minor": 5
}
