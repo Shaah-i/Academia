{
 "cells": [
  {
   "cell_type": "markdown",
   "id": "2aea731f",
   "metadata": {},
   "source": [
    "# Assignment_7"
   ]
  },
  {
   "cell_type": "markdown",
   "id": "37800bcc",
   "metadata": {},
   "source": [
    "### 1. What is the name of the feature responsible for generating Regex objects?\n",
    "\n",
    "**Ans.** ``re.compile()`` returns Regex objects"
   ]
  },
  {
   "cell_type": "markdown",
   "id": "f7369d48",
   "metadata": {},
   "source": [
    "### 2. Why do raw strings often appear in Regex objects?\n",
    "\n",
    "**Ans.** Regular expressions use the backslash character ('\\') to indicate special forms (Metacharacters) or to allow special characters (speical sequences) to be used without invoking their special meaning. This collides with Python’s usage of the same character for the same purpose in string literals. Hence, Raw strings are used (e.g. r\"\\n\") so that backslashes do not have to be escaped."
   ]
  },
  {
   "cell_type": "markdown",
   "id": "5c4fd2b8",
   "metadata": {},
   "source": [
    "### 3. What is the return value of the search() method?\n",
    "\n",
    "**Ans.**\n",
    "The search() method searches a string for a specified value, and returns the position of the match.\n",
    "The search value can be string or a regular expression.\n",
    "This method returns -1 if no match is found."
   ]
  },
  {
   "cell_type": "markdown",
   "id": "fe9aac2a",
   "metadata": {},
   "source": [
    "### 4. From a Match item, how do you get the actual strings that match the pattern?\n",
    "\n",
    "**Ans.**\n",
    "For Matched items group() methods returns actual strings that match the pattern."
   ]
  },
  {
   "cell_type": "code",
   "execution_count": 1,
   "id": "63c30928",
   "metadata": {},
   "outputs": [
    {
     "name": "stdout",
     "output_type": "stream",
     "text": [
      "<re.Match object; span=(7, 10), match='How'>\n",
      "How\n"
     ]
    }
   ],
   "source": [
    "import re\n",
    "a=re.search(\"How\", \"Hello! How may I help you?\")\n",
    "print(a)\n",
    "print(a.group())"
   ]
  },
  {
   "cell_type": "markdown",
   "id": "ac083d01",
   "metadata": {},
   "source": [
    "### 5. In the regex which created from the r'(\\d\\d\\d)-(\\d\\d\\d-\\d\\d\\d\\d)', what does group zero cover? Group 2? Group 1?\n",
    "\n",
    "**Ans.**\n"
   ]
  },
  {
   "cell_type": "code",
   "execution_count": 2,
   "id": "5eb498d0",
   "metadata": {},
   "outputs": [
    {
     "name": "stdout",
     "output_type": "stream",
     "text": [
      "all groups:  ('489', '164-3479')\n",
      "group 0:  489-164-3479\n",
      "group 1:  489\n",
      "group 2:  164-3479\n"
     ]
    }
   ],
   "source": [
    "import re\n",
    "sampleRegex = re.compile(r'(\\d\\d\\d)-(\\d\\d\\d-\\d\\d\\d\\d)')\n",
    "s = sampleRegex.search('My example is 489-164-3479, some random number.')\n",
    "print(\"all groups: \", s.groups())\n",
    "print(\"group 0: \", s.group()) \n",
    "print(\"group 1: \", s.group(1))\n",
    "print(\"group 2: \", s.group(2))"
   ]
  },
  {
   "cell_type": "markdown",
   "id": "30caa13b",
   "metadata": {},
   "source": [
    "### 6. In standard expression syntax, parentheses and intervals have distinct meanings. How can you tell a regex that you want it to fit real parentheses and periods?\n",
    "\n",
    "**Ans.**\n",
    "\n",
    "Parentheses groups the regular expressions and period is a wildcard charachter and if we want to tell a regex that you want it to fit real parantheses and periods we can use the escape charachter e.g. `\\(` , `\\)`, `\\.`."
   ]
  },
  {
   "cell_type": "markdown",
   "id": "6f437833",
   "metadata": {},
   "source": [
    "### 7. The findall() method returns a string list or a list of string tuples. What causes it to return one of the two options?\n",
    "\n",
    "**Ans.** If the regular expression has groups then `findall()` will return a list of those groups, in the form of string tuples. On the other hand if there are no groups then it will return the list of matched strings."
   ]
  },
  {
   "cell_type": "markdown",
   "id": "a8629cb8",
   "metadata": {},
   "source": [
    "### 8. In standard expressions, what does the | character mean?\n",
    "\n",
    "**Ans.** In standard expression, `|` character means a bitwise `OR` operator."
   ]
  },
  {
   "cell_type": "markdown",
   "id": "98980999",
   "metadata": {},
   "source": [
    "### 9. In regular expressions, what does the character stand for?\n",
    "\n",
    "**Ans.** In regular expressions a character is a letter, a number, or symbols like an underscore"
   ]
  },
  {
   "cell_type": "markdown",
   "id": "9cbe6120",
   "metadata": {},
   "source": [
    "### 10.In regular expressions, what is the difference between the + and * characters?\n",
    "\n",
    "**Ans.** In regular expressions anything which preceeds the symbol should be capured with the condition as follows\n",
    "\n",
    "for `+` the preceeding charachter or condition should occur 1 or more times in the string,\n",
    "\n",
    "for `*` the preceeding charachter or condition should occur 0 or more times in the string."
   ]
  },
  {
   "cell_type": "markdown",
   "id": "3318a7fe",
   "metadata": {},
   "source": [
    "### 11. What is the difference between {4} and {4,5} in regular expression?\n",
    "\n",
    "**Ans.**\n",
    "{4} : the preceeding character or condition will be repeated exactly 4 times.\n",
    "{4,5} : the preceeding character or condition will be repeated 4 to 5 times depending on the ocurrence in the string."
   ]
  },
  {
   "cell_type": "markdown",
   "id": "78f56b3b",
   "metadata": {},
   "source": [
    "### 12. What do you mean by the \\d, \\w, and \\s shorthand character classes signify in regular expressions?\n",
    "\n",
    "**Ans.**\n",
    "* `\\w` Matches a word character equivalent to [a-zA-Z0-9_]\n",
    "* `\\d` Matches digit character equivalent to [0-9]\n",
    "* `\\s` Matches whitespace character (space, tab, newline, etc.)"
   ]
  },
  {
   "cell_type": "markdown",
   "id": "6ea620a3",
   "metadata": {},
   "source": [
    "### 13. What do means by \\D, \\W, and \\S shorthand character classes signify in regular expressions?\n",
    "\n",
    "**Ans.**\n",
    "* `\\W` Matches any non-alphanumeric character equivalent to [^a-zA-Z0-9_] i.e. every thing other than what `\\w` includes.\n",
    "* `\\D` Matches any non-digit character, this is equivalent to the set class [^0-9] i.e. every thing other than what `\\d` includes.\n",
    "* `\\S` Matches any non-whitespace character i.e. every thing other than what `\\s` includes."
   ]
  },
  {
   "cell_type": "markdown",
   "id": "7b83a307",
   "metadata": {},
   "source": [
    "### 14. What is the difference between `.*?` and `.*`?\n",
    "\n",
    "**Ans.** The wildcard charachter when used as `.*` executes a greedy mode where it returns the longest string that meets the condition and when used as `.*?` executes a non greedy mode where it returns the shortest string that meets the condition.\n"
   ]
  },
  {
   "cell_type": "markdown",
   "id": "dd12aa97",
   "metadata": {},
   "source": [
    "### 15. What is the syntax for matching both numbers and lowercase letters with a character class?\n",
    "\n",
    "**Ans.** The syntax for matching both numbers and lowercase letters with a character class is `[0-9a-z]`"
   ]
  },
  {
   "cell_type": "markdown",
   "id": "7958ba70",
   "metadata": {},
   "source": [
    "### 16. What is the procedure for making a normal expression in regax case insensitive?\n",
    "\n",
    "**Ans.** we can pass an 2nd argument `re.IGNORECASE` in `re.compile()` as a flag to make a noraml expression case insensitive."
   ]
  },
  {
   "cell_type": "markdown",
   "id": "cc993c07",
   "metadata": {},
   "source": [
    "### 17. What does the . character normally match? What does it match if re.DOTALL is passed as 2nd argument in re.compile()?\n",
    "\n",
    "**Ans.** While working with multi-line string the wildcard (`.`) character matches everything in input except newline character `\\n`. By passing re.DOTALL as a flag to re.compile(), you can make the dot character match all characters, including the newline character."
   ]
  },
  {
   "cell_type": "markdown",
   "id": "9c888de9",
   "metadata": {},
   "source": [
    "### 18. If numReg = re.compile(r'\\d+'), what will numRegex.sub('X', '11 drummers, 10 pipers, five rings, 4 hen') return?\n",
    "\n",
    "**Ans.** It will replace the 1 or more digits in the string by the charachter X. The output will be `'X drummers, X pipers, five rings, X hen'`\n"
   ]
  },
  {
   "cell_type": "code",
   "execution_count": 3,
   "id": "125e0c2b",
   "metadata": {},
   "outputs": [
    {
     "data": {
      "text/plain": [
       "'X drummers, X pipers, five rings, X hen'"
      ]
     },
     "execution_count": 3,
     "metadata": {},
     "output_type": "execute_result"
    }
   ],
   "source": [
    "import re\n",
    "numReg = re.compile(r'\\d+')\n",
    "numReg.sub('X', '11 drummers, 10 pipers, five rings, 4 hen')"
   ]
  },
  {
   "cell_type": "markdown",
   "id": "6edfc1c3",
   "metadata": {},
   "source": [
    "### 19. What does passing re.VERBOSE as the 2nd argument to re.compile() allow to do?\n",
    "\n",
    "**Ans.** `re.VERBOSE` will allow to add whitespace and comments to string passed to `re.compile()`"
   ]
  },
  {
   "cell_type": "markdown",
   "id": "e8c53d97",
   "metadata": {},
   "source": [
    "# Redo not completed"
   ]
  },
  {
   "cell_type": "markdown",
   "id": "950b59e7",
   "metadata": {},
   "source": [
    "### 20. How would you write a regex that match a number with comma for every three digits? It must match the given following: \n",
    "`'42'`<br/> `'1,234'`<br/> `'6,368,745'`<br/> but not the following:<br/> `'12,34,567'` (which has only two digits between the commas)<br/> `'1234'` (which lacks commas)\n",
    "\n",
    "**Ans.**\n"
   ]
  },
  {
   "cell_type": "code",
   "execution_count": 4,
   "id": "6673fdd3",
   "metadata": {},
   "outputs": [
    {
     "name": "stdout",
     "output_type": "stream",
     "text": [
      "<re.Match object; span=(0, 2), match='42'>\n",
      "<re.Match object; span=(0, 5), match='1,234'>\n",
      "<re.Match object; span=(0, 9), match='6,368,745'>\n",
      "None\n",
      "None\n"
     ]
    }
   ],
   "source": [
    "import re\n",
    "\n",
    "pattern = re.compile(r\"^\\d{1,3}(,\\d{3})*$\")\n",
    "\n",
    "for i in  ['42','1,234', '6,368,745','12,34,567','1234']:\n",
    "    print(pattern.match(i))"
   ]
  },
  {
   "cell_type": "markdown",
   "id": "efc9d171",
   "metadata": {},
   "source": [
    "### 21. How would you write a regex that matches the full name of someone whose last name is Watanabe? You can assume that the first name that comes before it will always be one word that begins with a capital letter. The regex must match the following:\n",
    "`'Haruto Watanabe'`<br/> `'Alice Watanabe'`<br/> `'RoboCop Watanabe'`<br/> but not the following:<br/> `'haruto Watanabe'` (where the first name is not capitalized)<br/> `'Mr. Watanabe'` (where the preceding word has a nonletter character)<br/>\n",
    "`'Watanabe'` (which has no first name)<br/> `'Haruto watanabe'` (where Watanabe is not capitalized)`<br/>\n",
    "**Ans.**"
   ]
  },
  {
   "cell_type": "code",
   "execution_count": 5,
   "id": "af3fc51d",
   "metadata": {},
   "outputs": [
    {
     "name": "stdout",
     "output_type": "stream",
     "text": [
      "<re.Match object; span=(0, 15), match='Haruto Watanabe'>\n",
      "<re.Match object; span=(0, 14), match='Alice Watanabe'>\n",
      "<re.Match object; span=(0, 16), match='RoboCop Watanabe'>\n",
      "None\n",
      "None\n",
      "None\n",
      "None\n",
      "None\n"
     ]
    }
   ],
   "source": [
    "import re\n",
    "\n",
    "pattern = re.compile(r\"[A-Z]\\w* Watanabe$\")\n",
    "\n",
    "for i in  ['Haruto Watanabe','Alice Watanabe','RoboCop Watanabe','haruto Watanabe','Mr. Watanabe','Watanabe','Haruto watanabe', 'Watanabe Uzumaki']:\n",
    "    print(pattern.search(i))"
   ]
  },
  {
   "cell_type": "markdown",
   "id": "ba13ff5e",
   "metadata": {},
   "source": [
    "### 22. How would you write a regex that matches a sentence where the first word is either Alice, Bob, or Carol; the second word is either eats, pets, or throws; the third word is apples, cats, or baseballs; and the sentence ends with a period? This regex should be case-insensitive. It must match the following:\n",
    "`'Alice eats apples.'`<br/> `'Bob pets cats.'`<br/> `'Carol throws baseballs.'`<br/> `'Alice throws Apples.'`<br/> `'BOB EATS CATS.'`<br/> but not the following:<br/> `'RoboCop eats apples.'`<br/> `'ALICE THROWS FOOTBALLS.'`<br/> `'Carol eats 7 cats.'`<br/>\n",
    "\n",
    "**Ans.**\n"
   ]
  },
  {
   "cell_type": "code",
   "execution_count": 6,
   "id": "d02183b3",
   "metadata": {},
   "outputs": [
    {
     "name": "stdout",
     "output_type": "stream",
     "text": [
      "<re.Match object; span=(0, 18), match='Alice eats apples.'>\n",
      "<re.Match object; span=(0, 14), match='Bob pets cats.'>\n",
      "<re.Match object; span=(0, 23), match='Carol throws baseballs.'>\n",
      "<re.Match object; span=(0, 20), match='Alice throws Apples.'>\n",
      "<re.Match object; span=(0, 14), match='BOB EATS CATS.'>\n",
      "None\n",
      "None\n",
      "None\n"
     ]
    }
   ],
   "source": [
    "import re\n",
    "\n",
    "pattern = re.compile(r\"(Alice|Bob|Carol) (eats|pets|throws) (apples|cats|baseballs)\\.$\", re.IGNORECASE)\n",
    "\n",
    "for i in  ['Alice eats apples.','Bob pets cats.','Carol throws baseballs.','Alice throws Apples.','BOB EATS CATS.','RoboCop eats apples.','ALICE THROWS FOOTBALLS.','Carol eats 7 cats.']:\n",
    "    print(pattern.match(i))"
   ]
  }
 ],
 "metadata": {
  "kernelspec": {
   "display_name": "Python 3 (ipykernel)",
   "language": "python",
   "name": "python3"
  },
  "language_info": {
   "codemirror_mode": {
    "name": "ipython",
    "version": 3
   },
   "file_extension": ".py",
   "mimetype": "text/x-python",
   "name": "python",
   "nbconvert_exporter": "python",
   "pygments_lexer": "ipython3",
   "version": "3.10.2"
  }
 },
 "nbformat": 4,
 "nbformat_minor": 5
}
