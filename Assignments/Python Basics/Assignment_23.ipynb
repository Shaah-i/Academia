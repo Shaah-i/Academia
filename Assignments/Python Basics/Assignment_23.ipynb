{
 "cells": [
  {
   "cell_type": "markdown",
   "id": "2aea731f",
   "metadata": {},
   "source": [
    "# Assignment_23"
   ]
  },
  {
   "cell_type": "markdown",
   "id": "37800bcc",
   "metadata": {},
   "source": [
    "### 1. What is the result of the code, and why?\n",
    "``>>> def func(a, b=6, c=8):``\n",
    "\n",
    "``print(a, b, c)``\n",
    "\n",
    "``>>> func(1, 2)``\n",
    "\n",
    "**Ans.** It will print ``1 2 8``. It is because we pass only 2 arguments accounting for a and b and it will take default value of c which we have put while defining the function i.e. 8."
   ]
  },
  {
   "cell_type": "code",
   "execution_count": 1,
   "id": "1c674afc",
   "metadata": {},
   "outputs": [
    {
     "name": "stdout",
     "output_type": "stream",
     "text": [
      "1 2 8\n"
     ]
    }
   ],
   "source": [
    "def func(a,b=6, c=8):\n",
    "    print(a,b,c)\n",
    "    \n",
    "func(1, 2)"
   ]
  },
  {
   "cell_type": "markdown",
   "id": "d1d082de",
   "metadata": {},
   "source": [
    "### 2. What is the result of this code, and why?\n",
    "``>>> def func(a, b, c=5):``\n",
    "\n",
    "``print(a, b, c)``\n",
    "\n",
    "``>>> func(1, c=3, b=2)``\n",
    "\n",
    "**Ans.** The result will be ``1 2 3``  as it will take value of a as 1 in the order of function defination and later b=2 and c=3 as specified while calling the function."
   ]
  },
  {
   "cell_type": "code",
   "execution_count": 2,
   "id": "2da6753a",
   "metadata": {},
   "outputs": [
    {
     "name": "stdout",
     "output_type": "stream",
     "text": [
      "1 2 3\n"
     ]
    }
   ],
   "source": [
    "def func(a, b, c=5):\n",
    "    print(a, b, c)\n",
    "\n",
    "func(1, c=3, b=2)"
   ]
  },
  {
   "cell_type": "markdown",
   "id": "3802d2a4",
   "metadata": {},
   "source": [
    "### 3. How about this code: what is its result, and why?\n",
    "``>>> def func(a, *pargs):``\n",
    "\n",
    "``print(a, pargs)``\n",
    "\n",
    "``>>> func(1, 2, 3)``\n",
    "\n",
    "**Ans.** The result will be ``1(2,3)``. The values which come under pargs are stored inside a tuple. "
   ]
  },
  {
   "cell_type": "code",
   "execution_count": 3,
   "id": "94fadad5",
   "metadata": {},
   "outputs": [
    {
     "name": "stdout",
     "output_type": "stream",
     "text": [
      "1 (2, 3)\n"
     ]
    }
   ],
   "source": [
    "def func(a, *pargs):\n",
    "    print(a, pargs)\n",
    "\n",
    "func(1, 2, 3)"
   ]
  },
  {
   "cell_type": "markdown",
   "id": "5b29d5a7",
   "metadata": {},
   "source": [
    "### 4. What does this code print, and why?\n",
    "``>>> def func(a, **kargs):``\n",
    "\n",
    "``print(a, kargs)``\n",
    "\n",
    "``>>> func(a=1, c=3, b=2)``\n",
    "\n",
    "**Ans.** The result will be ``1 {'c': 3, 'b': 2}``. ``**args`` stands for variable length keyword arguments. It is used when we want to pass key-value pairs as input to a function. All these key value pairs will be stored in a dictionary."
   ]
  },
  {
   "cell_type": "code",
   "execution_count": 4,
   "id": "6a32a753",
   "metadata": {},
   "outputs": [
    {
     "name": "stdout",
     "output_type": "stream",
     "text": [
      "1 {'c': 3, 'b': 2}\n"
     ]
    }
   ],
   "source": [
    "def func(a, **kargs):\n",
    "    print(a, kargs)\n",
    "\n",
    "func(a=1, c=3, b=2)"
   ]
  },
  {
   "cell_type": "markdown",
   "id": "bc0bfbc9",
   "metadata": {},
   "source": [
    "### 5. What gets printed by this, and explain?\n",
    "``>>> def func(a, b, c=8, d=5):``\n",
    "\n",
    "``print(a, b, c, d)``\n",
    "\n",
    "``>>> func(1, *(5, 6))``\n",
    "\n",
    "**Ans.** It will return ``1 5 6 5`` as 1 will be the value of a , order while declaring function, and it will expand ``*(5,6)`` and put it as b=5 and c=6 and remaining value of d will be taken as default value i.e. 5."
   ]
  },
  {
   "cell_type": "code",
   "execution_count": 5,
   "id": "1c8085ff",
   "metadata": {},
   "outputs": [
    {
     "name": "stdout",
     "output_type": "stream",
     "text": [
      "1 5 6 5\n"
     ]
    }
   ],
   "source": [
    "def func(a, b, c=8, d=5): \n",
    "    print(a, b, c, d)\n",
    "\n",
    "func(1, *(5, 6))"
   ]
  },
  {
   "cell_type": "markdown",
   "id": "a03e4fef",
   "metadata": {},
   "source": [
    "### 6. what is the result of this, and explain?\n",
    "``>>> def func(a, b, c): a = 2; b[0] = 'x'; c['a'] = 'y'``\n",
    "\n",
    "``>>> l=1; m=[1]; n={'a':0}``\n",
    "\n",
    "``>>> func(l, m, n)``\n",
    "\n",
    "``>>> l, m, n``\n",
    "\n",
    "**Ans.** The output will be ``(1, ['x'], {'a': 'y'})``. When we called the function on l,m,n the l value remaind same as l and a are 2 distinct variables, but m and n values got replaced as same sclicinga and key value was used i.e. the function replaced its values as declared inside the function and returned it.\n",
    "\n",
    "P.S. we can declare a function in as single line using the semicolon ``;`` instead of indentation."
   ]
  },
  {
   "cell_type": "code",
   "execution_count": 6,
   "id": "abd7e346",
   "metadata": {},
   "outputs": [
    {
     "data": {
      "text/plain": [
       "(2, ['x'], {'a': 'y'})"
      ]
     },
     "execution_count": 6,
     "metadata": {},
     "output_type": "execute_result"
    }
   ],
   "source": [
    "def func(a, b, c):a = 1; b[0] = 'x'; c['a'] = 'y'\n",
    "l=2; m=[1]; n={'a':0}\n",
    "\n",
    "func(l, m, n)\n",
    "l, m, n"
   ]
  }
 ],
 "metadata": {
  "kernelspec": {
   "display_name": "Python 3 (ipykernel)",
   "language": "python",
   "name": "python3"
  },
  "language_info": {
   "codemirror_mode": {
    "name": "ipython",
    "version": 3
   },
   "file_extension": ".py",
   "mimetype": "text/x-python",
   "name": "python",
   "nbconvert_exporter": "python",
   "pygments_lexer": "ipython3",
   "version": "3.10.2"
  }
 },
 "nbformat": 4,
 "nbformat_minor": 5
}
