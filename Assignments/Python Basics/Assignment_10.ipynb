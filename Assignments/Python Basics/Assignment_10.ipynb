{
 "cells": [
  {
   "cell_type": "markdown",
   "id": "2aea731f",
   "metadata": {},
   "source": [
    "# Assignment_10"
   ]
  },
  {
   "cell_type": "markdown",
   "id": "37800bcc",
   "metadata": {},
   "source": [
    "### 1. How do you distinguish between shutil.copy() and shutil.copytree()?\n",
    "\n",
    "**Ans.**\n",
    "`shutil.copy()` method is used to copy the content of file from source to destination file or directory. No metadata like creation and modification time is not preserved but the permission mode is preserved. If source and destination are the same file, a SameFileError will be raised.\n",
    "\n",
    "`shutil.copytree()` method recursively copies an entire directory tree rooted at source to the destination directory. The destination directory must not already exist. It will be created during copying. Permissions, creation and modification time of directories are copied with copystat() and individual files are copied using shutil.copy2()."
   ]
  },
  {
   "cell_type": "markdown",
   "id": "10d0b0a8",
   "metadata": {},
   "source": [
    "### 2. What function is used to rename files??\n",
    "\n",
    "**Ans.**\n",
    "`os.rename()` method is used to rename a file or directory."
   ]
  },
  {
   "cell_type": "markdown",
   "id": "642115b6",
   "metadata": {},
   "source": [
    "### 3. What is the difference between the delete functions in the send2trash and shutil modules?\n",
    "\n",
    "**Ans.**\n",
    "Shutil module provides a funciton called as `shutil.rmtree()` which deletes a directory and all its contents.The problem with these functions is once a file is deleted. it will be lost permanently, if a file is deleted accidentally using these methods there is no way we can recover the deleted file\n",
    "\n",
    "Where as send2trash module provides a function called `send2trash.send2trash()` to delete a file/directory. this method moves the files/directories to trash folder instead of permanently deleting them. hence if a file/folder is deleted accidentally it can be still recovered from trash folder, if deleted using this function."
   ]
  },
  {
   "cell_type": "markdown",
   "id": "5a629e1a",
   "metadata": {},
   "source": [
    "### 4.ZipFile objects have a close() method just like File objects’ close() method. What ZipFile method is equivalent to File objects’ open() method?\n",
    "\n",
    "**Ans.**\n",
    "ZipFile Module provides a method called as `zipfile.ZipFile()` to read and write to zipFiles. it takes arugments like filename and mode etc zipfile.ZipFile('filename', mode = 'r')"
   ]
  },
  {
   "cell_type": "markdown",
   "id": "b48348b8",
   "metadata": {},
   "source": [
    "### 5. Create a programme that searches a folder tree for files with a certain file extension (such as .pdf or .jpg). Copy these files from whatever location they are in to a new folder.\n",
    "\n",
    "**Ans.**\n",
    "\n"
   ]
  },
  {
   "cell_type": "code",
   "execution_count": 1,
   "id": "ee4ae420",
   "metadata": {},
   "outputs": [
    {
     "name": "stdout",
     "output_type": "stream",
     "text": [
      "Folder Name ➞ G:\\Data viz\\ineuron\\Python Basics\\FIN BLOG\n",
      "\n",
      "Sub Folders ➞ []\n",
      "\n",
      "Files ➞ ['MIXTURE COMPARISON.png', 'SACHET FRONT.jpg', 'SACHET REAR.jpg', 'Story of Instant coffee.docx', 'Story of Instant coffee.pdf', 'WEIGHT COMPARISION.png']\n",
      "\n",
      "Files copied successfully from G:\\Data viz\\ineuron\\Python Basics\\FIN BLOG to G:\\Data viz\\ineuron\\Python Basics\\DES_finblog\n"
     ]
    }
   ],
   "source": [
    "import os\n",
    "import shutil\n",
    "\n",
    "source = \"G:\\Data viz\\ineuron\\Python Basics\\FIN BLOG\"\n",
    "destination = \"G:\\Data viz\\ineuron\\Python Basics\\DES_finblog\"\n",
    "extensions = ['.pdf','.jpg']\n",
    "\n",
    "src = os.path.abspath(source)\n",
    "des = os.path.abspath(destination)\n",
    "for foldername, subfolder, filenames in os.walk(src):\n",
    "    print(f'Folder Name ➞ {foldername}',end='\\n\\n')\n",
    "    print(f'Sub Folders ➞ {subfolder}',end='\\n\\n')\n",
    "    print(f'Files ➞ {filenames}',end='\\n\\n')\n",
    "    for filename in filenames:\n",
    "        fileName,extension = os.path.splitext(filename)\n",
    "        if extension in extensions:\n",
    "            targetFile = foldername+os.path.sep+filename\n",
    "            shutil.copy(targetFile, des)\n",
    "    print('Files copied successfully from {0} to {1}'.format(src,des))"
   ]
  }
 ],
 "metadata": {
  "kernelspec": {
   "display_name": "Python 3 (ipykernel)",
   "language": "python",
   "name": "python3"
  },
  "language_info": {
   "codemirror_mode": {
    "name": "ipython",
    "version": 3
   },
   "file_extension": ".py",
   "mimetype": "text/x-python",
   "name": "python",
   "nbconvert_exporter": "python",
   "pygments_lexer": "ipython3",
   "version": "3.10.2"
  }
 },
 "nbformat": 4,
 "nbformat_minor": 5
}
