{
 "cells": [
  {
   "cell_type": "markdown",
   "id": "2aea731f",
   "metadata": {},
   "source": [
    "# Assignment_16"
   ]
  },
  {
   "cell_type": "markdown",
   "id": "af1415d1",
   "metadata": {},
   "source": [
    "### 1. Create a list called years_list, starting with the year of your birth, and each year thereafter until the year of your fifth birthday. For example, if you were born in 1980. the list would be years_list = [1980, 1981, 1982, 1983, 1984, 1985].\n",
    "\n",
    "**Ans.**\n"
   ]
  },
  {
   "cell_type": "code",
   "execution_count": 1,
   "id": "3f249e1e",
   "metadata": {},
   "outputs": [],
   "source": [
    "year_list = [1991, 1992, 1993, 1994, 1995, 1996]"
   ]
  },
  {
   "cell_type": "markdown",
   "id": "a2751c57",
   "metadata": {},
   "source": [
    "### 2. In which year in years_list was your third birthday? Remember, you were 0 years of age for your first year.\n",
    "\n",
    "**Ans.**\n",
    "1994"
   ]
  },
  {
   "cell_type": "code",
   "execution_count": 2,
   "id": "9786ff7d",
   "metadata": {},
   "outputs": [
    {
     "data": {
      "text/plain": [
       "1994"
      ]
     },
     "execution_count": 2,
     "metadata": {},
     "output_type": "execute_result"
    }
   ],
   "source": [
    "year_list[3]"
   ]
  },
  {
   "cell_type": "markdown",
   "id": "7a53125d",
   "metadata": {},
   "source": [
    "### 3.In the years list, which year were you the oldest?\n",
    "\n",
    "**Ans.**\n",
    "1996"
   ]
  },
  {
   "cell_type": "code",
   "execution_count": 3,
   "id": "db2764db",
   "metadata": {},
   "outputs": [
    {
     "data": {
      "text/plain": [
       "1996"
      ]
     },
     "execution_count": 3,
     "metadata": {},
     "output_type": "execute_result"
    }
   ],
   "source": [
    "year_list[-1]"
   ]
  },
  {
   "cell_type": "markdown",
   "id": "38530db7",
   "metadata": {},
   "source": [
    "### 4. Make a list called things with these three strings as elements: \"mozzarella\", \"cinderella\", \"salmonella\".\n",
    "\n",
    "**Ans.**\n"
   ]
  },
  {
   "cell_type": "code",
   "execution_count": 4,
   "id": "43db3bfe",
   "metadata": {},
   "outputs": [
    {
     "data": {
      "text/plain": [
       "['mozzarella', 'cinderella', 'salmonella']"
      ]
     },
     "execution_count": 4,
     "metadata": {},
     "output_type": "execute_result"
    }
   ],
   "source": [
    "things = \"mozzarella,cinderella,salmonella\".split(\",\")\n",
    "things"
   ]
  },
  {
   "cell_type": "markdown",
   "id": "121e7741",
   "metadata": {},
   "source": [
    "### 5. Capitalize the element in things that refers to a person and then print the list. Did it change the element in the list?\n",
    "\n",
    "**Ans.**\n",
    "No"
   ]
  },
  {
   "cell_type": "code",
   "execution_count": 5,
   "id": "a41017cc",
   "metadata": {},
   "outputs": [
    {
     "name": "stdout",
     "output_type": "stream",
     "text": [
      "['mozzarella', 'cinderella', 'salmonella']\n"
     ]
    },
    {
     "data": {
      "text/plain": [
       "'Cinderella'"
      ]
     },
     "execution_count": 5,
     "metadata": {},
     "output_type": "execute_result"
    }
   ],
   "source": [
    "things[1].capitalize()\n",
    "print(things)\n",
    "things[1].capitalize()"
   ]
  },
  {
   "cell_type": "markdown",
   "id": "7cc0e5ec",
   "metadata": {},
   "source": [
    "### 6. Make a surprise list with the elements \"Groucho,\" \"Chico,\" and \"Harpo.\"\n",
    "\n",
    "**Ans.**\n"
   ]
  },
  {
   "cell_type": "code",
   "execution_count": 6,
   "id": "52e841a9",
   "metadata": {},
   "outputs": [
    {
     "data": {
      "text/plain": [
       "['Groucho,', 'Chico,', 'Harpo.']"
      ]
     },
     "execution_count": 6,
     "metadata": {},
     "output_type": "execute_result"
    }
   ],
   "source": [
    "surprise=\"Groucho, Chico, Harpo.\".split( )\n",
    "surprise"
   ]
  },
  {
   "cell_type": "markdown",
   "id": "17f933e1",
   "metadata": {},
   "source": [
    "### 7. Lowercase the last element of the surprise list, reverse it, and then capitalize it.\n",
    "\n",
    "**Ans.**\n"
   ]
  },
  {
   "cell_type": "code",
   "execution_count": 7,
   "id": "144ff5df",
   "metadata": {},
   "outputs": [
    {
     "name": "stdout",
     "output_type": "stream",
     "text": [
      "['Groucho,', 'Chico,', '.oprah']\n"
     ]
    }
   ],
   "source": [
    "surprise[-1]=surprise[-1].lower()[::-1].capitalize()\n",
    "print(surprise)"
   ]
  },
  {
   "cell_type": "markdown",
   "id": "37800bcc",
   "metadata": {},
   "source": [
    "### 8. Make an English-to-French dictionary called e2f and print it. Here are your starter words: dog is chien, cat is chat, and walrus is morse.\n",
    "\n",
    "**Ans.**\n"
   ]
  },
  {
   "cell_type": "code",
   "execution_count": 8,
   "id": "2b01b275",
   "metadata": {},
   "outputs": [
    {
     "name": "stdout",
     "output_type": "stream",
     "text": [
      "{'dog': 'chien', 'cat': 'chat', 'walrus': 'morse'}\n"
     ]
    }
   ],
   "source": [
    "# e2f = {\"dog\":\"chien\",\"cat\":\"chat\",\"walrus\":\"morse\"}\n",
    "e2f = dict([[\"dog\",\"chien\"], [\"cat\", \"chat\"], [\"walrus\",'morse']])\n",
    "print(e2f)"
   ]
  },
  {
   "cell_type": "markdown",
   "id": "0ac4545c",
   "metadata": {},
   "source": [
    "### 9. Write the French word for walrus in your three-word dictionary e2f.\n",
    "\n",
    "**Ans.**\n"
   ]
  },
  {
   "cell_type": "code",
   "execution_count": 9,
   "id": "cfb1102e",
   "metadata": {},
   "outputs": [
    {
     "data": {
      "text/plain": [
       "'morse'"
      ]
     },
     "execution_count": 9,
     "metadata": {},
     "output_type": "execute_result"
    }
   ],
   "source": [
    "e2f[\"walrus\"]"
   ]
  },
  {
   "cell_type": "markdown",
   "id": "69161beb",
   "metadata": {},
   "source": [
    "### 10. Make a French-to-English dictionary called f2e from e2f. Use the items method.\n",
    "\n",
    "**Ans.**\n"
   ]
  },
  {
   "cell_type": "code",
   "execution_count": 10,
   "id": "071100b8",
   "metadata": {},
   "outputs": [
    {
     "data": {
      "text/plain": [
       "{'chien': 'dog', 'chat': 'cat', 'morse': 'walrus'}"
      ]
     },
     "execution_count": 10,
     "metadata": {},
     "output_type": "execute_result"
    }
   ],
   "source": [
    "m=[]\n",
    "for j in e2f.items():\n",
    "#     print(j)\n",
    "#     print(k)\n",
    "    m.append(j[::-1])\n",
    "f2e=dict(m)\n",
    "f2e"
   ]
  },
  {
   "cell_type": "markdown",
   "id": "9d8f7a88",
   "metadata": {},
   "source": [
    "### 11. Print the English version of the French word chien using f2e.\n",
    "\n",
    "**Ans.**\n"
   ]
  },
  {
   "cell_type": "code",
   "execution_count": 11,
   "id": "e107a704",
   "metadata": {},
   "outputs": [
    {
     "data": {
      "text/plain": [
       "'dog'"
      ]
     },
     "execution_count": 11,
     "metadata": {},
     "output_type": "execute_result"
    }
   ],
   "source": [
    "f2e[\"chien\"]"
   ]
  },
  {
   "cell_type": "markdown",
   "id": "89a07a5d",
   "metadata": {},
   "source": [
    "### 12. Make and print a set of English words from the keys in e2f.\n",
    "\n",
    "**Ans.**\n"
   ]
  },
  {
   "cell_type": "code",
   "execution_count": 12,
   "id": "86b729c3",
   "metadata": {},
   "outputs": [
    {
     "name": "stdout",
     "output_type": "stream",
     "text": [
      "{'dog', 'walrus', 'cat'}\n"
     ]
    }
   ],
   "source": [
    "print(set(e2f.keys()))"
   ]
  },
  {
   "cell_type": "markdown",
   "id": "f39569c6",
   "metadata": {},
   "source": [
    "### 13. Make a multilevel dictionary called life. Use these strings for the topmost keys: 'animals', 'plants', and 'other'. Make the 'animals' key refer to another dictionary with the keys 'cats', 'octopi', and 'emus'. Make the 'cats' key refer to a list of strings with the values 'Henri', 'Grumpy', and 'Lucy'. Make all the other keys refer to empty dictionaries.\n",
    "\n",
    "**Ans.**\n"
   ]
  },
  {
   "cell_type": "code",
   "execution_count": 13,
   "id": "30840782",
   "metadata": {},
   "outputs": [
    {
     "data": {
      "text/plain": [
       "{'animals': {'cats': ['Henry', 'Grumpy', 'Lucy'], 'octopi': {}, 'emus': {}},\n",
       " 'plants': {},\n",
       " 'other': {}}"
      ]
     },
     "execution_count": 13,
     "metadata": {},
     "output_type": "execute_result"
    }
   ],
   "source": [
    "life={\"animals\":{\n",
    "        \"cats\":['Henry', 'Grumpy', 'Lucy'],\n",
    "        \"octopi\":{},\n",
    "        \"emus\":{}}, \n",
    "    \"plants\":{},\n",
    "    \"other\":{}}\n",
    "life"
   ]
  },
  {
   "cell_type": "markdown",
   "id": "d1548cd3",
   "metadata": {},
   "source": [
    "### 14. Print the top-level keys of life.\n",
    "\n",
    "**Ans.**\n"
   ]
  },
  {
   "cell_type": "code",
   "execution_count": 14,
   "id": "280ece11",
   "metadata": {},
   "outputs": [
    {
     "name": "stdout",
     "output_type": "stream",
     "text": [
      "dict_keys(['animals', 'plants', 'other'])\n"
     ]
    }
   ],
   "source": [
    "print(life.keys())"
   ]
  },
  {
   "cell_type": "markdown",
   "id": "5e0ff3b3",
   "metadata": {},
   "source": [
    "### 15. Print the keys for life['animals'].\n",
    "\n",
    "**Ans.**\n"
   ]
  },
  {
   "cell_type": "code",
   "execution_count": 15,
   "id": "ac4f06c4",
   "metadata": {},
   "outputs": [
    {
     "name": "stdout",
     "output_type": "stream",
     "text": [
      "dict_keys(['cats', 'octopi', 'emus'])\n"
     ]
    }
   ],
   "source": [
    "print(life[\"animals\"].keys())"
   ]
  },
  {
   "cell_type": "markdown",
   "id": "c0c87e05",
   "metadata": {},
   "source": [
    "### 16. Print the values for life['animals']['cats']\n",
    "\n",
    "**Ans.**\n"
   ]
  },
  {
   "cell_type": "code",
   "execution_count": 16,
   "id": "1752ca68",
   "metadata": {},
   "outputs": [
    {
     "name": "stdout",
     "output_type": "stream",
     "text": [
      "['Henry', 'Grumpy', 'Lucy']\n"
     ]
    }
   ],
   "source": [
    "print(life['animals']['cats'])"
   ]
  }
 ],
 "metadata": {
  "kernelspec": {
   "display_name": "Python 3 (ipykernel)",
   "language": "python",
   "name": "python3"
  },
  "language_info": {
   "codemirror_mode": {
    "name": "ipython",
    "version": 3
   },
   "file_extension": ".py",
   "mimetype": "text/x-python",
   "name": "python",
   "nbconvert_exporter": "python",
   "pygments_lexer": "ipython3",
   "version": "3.10.2"
  }
 },
 "nbformat": 4,
 "nbformat_minor": 5
}
