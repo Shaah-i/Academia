{
 "cells": [
  {
   "cell_type": "markdown",
   "id": "4d48b6f6",
   "metadata": {},
   "source": [
    "# Assignment_3"
   ]
  },
  {
   "cell_type": "markdown",
   "id": "53502e17",
   "metadata": {},
   "source": [
    "### 1. Why are functions advantageous to have in your programs?\n",
    "\n",
    "**Ans.** You can call it anytime without writing the code agian for same objective. Makes the code shorter and easy to read and update."
   ]
  },
  {
   "cell_type": "markdown",
   "id": "349b102e",
   "metadata": {},
   "source": [
    "### 2. When does the code in a function run: when it's specified or when it's called?\n",
    "\n",
    "**Ans.** The code in funcion is run when it is called."
   ]
  },
  {
   "cell_type": "markdown",
   "id": "771a3395",
   "metadata": {},
   "source": [
    "### 3. What statement creates a function?\n",
    "\n",
    "**Ans.** We can create function using the ``def`` statement."
   ]
  },
  {
   "cell_type": "markdown",
   "id": "6099b6ce",
   "metadata": {},
   "source": [
    "### 4. What is the difference between a function and a function call?\n",
    "\n",
    "**Ans.** Function is the actual code and logic for operation to be performed. Function call is used to perform the operations on the inputs provided."
   ]
  },
  {
   "cell_type": "markdown",
   "id": "a8623a8e",
   "metadata": {},
   "source": [
    "### 5. How many global scopes are there in a Python program? How many local scopes?\n",
    "\n",
    "**Ans.** There is only one global scope, and a local scope is created whenever a function is called (can be multiple)."
   ]
  },
  {
   "cell_type": "markdown",
   "id": "d144f049",
   "metadata": {},
   "source": [
    "### 6. What happens to variables in a local scope when the function call returns?\n",
    "\n",
    "**Ans.** When a function returns, the local scope is destroyed, and all the variables in it are forgotten."
   ]
  },
  {
   "cell_type": "markdown",
   "id": "3edef561",
   "metadata": {},
   "source": [
    "### 7. What is the concept of a return value? Is it possible to have a return value in an expression?\n",
    "\n",
    "**Ans.**  A return value is the value that a function call evaluates to. Like any value, a return value can be used as part of an expression."
   ]
  },
  {
   "cell_type": "markdown",
   "id": "ac137ebe",
   "metadata": {},
   "source": [
    "### 8. If a function does not have a return statement, what is the return value of a call to that function?\n",
    "\n",
    "**Ans.** If there is no return statement for a function, its return value is None"
   ]
  },
  {
   "cell_type": "markdown",
   "id": "40a748cd",
   "metadata": {},
   "source": [
    "### 9. How do you make a function variable refer to the global variable?\n",
    "\n",
    "**Ans.** A global statement will force a variable in a function to refer to the global variable. If you want to refer to a global variable in a function, you can use the global keyword to declare which variables are global."
   ]
  },
  {
   "cell_type": "markdown",
   "id": "4c999bd0",
   "metadata": {},
   "source": [
    "### 10. What is the data type of None?\n",
    "\n",
    "**Ans.**\n",
    "NoneType"
   ]
  },
  {
   "cell_type": "code",
   "execution_count": 1,
   "id": "b443fd2d",
   "metadata": {},
   "outputs": [
    {
     "data": {
      "text/plain": [
       "NoneType"
      ]
     },
     "execution_count": 1,
     "metadata": {},
     "output_type": "execute_result"
    }
   ],
   "source": [
    "type(None)"
   ]
  },
  {
   "cell_type": "markdown",
   "id": "cdfdb03c",
   "metadata": {},
   "source": [
    "### 11. What does the sentence import areallyourpetsnamederic do?\n",
    "\n",
    "**Ans.** That import statement imports a module named areallyourpetsnamederic."
   ]
  },
  {
   "cell_type": "markdown",
   "id": "dd6b51b1",
   "metadata": {},
   "source": [
    "### 12. If you had a bacon() feature in a spam module, what would you call it after importing spam?\n",
    "\n",
    "**Ans.** We can call it using ``spam.bacon()``"
   ]
  },
  {
   "cell_type": "markdown",
   "id": "afb231ea",
   "metadata": {},
   "source": [
    "### 13. What can you do to save a programme from crashing if it encounters an error?\n",
    "\n",
    "**Ans.** Use try and except method. Place the line of code that might cause an error in a ``try`` clause and use ``except`` block to handle the error.(we can also use break to come out of the error)"
   ]
  },
  {
   "cell_type": "markdown",
   "id": "3ae6ce4a",
   "metadata": {},
   "source": [
    "### 14. What is the purpose of the try clause? What is the purpose of the except clause?\n",
    "\n",
    "**Ans.** The code that could potentially cause an error goes in the try clause. The code that executes if an error happens goes in the except clause."
   ]
  }
 ],
 "metadata": {
  "kernelspec": {
   "display_name": "Python 3 (ipykernel)",
   "language": "python",
   "name": "python3"
  },
  "language_info": {
   "codemirror_mode": {
    "name": "ipython",
    "version": 3
   },
   "file_extension": ".py",
   "mimetype": "text/x-python",
   "name": "python",
   "nbconvert_exporter": "python",
   "pygments_lexer": "ipython3",
   "version": "3.10.2"
  }
 },
 "nbformat": 4,
 "nbformat_minor": 5
}
