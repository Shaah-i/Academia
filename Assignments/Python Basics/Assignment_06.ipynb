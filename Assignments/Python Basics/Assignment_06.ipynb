{
 "cells": [
  {
   "cell_type": "markdown",
   "id": "2aea731f",
   "metadata": {},
   "source": [
    "# Assignment_6"
   ]
  },
  {
   "cell_type": "markdown",
   "id": "37800bcc",
   "metadata": {},
   "source": [
    "### 1. What are escape characters, and how do you use them?\n",
    "\n",
    "**Ans.** An escape character is a backslash \\ followed by the character you want to insert. To insert characters that are illegal in a string, use an escape character. An example of an illegal character is a double quote inside a string that is surrounded by double quotes."
   ]
  },
  {
   "cell_type": "markdown",
   "id": "3e4f25cc",
   "metadata": {},
   "source": [
    "### 2. What do the escape characters n and t stand for?\n",
    "\n",
    "**Ans.** \n",
    "* ``\\n`` stands for New line\n",
    "* ``\\t`` stands for Tab"
   ]
  },
  {
   "cell_type": "code",
   "execution_count": 1,
   "id": "fb126fe2",
   "metadata": {},
   "outputs": [
    {
     "name": "stdout",
     "output_type": "stream",
     "text": [
      "Stop!\n",
      "Wait a minute.\n",
      "Stop!\tWait a minute.\n"
     ]
    }
   ],
   "source": [
    "print(\"Stop!\\nWait a minute.\")\n",
    "print(\"Stop!\\tWait a minute.\")"
   ]
  },
  {
   "cell_type": "markdown",
   "id": "ff12f3b1",
   "metadata": {},
   "source": [
    "### 3. What is the way to include backslash characters in a string?\n",
    "\n",
    "**Ans.** ``\\\\``, but now we can print it directly."
   ]
  },
  {
   "cell_type": "code",
   "execution_count": 2,
   "id": "4c5b9ecd",
   "metadata": {},
   "outputs": [
    {
     "name": "stdout",
     "output_type": "stream",
     "text": [
      "Do you want cold water \\ hot water\n",
      "Do you want cold water \\ hot water\n",
      "1 \\ 2\n",
      "\\j\n"
     ]
    }
   ],
   "source": [
    "print(\"Do you want cold water \\\\ hot water\")\n",
    "print(\"Do you want cold water \\ hot water\")\n",
    "print(\"1 \\ 2\")\n",
    "print(\"\\j\")"
   ]
  },
  {
   "cell_type": "markdown",
   "id": "7f410559",
   "metadata": {},
   "source": [
    "### 4. The string \"Howl's Moving Castle\" is a correct value. Why isn't the single quote character in the word Howl's not escaped a problem?\n",
    "\n",
    "**Ans.** Because we used double quotes to tell the start and end of string. If it was a single quote then it would have shown an error."
   ]
  },
  {
   "cell_type": "code",
   "execution_count": 3,
   "id": "85d54452",
   "metadata": {},
   "outputs": [
    {
     "name": "stdout",
     "output_type": "stream",
     "text": [
      "Howl's Moving Castle\n"
     ]
    }
   ],
   "source": [
    "print(\"Howl's Moving Castle\")"
   ]
  },
  {
   "cell_type": "code",
   "execution_count": 4,
   "id": "09d277b9",
   "metadata": {},
   "outputs": [
    {
     "ename": "SyntaxError",
     "evalue": "invalid syntax. Perhaps you forgot a comma? (2399584445.py, line 1)",
     "output_type": "error",
     "traceback": [
      "\u001b[1;36m  Input \u001b[1;32mIn [4]\u001b[1;36m\u001b[0m\n\u001b[1;33m    print('Howl's Moving Castle')\u001b[0m\n\u001b[1;37m          ^\u001b[0m\n\u001b[1;31mSyntaxError\u001b[0m\u001b[1;31m:\u001b[0m invalid syntax. Perhaps you forgot a comma?\n"
     ]
    }
   ],
   "source": [
    "print('Howl's Moving Castle')"
   ]
  },
  {
   "cell_type": "markdown",
   "id": "b8381b1c",
   "metadata": {},
   "source": [
    "### 5. How do you write a string of newlines if you don't want to use the n character?\n",
    "\n",
    "**Ans.**"
   ]
  },
  {
   "cell_type": "code",
   "execution_count": 5,
   "id": "ac878695",
   "metadata": {},
   "outputs": [
    {
     "name": "stdout",
     "output_type": "stream",
     "text": [
      "water\n",
      "has\n",
      "no\n",
      "colour\n"
     ]
    }
   ],
   "source": [
    "# Ans.\n",
    "\n",
    "print(\"\"\"water\n",
    "has\n",
    "no\n",
    "colour\"\"\")"
   ]
  },
  {
   "cell_type": "markdown",
   "id": "a5261d77",
   "metadata": {},
   "source": [
    "### 6. What are the values of the given expressions?\n",
    "'Hello, world!'[1]\n",
    "'Hello, world!'[0:5]\n",
    "'Hello, world!'[:5]\n",
    "'Hello, world!'[3:]\n",
    "\n",
    "**Ans.**\n",
    "* 'Hello, world!'[1] = e\n",
    "* 'Hello, world!'[0:5] = Hello\n",
    "* 'Hello, world!'[:5] = Hello\n",
    "* 'Hello, world!'[3:] = lo, world!"
   ]
  },
  {
   "cell_type": "code",
   "execution_count": 6,
   "id": "f3b917e9",
   "metadata": {},
   "outputs": [
    {
     "name": "stdout",
     "output_type": "stream",
     "text": [
      "e\n",
      "Hello\n",
      "Hello\n",
      "lo, world!\n"
     ]
    }
   ],
   "source": [
    "print('Hello, world!'[1])\n",
    "print('Hello, world!'[0:5])\n",
    "print('Hello, world!'[:5])\n",
    "print('Hello, world!'[3:])"
   ]
  },
  {
   "cell_type": "markdown",
   "id": "6784f4bf",
   "metadata": {},
   "source": [
    "### 7. What are the values of the following expressions?\n",
    "'Hello'.upper()\n",
    "'Hello'.upper().isupper()\n",
    "'Hello'.upper().lower()\n",
    "\n",
    "**Ans.**\n",
    "* 'Hello'.upper() = HELLO\n",
    "* 'Hello'.upper().isupper() = True\n",
    "* 'Hello'.upper().lower() = hello"
   ]
  },
  {
   "cell_type": "code",
   "execution_count": 7,
   "id": "f5175c37",
   "metadata": {},
   "outputs": [
    {
     "name": "stdout",
     "output_type": "stream",
     "text": [
      "HELLO\n",
      "True\n",
      "hello\n"
     ]
    }
   ],
   "source": [
    "print('Hello'.upper())\n",
    "print('Hello'.upper().isupper())\n",
    "print('Hello'.upper().lower())"
   ]
  },
  {
   "cell_type": "markdown",
   "id": "7367006c",
   "metadata": {},
   "source": [
    "### 8. What are the values of the following expressions?\n",
    "'Remember, remember, the fifth of July.'.split()\n",
    "'-'.join('There can only one.'.split())\n",
    "\n",
    "**Ans.**\n",
    "* 'Remember, remember, the fifth of July.'.split() = ['Remember,', 'remember,', 'the', 'fifth', 'of', 'July.']\n",
    "* '-'.join('There can only one.'.split()) = 'There-can-only-one.'\n"
   ]
  },
  {
   "cell_type": "code",
   "execution_count": 8,
   "id": "88cf512d",
   "metadata": {},
   "outputs": [
    {
     "data": {
      "text/plain": [
       "['Remember,', 'remember,', 'the', 'fifth', 'of', 'July.']"
      ]
     },
     "execution_count": 8,
     "metadata": {},
     "output_type": "execute_result"
    }
   ],
   "source": [
    "'Remember, remember, the fifth of July.'.split()"
   ]
  },
  {
   "cell_type": "code",
   "execution_count": 9,
   "id": "b07a011c",
   "metadata": {},
   "outputs": [
    {
     "data": {
      "text/plain": [
       "'There-can-only-one.'"
      ]
     },
     "execution_count": 9,
     "metadata": {},
     "output_type": "execute_result"
    }
   ],
   "source": [
    "'-'.join('There can only one.'.split())"
   ]
  },
  {
   "cell_type": "markdown",
   "id": "ea5407aa",
   "metadata": {},
   "source": [
    "### 9. What are the methods for right-justifying, left-justifying, and centering a string?\n",
    "\n",
    "**Ans.** "
   ]
  },
  {
   "cell_type": "code",
   "execution_count": 10,
   "id": "731d6a88",
   "metadata": {},
   "outputs": [
    {
     "name": "stdout",
     "output_type": "stream",
     "text": [
      "--------------------------------------Games are not bad\n",
      "Games are not bad++++++++++++++++++++++++++++++++++++++\n",
      "***********Games are not bad************\n"
     ]
    }
   ],
   "source": [
    "# Ans.\n",
    "\n",
    "a='Games are not bad'\n",
    "\n",
    "print(a.rjust(55,'-'))\n",
    "print(a.ljust(55,'+'))\n",
    "print(a.center(40,'*'))"
   ]
  },
  {
   "cell_type": "markdown",
   "id": "880d01e3",
   "metadata": {},
   "source": [
    "### 10. What is the best way to remove whitespace characters from the start or end?\n",
    "\n",
    "**Ans.**"
   ]
  },
  {
   "cell_type": "code",
   "execution_count": 11,
   "id": "9aae6f2f",
   "metadata": {},
   "outputs": [
    {
     "name": "stdout",
     "output_type": "stream",
     "text": [
      "Games are not bad !\n",
      "     Games are not bad !\n",
      "Games are not bad      !\n"
     ]
    }
   ],
   "source": [
    "# Ans.\n",
    "\n",
    "a='     Games are not bad     '\n",
    "print(a.strip(),'!')\n",
    "print(a.rstrip(),'!')\n",
    "print(a.lstrip(),'!')\n"
   ]
  }
 ],
 "metadata": {
  "kernelspec": {
   "display_name": "Python 3 (ipykernel)",
   "language": "python",
   "name": "python3"
  },
  "language_info": {
   "codemirror_mode": {
    "name": "ipython",
    "version": 3
   },
   "file_extension": ".py",
   "mimetype": "text/x-python",
   "name": "python",
   "nbconvert_exporter": "python",
   "pygments_lexer": "ipython3",
   "version": "3.10.2"
  }
 },
 "nbformat": 4,
 "nbformat_minor": 5
}
