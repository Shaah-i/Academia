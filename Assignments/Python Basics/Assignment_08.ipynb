{
 "cells": [
  {
   "cell_type": "markdown",
   "id": "2aea731f",
   "metadata": {},
   "source": [
    "# Assignment_8"
   ]
  },
  {
   "cell_type": "markdown",
   "id": "37800bcc",
   "metadata": {},
   "source": [
    "### 1. Is the Python Standard Library included with PyInputPlus?\n",
    "\n",
    "**Ans.** No, PyInputPlus is not a Python Standard Library. We need to install it seperately."
   ]
  },
  {
   "cell_type": "markdown",
   "id": "d30abdd2",
   "metadata": {},
   "source": [
    "### 2. Why is PyInputPlus commonly imported with import pyinputplus as pypi?\n",
    "\n",
    "**Ans.** ``import pyinputplus as pypi`` is commonly used where pypi is alias to pyinputplus. The alias are used for any library as typing the full name of library for every fuction is time consuming."
   ]
  },
  {
   "cell_type": "markdown",
   "id": "14e47669",
   "metadata": {},
   "source": [
    "### 3. How do you distinguish between inputInt() and inputFloat()?\n",
    "\n",
    "**Ans.** ``inputInt()`` : Accepts an integer value, and returns int value\n",
    "``inputFloat()`` : Accepts integer/floating point value and returns float value\n",
    "Both takes additional parameters ``‘min’``, ``‘max’``, ``‘greaterThan’`` and ``‘lessThan’``  for bounds."
   ]
  },
  {
   "cell_type": "markdown",
   "id": "d11e4474",
   "metadata": {},
   "source": [
    "### 4. Using PyInputPlus, how do you ensure that the user enters a whole number between 0 and 99?\n",
    "\n",
    "**Ans.** ``PyInputPlus`` has a function called ``inputInt()`` which returns only the integer values and not floats, along withs this we could specify the min and max parameters to get the values from user between the desired range."
   ]
  },
  {
   "cell_type": "markdown",
   "id": "7a95cb51",
   "metadata": {},
   "source": [
    "### 5. What is transferred to the keyword arguments allowRegexes and blockRegexes?\n",
    "\n",
    "**Ans.** The ``allowRegexes`` and ``blockRegexes`` keyword arguments take a list of regular expression strings to determine what the PyInputPlus function accepts or rejects as valid input."
   ]
  },
  {
   "cell_type": "markdown",
   "id": "c709169f",
   "metadata": {},
   "source": [
    "### 6. If a blank input is entered three times, what does inputStr(limit=3) do?\n",
    "\n",
    "**Ans.** It will throw two exceptions ``ValidationException`` and ``RetryLimitException``. The first exception is thrown because blank values are not allowed by inputStr() function by default.The second exception is occured because we have reached the max limit we have specified by using limit parameter.\n",
    "If we want to consider blank values as valid input, we have to set blank=True. In order to avoid this exception we can use default parameter to return a default value when max limit is reached."
   ]
  },
  {
   "cell_type": "markdown",
   "id": "69660312",
   "metadata": {},
   "source": [
    "### 7. If blank input is entered three times, what does inputStr(limit=3, default='hello') do?\n",
    "\n",
    "**Ans.** Since the default parameter is set to ``hello`` , after input is blank three times instead of raising RetryLimitException exception, the function will return ``hello`` as response to the calling function."
   ]
  }
 ],
 "metadata": {
  "kernelspec": {
   "display_name": "Python 3 (ipykernel)",
   "language": "python",
   "name": "python3"
  },
  "language_info": {
   "codemirror_mode": {
    "name": "ipython",
    "version": 3
   },
   "file_extension": ".py",
   "mimetype": "text/x-python",
   "name": "python",
   "nbconvert_exporter": "python",
   "pygments_lexer": "ipython3",
   "version": "3.10.2"
  }
 },
 "nbformat": 4,
 "nbformat_minor": 5
}
