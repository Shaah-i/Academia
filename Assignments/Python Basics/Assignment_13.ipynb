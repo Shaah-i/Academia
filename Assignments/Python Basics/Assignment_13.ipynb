{
 "cells": [
  {
   "cell_type": "markdown",
   "id": "2aea731f",
   "metadata": {},
   "source": [
    "# Assignment_13"
   ]
  },
  {
   "cell_type": "markdown",
   "id": "37800bcc",
   "metadata": {},
   "source": [
    "### 1. What advantages do Excel spreadsheets have over CSV spreadsheets?\n",
    "\n",
    "**Ans.**\n",
    "\n",
    "1. CSV files are comma seperated values. It is just like plaint-text and does not have any formulas, styles, macros etc. While Excel files not only stores data but also we can do operrations and that data is also stored.\n",
    "2. Excel spreedsheets are good for sorting and analysing complex data.\n"
   ]
  },
  {
   "cell_type": "markdown",
   "id": "b81b6f4e",
   "metadata": {},
   "source": [
    "### 2.What do you pass to csv.reader() and csv.writer() to create reader and writer objects?\n",
    "\n",
    "**Ans.**\n",
    "We pass the \"iterable\",it can be any object that returns a line\n",
    "of input for each iteration, such as a file object or a list and we pass another argument \"dialect\" which is optional to create reader objects.\n",
    "\n",
    "For writer object we pass \"fileobj\" argument which can be any object that supports the file API and the optional \"dialect\" argument can also be passed."
   ]
  },
  {
   "cell_type": "markdown",
   "id": "eb347fc8",
   "metadata": {},
   "source": [
    "### 3. What modes do File objects for reader and writer objects need to be opened in?\n",
    "\n",
    "**Ans.** reader object needs to be opened in `\"r\"` read mode and writer object needs to be opened in `\"w\"` write mode."
   ]
  },
  {
   "cell_type": "markdown",
   "id": "c777cbe8",
   "metadata": {},
   "source": [
    "### 4. What method takes a list argument and writes it to a CSV file?\n",
    "\n",
    "**Ans.**\n",
    "`writerow()` and `writerows()`"
   ]
  },
  {
   "cell_type": "markdown",
   "id": "f91b8a3d",
   "metadata": {},
   "source": [
    "### 5. What do the keyword arguments delimiter and line terminator do?\n",
    "\n",
    "**Ans.**\n",
    "delimiter is used to seperate the words in the file. Common delimiters are `,`(comma), ` `(space), `:` (colon) but we can use any character as per our need. Line terminator as the name suggests is the end of line, by default it is a new line but we can change it. "
   ]
  },
  {
   "cell_type": "markdown",
   "id": "7869ed77",
   "metadata": {},
   "source": [
    "### 6. What function takes a string of JSON data and returns a Python data structure?\n",
    "\n",
    "**Ans.**\n",
    "`loads()` method takes a string of JSON data and returns a Python data structure"
   ]
  },
  {
   "cell_type": "code",
   "execution_count": 1,
   "id": "3144619c",
   "metadata": {},
   "outputs": [
    {
     "name": "stdout",
     "output_type": "stream",
     "text": [
      "{\"Name\": \"Shubham Shaah\",\"Cuorse\": \"Full stack data science\",\"Teacher\": \"Sudhanshu Kumar\"}\n",
      "Type before loading : <class 'str'> \n",
      "\n",
      "{'Name': 'Shubham Shaah', 'Cuorse': 'Full stack data science', 'Teacher': 'Sudhanshu Kumar'}\n",
      "Type after loading : <class 'dict'>\n"
     ]
    }
   ],
   "source": [
    "import json\n",
    "my_details_json ='''{\"Name\": \"Shubham Shaah\",\"Cuorse\": \"Full stack data science\",\"Teacher\": \"Sudhanshu Kumar\"}'''\n",
    "print(my_details_json)\n",
    "print(\"Type before loading : {}\".format(type(my_details_json)),\"\\n\")\n",
    "\n",
    "my_details = json.loads(my_details_json)\n",
    "print(my_details)\n",
    "print(\"Type after loading : {}\".format(type(my_details)))"
   ]
  },
  {
   "cell_type": "markdown",
   "id": "af56e151",
   "metadata": {},
   "source": [
    "### 7. What function takes a Python data structure and returns a string of JSON data?\n",
    "\n",
    "**Ans.**\n",
    "`dumps()` method takes a python data structure and returns a string of JSON data"
   ]
  },
  {
   "cell_type": "code",
   "execution_count": 2,
   "id": "1cca5f6a",
   "metadata": {},
   "outputs": [
    {
     "name": "stdout",
     "output_type": "stream",
     "text": [
      "{'Name': 'Shubham Shaah', 'Cuorse': 'Full stack data science', 'Teacher': 'Sudhanshu Kumar'}\n",
      "Type before dumping : <class 'dict'> \n",
      "\n",
      "{\"Name\": \"Shubham Shaah\", \"Cuorse\": \"Full stack data science\", \"Teacher\": \"Sudhanshu Kumar\"}\n",
      "Type after dumping : <class 'str'>\n"
     ]
    }
   ],
   "source": [
    "import json\n",
    "my_details ={\"Name\": \"Shubham Shaah\",\"Cuorse\": \"Full stack data science\",\"Teacher\": \"Sudhanshu Kumar\"}\n",
    "print(my_details)\n",
    "print(\"Type before dumping : {}\".format(type(my_details)),\"\\n\")\n",
    "my_details_json = json.dumps(my_details)\n",
    "\n",
    "print(my_details_json)\n",
    "print(\"Type after dumping : {}\".format(type(my_details_json)))\n"
   ]
  }
 ],
 "metadata": {
  "kernelspec": {
   "display_name": "Python 3 (ipykernel)",
   "language": "python",
   "name": "python3"
  },
  "language_info": {
   "codemirror_mode": {
    "name": "ipython",
    "version": 3
   },
   "file_extension": ".py",
   "mimetype": "text/x-python",
   "name": "python",
   "nbconvert_exporter": "python",
   "pygments_lexer": "ipython3",
   "version": "3.10.2"
  }
 },
 "nbformat": 4,
 "nbformat_minor": 5
}
