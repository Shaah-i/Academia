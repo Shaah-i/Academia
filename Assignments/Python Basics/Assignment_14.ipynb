{
 "cells": [
  {
   "cell_type": "markdown",
   "id": "2aea731f",
   "metadata": {},
   "source": [
    "# Assignment_14"
   ]
  },
  {
   "cell_type": "markdown",
   "id": "b3f18028",
   "metadata": {},
   "source": [
    "### 1. What does RGBA stand for?\n",
    "\n",
    "**Ans.**\n",
    "\n",
    "RGBA stands for Red-Green-Blue-Alpha. It used to give the colour information and transperancy information. RGB are in range of 0 to 255 and alpha(A) is between 0.0 to 1.0."
   ]
  },
  {
   "cell_type": "markdown",
   "id": "37800bcc",
   "metadata": {},
   "source": [
    "### 2. From the Pillow module, how do you get the RGBA value of any images?\n",
    "\n",
    "**Ans.**\n",
    "\n",
    "**`ImageColor.getcolor()`** gives rgba value of any image"
   ]
  },
  {
   "cell_type": "markdown",
   "id": "7d028120",
   "metadata": {},
   "source": [
    "### 3. What is a box tuple, and how does it work?\n",
    "\n",
    "**Ans.**\n",
    "\n",
    "box_tuple of the image represents [left, up, right, bottom].\n",
    "\n",
    "Example: [100,100,500,500] so the left co-ordinate is 100, up is 100 and right and bottom are 500 respectively. It is used to crop the image."
   ]
  },
  {
   "cell_type": "markdown",
   "id": "0aeada29",
   "metadata": {},
   "source": [
    "### 4. Use your image and load in notebook then, How can you find out the width and height of an Image object?\n",
    "\n",
    "**Ans.**\n"
   ]
  },
  {
   "cell_type": "code",
   "execution_count": 1,
   "id": "f3014caf",
   "metadata": {},
   "outputs": [
    {
     "name": "stdout",
     "output_type": "stream",
     "text": [
      "Width, Height : 528,528\n"
     ]
    },
    {
     "data": {
      "text/plain": [
       "(528, 528)"
      ]
     },
     "execution_count": 1,
     "metadata": {},
     "output_type": "execute_result"
    }
   ],
   "source": [
    "from PIL import Image\n",
    "img = Image.open('Image.jpeg')\n",
    "\n",
    "width,height = img.size\n",
    "print('Width, Height : {0},{1}'.format(width,height)) # Approach 3\n",
    "img.size"
   ]
  },
  {
   "cell_type": "markdown",
   "id": "f496cfed",
   "metadata": {},
   "source": [
    "### 5. What method would you call to get Image object for a 100×100 image, excluding the lower-left quarter of it?\n",
    "\n",
    "**Ans.**\n"
   ]
  },
  {
   "cell_type": "code",
   "execution_count": 2,
   "id": "5e4468e3",
   "metadata": {},
   "outputs": [],
   "source": [
    "from PIL import Image\n",
    "img = Image.open('Image.jpeg')\n",
    "img.show()\n",
    "crp = img.crop((100,100,300,300))\n",
    "crp.show()"
   ]
  },
  {
   "cell_type": "markdown",
   "id": "5478bad7",
   "metadata": {},
   "source": [
    "### 6. After making changes to an Image object, how could you save it as an image file?\n",
    "\n",
    "**Ans.**\n"
   ]
  },
  {
   "cell_type": "code",
   "execution_count": 3,
   "id": "3e1ebae8",
   "metadata": {},
   "outputs": [],
   "source": [
    "# in refrence with above question\n",
    "\n",
    "crp.save('cropped.jpeg')"
   ]
  },
  {
   "cell_type": "markdown",
   "id": "4b38a7db",
   "metadata": {},
   "source": [
    "### 7. What module contains Pillow’s shape-drawing code?\n",
    "\n",
    "**Ans.** **`ImageDraw`** module contains Pillow's shape-drawing code."
   ]
  },
  {
   "cell_type": "markdown",
   "id": "fdd3674a",
   "metadata": {},
   "source": [
    "### 8. Image objects do not have drawing methods. What kind of object does? How do you get this kind of object?\n",
    "\n",
    "**Ans.** `ImageDraw` has drawing methods and can be used by passing the image object to `ImageDraw.Draw()` function."
   ]
  }
 ],
 "metadata": {
  "kernelspec": {
   "display_name": "Python 3 (ipykernel)",
   "language": "python",
   "name": "python3"
  },
  "language_info": {
   "codemirror_mode": {
    "name": "ipython",
    "version": 3
   },
   "file_extension": ".py",
   "mimetype": "text/x-python",
   "name": "python",
   "nbconvert_exporter": "python",
   "pygments_lexer": "ipython3",
   "version": "3.10.2"
  }
 },
 "nbformat": 4,
 "nbformat_minor": 5
}
