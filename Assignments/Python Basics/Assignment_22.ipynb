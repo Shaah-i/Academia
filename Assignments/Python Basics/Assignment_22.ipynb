{
 "cells": [
  {
   "cell_type": "markdown",
   "id": "2aea731f",
   "metadata": {},
   "source": [
    "# Assignment_22"
   ]
  },
  {
   "cell_type": "markdown",
   "id": "37800bcc",
   "metadata": {},
   "source": [
    "### 1. What is the result of the code, and explain?\n",
    "\n",
    "\n",
    "``>>> X = 'iNeuron'``\n",
    "\n",
    "``>>> def func():``\n",
    "\n",
    "``print(X)``\n",
    "\n",
    "``>>> func()``\n",
    "\n",
    "\n",
    "\n",
    "**Ans.** The output will be ``iNeuron``. The function when called will search for the local value of X and if it dosent find it will refer to the global variable X and return it's stored value.\n"
   ]
  },
  {
   "cell_type": "code",
   "execution_count": 1,
   "id": "33a432b1",
   "metadata": {},
   "outputs": [
    {
     "name": "stdout",
     "output_type": "stream",
     "text": [
      "iNeuron\n"
     ]
    }
   ],
   "source": [
    "X = 'iNeuron'\n",
    "def func():\n",
    "    print(X)\n",
    "\n",
    "\n",
    "func()"
   ]
  },
  {
   "cell_type": "markdown",
   "id": "b793675f",
   "metadata": {},
   "source": [
    "### 2. What is the result of the code, and explain?\n",
    "\n",
    "\n",
    "``>>> X = 'iNeuron'``\n",
    "\n",
    "``>>> def func():``\n",
    "\n",
    "``X = 'NI!'``\n",
    "\n",
    "\n",
    "``>>> func()``\n",
    "\n",
    "``>>> print(X)``\n",
    "\n",
    "\n",
    "\n",
    "**Ans.** The result will be ``iNeuron``. When the function was called although it found a loca variable X, no value was returned and hence no output was printed and later when the print command was used it directly refered to the global variable X having the stored value as iNeuron.\n",
    "\n",
    "\n"
   ]
  },
  {
   "cell_type": "code",
   "execution_count": 2,
   "id": "9f69dd3f",
   "metadata": {},
   "outputs": [
    {
     "name": "stdout",
     "output_type": "stream",
     "text": [
      "iNeuron\n"
     ]
    }
   ],
   "source": [
    "X = 'iNeuron'\n",
    "def func():\n",
    "    X = 'NI!'\n",
    "\n",
    "\n",
    "func()\n",
    "print(X)"
   ]
  },
  {
   "cell_type": "markdown",
   "id": "db063d81",
   "metadata": {},
   "source": [
    "### 3. What does this code print, and why?\n",
    "\n",
    "``>>> X = 'iNeuron'``\n",
    "\n",
    "``>>> def func():``\n",
    "\n",
    "``X = 'NI'``\n",
    "\n",
    "``print(X)``\n",
    "\n",
    "``>>> func()``\n",
    "\n",
    "``>>> print(X)``\n",
    "\n",
    "\n",
    "**Ans.** The code will print ``NI`` and ``iNeuron``. When the function was called the function looked for the local value of X and printed NI. After which print command was used where it refered to the global variable X having value iNeuron."
   ]
  },
  {
   "cell_type": "code",
   "execution_count": 3,
   "id": "e193ebf9",
   "metadata": {},
   "outputs": [
    {
     "name": "stdout",
     "output_type": "stream",
     "text": [
      "NI\n",
      "iNeuron\n"
     ]
    }
   ],
   "source": [
    "X = 'iNeuron'\n",
    "def func():\n",
    "    X = 'NI'\n",
    "    print(X)\n",
    "\n",
    "\n",
    "func()\n",
    "print(X)"
   ]
  },
  {
   "cell_type": "markdown",
   "id": "25856862",
   "metadata": {},
   "source": [
    "### 4. What output does this code produce? Why?\n",
    "\n",
    "``>>> X = 'iNeuron'``\n",
    "\n",
    "``>>> def func():``\n",
    "\n",
    "``global X``\n",
    "\n",
    "``X = 'NI'``\n",
    "\n",
    "``>>> func()``\n",
    "\n",
    "``>>> print(X)``\n",
    "\n",
    "\n",
    "**Ans.** The output will be ``NI``. The function did not return a value as no return command was given. But the function when called took the global variable X as exclusively specified and the changed its value to NI from iNeuron. As the value of global varible X has now changed the print command will returned the new assigned value."
   ]
  },
  {
   "cell_type": "code",
   "execution_count": 4,
   "id": "b1a33237",
   "metadata": {},
   "outputs": [
    {
     "name": "stdout",
     "output_type": "stream",
     "text": [
      "NI\n"
     ]
    }
   ],
   "source": [
    "X = 'iNeuron'\n",
    "def func():\n",
    "    global X\n",
    "    X = 'NI'\n",
    "\n",
    "\n",
    "func()\n",
    "print(X)"
   ]
  },
  {
   "cell_type": "markdown",
   "id": "14981167",
   "metadata": {},
   "source": [
    "### 5. What about this code—what’s the output, and why?\n",
    "\n",
    "``>>> X = 'iNeuron'``\n",
    "\n",
    "``>>> def func():``\n",
    "\n",
    "``X = 'NI'``\n",
    "\n",
    "``def nested():``\n",
    "\n",
    "``print(X)``\n",
    "\n",
    "``nested()``\n",
    "\n",
    "``>>> func()``\n",
    "\n",
    "``>>> X``\n",
    "\n",
    "**Ans.** The code will first print ``NI`` as specified inside the function and the output will be ``iNeuron``. Inside the function local variable X was declared and in the same function a nested function was used. So the nested function first looked for the local variable inside the nested function when it was not found it went to the next variable (i.e. local variable inside the function) as it found the variables value to be NI it was printed. There was no change in the global variable."
   ]
  },
  {
   "cell_type": "code",
   "execution_count": 5,
   "id": "b44b59ee",
   "metadata": {},
   "outputs": [
    {
     "name": "stdout",
     "output_type": "stream",
     "text": [
      "NI\n"
     ]
    },
    {
     "data": {
      "text/plain": [
       "'iNeuron'"
      ]
     },
     "execution_count": 5,
     "metadata": {},
     "output_type": "execute_result"
    }
   ],
   "source": [
    "X = 'iNeuron'\n",
    "def func():\n",
    "    X = 'NI'\n",
    "    def nested():\n",
    "        print(X)\n",
    "    nested()\n",
    "\n",
    "func()\n",
    "X"
   ]
  },
  {
   "cell_type": "markdown",
   "id": "082bec7b",
   "metadata": {},
   "source": [
    "### 6. How about this code: what is its output in Python 3, and explain?\n",
    "\n",
    "``>>> def func():``\n",
    "\n",
    "``X = 'NI'``\n",
    "\n",
    "``def nested():``\n",
    "\n",
    "``nonlocal X``\n",
    "\n",
    "``X = 'Spam'``\n",
    "\n",
    "``nested()``\n",
    "\n",
    "``print(X)``\n",
    "\n",
    "``>>> func()``\n",
    "\n",
    "**Ans.** The output is ``Spam``. Specifying the variable to be nonlocal stores the value in the global variable, irrespective of the nesting of function, and hence Spam was printed."
   ]
  },
  {
   "cell_type": "code",
   "execution_count": 6,
   "id": "3e372e28",
   "metadata": {},
   "outputs": [
    {
     "name": "stdout",
     "output_type": "stream",
     "text": [
      "Spam\n"
     ]
    }
   ],
   "source": [
    "def func():\n",
    "    X = 'NI'\n",
    "    def nested():\n",
    "        nonlocal X\n",
    "        X = 'Spam'\n",
    "    nested()\n",
    "    print(X)\n",
    "\n",
    "func()"
   ]
  }
 ],
 "metadata": {
  "kernelspec": {
   "display_name": "Python 3 (ipykernel)",
   "language": "python",
   "name": "python3"
  },
  "language_info": {
   "codemirror_mode": {
    "name": "ipython",
    "version": 3
   },
   "file_extension": ".py",
   "mimetype": "text/x-python",
   "name": "python",
   "nbconvert_exporter": "python",
   "pygments_lexer": "ipython3",
   "version": "3.10.2"
  }
 },
 "nbformat": 4,
 "nbformat_minor": 5
}
