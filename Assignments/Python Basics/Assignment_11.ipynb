{
 "cells": [
  {
   "cell_type": "markdown",
   "id": "2aea731f",
   "metadata": {},
   "source": [
    "# Assignment_11"
   ]
  },
  {
   "cell_type": "markdown",
   "id": "849c3038",
   "metadata": {},
   "source": [
    "### 1. Create an assert statement that throws an AssertionError if the variable spam is a negative integer.\n",
    "\n",
    "**Ans.**\n"
   ]
  },
  {
   "cell_type": "code",
   "execution_count": 1,
   "id": "8bc9886a",
   "metadata": {},
   "outputs": [
    {
     "ename": "AssertionError",
     "evalue": "can't be negative",
     "output_type": "error",
     "traceback": [
      "\u001b[1;31m---------------------------------------------------------------------------\u001b[0m",
      "\u001b[1;31mAssertionError\u001b[0m                            Traceback (most recent call last)",
      "Input \u001b[1;32mIn [1]\u001b[0m, in \u001b[0;36m<cell line: 3>\u001b[1;34m()\u001b[0m\n\u001b[0;32m      1\u001b[0m spam \u001b[38;5;241m=\u001b[39m \u001b[38;5;241m-\u001b[39m\u001b[38;5;241m55\u001b[39m\n\u001b[1;32m----> 3\u001b[0m \u001b[38;5;28;01massert\u001b[39;00m spam \u001b[38;5;241m>\u001b[39m \u001b[38;5;241m0\u001b[39m, \u001b[38;5;124m\"\u001b[39m\u001b[38;5;124mcan\u001b[39m\u001b[38;5;124m'\u001b[39m\u001b[38;5;124mt be negative\u001b[39m\u001b[38;5;124m\"\u001b[39m\n",
      "\u001b[1;31mAssertionError\u001b[0m: can't be negative"
     ]
    }
   ],
   "source": [
    "spam = -55\n",
    "\n",
    "assert spam > 0, \"can't be negative\""
   ]
  },
  {
   "cell_type": "markdown",
   "id": "e59a2fcc",
   "metadata": {},
   "source": [
    "### 2. Write an assert statement that triggers an AssertionError if the variables eggs and bacon contain strings that are the same as each other, even if their cases are different (that is, 'hello' and 'hello' are considered the same, and 'goodbye' and 'GOODbye' are also considered the same).\n",
    "**Ans.**\n"
   ]
  },
  {
   "cell_type": "code",
   "execution_count": 2,
   "id": "92ed79f6",
   "metadata": {},
   "outputs": [
    {
     "ename": "AssertionError",
     "evalue": "eggs and bacon can't be same",
     "output_type": "error",
     "traceback": [
      "\u001b[1;31m---------------------------------------------------------------------------\u001b[0m",
      "\u001b[1;31mAssertionError\u001b[0m                            Traceback (most recent call last)",
      "Input \u001b[1;32mIn [2]\u001b[0m, in \u001b[0;36m<cell line: 4>\u001b[1;34m()\u001b[0m\n\u001b[0;32m      1\u001b[0m eggs\u001b[38;5;241m=\u001b[39m\u001b[38;5;124m'\u001b[39m\u001b[38;5;124mgoodbye\u001b[39m\u001b[38;5;124m'\u001b[39m\n\u001b[0;32m      2\u001b[0m bacon\u001b[38;5;241m=\u001b[39m\u001b[38;5;124m'\u001b[39m\u001b[38;5;124mGOODbye\u001b[39m\u001b[38;5;124m'\u001b[39m\n\u001b[1;32m----> 4\u001b[0m \u001b[38;5;28;01massert\u001b[39;00m eggs\u001b[38;5;241m.\u001b[39mlower() \u001b[38;5;241m!=\u001b[39m bacon\u001b[38;5;241m.\u001b[39mlower(), \u001b[38;5;124m\"\u001b[39m\u001b[38;5;124meggs and bacon can\u001b[39m\u001b[38;5;124m'\u001b[39m\u001b[38;5;124mt be same\u001b[39m\u001b[38;5;124m\"\u001b[39m\n",
      "\u001b[1;31mAssertionError\u001b[0m: eggs and bacon can't be same"
     ]
    }
   ],
   "source": [
    "eggs='goodbye'\n",
    "bacon='GOODbye'\n",
    "\n",
    "assert eggs.lower() != bacon.lower(), \"eggs and bacon can't be same\""
   ]
  },
  {
   "cell_type": "markdown",
   "id": "cf6272e1",
   "metadata": {},
   "source": [
    "### 3. Create an assert statement that throws an AssertionError every time.\n",
    "\n",
    "**Ans.**\n"
   ]
  },
  {
   "cell_type": "code",
   "execution_count": 3,
   "id": "f3717de6",
   "metadata": {},
   "outputs": [
    {
     "ename": "AssertionError",
     "evalue": "Everytime an AssertionError",
     "output_type": "error",
     "traceback": [
      "\u001b[1;31m---------------------------------------------------------------------------\u001b[0m",
      "\u001b[1;31mAssertionError\u001b[0m                            Traceback (most recent call last)",
      "Input \u001b[1;32mIn [3]\u001b[0m, in \u001b[0;36m<cell line: 1>\u001b[1;34m()\u001b[0m\n\u001b[1;32m----> 1\u001b[0m \u001b[38;5;28;01massert\u001b[39;00m \u001b[38;5;28;01mFalse\u001b[39;00m, \u001b[38;5;124m\"\u001b[39m\u001b[38;5;124mEverytime an AssertionError\u001b[39m\u001b[38;5;124m\"\u001b[39m\n",
      "\u001b[1;31mAssertionError\u001b[0m: Everytime an AssertionError"
     ]
    }
   ],
   "source": [
    "assert False, \"Everytime an AssertionError\""
   ]
  },
  {
   "cell_type": "markdown",
   "id": "9fe42004",
   "metadata": {},
   "source": [
    "### 4. What are the two lines that must be present in your software in order to call logging.debug()?\n",
    "\n",
    "**Ans.**\n"
   ]
  },
  {
   "cell_type": "code",
   "execution_count": 4,
   "id": "5f40c846",
   "metadata": {},
   "outputs": [],
   "source": [
    "import logging\n",
    "logging.basicConfig(level=logging.DEBUG, format=' %(asctime)s %(name)s %(levelname)s %(message)s')"
   ]
  },
  {
   "cell_type": "markdown",
   "id": "37800bcc",
   "metadata": {},
   "source": [
    "### 5. What are the two lines that your program must have in order to have logging.debug() send a logging message to a file named programLog.txt?\n",
    "\n",
    "**Ans.**\n"
   ]
  },
  {
   "cell_type": "code",
   "execution_count": 5,
   "id": "5471e370",
   "metadata": {},
   "outputs": [],
   "source": [
    "import logging\n",
    "logging.basicConfig(filename = 'application_log.txt',level=logging.DEBUG, format=' %(asctime)s %(name)s %(levelname)s %(message)s')"
   ]
  },
  {
   "cell_type": "markdown",
   "id": "5eae2ce5",
   "metadata": {},
   "source": [
    "### 6. What are the five levels of logging?\n",
    "\n",
    "**Ans.**\n",
    "The Five levels of Logging provided by python's logging module are CRITICAL(), ERROR(), WARNING(), INFO(), DEBUG(), NOTSET()\n",
    "\n",
    "* ``logging.debug()`` - variable's state and small details\n",
    "* ``logging.info()`` - general events, confirm a program is working\n",
    "* ``logging.warning()`` - potiental problem to work on in the future\n",
    "* ``logging.error()`` - record an error that caused program to fail to do something\n",
    "* ``logging.critical()`` - fatal error that has caused\n"
   ]
  },
  {
   "cell_type": "markdown",
   "id": "016a75c8",
   "metadata": {},
   "source": [
    "### 7. What line of code would you add to your software to disable all logging messages?\n",
    "\n",
    "**Ans.**\n"
   ]
  },
  {
   "cell_type": "code",
   "execution_count": 6,
   "id": "6e152861",
   "metadata": {},
   "outputs": [],
   "source": [
    "import logging\n",
    "logging.disable()"
   ]
  },
  {
   "cell_type": "markdown",
   "id": "f0707a66",
   "metadata": {},
   "source": [
    "### 8.Why is using logging messages better than using print() to display the same message?\n",
    "\n",
    "**Ans.** We can disable the logging messages without removing the logging function while we need to remove the print() statements. Logging is used to keep records of everything like info, debug, error , warning e.t.c. and print can only diplay the output."
   ]
  },
  {
   "cell_type": "markdown",
   "id": "f745e2d6",
   "metadata": {},
   "source": [
    "### 9. What are the differences between the Step Over, Step In, and Step Out buttons in the debugger?\n",
    "\n",
    "**Ans.** The difference is as follows\n",
    "\n",
    "1. Step Over - Step Over button will execute the next line. But, if the next line is a function call, the button will , as the name suggests, step over the code in function and pause at the return.\n",
    "\n",
    "2. Step In -  Step In button is same as step over i.e. it will execute next line and pause.\n",
    "\n",
    "3. Step Out - Step Out button will cause the debugger to execute lines of code until it returns from the current function."
   ]
  },
  {
   "cell_type": "markdown",
   "id": "fe5f75b0",
   "metadata": {},
   "source": [
    "### 10.After you click Continue, when will the debugger stop ?\n",
    "\n",
    "**Ans.** It will continue running until it terminates or reaches a breakpoint."
   ]
  },
  {
   "cell_type": "markdown",
   "id": "e0a6c0ea",
   "metadata": {},
   "source": [
    "### 11. What is the concept of a breakpoint?\n",
    "\n",
    "**Ans.** Breakpoint is a setting on a line of code that causes the debugger to pause when the program execution reaches the line.\n"
   ]
  }
 ],
 "metadata": {
  "kernelspec": {
   "display_name": "Python 3 (ipykernel)",
   "language": "python",
   "name": "python3"
  },
  "language_info": {
   "codemirror_mode": {
    "name": "ipython",
    "version": 3
   },
   "file_extension": ".py",
   "mimetype": "text/x-python",
   "name": "python",
   "nbconvert_exporter": "python",
   "pygments_lexer": "ipython3",
   "version": "3.10.2"
  }
 },
 "nbformat": 4,
 "nbformat_minor": 5
}
