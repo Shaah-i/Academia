{
 "cells": [
  {
   "cell_type": "markdown",
   "id": "2aea731f",
   "metadata": {},
   "source": [
    "# Assignment_21"
   ]
  },
  {
   "cell_type": "markdown",
   "id": "37800bcc",
   "metadata": {},
   "source": [
    "### 1. Add the current date to the text file today.txt as a string.\n",
    "\n",
    "**Ans.**\n"
   ]
  },
  {
   "cell_type": "code",
   "execution_count": 1,
   "id": "721a9830",
   "metadata": {},
   "outputs": [
    {
     "name": "stdout",
     "output_type": "stream",
     "text": [
      "12-07-2022\n"
     ]
    }
   ],
   "source": [
    "from datetime import datetime\n",
    "\n",
    "f= open (\"today.txt\", \"w\")\n",
    "\n",
    "f.write(datetime.now().strftime(\"%d-%m-%Y\"))\n",
    "f.close()\n",
    "\n",
    "f = open('today.txt','r')\n",
    "print(f.read())\n",
    "f.close()"
   ]
  },
  {
   "cell_type": "markdown",
   "id": "c9e5d1d0",
   "metadata": {},
   "source": [
    "### 2. Read the text file today.txt into the string today_string\n",
    "\n",
    "**Ans.**\n"
   ]
  },
  {
   "cell_type": "code",
   "execution_count": 2,
   "id": "7a991a98",
   "metadata": {},
   "outputs": [
    {
     "name": "stdout",
     "output_type": "stream",
     "text": [
      "12-07-2022 <class 'str'>\n"
     ]
    }
   ],
   "source": [
    "f = open('today.txt','r')\n",
    "today_string = f.read()\n",
    "f.close()\n",
    "\n",
    "print(today_string,type(today_string))"
   ]
  },
  {
   "cell_type": "markdown",
   "id": "48c5ba4b",
   "metadata": {},
   "source": [
    "### 3. Parse the date from today_string.\n",
    "\n",
    "**Ans.**\n"
   ]
  },
  {
   "cell_type": "code",
   "execution_count": 3,
   "id": "a948a719",
   "metadata": {},
   "outputs": [
    {
     "name": "stdout",
     "output_type": "stream",
     "text": [
      "2022-07-12 00:00:00\n"
     ]
    }
   ],
   "source": [
    "from datetime import datetime\n",
    "\n",
    "date1 = datetime.strptime(today_string, \"%d-%m-%Y\")\n",
    "\n",
    "print(date1)"
   ]
  },
  {
   "cell_type": "markdown",
   "id": "b680304f",
   "metadata": {},
   "source": [
    "### 4. List the files in your current directory\n",
    "\n",
    "**Ans.**\n"
   ]
  },
  {
   "cell_type": "code",
   "execution_count": 4,
   "id": "a8fbffcd",
   "metadata": {},
   "outputs": [
    {
     "name": "stdout",
     "output_type": "stream",
     "text": [
      ".ipynb_checkpoints\n",
      "application_log.txt\n",
      "Assignment_01.ipynb\n",
      "Assignment_02.ipynb\n",
      "Assignment_03.ipynb\n",
      "Assignment_04.ipynb\n",
      "Assignment_05.ipynb\n",
      "Assignment_06.ipynb\n",
      "Assignment_07.ipynb\n",
      "Assignment_08.ipynb\n",
      "Assignment_09.ipynb\n",
      "Assignment_1.docx\n",
      "Assignment_10.docx\n",
      "Assignment_10.ipynb\n",
      "Assignment_11.docx\n",
      "Assignment_11.ipynb\n",
      "Assignment_12.docx\n",
      "Assignment_12.ipynb\n",
      "Assignment_13.docx\n",
      "Assignment_13.ipynb\n",
      "Assignment_14.docx\n",
      "Assignment_14.ipynb\n",
      "Assignment_15.docx\n",
      "Assignment_15.ipynb\n",
      "Assignment_16.docx\n",
      "Assignment_16.ipynb\n",
      "Assignment_17.docx\n",
      "Assignment_17.ipynb\n",
      "Assignment_18.docx\n",
      "Assignment_18.ipynb\n",
      "Assignment_19.docx\n",
      "Assignment_19.ipynb\n",
      "Assignment_2.docx\n",
      "Assignment_20.docx\n",
      "Assignment_20.ipynb\n",
      "Assignment_21.docx\n",
      "Assignment_21.ipynb\n",
      "Assignment_22.docx\n",
      "Assignment_22.ipynb\n",
      "Assignment_23.docx\n",
      "Assignment_23.ipynb\n",
      "Assignment_24.docx\n",
      "Assignment_24.ipynb\n",
      "Assignment_25.docx\n",
      "Assignment_25.ipynb\n",
      "Assignment_3.docx\n",
      "Assignment_4.docx\n",
      "Assignment_5.docx\n",
      "Assignment_6.docx\n",
      "Assignment_7.docx\n",
      "Assignment_8.docx\n",
      "Assignment_9.docx\n",
      "books.csv\n",
      "books.db\n",
      "cropped.jpeg\n",
      "DES_finblog\n",
      "FIN BLOG\n",
      "image.jpeg\n",
      "test.txt\n",
      "today.txt\n",
      "zoo.py\n",
      "__pycache__\n"
     ]
    }
   ],
   "source": [
    "import os\n",
    "\n",
    "a = os.getcwd()\n",
    "\n",
    "files=os.listdir(a)\n",
    "\n",
    "for file in files:\n",
    "    print(file)"
   ]
  },
  {
   "cell_type": "markdown",
   "id": "3bceddce",
   "metadata": {},
   "source": [
    "### 5. Create a list of all of the files in your parent directory (minimum five files should be available).\n",
    "\n",
    "**Ans.**\n"
   ]
  },
  {
   "cell_type": "code",
   "execution_count": 5,
   "id": "8e544012",
   "metadata": {},
   "outputs": [
    {
     "data": {
      "text/plain": [
       "['.ipynb_checkpoints',\n",
       " 'application_log.txt',\n",
       " 'Assignment_01.ipynb',\n",
       " 'Assignment_02.ipynb',\n",
       " 'Assignment_03.ipynb',\n",
       " 'Assignment_04.ipynb',\n",
       " 'Assignment_05.ipynb',\n",
       " 'Assignment_06.ipynb',\n",
       " 'Assignment_07.ipynb',\n",
       " 'Assignment_08.ipynb',\n",
       " 'Assignment_09.ipynb',\n",
       " 'Assignment_1.docx',\n",
       " 'Assignment_10.docx',\n",
       " 'Assignment_10.ipynb',\n",
       " 'Assignment_11.docx',\n",
       " 'Assignment_11.ipynb',\n",
       " 'Assignment_12.docx',\n",
       " 'Assignment_12.ipynb',\n",
       " 'Assignment_13.docx',\n",
       " 'Assignment_13.ipynb',\n",
       " 'Assignment_14.docx',\n",
       " 'Assignment_14.ipynb',\n",
       " 'Assignment_15.docx',\n",
       " 'Assignment_15.ipynb',\n",
       " 'Assignment_16.docx',\n",
       " 'Assignment_16.ipynb',\n",
       " 'Assignment_17.docx',\n",
       " 'Assignment_17.ipynb',\n",
       " 'Assignment_18.docx',\n",
       " 'Assignment_18.ipynb',\n",
       " 'Assignment_19.docx',\n",
       " 'Assignment_19.ipynb',\n",
       " 'Assignment_2.docx',\n",
       " 'Assignment_20.docx',\n",
       " 'Assignment_20.ipynb',\n",
       " 'Assignment_21.docx',\n",
       " 'Assignment_21.ipynb',\n",
       " 'Assignment_22.docx',\n",
       " 'Assignment_22.ipynb',\n",
       " 'Assignment_23.docx',\n",
       " 'Assignment_23.ipynb',\n",
       " 'Assignment_24.docx',\n",
       " 'Assignment_24.ipynb',\n",
       " 'Assignment_25.docx',\n",
       " 'Assignment_25.ipynb',\n",
       " 'Assignment_3.docx',\n",
       " 'Assignment_4.docx',\n",
       " 'Assignment_5.docx',\n",
       " 'Assignment_6.docx',\n",
       " 'Assignment_7.docx',\n",
       " 'Assignment_8.docx',\n",
       " 'Assignment_9.docx',\n",
       " 'books.csv',\n",
       " 'books.db',\n",
       " 'cropped.jpeg',\n",
       " 'DES_finblog',\n",
       " 'FIN BLOG',\n",
       " 'image.jpeg',\n",
       " 'test.txt',\n",
       " 'today.txt',\n",
       " 'zoo.py',\n",
       " '__pycache__']"
      ]
     },
     "execution_count": 5,
     "metadata": {},
     "output_type": "execute_result"
    }
   ],
   "source": [
    "import os \n",
    "os.listdir()"
   ]
  },
  {
   "cell_type": "markdown",
   "id": "b2010665",
   "metadata": {},
   "source": [
    "### 6. Use multiprocessing to create three separate processes. Make each one wait a random number of seconds between one and five, print the current time, and then exit.\n",
    "\n",
    "**Ans.**\n"
   ]
  },
  {
   "cell_type": "markdown",
   "id": "deb7b231",
   "metadata": {},
   "source": [
    "### 7. Create a date object of your day of birth.\n",
    "\n",
    "**Ans.**\n"
   ]
  },
  {
   "cell_type": "code",
   "execution_count": 6,
   "id": "49c8ce19",
   "metadata": {},
   "outputs": [
    {
     "name": "stdout",
     "output_type": "stream",
     "text": [
      "1994-12-31 00:00:00 <class 'datetime.datetime'>\n"
     ]
    }
   ],
   "source": [
    "from datetime import datetime\n",
    "\n",
    "dob = datetime.strptime(\"31-12-1994\",\"%d-%m-%Y\")\n",
    "\n",
    "print(dob, type(dob))"
   ]
  },
  {
   "cell_type": "markdown",
   "id": "076dd9e2",
   "metadata": {},
   "source": [
    "### 8. What day of the week was your day of birth?\n",
    "\n",
    "**Ans.**\n"
   ]
  },
  {
   "cell_type": "code",
   "execution_count": 7,
   "id": "4fb1d883",
   "metadata": {},
   "outputs": [
    {
     "name": "stdout",
     "output_type": "stream",
     "text": [
      "Saturday\n"
     ]
    }
   ],
   "source": [
    "from datetime import datetime\n",
    "\n",
    "dob = datetime.strptime(\"31-12-1994\",\"%d-%m-%Y\")\n",
    "weekdays = [\"Monday\", \"Tuesday\", \"Wednesday\", \"Thursday\", \"Friday\", \"Saturday\"]\n",
    "day_of_birth = dob.weekday()\n",
    "\n",
    "print(weekdays[day_of_birth])"
   ]
  },
  {
   "cell_type": "code",
   "execution_count": 8,
   "id": "c842def8",
   "metadata": {},
   "outputs": [
    {
     "name": "stdout",
     "output_type": "stream",
     "text": [
      "Saturday\n"
     ]
    }
   ],
   "source": [
    "from datetime import datetime\n",
    "\n",
    "dob = datetime.strptime(\"31-12-1994\",\"%d-%m-%Y\")\n",
    "day_of_birth = dob.strftime(\"%A\")\n",
    "\n",
    "print(day_of_birth)"
   ]
  },
  {
   "cell_type": "markdown",
   "id": "25bd38dd",
   "metadata": {},
   "source": [
    "### 9. When will you be (or when were you) 10,000 days old?\n",
    "\n",
    "**Ans.**\n"
   ]
  },
  {
   "cell_type": "code",
   "execution_count": 9,
   "id": "de6419d8",
   "metadata": {},
   "outputs": [
    {
     "name": "stdout",
     "output_type": "stream",
     "text": [
      "Tuesday 15-08-1967\n"
     ]
    }
   ],
   "source": [
    "from datetime import datetime,timedelta\n",
    "\n",
    "dob = datetime.strptime(\"31-12-1994\",\"%d-%m-%Y\")\n",
    "day_10000 = dob-timedelta(10000)\n",
    "\n",
    "print(day_10000.strftime(\"%A\"),day_10000.strftime(\"%d-%m-%Y\"))"
   ]
  }
 ],
 "metadata": {
  "kernelspec": {
   "display_name": "Python 3 (ipykernel)",
   "language": "python",
   "name": "python3"
  },
  "language_info": {
   "codemirror_mode": {
    "name": "ipython",
    "version": 3
   },
   "file_extension": ".py",
   "mimetype": "text/x-python",
   "name": "python",
   "nbconvert_exporter": "python",
   "pygments_lexer": "ipython3",
   "version": "3.10.2"
  }
 },
 "nbformat": 4,
 "nbformat_minor": 5
}
