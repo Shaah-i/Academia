{
 "cells": [
  {
   "cell_type": "markdown",
   "id": "2aea731f",
   "metadata": {},
   "source": [
    "# Assignment_24"
   ]
  },
  {
   "cell_type": "markdown",
   "id": "37800bcc",
   "metadata": {},
   "source": [
    "### 1. What is the relationship between def statements and lambda expressions ?\n",
    "\n",
    "**Ans.** `def` is a normal function while `lambda` is an anonymus function. The lambda function is very versatile as it can be assigned to a variable and can be called anytime using the variable. It is a single statment while def function contains a block of statments. As lambda statment is a single line function we don't need to return anything and is limited to small function unlike def."
   ]
  },
  {
   "cell_type": "markdown",
   "id": "d0de86b9",
   "metadata": {},
   "source": [
    "### 2. What is the benefit of lambda?\n",
    "\n",
    "**Ans.** The following are some of the benefits of lambda expressions:\n",
    "\n",
    "1. Can be used to create Nameless/Anonymous functions inside some complex functions if we are planning to use it only once.\n",
    "2. Moderate to small functions can be created in a single line.\n",
    "3. Fuctions created using lambda expressions can be assigned to a variable and can be used by simply calling the variable."
   ]
  },
  {
   "cell_type": "markdown",
   "id": "7f57bcaa",
   "metadata": {},
   "source": [
    "### 3. Compare and contrast map, filter, and reduce.\n",
    "\n",
    "**Ans.** The differences between map, filter and reduce are:\n",
    "\n",
    "1. map(): The map() function makes an iterator that computes the function using arguments from each of the iterables.  Stops when the shortest iterable is exhausted.\n",
    "2. filter(): The filter() returns an iterator yielding those items of iterable for which function (item) is true. If function is None, returns the items that are true.\n",
    "3. reduce(): The reduce() function applies a function of two arguments cumulatively to the items of a sequenc or iterable, from left to right, so as to reduce the iterable to a single value."
   ]
  },
  {
   "cell_type": "code",
   "execution_count": 1,
   "id": "075f9aa8",
   "metadata": {},
   "outputs": [
    {
     "name": "stdout",
     "output_type": "stream",
     "text": [
      "O/p of map :  [2, 4, 6, 8, 10]\n",
      "O/p of filter :  [1, 3, 5]\n",
      "O/p of Reduce :  15\n"
     ]
    }
   ],
   "source": [
    "from functools import reduce\n",
    "print(\"O/p of map : \", list(map(lambda x: x+x, [1, 2, 3, 4, 5])))\n",
    "\n",
    "print(\"O/p of filter : \", list(filter(lambda x: x%2 != 0, [1, 2, 3, 4, 5])))\n",
    "\n",
    "print(\"O/p of Reduce : \", reduce(lambda x, y: x+y, [1, 2, 3, 4, 5]))"
   ]
  },
  {
   "cell_type": "markdown",
   "id": "e97e1dcb",
   "metadata": {},
   "source": [
    "### 4. What are function annotations, and how are they used?\n",
    "\n",
    "**Ans.** Function annotations provide a way of associating various parts of a function with arbitrary python expressions at compile time.</br>\n",
    "\n",
    "Annotations for simple parameters : `def op(a: expression, b: expression = 5):`</br>\n",
    "Annotations for excess parameters : `def op(args: expression, kwargs: expression):`</br>\n",
    "Annotations for nested parameters : `def op((a: expression, b: expression), (c: expression, d: expression)):`</br>"
   ]
  },
  {
   "cell_type": "markdown",
   "id": "1cec8bca",
   "metadata": {},
   "source": [
    "### 5. What are recursive functions, and how are they used?\n",
    "\n",
    "**Ans.** Recursive functions are the functions which are called in itself several during execution."
   ]
  },
  {
   "cell_type": "code",
   "execution_count": 2,
   "id": "55c66784",
   "metadata": {},
   "outputs": [
    {
     "name": "stdout",
     "output_type": "stream",
     "text": [
      "1\n",
      "2\n",
      "3\n",
      "4\n",
      "5\n",
      "6\n",
      "7\n",
      "8\n",
      "9\n"
     ]
    }
   ],
   "source": [
    "def plusOne(k):\n",
    "    if k < 10:\n",
    "        print(k)\n",
    "        k = plusOne(k+1)\n",
    "        \n",
    "        \n",
    "plusOne(1)"
   ]
  },
  {
   "cell_type": "markdown",
   "id": "93a064f1",
   "metadata": {},
   "source": [
    "### 6. What are some general design guidelines for coding functions?\n",
    "\n",
    "**Ans.** The general design guidelines for coding function are as follows: </br>\n",
    "\n",
    "1. Avoid use of global variables\n",
    "2. Variable name should not contain digits e.g. test1 = list(1,2,3)\n",
    "3. Use good variable naming conventions/formats like *Underscores* (e.g. ex: some_var, some_class, some_package.xyz) or *Pascal Case* (e.g.  SomeVar, SomeClass, SomePackage.xyz) or *Camel Case* (e.g. someVar, someClass, somePackage.xyz).\n",
    "4. Name the function with actual purpose of the function e.g. isPrime() will tell if a number is prime or not.\n",
    "5. Use docstring to explain the working/ application of the function\n",
    "6. Use proper indentation for code readability and bug identification.\n",
    "7. Can use all uppercase for constants e.g. LIMIT = 100 (Python doesn’t have built-in constant types and hence this convention helps identify and not change its value)"
   ]
  },
  {
   "cell_type": "markdown",
   "id": "fe123d27",
   "metadata": {},
   "source": [
    "### 7. Name three or more ways that functions can communicate results to a caller.\n",
    "\n",
    "**Ans.**\n",
    "1. return\n",
    "2. print\n",
    "3. yield"
   ]
  }
 ],
 "metadata": {
  "kernelspec": {
   "display_name": "Python 3 (ipykernel)",
   "language": "python",
   "name": "python3"
  },
  "language_info": {
   "codemirror_mode": {
    "name": "ipython",
    "version": 3
   },
   "file_extension": ".py",
   "mimetype": "text/x-python",
   "name": "python",
   "nbconvert_exporter": "python",
   "pygments_lexer": "ipython3",
   "version": "3.10.2"
  }
 },
 "nbformat": 4,
 "nbformat_minor": 5
}
