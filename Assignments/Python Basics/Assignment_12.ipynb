{
 "cells": [
  {
   "cell_type": "markdown",
   "id": "2aea731f",
   "metadata": {},
   "source": [
    "# Assignment_12"
   ]
  },
  {
   "cell_type": "markdown",
   "id": "37800bcc",
   "metadata": {},
   "source": [
    "### 1. In what modes should the PdfFileReader() and PdfFileWriter() File objects will be opened?\n",
    "\n",
    "**Ans.**\n",
    "\n",
    "`rb` (read binary) mode should be used to open `PdfFileReader()` file object and `wb` wirte binary) mode should be used to open `PdfFileWriter()` file object.\n"
   ]
  },
  {
   "cell_type": "markdown",
   "id": "248a78cf",
   "metadata": {},
   "source": [
    "### 2. From a PdfFileReader object, how do you get a Page object for page 5?\n",
    "\n",
    "**Ans.**\n",
    "`getPage(5)` is to be used to get page object from `PdfFileReader()` class."
   ]
  },
  {
   "cell_type": "code",
   "execution_count": null,
   "id": "bc772969",
   "metadata": {},
   "outputs": [],
   "source": [
    "from PyPDF2 import PdfFileReader\n",
    "\n",
    "p_r = PdfFileReader(file_path)\n",
    "p_r.getPage(5)"
   ]
  },
  {
   "cell_type": "markdown",
   "id": "99f75c5f",
   "metadata": {},
   "source": [
    "### 3. What PdfFileReader variable stores the number of pages in the PDF document?\n",
    "\n",
    "**Ans.**\n",
    "`getNumPages()` is used to store number of pages in PDF document."
   ]
  },
  {
   "cell_type": "markdown",
   "id": "eb7816a3",
   "metadata": {},
   "source": [
    "### 4. If a PdfFileReader object’s PDF is encrypted with the password swordfish, what must you do before you can obtain Page objects from it?\n",
    "\n",
    "**Ans.**\n",
    "Use `decrypt()` with the said password and then read its contents. It might throw an error if unable to decrypt."
   ]
  },
  {
   "cell_type": "code",
   "execution_count": null,
   "id": "fe00453c",
   "metadata": {},
   "outputs": [],
   "source": [
    "from PyPDF2 import PdfFileReader\n",
    "\n",
    "p_r = PdfFileReader(file_path)\n",
    "p_r.decrypt(\" swordfish\")\n",
    "p_r.extracText()"
   ]
  },
  {
   "cell_type": "markdown",
   "id": "405b4a73",
   "metadata": {},
   "source": [
    "### 5. What methods do you use to rotate a page?\n",
    "\n",
    "**Ans.**\n",
    "`rotateCounterClockwise()` and `rotateClockwise()` methods are used to rotate a page.\n",
    "\n",
    "P.S. We can only rotate pages with increments of 90 degrees."
   ]
  },
  {
   "cell_type": "markdown",
   "id": "2e77cd98",
   "metadata": {},
   "source": [
    "### 6. What is the difference between a Run object and a Paragraph object?\n",
    "\n",
    "**Ans.**\n",
    "The structure of a document is represented by three different data types in `python-Docx`. At the highest level, a Document object represents the entire document. The Document object contains a list of `Paragraph` objects for the paragraphs in the document. (A new paragraph begins whenever the user presses ENTER or RETURN while typing in a Word document.) Each of these Paragraph objects contains a list of one or more `Run` objects.\n",
    "\n",
    "The text in a Word document is more than just a string. It has font, size, color, and other styling information associated with it. A style in Word is a collection of these attributes. A Run object is a contiguous run of text with the same style. A new Run object is needed whenever the text style changes."
   ]
  },
  {
   "cell_type": "markdown",
   "id": "9100ec1f",
   "metadata": {},
   "source": [
    "### 7. How do you obtain a list of Paragraph objects for a Document object that’s stored in a variable named doc?\n",
    "\n",
    "**Ans.**\n"
   ]
  },
  {
   "cell_type": "code",
   "execution_count": null,
   "id": "1c190609",
   "metadata": {},
   "outputs": [],
   "source": [
    "fomr docx import Document\n",
    "doc = Document(file_path)\n",
    "print(doc.paragraphs)\n",
    "l=[para for para in doc.paragraphs]"
   ]
  },
  {
   "cell_type": "markdown",
   "id": "74b731bb",
   "metadata": {},
   "source": [
    "### 8. What type of object has bold, underline, italic, strike, and outline variables?\n",
    "\n",
    "**Ans.**\n",
    "The `Run` object has the functions like bold, underline, italic, strike, and outline variables."
   ]
  },
  {
   "cell_type": "markdown",
   "id": "966b4ffd",
   "metadata": {},
   "source": [
    "### 9. What is the difference between False, True, and None for the bold variable?\n",
    "\n",
    "**Ans.**\n",
    "* When True the style is set to bold.\n",
    "* When False the style is NOT set to bold.\n",
    "* When None the style is NOT APPLICABLE."
   ]
  },
  {
   "cell_type": "markdown",
   "id": "8e3c6985",
   "metadata": {},
   "source": [
    "### 10. How do you create a Document object for a new Word document?\n",
    "\n",
    "**Ans.**\n"
   ]
  },
  {
   "cell_type": "code",
   "execution_count": null,
   "id": "57d2a3ca",
   "metadata": {},
   "outputs": [],
   "source": [
    "from docx import Document\n",
    "doc = Document()\n",
    "doc.add_paragraph(\"This is a new word document\")\n",
    "doc.save('NewDocument.docx')"
   ]
  },
  {
   "cell_type": "markdown",
   "id": "e681f165",
   "metadata": {},
   "source": [
    "### 11. How do you add a paragraph with the text 'Hello, there!' to a Document object stored in a variable named doc?\n",
    "\n",
    "**Ans.**\n"
   ]
  },
  {
   "cell_type": "code",
   "execution_count": null,
   "id": "c1b13c62",
   "metadata": {},
   "outputs": [],
   "source": [
    "from docx import Document\n",
    "doc = Document()\n",
    "doc.add_paragraph(\"Hello, there!\")\n",
    "doc.save('HelloDoc.docx')"
   ]
  },
  {
   "cell_type": "markdown",
   "id": "dbe5cdf1",
   "metadata": {},
   "source": [
    "### 12. What integers represent the levels of headings available in Word documents?\n",
    "\n",
    "**Ans.**\n",
    "total 5 levels are available, from 0 to 4. 0 is a headline with a line below it. 1 is the main heading with decreased font size. Further the heading font size goes on decreasing until for where it is least."
   ]
  },
  {
   "cell_type": "markdown",
   "id": "d8665d56",
   "metadata": {},
   "source": [
    "# <u> 0 : Heading </u>\n",
    "\n",
    "# 1 : Heading\n",
    "## 2 : Heading\n",
    "### 3 : Heading\n",
    "### 4 : Heading"
   ]
  }
 ],
 "metadata": {
  "kernelspec": {
   "display_name": "Python 3 (ipykernel)",
   "language": "python",
   "name": "python3"
  },
  "language_info": {
   "codemirror_mode": {
    "name": "ipython",
    "version": 3
   },
   "file_extension": ".py",
   "mimetype": "text/x-python",
   "name": "python",
   "nbconvert_exporter": "python",
   "pygments_lexer": "ipython3",
   "version": "3.10.2"
  }
 },
 "nbformat": 4,
 "nbformat_minor": 5
}
