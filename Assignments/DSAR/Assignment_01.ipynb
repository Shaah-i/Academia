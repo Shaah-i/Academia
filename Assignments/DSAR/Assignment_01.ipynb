{
 "cells": [
  {
   "cell_type": "markdown",
   "id": "daff0fb8",
   "metadata": {},
   "source": [
    "# Assignment_1"
   ]
  },
  {
   "cell_type": "markdown",
   "id": "dced5dde",
   "metadata": {},
   "source": [
    "### 1. What are the applications of AI in Transportation? Briefly explain any of the two?\n",
    "\n",
    "**Ans.**\n",
    "There are several challenges that are persistent throughout the transportation industry and that have plagued this sector ever since its inception. Among them are safety, reliability, efficiently, and pollution more recently becoming an increasingly important aspect of transportation requiring attention.\n",
    "\n",
    "**Smartphone Apps**\n",
    "\n",
    "Nowadays, there really is an app for everything. This includes AI-powered real-time traffic updates through services such as Google Maps or Waze. By using location data collected from users smartphones, these apps are able to predict and  traffic conditions in your local area so as to better inform your travel plans.\n",
    "These apps may not be around for long though, as they may soon face direct competition from autonomous vehicles themselves.\n",
    "\n",
    "**Traffic Management Solutions**\n",
    "\n",
    "Another way in which artificial intelligence technologies are used within transportation is in the traffic management systems. Again, due to its processing, control and optimization capabilities, artificial intelligence could be applied to traffic management and decision-making systems in order to enhance and streamline traffic management and make our roads smarter.\n",
    "The predictive abilities of AI are also of huge benefit to traffic management systems as they are able to recognize the physical and environmental conditions that can lead to or be the result of heavier traffic flow and congestion.\n",
    "As an example, in India, Siemens Mobility is testing a prototype monitoring system which is using AI throughout traffic lights, to put a final victory to the dreaded traffic jams.\n",
    "\n",
    "**Passenger Transportation**\n",
    "\n",
    "Self-driving airplanes have been around for a while.\n",
    "\n",
    "People are often surprised to find out that one of the earliest adoptions of artificial intelligence within transportation was, in fact, the autopilot systems used in almost every commercial aircraft in service. While today it may not sound as futuristic as other applications in which AI is being tested, it is still an essential part of any modern air travel.\n",
    "Interestingly, the New York Times reports that only seven minutes of an average Boeing flights are controlled by a human with the rest being handled by a computer. Unsurprisingly, the human-controlled parts of the flight are mostly during both take-off and landing.\n"
   ]
  },
  {
   "cell_type": "markdown",
   "id": "82da4c63",
   "metadata": {},
   "source": [
    "### 2. What is an example  of how AI is changing transportation?\n",
    "\n",
    "**Ans.** Autonomous vehicles, or self-driving cars, are being developed and tested by a number of manufacturers across the globe including Waymo, Tesla and BMW. Using a combination of sensors, cameras and AI, the technology will be able to take people between destinations without the need for a driver."
   ]
  },
  {
   "cell_type": "markdown",
   "id": "b2547901",
   "metadata": {},
   "source": [
    "### 3. How is AI  helping transportation and logistics corporations?\n",
    "\n",
    "**Ans.**\n",
    "Business that generates the revenue running commercial vehicles for intra-city, state, and across the countries, which would be the goods transport or travels perspective. For current demand, this business growing considerably on the large scale and there is expertise who are looking to improvise all aspects. Definitely, there are challenges and opportunities for AI-based solutions in this space.\n",
    "In the logistics sector, AI is actively contributing to safer driving environments for the drivers and optimization of vehicle maintenance and performance, to enhance the overall transportation businesses/Logistics Industry.\n",
    "Besides, AI doing greater millstone and actively involved in the development of the introduction of self-driving or driverless cars.The research says that 60-65% of the industry leaders believe that logistics, transportation, and supply chain would require profound transformation. The report by Accenture reveals that 36% of large, mid-, and small-size organizations have successfully adopted AI capabilities for their logistics and supply chain processes.\n",
    "The survey and research say that AI is absolutely claimed to increase productivity by more than 40-45% by the year 2035. And revenue growth in the logistics domain would increase and renovate the industry in different aspects and reaching their customer deeply and increase the market competition in this domain with AI.\n"
   ]
  },
  {
   "cell_type": "markdown",
   "id": "a8f456ac",
   "metadata": {},
   "source": [
    "### 4. How AI powered robots help in detecting oil sleep?\n",
    "\n",
    "**Ans.**\n",
    "As one of the most valued commodities in the energy sector, the oil and gas industry is no stranger to innovation. At first glance, a deep-sea oil rig may not look like a digitally enriched environment, but the oil and gas industry is making massive strides in integrating AI solutions to solve complex problems. AI can help improve productivity and efficiency, reduce costs, explore new resources, predict maintenance hazards, provide better safety measures, and add value to all supply chain components in the oil and gas industry.The question of whether AI is needed in the traditional oil and gas industry is moot. Every major company in the field is warming up to the potential impact of AI. A recent survey showed that more than 92% of the current oil and gas companies have already invested or plan to invest in AI. More than 50% of industry executives attest to the fact that they have already started using AI to solve their nagging concerns.\n",
    "Broadly, AI can refer to a framework involving machine learning, natural language processing, neural networks, autonomics, and various other related systems. The use of machine learning is transforming oil and gas discovery because of the ability to gather and process large amounts of real-time data. AI can substantially reduce unplanned downtime and optimize production to increase revenue. From geological data analyzing upstream to customer engagement downstream, AI is starting to make its’ presence felt in the oil and gas industry.\n",
    "Data Analytics and Exploration\n",
    "AI-powered data analytics can help companies discover new exploration opportunities. In the upstream sector, AI-augmented solutions can help search for underground or underwater gas fields and crude oil. Recently ExxonMobil announced a partnership with MIT for the design of robots to help improve natural oil detection. These AI-powered robots will help detect natural oil seeps efficiently, without risk, and with minimal environmental impact.\n",
    "\n",
    "Insights provided by AI algorithms enable better operational visibility and help make better strategic decisions. BP recently invested $5 million in a partnership with Belmont Technology for using their cloud-based ML platform named “Sandy” to mine geological data and compare it with historical data to identify new workflows.\n",
    "\n",
    "Total S.A., a pioneer in the oil and gas industry from France, recently partnered with Google Cloud to develop AI solutions for subsurface data analysis to explore new avenues. This partnership will help their AI solutions to analyze technical documentation using NLP and examine subsurface images using computer vision technology to make their exploration of oil and gas fields much more efficient\n"
   ]
  },
  {
   "cell_type": "markdown",
   "id": "1c1be901",
   "metadata": {},
   "source": [
    "### 5. list out the five basic application of AI in the OIL industry?\n",
    "\n",
    "**Ans.**\n",
    "* Surface Analysis/Geological Assessment\n",
    "* Reducing Well/Equipment Downtime\n",
    "* Optimizing Production and Scheduling\n",
    "* Asset Tracking and Maintenance Using Digital Twins\n",
    "* Defect Detection\n",
    "* AI-led Cybersecurity\n",
    "* Workplace Safety\n",
    "* Analytics-Driven Decision Making\n",
    "* Emission Tracking"
   ]
  }
 ],
 "metadata": {
  "kernelspec": {
   "display_name": "Python 3 (ipykernel)",
   "language": "python",
   "name": "python3"
  },
  "language_info": {
   "codemirror_mode": {
    "name": "ipython",
    "version": 3
   },
   "file_extension": ".py",
   "mimetype": "text/x-python",
   "name": "python",
   "nbconvert_exporter": "python",
   "pygments_lexer": "ipython3",
   "version": "3.10.2"
  }
 },
 "nbformat": 4,
 "nbformat_minor": 5
}
