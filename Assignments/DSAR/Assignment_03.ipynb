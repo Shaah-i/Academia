{
 "cells": [
  {
   "cell_type": "markdown",
   "id": "daff0fb8",
   "metadata": {},
   "source": [
    "# Assignment_3"
   ]
  },
  {
   "cell_type": "markdown",
   "id": "dced5dde",
   "metadata": {},
   "source": [
    "### 1. What type of AI based business intelligence application are currently used in insurance?\n",
    "\n",
    "**Ans.** To cut it short, it is helping insurers and policyholders alike. Here's how: Insurers get better equipped to assess risks, detect fraud, and reduce human errors with the help of AI in the insurance industry. AI in insurance offers better and streamlined customer services along with easier and quicker claims processing.\n",
    "1. Application processing including insurance underwriting\n",
    "2. Claims processing\n",
    "3. Claims document processing\n",
    "4. Automated repair cost estimation\n",
    "5. Document creation\n",
    "6. Responding to customer queries\n",
    "7. Understanding customers better\n",
    "8. Insurance fraud detection"
   ]
  },
  {
   "cell_type": "markdown",
   "id": "15aae75d",
   "metadata": {},
   "source": [
    "### 2. What are the applications and technique of artificial intelligence?\n",
    "\n",
    "**Ans.** Artificial intelligence (AI) has been used in applications to alleviate certain problems throughout industry and academia. AI, like electricity or computers, is a general purpose technology that has a multitude of applications. It has been used in fields of language translation, image recognition, credit scoring, e-commerce and other domains.\n",
    "AI techniques are those procedures which are used to enable computers to show human like intelligent activities such as visual perception, speech recognition, decision-making, natural language understanding etc.\n"
   ]
  },
  {
   "cell_type": "markdown",
   "id": "e8fedf79",
   "metadata": {},
   "source": [
    "### 3. What is the difference between security and surveillance?\n",
    "\n",
    "**Ans.** Surveillance cameras use digital signals to transmit recorded video to a NVR via a single cable, eliminating the need for multiple power cables. Security cameras, however, require cabling to transmit video feeds to a limited number of monitors, and the cameras must be strategically placed in a single location."
   ]
  },
  {
   "cell_type": "markdown",
   "id": "81717dba",
   "metadata": {},
   "source": [
    "### 4. Can AI be used for security?\n",
    "\n",
    "**Ans.**\n",
    "It not only improves security but also covers a large area in the threat landscape. AI algorithms can prevent some novel threats due to their nature: security threats, malware and adversarial tactics usually evolve by building on previous exploitations and malware."
   ]
  },
  {
   "cell_type": "markdown",
   "id": "655529e6",
   "metadata": {},
   "source": [
    "### 5. How does AI improve security?\n",
    "\n",
    "**Ans.**\n",
    "It not only improves security but also covers a large area in the threat landscape. AI algorithms can prevent some novel threats due to their nature: security threats, malware and adversarial tactics usually evolve by building on previous exploitations and malware."
   ]
  }
 ],
 "metadata": {
  "kernelspec": {
   "display_name": "Python 3 (ipykernel)",
   "language": "python",
   "name": "python3"
  },
  "language_info": {
   "codemirror_mode": {
    "name": "ipython",
    "version": 3
   },
   "file_extension": ".py",
   "mimetype": "text/x-python",
   "name": "python",
   "nbconvert_exporter": "python",
   "pygments_lexer": "ipython3",
   "version": "3.10.2"
  }
 },
 "nbformat": 4,
 "nbformat_minor": 5
}
