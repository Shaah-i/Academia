{
 "cells": [
  {
   "cell_type": "markdown",
   "id": "daff0fb8",
   "metadata": {},
   "source": [
    "# Assignment_2"
   ]
  },
  {
   "cell_type": "markdown",
   "id": "dced5dde",
   "metadata": {},
   "source": [
    "### 1. What are the 5 major common challenges of the telecom Industry ,and how to overcome then using AI?\n",
    "\n",
    "**Ans.** High competition and tariff war: Post entry of Reliance Jio competition between different telecom sectors has further ignited. Other telecom players have to drop tariff rates both for voice and data. This has decreased their net profit and led to a financial crunch which delayed further investment.Political factors. Guideline issues come up often times. ...\n",
    "Economical factors. Financing costs, expansion, and expenses influence the media transmission industry. ...\n",
    "Social factors. ...\n",
    "Technological Factors. ...\n",
    "Legal factors. ...\n",
    "Environment factors.\n",
    "AI in the telecom industry uses advanced algorithms to look for patterns within the data, enabling telecoms to both detect and predict network anomalies. As a result of using AI in telecom, CSPs can proactively fix problems before customers are negatively impacted.\n"
   ]
  },
  {
   "cell_type": "markdown",
   "id": "ad437b76",
   "metadata": {},
   "source": [
    "### 2. What problems is the banking industry facing now?\n",
    "\n",
    "**Ans.** The top challenges facing the financial services industry are data breaches, keeping up with regulations, exceeding consumer expectations, and surpassing the competition. Financial service firms must stay ahead of the curve to remain competitive and meet the needs of their customers.Financial services companies are facing multiple risk management challenges in the current climate. Economic and political uncertainty prevails, while the risk of asset bubbles and inflation is rising in different parts of the world.\n"
   ]
  },
  {
   "cell_type": "markdown",
   "id": "99161dec",
   "metadata": {},
   "source": [
    "### 3. How is artificial Intelligence used in banking?\n",
    "\n",
    "**Ans.** The uses of AI in banking industry are incredible. The banks are implementing AI for detecting frauds, enhancing customer experience, tracking customer behavior for recommending more personalized services, analyzing customer credit histories to predict risks associated with allotting loans, and many more."
   ]
  },
  {
   "cell_type": "markdown",
   "id": "c5e0abf7",
   "metadata": {},
   "source": [
    "### 4. What are the examples of artificial intelligence in banking?\n",
    "\n",
    "**Ans.** Machine Learning, predictive analytics, and voice recognition tools are all increasing the value of digital banking services. AI Chatbots, facial recognition banking apps, and fraud detection systems and applications are all a few best examples of AI in banking and finance industry."
   ]
  },
  {
   "cell_type": "markdown",
   "id": "b0a747a9",
   "metadata": {},
   "source": [
    "### 5. How do insurance companies use AI to mitigate risk?\n",
    "\n",
    "**Ans.** The Need for AI in Insurance</br>\n",
    "*Sales and marketing*: Machine learning can be used to price insurance policies more competitively and relevantly and recommend useful products to customers. \n",
    "\n",
    "*Risk*: Neural networks can be used to recognize fraud patterns and reduce fraudulent claims.\n",
    "\n",
    "Define an end-to-end model operations process. ...\n",
    "Register all models in a central production model inventory. ...\n",
    "Automate model monitoring and orchestrate remediation. ...\n",
    "Establish regulatory and compliance controls for all models. ...\n",
    "Orchestrate, don't duplicate or replicate."
   ]
  }
 ],
 "metadata": {
  "kernelspec": {
   "display_name": "Python 3 (ipykernel)",
   "language": "python",
   "name": "python3"
  },
  "language_info": {
   "codemirror_mode": {
    "name": "ipython",
    "version": 3
   },
   "file_extension": ".py",
   "mimetype": "text/x-python",
   "name": "python",
   "nbconvert_exporter": "python",
   "pygments_lexer": "ipython3",
   "version": "3.10.2"
  }
 },
 "nbformat": 4,
 "nbformat_minor": 5
}
