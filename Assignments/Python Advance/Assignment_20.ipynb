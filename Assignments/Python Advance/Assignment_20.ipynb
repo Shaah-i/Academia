{
 "cells": [
  {
   "cell_type": "markdown",
   "id": "738eb2ee",
   "metadata": {},
   "source": [
    "# Assignment_20"
   ]
  },
  {
   "cell_type": "markdown",
   "id": "c9c0c28a",
   "metadata": {},
   "source": [
    "#### 1. Compare and contrast the float and Decimal classes' benefits and drawbacks.\n",
    "\n",
    "Ans. Both the `float` and `decimal` types store numerical values in Python.\n",
    "\n",
    "We use `float` when convenience and speed matter. A `float` gives us an approximation of the number we declare.\n",
    "\n",
    "We use decimals when precision matters. `Decimal` can suffer from their own precision issues, but generally, decimals are more precise than floats. The performance difference between float and decimal, with Python 3, is not outlandish, and in my experience, the performance benefits of a float outweigh the precision benefits of a decimal."
   ]
  },
  {
   "cell_type": "markdown",
   "id": "f19ef45b",
   "metadata": {},
   "source": [
    "#### 2. Decimal('1.200') and Decimal('1.2') are two objects to consider. In what sense are these the same object? Are these just two ways of representing the exact same value, or do they correspond to different internal states?\n",
    "\n",
    "Ans. Both values are same but internal representation at storage is different. Precsion differs, `Decimal('1.200')` gives internally `1.200` and `Decimal('1.2')` gives `1.2`."
   ]
  },
  {
   "cell_type": "markdown",
   "id": "620880e6",
   "metadata": {},
   "source": [
    "#### 3. What happens if the equality of Decimal('1.200') and Decimal('1.2') is checked?\n",
    "\n",
    "Ans. Both values are checked to be equal since they only differ in precision."
   ]
  },
  {
   "cell_type": "code",
   "execution_count": 1,
   "id": "22280059",
   "metadata": {},
   "outputs": [
    {
     "name": "stdout",
     "output_type": "stream",
     "text": [
      "a =  1.200\n",
      "b =  1.2\n",
      "a==b :  True\n"
     ]
    }
   ],
   "source": [
    "from decimal import Decimal\n",
    "\n",
    "a = Decimal('1.200')\n",
    "b = Decimal('1.2')\n",
    "print(\"a = \", a)\n",
    "print(\"b = \", b)\n",
    "print(\"a==b : \", a==b)"
   ]
  },
  {
   "cell_type": "markdown",
   "id": "e7aa4098",
   "metadata": {},
   "source": [
    "#### 4. Why is it preferable to start a Decimal object with a string rather than a floating-point value?\n",
    "\n",
    "Ans. Floating-point value is converted to Decimal format. Decimal can store float value with absolute precision. But when float value is given as Decimal object,it first has to be converted from floating point value which might already have rounding error.\n",
    "\n",
    "Hence it is preferable to start a Decimal object with a string."
   ]
  },
  {
   "cell_type": "markdown",
   "id": "7aa12214",
   "metadata": {},
   "source": [
    "#### 5. In an arithmetic phrase, how simple is it to combine Decimal objects with integers?\n",
    "\n",
    "Ans. We can do it with use of `Decimal()`."
   ]
  },
  {
   "cell_type": "markdown",
   "id": "70db166e",
   "metadata": {},
   "source": [
    "#### 6. Can Decimal objects and floating-point values be combined easily?\n",
    "\n",
    "Ans. Arithmetic operfations like Adding,subtracting or multiplying a Decimal object by a floating-point value generates an error.\n",
    "\n",
    "To do these operations, the floating point has to be converted to a Decimal."
   ]
  },
  {
   "cell_type": "markdown",
   "id": "53fc621a",
   "metadata": {},
   "source": [
    "#### 7. Using the Fraction class but not the Decimal class, give an example of a quantity that can be expressed with absolute precision.\n",
    "\n",
    "Ans. Value of 0.5 will be represented as `½`."
   ]
  },
  {
   "cell_type": "markdown",
   "id": "dc53d6a4",
   "metadata": {},
   "source": [
    "#### 8. Describe a quantity that can be accurately expressed by the Decimal or Fraction classes but not by a floating-point value."
   ]
  },
  {
   "cell_type": "code",
   "execution_count": 2,
   "id": "1cfeaa98",
   "metadata": {},
   "outputs": [
    {
     "name": "stdout",
     "output_type": "stream",
     "text": [
      "3333333333333333/10000000000000000 <class 'fractions.Fraction'>\n",
      "0.3333 <class 'decimal.Decimal'>\n",
      "0.333333333333333314829616256247390992939472198486328125 <class 'decimal.Decimal'>\n",
      "0.3333333333333333 <class 'float'>\n"
     ]
    }
   ],
   "source": [
    "from decimal import Decimal\n",
    "from fractions import Fraction as frac\n",
    "\n",
    "print(frac('0.3333333333333333'), type(frac('0.3333333333333333')))\n",
    "print(Decimal('0.3333'), type(Decimal('0.3333')))\n",
    "print(Decimal(1/3), type(Decimal(1/3)))\n",
    "print(1/3, type(1/3)) \n",
    "\n",
    "# Basically the precision is lost when number is stored as a floating point number and hence should not be used unless needed in that sense."
   ]
  },
  {
   "cell_type": "markdown",
   "id": "ba37fffa",
   "metadata": {},
   "source": [
    "#### Q9.Consider the following two fraction objects: Fraction(1, 2) and Fraction(1, 2). (5, 10). Is the internal state of these two objects the same? Why do you think that is?\n",
    "\n",
    "Ans. Yes, as both will be reduced to `½`."
   ]
  },
  {
   "cell_type": "markdown",
   "id": "8233ca69",
   "metadata": {},
   "source": [
    "#### Q10. How do the Fraction class and the integer type (int) relate to each other? Containment or inheritance?\n",
    "\n",
    "Ans. Fraction class and integer type(int) are related in form of a container.It contains two ints, one the numerator and the other the denominator"
   ]
  }
 ],
 "metadata": {
  "kernelspec": {
   "display_name": "Python 3 (ipykernel)",
   "language": "python",
   "name": "python3"
  },
  "language_info": {
   "codemirror_mode": {
    "name": "ipython",
    "version": 3
   },
   "file_extension": ".py",
   "mimetype": "text/x-python",
   "name": "python",
   "nbconvert_exporter": "python",
   "pygments_lexer": "ipython3",
   "version": "3.10.2"
  }
 },
 "nbformat": 4,
 "nbformat_minor": 5
}
