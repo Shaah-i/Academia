{
 "cells": [
  {
   "cell_type": "markdown",
   "id": "738eb2ee",
   "metadata": {},
   "source": [
    "# Assignment_24"
   ]
  },
  {
   "cell_type": "markdown",
   "id": "c9c0c28a",
   "metadata": {},
   "source": [
    "#### Q1. Is it permissible to use several import statements to import the same module? What would the goal be? Can you think of a situation where it would be beneficial?\n",
    "\n",
    "Ans. Yes, it is permissible to use several import statements to import the same module. It is used in case when we have to import multiple functions from same module."
   ]
  },
  {
   "cell_type": "markdown",
   "id": "f19ef45b",
   "metadata": {},
   "source": [
    "#### Q2. What are some of a module's characteristics? (Name at least one.)\n",
    "\n",
    "Ans. \n",
    "* `__name__` : It returns the name of the module\n",
    "* `__doc__` : It denotes the documentation string line written in a module code.\n",
    "* `__file__` : It holds the name and path of the module file from which it is loaded\n",
    "* `__dict__` : It return a dictionary object of module attributes, functions and other definitions and their respective values1"
   ]
  },
  {
   "cell_type": "markdown",
   "id": "620880e6",
   "metadata": {},
   "source": [
    "#### Q3. Circular importing, such as when two modules import each other, can lead to dependencies and bugs that aren't visible. How can you go about creating a program that avoids mutual importing?\n",
    "\n",
    "Ans. Circular importing means importing the two modules in each other. If suppose we are wokring in MOD1.py file and it is importing some function say `F2()` from some other module say MOD2.PY file or we can do vice-versa. What will happen is: This will give an __import error__.\n",
    "\n",
    "This is because when we import `F2()` function from module MOD2.py, then this will execute MOD2.py file. And in MOD2.py file there is an another statement of importing MOD1.py module.\n",
    "\n",
    "This will result in endless loop. To avoid this error just do one thingWe can use if `__name__ == '__main__'`\n",
    "\n",
    "In the function, you can't directly refer to the function in the program. The addition of this sentence avoids the endless loop of the program ."
   ]
  },
  {
   "cell_type": "markdown",
   "id": "e7aa4098",
   "metadata": {},
   "source": [
    "#### Q4. Why is _ _all_ _ in Python?\n",
    "\n",
    "Ans. It provides list of all modules present in a library."
   ]
  },
  {
   "cell_type": "markdown",
   "id": "7aa12214",
   "metadata": {},
   "source": [
    "#### Q5. In what situation is it useful to refer to the `_ _name_ _` attribute or the string `'_ _main_ _'`?\n",
    "\n",
    "Ans. During the time of execution of the code if we want to refer the module in which we are working on then we uses name attribute. In that case it will return the module in which we are working on. Suppose if that moudle is being imported from some other module then name will have the name of that moudle from where the current module has been imported. The current module in which we are working is refer to the string `__main __`."
   ]
  },
  {
   "cell_type": "markdown",
   "id": "70db166e",
   "metadata": {},
   "source": [
    "#### Q6. What are some of the benefits of attaching a program counter to the RPN interpreter application, which interprets an RPN script line by line?"
   ]
  },
  {
   "cell_type": "markdown",
   "id": "53fc621a",
   "metadata": {},
   "source": [
    "#### Q7. What are the minimum expressions or statements (or both) that you'd need to render a basic programming language like RPN primitive but complete— that is, capable of carrying out any computerised task theoretically possible?"
   ]
  }
 ],
 "metadata": {
  "kernelspec": {
   "display_name": "Python 3 (ipykernel)",
   "language": "python",
   "name": "python3"
  },
  "language_info": {
   "codemirror_mode": {
    "name": "ipython",
    "version": 3
   },
   "file_extension": ".py",
   "mimetype": "text/x-python",
   "name": "python",
   "nbconvert_exporter": "python",
   "pygments_lexer": "ipython3",
   "version": "3.10.2"
  }
 },
 "nbformat": 4,
 "nbformat_minor": 5
}
