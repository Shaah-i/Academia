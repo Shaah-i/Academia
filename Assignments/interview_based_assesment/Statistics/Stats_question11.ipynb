{
 "cells": [
  {
   "cell_type": "code",
   "execution_count": 1,
   "metadata": {},
   "outputs": [],
   "source": [
    "import pandas as pd\n",
    "import numpy as np"
   ]
  },
  {
   "cell_type": "code",
   "execution_count": 2,
   "metadata": {},
   "outputs": [
    {
     "data": {
      "text/plain": [
       "'https://drive.google.com/uc?id=1mCjtYHiX--mMUjicuaP2gH3k-SnFxt8Y'"
      ]
     },
     "execution_count": 2,
     "metadata": {},
     "output_type": "execute_result"
    }
   ],
   "source": [
    "URL = ('https://drive.google.com/file/d/1mCjtYHiX--mMUjicuaP2gH3k-SnFxt8Y/view?usp=share_')\n",
    "file_id=URL.split('/')[-2]\n",
    "dwn_url='https://drive.google.com/uc?id=' + file_id\n",
    "dwn_url"
   ]
  },
  {
   "cell_type": "code",
   "execution_count": 3,
   "metadata": {},
   "outputs": [
    {
     "data": {
      "text/html": [
       "<div>\n",
       "<style scoped>\n",
       "    .dataframe tbody tr th:only-of-type {\n",
       "        vertical-align: middle;\n",
       "    }\n",
       "\n",
       "    .dataframe tbody tr th {\n",
       "        vertical-align: top;\n",
       "    }\n",
       "\n",
       "    .dataframe thead th {\n",
       "        text-align: right;\n",
       "    }\n",
       "</style>\n",
       "<table border=\"1\" class=\"dataframe\">\n",
       "  <thead>\n",
       "    <tr style=\"text-align: right;\">\n",
       "      <th></th>\n",
       "      <th>Patient ID</th>\n",
       "      <th>Blood Pressure Before (mmHg)</th>\n",
       "      <th>Blood Pressure After (mmHg)</th>\n",
       "    </tr>\n",
       "  </thead>\n",
       "  <tbody>\n",
       "    <tr>\n",
       "      <th>0</th>\n",
       "      <td>1</td>\n",
       "      <td>130</td>\n",
       "      <td>120</td>\n",
       "    </tr>\n",
       "    <tr>\n",
       "      <th>1</th>\n",
       "      <td>2</td>\n",
       "      <td>142</td>\n",
       "      <td>135</td>\n",
       "    </tr>\n",
       "    <tr>\n",
       "      <th>2</th>\n",
       "      <td>3</td>\n",
       "      <td>120</td>\n",
       "      <td>118</td>\n",
       "    </tr>\n",
       "    <tr>\n",
       "      <th>3</th>\n",
       "      <td>4</td>\n",
       "      <td>135</td>\n",
       "      <td>127</td>\n",
       "    </tr>\n",
       "    <tr>\n",
       "      <th>4</th>\n",
       "      <td>5</td>\n",
       "      <td>148</td>\n",
       "      <td>140</td>\n",
       "    </tr>\n",
       "  </tbody>\n",
       "</table>\n",
       "</div>"
      ],
      "text/plain": [
       "   Patient ID   Blood Pressure Before (mmHg)   Blood Pressure After (mmHg)\n",
       "0           1                            130                           120\n",
       "1           2                            142                           135\n",
       "2           3                            120                           118\n",
       "3           4                            135                           127\n",
       "4           5                            148                           140"
      ]
     },
     "execution_count": 3,
     "metadata": {},
     "output_type": "execute_result"
    }
   ],
   "source": [
    "df= pd.read_csv(dwn_url)\n",
    "df.head()"
   ]
  },
  {
   "cell_type": "markdown",
   "metadata": {},
   "source": [
    "### 1. Check the distribution of all the classes (in this case, it's the before and after blood pressure measurements)\n"
   ]
  },
  {
   "cell_type": "code",
   "execution_count": 6,
   "metadata": {},
   "outputs": [
    {
     "name": "stdout",
     "output_type": "stream",
     "text": [
      "Column Names: Index(['Patient ID', ' Blood Pressure Before (mmHg)',\n",
      "       ' Blood Pressure After (mmHg)'],\n",
      "      dtype='object')\n"
     ]
    }
   ],
   "source": [
    "print(\"Column Names:\", df.columns)"
   ]
  },
  {
   "cell_type": "code",
   "execution_count": 7,
   "metadata": {},
   "outputs": [
    {
     "name": "stdout",
     "output_type": "stream",
     "text": [
      "Class Distribution:\n",
      "  Blood Pressure Before (mmHg)\n",
      "128    12\n",
      "127    11\n",
      "136    11\n",
      "135     8\n",
      "130     7\n",
      "145     6\n",
      "139     6\n",
      "143     6\n",
      "124     6\n",
      "140     6\n",
      "132     6\n",
      "142     6\n",
      "131     5\n",
      "137     1\n",
      "122     1\n",
      "148     1\n",
      "120     1\n",
      "Name: count, dtype: int64\n"
     ]
    }
   ],
   "source": [
    "class_distribution = df[' Blood Pressure Before (mmHg)'].value_counts()\n",
    "print(\"Class Distribution:\\n\", class_distribution)"
   ]
  },
  {
   "attachments": {},
   "cell_type": "markdown",
   "metadata": {},
   "source": [
    "### 2. Check for the equality of variance"
   ]
  },
  {
   "cell_type": "code",
   "execution_count": 8,
   "metadata": {},
   "outputs": [
    {
     "name": "stdout",
     "output_type": "stream",
     "text": [
      "Variance - Before:  43.53727272727272\n",
      "Variance - After:  47.44484848484848\n"
     ]
    }
   ],
   "source": [
    "variance_before = df[' Blood Pressure Before (mmHg)'].var()\n",
    "variance_after = df[' Blood Pressure After (mmHg)'].var()\n",
    "print(\"Variance - Before: \", variance_before)\n",
    "print(\"Variance - After: \", variance_after)"
   ]
  },
  {
   "attachments": {},
   "cell_type": "markdown",
   "metadata": {},
   "source": [
    "### 3. Perform LDA and QDA"
   ]
  },
  {
   "attachments": {},
   "cell_type": "markdown",
   "metadata": {},
   "source": [
    "LDA assumes equal class covariance matrices and uses linear decision boundaries. </br>\n",
    "QDA relaxes the assumption of equal class covariance matrices and uses quadratic decision boundaries"
   ]
  },
  {
   "attachments": {},
   "cell_type": "markdown",
   "metadata": {},
   "source": [
    "### 4. Check the equality of mean between all the classes"
   ]
  },
  {
   "cell_type": "code",
   "execution_count": 9,
   "metadata": {},
   "outputs": [
    {
     "name": "stdout",
     "output_type": "stream",
     "text": [
      "Mean - Before:  133.91\n",
      "Mean - After:  128.36\n"
     ]
    }
   ],
   "source": [
    "mean_before = df[' Blood Pressure Before (mmHg)'].mean()\n",
    "mean_after = df[' Blood Pressure After (mmHg)'].mean()\n",
    "print(\"Mean - Before: \", mean_before)\n",
    "print(\"Mean - After: \", mean_after)"
   ]
  }
 ],
 "metadata": {
  "kernelspec": {
   "display_name": "assienv",
   "language": "python",
   "name": "python3"
  },
  "language_info": {
   "codemirror_mode": {
    "name": "ipython",
    "version": 3
   },
   "file_extension": ".py",
   "mimetype": "text/x-python",
   "name": "python",
   "nbconvert_exporter": "python",
   "pygments_lexer": "ipython3",
   "version": "3.10.11"
  },
  "orig_nbformat": 4
 },
 "nbformat": 4,
 "nbformat_minor": 2
}
