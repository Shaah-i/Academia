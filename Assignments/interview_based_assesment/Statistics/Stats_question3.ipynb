{
 "cells": [
  {
   "cell_type": "code",
   "execution_count": 1,
   "metadata": {},
   "outputs": [],
   "source": [
    "import pandas as pd\n",
    "import numpy as np"
   ]
  },
  {
   "cell_type": "code",
   "execution_count": 7,
   "metadata": {},
   "outputs": [
    {
     "data": {
      "text/plain": [
       "'https://drive.google.com/uc?id=1mCjtYHiX--mMUjicuaP2gH3k-SnFxt8Y'"
      ]
     },
     "execution_count": 7,
     "metadata": {},
     "output_type": "execute_result"
    }
   ],
   "source": [
    "URL = ('https://drive.google.com/file/d/1mCjtYHiX--mMUjicuaP2gH3k-SnFxt8Y/view?usp=share_')\n",
    "file_id=URL.split('/')[-2]\n",
    "dwn_url='https://drive.google.com/uc?id=' + file_id\n",
    "dwn_url"
   ]
  },
  {
   "cell_type": "code",
   "execution_count": 9,
   "metadata": {},
   "outputs": [
    {
     "data": {
      "text/html": [
       "<div>\n",
       "<style scoped>\n",
       "    .dataframe tbody tr th:only-of-type {\n",
       "        vertical-align: middle;\n",
       "    }\n",
       "\n",
       "    .dataframe tbody tr th {\n",
       "        vertical-align: top;\n",
       "    }\n",
       "\n",
       "    .dataframe thead th {\n",
       "        text-align: right;\n",
       "    }\n",
       "</style>\n",
       "<table border=\"1\" class=\"dataframe\">\n",
       "  <thead>\n",
       "    <tr style=\"text-align: right;\">\n",
       "      <th></th>\n",
       "      <th>Patient ID</th>\n",
       "      <th>Blood Pressure Before (mmHg)</th>\n",
       "      <th>Blood Pressure After (mmHg)</th>\n",
       "    </tr>\n",
       "  </thead>\n",
       "  <tbody>\n",
       "    <tr>\n",
       "      <th>0</th>\n",
       "      <td>1</td>\n",
       "      <td>130</td>\n",
       "      <td>120</td>\n",
       "    </tr>\n",
       "    <tr>\n",
       "      <th>1</th>\n",
       "      <td>2</td>\n",
       "      <td>142</td>\n",
       "      <td>135</td>\n",
       "    </tr>\n",
       "    <tr>\n",
       "      <th>2</th>\n",
       "      <td>3</td>\n",
       "      <td>120</td>\n",
       "      <td>118</td>\n",
       "    </tr>\n",
       "    <tr>\n",
       "      <th>3</th>\n",
       "      <td>4</td>\n",
       "      <td>135</td>\n",
       "      <td>127</td>\n",
       "    </tr>\n",
       "    <tr>\n",
       "      <th>4</th>\n",
       "      <td>5</td>\n",
       "      <td>148</td>\n",
       "      <td>140</td>\n",
       "    </tr>\n",
       "  </tbody>\n",
       "</table>\n",
       "</div>"
      ],
      "text/plain": [
       "   Patient ID   Blood Pressure Before (mmHg)   Blood Pressure After (mmHg)\n",
       "0           1                            130                           120\n",
       "1           2                            142                           135\n",
       "2           3                            120                           118\n",
       "3           4                            135                           127\n",
       "4           5                            148                           140"
      ]
     },
     "execution_count": 9,
     "metadata": {},
     "output_type": "execute_result"
    }
   ],
   "source": [
    "df= pd.read_csv(dwn_url)\n",
    "df.head()"
   ]
  },
  {
   "attachments": {},
   "cell_type": "markdown",
   "metadata": {},
   "source": [
    "### 1. Measure the dispersion in both and interpret the results."
   ]
  },
  {
   "cell_type": "code",
   "execution_count": 10,
   "metadata": {},
   "outputs": [
    {
     "name": "stdout",
     "output_type": "stream",
     "text": [
      "Standard deviation of Blood Pressure After 6.565203728750541\n",
      "Variance of Blood Pressure After 43.101900000000015\n"
     ]
    }
   ],
   "source": [
    "#Computing SD and Variance for Blood Pressure Before\n",
    "from math import sqrt\n",
    "after_mean=df[' Blood Pressure Before (mmHg)'].mean()\n",
    "variance_before=0\n",
    "for i in df[' Blood Pressure Before (mmHg)']:\n",
    "    variance_before+=(i-after_mean)**2/len(df)\n",
    "print(f'Standard deviation of Blood Pressure After {sqrt(variance_before)}')\n",
    "print(f'Variance of Blood Pressure After {variance_before}')"
   ]
  },
  {
   "cell_type": "code",
   "execution_count": 11,
   "metadata": {},
   "outputs": [
    {
     "name": "stdout",
     "output_type": "stream",
     "text": [
      "Standard deviation of Blood Pressure After 6.853495458523337\n",
      "Variance of Blood Pressure After 46.97040000000001\n"
     ]
    }
   ],
   "source": [
    "#Computing SD and Variance for Blood Pressure After\n",
    "after_mean=df[' Blood Pressure After (mmHg)'].mean()\n",
    "variance_after=0\n",
    "for i in df[' Blood Pressure After (mmHg)']:\n",
    "    variance_after+=(i-after_mean)**2/len(df)\n",
    "print(f'Standard deviation of Blood Pressure After {sqrt(variance_after)}')\n",
    "print(f'Variance of Blood Pressure After {variance_after}')"
   ]
  },
  {
   "attachments": {},
   "cell_type": "markdown",
   "metadata": {},
   "source": [
    "### 2. Mean and 5% confidence interval and their graphs"
   ]
  },
  {
   "cell_type": "code",
   "execution_count": 12,
   "metadata": {},
   "outputs": [],
   "source": [
    "mean_before=df[' Blood Pressure Before (mmHg)'].mean()\n",
    "mean_after=df[' Blood Pressure After (mmHg)'].mean()"
   ]
  },
  {
   "cell_type": "code",
   "execution_count": 14,
   "metadata": {},
   "outputs": [
    {
     "name": "stderr",
     "output_type": "stream",
     "text": [
      "C:\\Users\\HappySoul\\AppData\\Local\\Temp\\ipykernel_10124\\2173829672.py:2: DeprecationWarning: Use of keyword argument 'alpha' for method 'interval' is deprecated and wil be removed in SciPy 1.11.0. Use first positional argument or keyword argument 'confidence' instead.\n",
      "  st.norm.interval(alpha=0.95,\n"
     ]
    },
    {
     "data": {
      "text/plain": [
       "(array([ 98.57051873, 102.96342794, 102.90663914]),\n",
       " array([109.94281461, 105.54990539, 105.60669419]))"
      ]
     },
     "execution_count": 14,
     "metadata": {},
     "output_type": "execute_result"
    }
   ],
   "source": [
    "import scipy.stats as st\n",
    "st.norm.interval(alpha=0.95,\n",
    "              loc=np.mean(df),\n",
    "              scale=st.sem(df))"
   ]
  },
  {
   "cell_type": "code",
   "execution_count": 15,
   "metadata": {},
   "outputs": [
    {
     "data": {
      "image/png": "[encoded data removed]",
      "text/plain": [
       "<Figure size 640x480 with 1 Axes>"
      ]
     },
     "metadata": {},
     "output_type": "display_data"
    }
   ],
   "source": [
    "import matplotlib.pyplot as plt\n",
    "import numpy as np\n",
    "\n",
    "# Assuming you have the lower and upper bounds stored in arrays\n",
    "lower_bounds = [132.61676127, 127.00997248]\n",
    "upper_bounds = [135.20323873, 129.71002752]\n",
    "\n",
    "# Plotting the confidence interval\n",
    "x = np.arange(2) \n",
    "y = [lower_bounds, upper_bounds]\n",
    "\n",
    "plt.errorbar(x, y[0], yerr=[np.subtract(y[0], lower_bounds), np.subtract(upper_bounds, y[0])],\n",
    "             fmt='o', color='blue', capsize=5, label='Confidence Interval')\n",
    "plt.xticks(x, ['Interval 1', 'Interval 2'])\n",
    "plt.xlabel('Intervals')\n",
    "plt.ylabel('Mean')\n",
    "plt.title('Confidence Intervals')\n",
    "plt.legend()\n",
    "plt.show()"
   ]
  },
  {
   "attachments": {},
   "cell_type": "markdown",
   "metadata": {},
   "source": [
    "### 3. Mean absolute deviation and Standard deviation"
   ]
  },
  {
   "cell_type": "code",
   "execution_count": 16,
   "metadata": {},
   "outputs": [
    {
     "name": "stdout",
     "output_type": "stream",
     "text": [
      "Mean absolute deviation for before column 4.644200000000003\n",
      "Mean absolute deviation for after column 5.900000000000003\n",
      "Standard deviation of Blood Pressure Before 6.565203728750541\n",
      "Standard deviation of Blood Pressure After 6.853495458523337\n"
     ]
    }
   ],
   "source": [
    "mae_after=0\n",
    "for i in df[' Blood Pressure After (mmHg)']:\n",
    "    if i>mean_after:\n",
    "        mae_after+=(i-mean_after)/len(df)\n",
    "    else:\n",
    "        mae_after+=(mean_after-i)/len(df)\n",
    "mae_before=0\n",
    "for i in df[' Blood Pressure Before (mmHg)']:\n",
    "    if i>mean_after:\n",
    "        mae_before+=(i-mean_before)/len(df)\n",
    "    else:\n",
    "        mae_before+=(mean_before-i)/len(df)\n",
    "print(f'Mean absolute deviation for before column {mae_before}')        \n",
    "print(f'Mean absolute deviation for after column {mae_after}')    \n",
    "print(f'Standard deviation of Blood Pressure Before {sqrt(variance_before)}')   \n",
    "print(f'Standard deviation of Blood Pressure After {sqrt(variance_after)}')   "
   ]
  },
  {
   "attachments": {},
   "cell_type": "markdown",
   "metadata": {},
   "source": [
    "### 4. Correlation coefficient and check the significance of it at 1% level of significance."
   ]
  },
  {
   "cell_type": "code",
   "execution_count": 17,
   "metadata": {},
   "outputs": [
    {
     "name": "stdout",
     "output_type": "stream",
     "text": [
      "Correlation Coefficient: 0.9779485966556021\n",
      "p-value: 1.8097381433059864e-68\n",
      "The correlation coefficient is significant at the 1% level.\n"
     ]
    }
   ],
   "source": [
    "from scipy.stats import pearsonr\n",
    "correlation_coefficient, p_value = pearsonr(df[' Blood Pressure Before (mmHg)'],df[' Blood Pressure After (mmHg)'])\n",
    "\n",
    "print(f\"Correlation Coefficient: {correlation_coefficient}\")\n",
    "print(f\"p-value: {p_value}\")\n",
    "\n",
    "# Check significance at 1% level\n",
    "alpha = 0.01\n",
    "if p_value < alpha:\n",
    "    print(\"The correlation coefficient is significant at the 1% level.\")\n",
    "else:\n",
    "    print(\"The correlation coefficient is not significant at the 1% level.\")"
   ]
  }
 ],
 "metadata": {
  "kernelspec": {
   "display_name": "assienv",
   "language": "python",
   "name": "python3"
  },
  "language_info": {
   "codemirror_mode": {
    "name": "ipython",
    "version": 3
   },
   "file_extension": ".py",
   "mimetype": "text/x-python",
   "name": "python",
   "nbconvert_exporter": "python",
   "pygments_lexer": "ipython3",
   "version": "3.10.11"
  },
  "orig_nbformat": 4
 },
 "nbformat": 4,
 "nbformat_minor": 2
}
