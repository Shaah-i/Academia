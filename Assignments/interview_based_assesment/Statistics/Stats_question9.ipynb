{
 "cells": [
  {
   "cell_type": "code",
   "execution_count": 1,
   "metadata": {},
   "outputs": [
    {
     "name": "stdout",
     "output_type": "stream",
     "text": [
      "      Name  Exam 1  Exam 2  Final Exam\n",
      "0    Karan      85      90          92\n",
      "1    Deepa      70      80          85\n",
      "2  Karthik      90      85          88\n",
      "3  Chandan      75      70          75\n",
      "4   Jeevan      95      92          96\n"
     ]
    }
   ],
   "source": [
    "# creating data frame\n",
    "import pandas as pd\n",
    "\n",
    "# Create a dictionary with the data\n",
    "data = {\n",
    "    'Name': ['Karan', 'Deepa', 'Karthik', 'Chandan', 'Jeevan'],\n",
    "    'Exam 1': [85, 70, 90, 75, 95],\n",
    "    'Exam 2': [90, 80, 85, 70, 92],\n",
    "    'Final Exam': [92, 85, 88, 75, 96]\n",
    "}\n",
    "\n",
    "# Create a DataFrame from the dictionary\n",
    "df2= pd.DataFrame(data)\n",
    "\n",
    "# Print the DataFrame\n",
    "print(df2)"
   ]
  },
  {
   "cell_type": "code",
   "execution_count": 2,
   "metadata": {},
   "outputs": [
    {
     "name": "stdout",
     "output_type": "stream",
     "text": [
      "F-statistic: 0.3236947791164659\n",
      "p-value: 0.7295954253321558\n",
      "Student with the highest score: Jeevan\n"
     ]
    }
   ],
   "source": [
    "import scipy.stats as stats\n",
    "\n",
    "# Perform one-way ANOVA\n",
    "f_statistic, p_value = stats.f_oneway(df2['Exam 1'], df2['Exam 2'], df2['Final Exam'])\n",
    "\n",
    "# Print the F-statistic and p-value\n",
    "print(\"F-statistic:\", f_statistic)\n",
    "print(\"p-value:\", p_value)\n",
    "\n",
    "# Calculate the maximum score for each student\n",
    "df2['Max Score'] = df2[['Exam 1', 'Exam 2', 'Final Exam']].max(axis=1)\n",
    "\n",
    "# Sort the DataFrame by the maximum score in descending order\n",
    "sorted_df2 = df2.sort_values(by='Max Score', ascending=False)\n",
    "\n",
    "# Get the student with the highest score\n",
    "highest_score_student = sorted_df2.iloc[0]['Name']\n",
    "\n",
    "# Print the student with the highest score\n",
    "print(\"Student with the highest score:\", highest_score_student)"
   ]
  },
  {
   "cell_type": "code",
   "execution_count": null,
   "metadata": {},
   "outputs": [],
   "source": []
  }
 ],
 "metadata": {
  "kernelspec": {
   "display_name": "assienv",
   "language": "python",
   "name": "python3"
  },
  "language_info": {
   "codemirror_mode": {
    "name": "ipython",
    "version": 3
   },
   "file_extension": ".py",
   "mimetype": "text/x-python",
   "name": "python",
   "nbconvert_exporter": "python",
   "pygments_lexer": "ipython3",
   "version": "3.10.11"
  },
  "orig_nbformat": 4
 },
 "nbformat": 4,
 "nbformat_minor": 2
}
