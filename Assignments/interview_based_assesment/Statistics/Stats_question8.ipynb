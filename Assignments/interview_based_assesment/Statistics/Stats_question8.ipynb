{
 "cells": [
  {
   "cell_type": "code",
   "execution_count": 1,
   "metadata": {},
   "outputs": [
    {
     "name": "stdout",
     "output_type": "stream",
     "text": [
      "   Participant  Before therapy  After therapy  Difference\n",
      "0            1              10              7          -3\n",
      "1            2               8              6          -2\n",
      "2            3              12             10          -2\n",
      "3            4              15             12          -3\n",
      "4            5               6              5          -1\n",
      "5            6               9              8          -1\n",
      "6            7              11              9          -2\n",
      "7            8               7              6          -1\n",
      "8            9              14             12          -2\n",
      "9           10              10              8          -2\n"
     ]
    }
   ],
   "source": [
    "# creating data frame\n",
    "import pandas as pd\n",
    "\n",
    "# Create a dictionary with the data\n",
    "data = {\n",
    "    'Participant': [1, 2, 3, 4, 5, 6, 7, 8, 9, 10],\n",
    "    'Before therapy': [10, 8, 12, 15, 6, 9, 11, 7, 14, 10],\n",
    "    'After therapy': [7, 6, 10, 12, 5, 8, 9, 6, 12, 8],\n",
    "    'Difference': [-1, -1, -1, -1, -1, -1, -1, -1, -1, -1]\n",
    "}\n",
    "\n",
    "# Create a DataFrame from the dictionary\n",
    "df1= pd.DataFrame(data)\n",
    "\n",
    "# Calculate the difference\n",
    "df1['Difference'] = df1['After therapy'] - df1['Before therapy']\n",
    "\n",
    "# Print the DataFrame\n",
    "print(df1)"
   ]
  },
  {
   "cell_type": "code",
   "execution_count": 2,
   "metadata": {},
   "outputs": [
    {
     "name": "stdout",
     "output_type": "stream",
     "text": [
      "Wilcoxon signed-rank test statistic: 0.0\n",
      "p-value: 0.001953125\n"
     ]
    }
   ],
   "source": [
    "from scipy.stats import wilcoxon\n",
    "\n",
    "# Perform Wilcoxon signed-rank test\n",
    "statistic, p_value = wilcoxon(df1['Before therapy'], df1['After therapy'])\n",
    "\n",
    "# Print the test statistic and p-value\n",
    "print(\"Wilcoxon signed-rank test statistic:\", statistic)\n",
    "print(\"p-value:\", p_value)"
   ]
  },
  {
   "attachments": {},
   "cell_type": "markdown",
   "metadata": {},
   "source": [
    "### interpreting the results\n",
    "\n",
    "Since the p-value (0.0019) is less than the typical significance level of 0.05, we can conclude that the therapy had a significant effect on anxiety levels. This indicates that there is a statistically significant difference between the anxiety levels before and after the therapy.\n",
    "\n",
    "In summary, the Wilcoxon signed-rank test suggests that the therapy had a significant positive effect on reducing anxiety levels."
   ]
  }
 ],
 "metadata": {
  "kernelspec": {
   "display_name": "assienv",
   "language": "python",
   "name": "python3"
  },
  "language_info": {
   "codemirror_mode": {
    "name": "ipython",
    "version": 3
   },
   "file_extension": ".py",
   "mimetype": "text/x-python",
   "name": "python",
   "nbconvert_exporter": "python",
   "pygments_lexer": "ipython3",
   "version": "3.10.11"
  },
  "orig_nbformat": 4
 },
 "nbformat": 4,
 "nbformat_minor": 2
}
