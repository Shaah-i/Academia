{
  "cells": [
    {
      "attachments": {},
      "cell_type": "markdown",
      "metadata": {
        "id": "-W4X_D5wYxH1"
      },
      "source": [
        "Load libraries"
      ]
    },
    {
      "cell_type": "code",
      "execution_count": 1,
      "metadata": {
        "id": "aZYz2QhkY1-w"
      },
      "outputs": [],
      "source": [
        "import torch\n",
        "import torch.nn as nn\n",
        "import torch.optim as optim\n",
        "import torchvision.transforms as transforms\n",
        "import torchvision.datasets as datasets\n",
        "import torchvision.models as models\n",
        "\n",
        "device = torch.device(\"cuda\" if torch.cuda.is_available() else \"cpu\")"
      ]
    },
    {
      "cell_type": "code",
      "execution_count": 2,
      "metadata": {
        "colab": {
          "base_uri": "https://localhost:8080/"
        },
        "id": "oSiHiS2he27A",
        "outputId": "ce7191b8-c304-4202-c1c0-50f5eb578879"
      },
      "outputs": [
        {
          "name": "stdout",
          "output_type": "stream",
          "text": [
            "Downloading https://www.cs.toronto.edu/~kriz/cifar-10-python.tar.gz to ./data/cifar-10-python.tar.gz\n"
          ]
        },
        {
          "name": "stderr",
          "output_type": "stream",
          "text": [
            "100%|██████████| 170498071/170498071 [00:13<00:00, 12672588.19it/s]\n"
          ]
        },
        {
          "name": "stdout",
          "output_type": "stream",
          "text": [
            "Extracting ./data/cifar-10-python.tar.gz to ./data\n",
            "Files already downloaded and verified\n"
          ]
        }
      ],
      "source": [
        "# Define the transformations to apply to the CIFAR-10 dataset\n",
        "transform = transforms.Compose([\n",
        "    transforms.RandomCrop(32, padding=4),\n",
        "    transforms.RandomHorizontalFlip(),\n",
        "    transforms.ToTensor(),\n",
        "    transforms.Normalize((0.5, 0.5, 0.5), (0.5, 0.5, 0.5))\n",
        "])\n",
        "\n",
        "# Load the CIFAR-10 dataset\n",
        "trainset = datasets.CIFAR10(root='./data', train=True, download=True, transform=transform)\n",
        "testset = datasets.CIFAR10(root='./data', train=False, download=True, transform=transform)\n",
        "\n",
        "# Define the dataloaders\n",
        "trainloader = torch.utils.data.DataLoader(trainset, batch_size=256, shuffle=True, num_workers=2)\n",
        "testloader = torch.utils.data.DataLoader(testset, batch_size=128, shuffle=False, num_workers=2)\n"
      ]
    },
    {
      "cell_type": "code",
      "execution_count": 3,
      "metadata": {
        "colab": {
          "base_uri": "https://localhost:8080/"
        },
        "id": "u4K4GAdQfw2_",
        "outputId": "8c35a02e-4a08-4df1-be7b-a4ec0884d14e"
      },
      "outputs": [
        {
          "name": "stderr",
          "output_type": "stream",
          "text": [
            "/usr/local/lib/python3.10/dist-packages/torchvision/models/_utils.py:208: UserWarning: The parameter 'pretrained' is deprecated since 0.13 and may be removed in the future, please use 'weights' instead.\n",
            "  warnings.warn(\n",
            "/usr/local/lib/python3.10/dist-packages/torchvision/models/_utils.py:223: UserWarning: Arguments other than a weight enum or `None` for 'weights' are deprecated since 0.13 and may be removed in the future. The current behavior is equivalent to passing `weights=VGG16_Weights.IMAGENET1K_V1`. You can also use `weights=VGG16_Weights.DEFAULT` to get the most up-to-date weights.\n",
            "  warnings.warn(msg)\n",
            "Downloading: \"https://download.pytorch.org/models/vgg16-397923af.pth\" to /root/.cache/torch/hub/checkpoints/vgg16-397923af.pth\n",
            "100%|██████████| 528M/528M [00:01<00:00, 296MB/s]\n",
            "/usr/local/lib/python3.10/dist-packages/torchvision/models/_utils.py:223: UserWarning: Arguments other than a weight enum or `None` for 'weights' are deprecated since 0.13 and may be removed in the future. The current behavior is equivalent to passing `weights=ResNet18_Weights.IMAGENET1K_V1`. You can also use `weights=ResNet18_Weights.DEFAULT` to get the most up-to-date weights.\n",
            "  warnings.warn(msg)\n",
            "Downloading: \"https://download.pytorch.org/models/resnet18-f37072fd.pth\" to /root/.cache/torch/hub/checkpoints/resnet18-f37072fd.pth\n",
            "100%|██████████| 44.7M/44.7M [00:00<00:00, 285MB/s]\n",
            "/usr/local/lib/python3.10/dist-packages/torchvision/models/_utils.py:223: UserWarning: Arguments other than a weight enum or `None` for 'weights' are deprecated since 0.13 and may be removed in the future. The current behavior is equivalent to passing `weights=GoogLeNet_Weights.IMAGENET1K_V1`. You can also use `weights=GoogLeNet_Weights.DEFAULT` to get the most up-to-date weights.\n",
            "  warnings.warn(msg)\n",
            "Downloading: \"https://download.pytorch.org/models/googlenet-1378be20.pth\" to /root/.cache/torch/hub/checkpoints/googlenet-1378be20.pth\n",
            "100%|██████████| 49.7M/49.7M [00:00<00:00, 156MB/s]\n",
            "/usr/local/lib/python3.10/dist-packages/torchvision/models/_utils.py:223: UserWarning: Arguments other than a weight enum or `None` for 'weights' are deprecated since 0.13 and may be removed in the future. The current behavior is equivalent to passing `weights=DenseNet121_Weights.IMAGENET1K_V1`. You can also use `weights=DenseNet121_Weights.DEFAULT` to get the most up-to-date weights.\n",
            "  warnings.warn(msg)\n",
            "Downloading: \"https://download.pytorch.org/models/densenet121-a639ec97.pth\" to /root/.cache/torch/hub/checkpoints/densenet121-a639ec97.pth\n",
            "100%|██████████| 30.8M/30.8M [00:00<00:00, 83.4MB/s]\n",
            "/usr/local/lib/python3.10/dist-packages/torchvision/models/_utils.py:223: UserWarning: Arguments other than a weight enum or `None` for 'weights' are deprecated since 0.13 and may be removed in the future. The current behavior is equivalent to passing `weights=MobileNet_V2_Weights.IMAGENET1K_V1`. You can also use `weights=MobileNet_V2_Weights.DEFAULT` to get the most up-to-date weights.\n",
            "  warnings.warn(msg)\n",
            "Downloading: \"https://download.pytorch.org/models/mobilenet_v2-b0353104.pth\" to /root/.cache/torch/hub/checkpoints/mobilenet_v2-b0353104.pth\n",
            "100%|██████████| 13.6M/13.6M [00:00<00:00, 85.5MB/s]\n"
          ]
        }
      ],
      "source": [
        "\n",
        "# Define the models\n",
        "models_dict = {\n",
        "    'VGG-16': models.vgg16(pretrained=True),\n",
        "    'ResNet-18': models.resnet18(pretrained=True),\n",
        "    'GoogLeNet': models.googlenet(pretrained=True),\n",
        "    'DenseNet-121': models.densenet121(pretrained=True),\n",
        "    'MobileNetV2': models.mobilenet_v2(pretrained=True)\n",
        "}\n"
      ]
    },
    {
      "cell_type": "code",
      "execution_count": 7,
      "metadata": {
        "colab": {
          "base_uri": "https://localhost:8080/"
        },
        "id": "oLdYHj0UfupR",
        "outputId": "b4027959-b9ae-4b7c-d8a5-7622123572ff"
      },
      "outputs": [
        {
          "name": "stdout",
          "output_type": "stream",
          "text": [
            "Training VGG-16...\n",
            "Epoch 1: Loss = 0.5488\n",
            "Epoch 2: Loss = 0.5124\n",
            "Epoch 3: Loss = 0.4843\n",
            "Epoch 4: Loss = 0.4555\n",
            "Epoch 5: Loss = 0.4415\n",
            "Accuracy on test set for VGG-16: 83.89%\n",
            "----------------------------\n",
            "Training ResNet-18...\n",
            "Epoch 1: Loss = 1.0136\n",
            "Epoch 2: Loss = 0.8822\n",
            "Epoch 3: Loss = 0.8048\n",
            "Epoch 4: Loss = 0.7491\n",
            "Epoch 5: Loss = 0.7126\n",
            "Accuracy on test set for ResNet-18: 74.43%\n",
            "----------------------------\n",
            "Training GoogLeNet...\n",
            "Epoch 1: Loss = 3.1591\n",
            "Epoch 2: Loss = 1.4556\n",
            "Epoch 3: Loss = 1.2576\n",
            "Epoch 4: Loss = 1.1227\n",
            "Epoch 5: Loss = 1.0409\n",
            "Accuracy on test set for GoogLeNet: 66.37%\n",
            "----------------------------\n",
            "Training DenseNet-121...\n",
            "Epoch 1: Loss = 2.0853\n",
            "Epoch 2: Loss = 0.8764\n",
            "Epoch 3: Loss = 0.7407\n",
            "Epoch 4: Loss = 0.6508\n",
            "Epoch 5: Loss = 0.5923\n",
            "Accuracy on test set for DenseNet-121: 78.01%\n",
            "----------------------------\n",
            "Training MobileNetV2...\n",
            "Epoch 1: Loss = 2.1631\n",
            "Epoch 2: Loss = 1.0543\n",
            "Epoch 3: Loss = 0.9175\n",
            "Epoch 4: Loss = 0.8330\n",
            "Epoch 5: Loss = 0.7802\n",
            "Accuracy on test set for MobileNetV2: 73.18%\n",
            "----------------------------\n"
          ]
        }
      ],
      "source": [
        "# Define the loss function\n",
        "criterion = nn.CrossEntropyLoss()\n",
        "\n",
        "# # Define the optimizer\n",
        "# optimizer = optim.SGD(model.parameters(), lr=0.001, momentum=0.9)\n",
        "\n",
        "# Function to calculate accuracy\n",
        "def get_accuracy(outputs, labels):\n",
        "    _, predicted = torch.max(outputs, 1)\n",
        "    correct = (predicted == labels).sum().item()\n",
        "    total = labels.size(0)\n",
        "    accuracy = (correct / total)*100\n",
        "    return accuracy\n",
        "\n",
        "# Training loop\n",
        "\n",
        "\n",
        "for model_name, model in models_dict.items():\n",
        "    print(f\"Training {model_name}...\")\n",
        "    model.to(device)  # Move model to GPU if available\n",
        "    model.train()  # Set model to training mode\n",
        "    optimizer = optim.SGD(model.parameters(), lr=0.001, momentum=0.9)\n",
        "    \n",
        "    for epoch in range(5):\n",
        "      running_loss = 0.0\n",
        "        \n",
        "      for inputs, labels in trainloader:\n",
        "          inputs = inputs.to(device)\n",
        "          labels = labels.to(device)\n",
        "          \n",
        "          optimizer.zero_grad()\n",
        "          \n",
        "          outputs = model(inputs)\n",
        "          loss = criterion(outputs, labels)\n",
        "          loss.backward()\n",
        "          optimizer.step()\n",
        "          \n",
        "          running_loss += loss.item()\n",
        "      \n",
        "      epoch_loss = running_loss / len(trainloader)\n",
        "      print(f\"Epoch {epoch+1}: Loss = {epoch_loss:.4f}\")\n",
        "\n",
        "\n",
        "    # Evaluation\n",
        "    model.eval()  # Set model to evaluation mode\n",
        "    total_accuracy = 0.0\n",
        "    \n",
        "    with torch.no_grad():\n",
        "        for inputs, labels in testloader:\n",
        "            inputs = inputs.to(device)\n",
        "            labels = labels.to(device)\n",
        "            \n",
        "            outputs = model(inputs)\n",
        "            accuracy = get_accuracy(outputs, labels)\n",
        "            total_accuracy += accuracy\n",
        "        \n",
        "    avg_accuracy = total_accuracy / len(testloader)\n",
        "    print(f\"Accuracy on test set for {model_name}: {avg_accuracy:.2f}%\")\n",
        "    print(\"----------------------------\")\n"
      ]
    },
    {
      "attachments": {},
      "cell_type": "markdown",
      "metadata": {
        "id": "l9k_SV6Z7dRG"
      },
      "source": [
        "| Architecture   | Accuracy     |\n",
        "|----------------|--------------|\n",
        "| GoogLeNet      | 66.37%       |\n",
        "| VGG-16         | 83.89%       |\n",
        "| ResNet-18      | 77.43%       |\n",
        "| DenseNet-121   | 78.01%       |\n",
        "| MobileNetV2    | 73.18%       |\n"
      ]
    }
  ],
  "metadata": {
    "accelerator": "GPU",
    "colab": {
      "gpuType": "T4",
      "provenance": []
    },
    "gpuClass": "standard",
    "kernelspec": {
      "display_name": "Python 3",
      "name": "python3"
    },
    "language_info": {
      "name": "python"
    }
  },
  "nbformat": 4,
  "nbformat_minor": 0
}
