{
 "cells": [
  {
   "cell_type": "markdown",
   "id": "daff0fb8",
   "metadata": {},
   "source": [
    "# Assignment_01"
   ]
  },
  {
   "cell_type": "markdown",
   "id": "dced5dde",
   "metadata": {},
   "source": [
    "### 1. What exactly is a feature?\n",
    "\n",
    "**Ans.** A feature is a characteristic or property of a product, service, or system that can be used to distinguish it from other similar products, services, or systems. Features can be functional, aesthetic, or both, and usually provide a benefit to the user.\n",
    "\n",
    "In context to computer vision a feature is a piece of information about the content of an image; typically about whether a certain region of the image has certain properties. Features may be specific structures in the image such as points, edges or objects. "
   ]
  },
  {
   "cell_type": "markdown",
   "id": "a7373387",
   "metadata": {},
   "source": [
    "### 2. For a top edge detector, write out the convolutional kernel matrix.\n",
    "\n",
    "**Ans.** The convolutional kernel matrix for a top edge detector would look like the following:\n",
    "\n",
    "[[-1,-1,-1],\n",
    "\n",
    "[-1, 8,-1],\n",
    "\n",
    "[-1,-1,-1]]\n",
    "\n",
    "Calculation: The convolutional kernel matrix for a top edge detector is calculated by using the Sobel filter which calculates the gradient of the image. The Sobel filter uses two 3x3 kernels which are convolved with the original image to calculate the horizontal and vertical gradients. The top edge detector is calculated by subtracting the vertical gradient from the horizontal gradient. The resulting kernel matrix for this calculation is [-1, -1, -1, -1, 8, -1, -1, -1, -1]."
   ]
  },
  {
   "cell_type": "markdown",
   "id": "f3a38f72",
   "metadata": {},
   "source": [
    "### 3. Describe the mathematical operation that a 3x3 kernel performs on a single pixel in an image.\n",
    "\n",
    "**Ans.** A 3x3 kernel performs a convolution operation on a single pixel in an image. In this operation, the kernel moves across the image in a sliding window, multiplying the elements of the kernel with the corresponding pixels in the image. The result of this multiplication is then added together and stored as a new value for the center pixel in the window. This process is repeated for each pixel in the image. The resulting new image is a filtered version of the original image."
   ]
  },
  {
   "cell_type": "markdown",
   "id": "03bba3aa",
   "metadata": {},
   "source": [
    "### 4. What is the significance of a convolutional kernel added to a 3x3 matrix of zeroes?\n",
    "\n",
    "**Ans.** A convolutional kernel added to a 3x3 matrix of zeroes is a way to filter an image, as it will apply a certain transformation to the image so that only certain features stand out. For example, it can be used to detect edges, blurring, sharpening, and other features. The kernel is essentially a set of weights that the system uses to determine which parts of the image should be kept or discarded."
   ]
  },
  {
   "cell_type": "markdown",
   "id": "d8d49b5b",
   "metadata": {},
   "source": [
    "### 5. What exactly is padding?\n",
    "\n",
    "**Ans.** Padding is the process of adding extra data to a message before transmission to help protect the message from being accessed by unauthorized users. Padding is useful for ensuring that the data being transmitted is not tampered with or altered in transit. Padding can also be used to make the message harder to decode, which can help protect the information from being accessed by unauthorized users."
   ]
  },
  {
   "cell_type": "markdown",
   "id": "53cab88f",
   "metadata": {},
   "source": [
    "### 6. What is the concept of stride?\n",
    "\n",
    "**Ans.** Stride is a concept used in convolutional neural networks (CNNs) to reduce the number of parameters and computational complexity. It is the number of pixels shifted in the input matrix when performing a convolution operation. Stride can be used to control the size of the output matrix and the degree of overlap between neighbouring patches."
   ]
  },
  {
   "cell_type": "markdown",
   "id": "855269c7",
   "metadata": {},
   "source": [
    "### 7. What are the shapes of PyTorch's 2D convolution's input and weight parameters?\n",
    "\n",
    "**Ans.** The input parameters of PyTorch's 2D convolution are typically 4-dimensional tensors of shape (batch_size, in_channels, height, width). The weight parameters are typically 4-dimensional tensors of shape (out_channels, in_channels, kernel_height, kernel_width)."
   ]
  },
  {
   "cell_type": "markdown",
   "id": "65fd08d5",
   "metadata": {},
   "source": [
    "### 8. What exactly is a channel?\n",
    "\n",
    "**Ans.** In computer vision, a channel is a matrix of numbers that describes the intensity of a particular feature, such as color or light, in an image. Each channel corresponds to a different feature of the image, such as red, green, blue, hue, saturation, and luminance. A color image typically contains three channels, one for each of the primary colors, while a black-and-white image only has one."
   ]
  },
  {
   "cell_type": "markdown",
   "id": "f1f9350c",
   "metadata": {},
   "source": [
    "### 9. Explain relationship between matrix multiplication and a convolution?\n",
    "\n",
    "**Ans.** Matrix multiplication and convolution are closely related. Matrix multiplication is a way of combining two matrices, while convolution is a way of combining two functions. In both cases, the result of the combination is a new matrix or function. In matrix multiplication, the new matrix is the product of the two matrices. In convolution, the new function is the convolution of the two functions. Therefore, both operations can be seen as combining two elements to form a new, more complex element."
   ]
  }
 ],
 "metadata": {
  "kernelspec": {
   "display_name": "Python 3 (ipykernel)",
   "language": "python",
   "name": "python3"
  },
  "language_info": {
   "codemirror_mode": {
    "name": "ipython",
    "version": 3
   },
   "file_extension": ".py",
   "mimetype": "text/x-python",
   "name": "python",
   "nbconvert_exporter": "python",
   "pygments_lexer": "ipython3",
   "version": "3.10.2"
  }
 },
 "nbformat": 4,
 "nbformat_minor": 5
}
